{
 "cells": [
  {
   "cell_type": "markdown",
   "metadata": {},
   "source": [
    "# **Programación con funciones en R**"
   ]
  },
  {
   "cell_type": "markdown",
   "metadata": {},
   "source": [
    "En este sección cubrimos la creación de funciones, las reglas que deben seguir, y cómo se relacionan y comunican con los entornos desde los que son llamadas.También presentamos algunos consejos sobre la construcción de funciones eficientes, con especial referencia a cómo se tratan las funciones en R. \n",
    "\n",
    "Las funciones son uno de los principales bloques de construcción de grandes programas: son una herramienta esencial para estructurar algoritmos complejos. En otros lenguajes de programación, los procedimientos y subrutinas desempeñan el mismo papel que las funciones en R.\n"
   ]
  },
  {
   "cell_type": "markdown",
   "metadata": {},
   "source": [
    "Una función tiene la forma\n",
    "\n",
    "```r\n",
    "name <- function(argument_1, argument_2, ...) {\n",
    "    expression_1\n",
    "    expression_2\n",
    "    ...\n",
    "    return(output)\n",
    "}\n",
    "```\n",
    "\n",
    "Aquí **argument_1**, **argument_2**, etc., son los nombres de las variables y **expression_1**, **expression_2** y salida son expresiones regulares de R. **name** es el nombre de la función. Tenga en cuenta que algunas funciones no tienen argumentos, y que los corchetes sólo son necesarios si la función comprende más de una expresión.\n",
    "\n",
    "Para llamar una función escribimos\n",
    "\n",
    "```r\n",
    "name(argument_1, argument_2, ...) \n",
    "```\n",
    "\n",
    "El valor de esta expresión es el valor de la salida (**output**). Para calcular el valor de la salida, la función copia primero el valor de $x1$ en el $argumento_1$, $x2$ al $argumento_2$, y así sucesivamente. Los argumentos actúan entonces como variables dentro de la función. Decimos que los argumentos se han pasado a la función.\n",
    "\n",
    "\n",
    "Una función puede tener más de una sentencia *return(output)*, en cuyo caso se detiene después de ejecutar la primera que ocurre. Si no hay ninguna sentencia **return(output)** entonces el valor devuelto por la función es el valor de la última expresión entre llaves (siempre que no esté asignada a una variable).\n",
    "\n"
   ]
  },
  {
   "cell_type": "markdown",
   "metadata": {},
   "source": [
    "## Ejemplo 1:\n",
    "\n",
    "Supongamos que tenemos un vector $x$ con los promedios de calificaciones de alumnos. Deseamos contruir una función que nos indique si un alumno está por arriba o debajo del promedio de calificaciones. Construya una función."
   ]
  },
  {
   "cell_type": "code",
   "execution_count": 29,
   "metadata": {},
   "outputs": [],
   "source": [
    "# vector de calificaciones\n",
    "x <- c(8.6, 9.0, 10.0, 8.8, 9.4, 9.9, 9.2, 10.0, 9.2, 8.9)"
   ]
  },
  {
   "cell_type": "code",
   "execution_count": 27,
   "metadata": {},
   "outputs": [],
   "source": [
    "# i-ésimo alumno\n",
    "clase.promedio <- function(xi, x){\n",
    "    # inputs:\n",
    "    #   x  : vector de elementos numéricos\n",
    "    #   xi : promedio de un alumno\n",
    "    # outputs:\n",
    "    #   texto\n",
    "    \n",
    "    # condicional\n",
    "    if(xi > mean(x)){\n",
    "        result <- paste('El alumno se encuentra por arriba del promeio.', sep='')\n",
    "    }else{\n",
    "        result <- paste('El alumno se encuentra por debajo del promeio.', sep='')\n",
    "    }\n",
    "\n",
    "    return(result)\n",
    "}\n"
   ]
  },
  {
   "cell_type": "code",
   "execution_count": 33,
   "metadata": {},
   "outputs": [
    {
     "data": {
      "text/html": [
       "'El alumno se encuentra por debajo del promeio.'"
      ],
      "text/latex": [
       "'El alumno se encuentra por debajo del promeio.'"
      ],
      "text/markdown": [
       "'El alumno se encuentra por debajo del promeio.'"
      ],
      "text/plain": [
       "[1] \"El alumno se encuentra por debajo del promeio.\""
      ]
     },
     "metadata": {},
     "output_type": "display_data"
    }
   ],
   "source": [
    "clase.promedio(6, x)"
   ]
  },
  {
   "cell_type": "markdown",
   "metadata": {},
   "source": [
    "# Ejemplo 3:\n",
    "\n",
    "Supongamos que deseamos un código que multiplique una matriz consigo misma $n$ veces. Construya una función."
   ]
  },
  {
   "cell_type": "code",
   "execution_count": 36,
   "metadata": {},
   "outputs": [],
   "source": [
    "# definimos nuestra función\n",
    "mat.pow <- function(A, n){\n",
    "    # Inputs:\n",
    "    #   A : matriz  m=n\n",
    "    #   n : potencia\n",
    "    # Outputs:\n",
    "    #   Mn : Matriz potencia n\n",
    "    # for loop\n",
    "    \n",
    "    for(i in 1:n){\n",
    "        if(i == 1){\n",
    "            Mn <- A\n",
    "        }else{\n",
    "            Mn <- Mn%*%A\n",
    "        }\n",
    "    }\n",
    "    return(Mn)\n",
    "}\n"
   ]
  },
  {
   "cell_type": "code",
   "execution_count": 44,
   "metadata": {},
   "outputs": [],
   "source": [
    "# Declaramos las entradas de la función\n",
    "m <- 41\n",
    "B <- matrix(c(0, 1,\n",
    "              1, 0), ncol=2, nrow=2, byrow=T)\n",
    "\n"
   ]
  },
  {
   "cell_type": "code",
   "execution_count": 45,
   "metadata": {},
   "outputs": [
    {
     "name": "stdout",
     "output_type": "stream",
     "text": [
      "     [,1] [,2]\n",
      "[1,]    0    1\n",
      "[2,]    1    0\n"
     ]
    }
   ],
   "source": [
    "# llamamos la función\n",
    "A41 <-  mat.pow(A=B, n=m)\n",
    "print(A41)"
   ]
  },
  {
   "cell_type": "markdown",
   "metadata": {},
   "source": [
    "## Ejemplo 4:\n",
    "\n",
    "Generar un código para calcular n pasos y m trayectorias del proceso \n",
    "\n",
    "\\begin{equation}\n",
    "S_n = S_{n-1} + X_i, \\ \\ \\ \\ S_0 = 0\n",
    "\\end{equation}\n",
    "\n",
    "donde $P(X_i=1) = p$ , y $P(X_i=-1) = 1-p$. "
   ]
  },
  {
   "cell_type": "code",
   "execution_count": null,
   "metadata": {},
   "outputs": [],
   "source": []
  }
 ],
 "metadata": {
  "kernelspec": {
   "display_name": "R",
   "language": "R",
   "name": "ir"
  },
  "language_info": {
   "codemirror_mode": "r",
   "file_extension": ".r",
   "mimetype": "text/x-r-source",
   "name": "R",
   "pygments_lexer": "r",
   "version": "4.1.0"
  },
  "orig_nbformat": 4
 },
 "nbformat": 4,
 "nbformat_minor": 2
}
