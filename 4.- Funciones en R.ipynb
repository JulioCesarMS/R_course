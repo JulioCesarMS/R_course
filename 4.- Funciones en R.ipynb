{
  "cells": [
    {
      "cell_type": "markdown",
      "metadata": {
        "id": "view-in-github",
        "colab_type": "text"
      },
      "source": [
        "<a href=\"https://colab.research.google.com/github/JulioCesarMS/R_course/blob/master/4.-%20Funciones%20en%20R.ipynb\" target=\"_parent\"><img src=\"https://colab.research.google.com/assets/colab-badge.svg\" alt=\"Open In Colab\"/></a>"
      ]
    },
    {
      "cell_type": "markdown",
      "metadata": {
        "id": "C98DBbrmaFnU"
      },
      "source": [
        "# **Funciones en R**"
      ]
    },
    {
      "cell_type": "markdown",
      "metadata": {
        "id": "H2HW9UVOaFna"
      },
      "source": [
        "En este sección cubrimos la creación de funciones, las reglas que deben seguir, y cómo se relacionan y comunican con los entornos desde los que son llamadas.También presentamos algunos consejos sobre la construcción de funciones eficientes, con especial referencia a cómo se tratan las funciones en R. \n",
        "\n",
        "Las funciones son uno de los principales bloques de construcción de grandes programas: son una herramienta esencial para estructurar algoritmos complejos. En otros lenguajes de programación, los procedimientos y subrutinas desempeñan el mismo papel que las funciones en R.\n"
      ]
    },
    {
      "cell_type": "markdown",
      "metadata": {
        "id": "t6NOFBHYaFnb"
      },
      "source": [
        "Una función tiene la forma\n",
        "\n",
        "```r\n",
        "name <- function(argument_1, argument_2, ...) {\n",
        "    expression_1\n",
        "    expression_2\n",
        "    ...\n",
        "    return(output)\n",
        "}\n",
        "```\n",
        "\n",
        "Aquí **argument_1**, **argument_2**, etc., son los nombres de las variables y **expression_1**, **expression_2** y la salida de R. **name** es el nombre de la función. Tenga en cuenta que algunas funciones no tienen argumentos, y que los corchetes sólo son necesarios si la función comprende más de una expresión.\n",
        "\n",
        "Para llamar una función escribimos\n",
        "\n",
        "```r\n",
        "name(argument_1, argument_2, ...) \n",
        "```\n",
        "\n",
        "El valor de esta expresión es el valor de la salida (**output**). Para calcular el valor de la salida, la función copia primero el valor de $x1$ en el $argumento_1$, $x2$ al $argumento_2$, y así sucesivamente. Los argumentos actúan entonces como variables dentro de la función. Decimos que los argumentos se han pasado a la función.\n",
        "\n",
        "\n",
        "Una función puede tener más de una sentencia *return(output)*, en cuyo caso se detiene después de ejecutar la primera que ocurre. Si no hay ninguna sentencia **return(output)** entonces el valor devuelto por la función es el valor de la última expresión entre llaves (siempre que no esté asignada a una variable).\n",
        "\n"
      ]
    },
    {
      "cell_type": "markdown",
      "source": [
        "# **Observación:**\n",
        "\n",
        "En muchas ocasiones hablamos indistintamente de **parámetros** y **argumentos** para referirnos a los valores que “pasamos” entre paréntesis en una función.\n",
        "\n",
        "Los parámetros son los nombres que aparecen en la definición de una función. Por su parte, los argumentos son los valores que le pasamos (y que, por tanto, recibe) una función."
      ],
      "metadata": {
        "id": "2o_sVAfB5_mm"
      }
    },
    {
      "cell_type": "markdown",
      "metadata": {
        "id": "4fQ9uHBUaFnc"
      },
      "source": [
        "## Ejemplo 1:\n",
        "\n",
        "Supongamos que tenemos un vector $x$ con los promedios de calificaciones de alumnos. Deseamos contruir una función que nos indique si un alumno está por arriba o debajo del promedio de calificaciones. Construya una función."
      ]
    },
    {
      "cell_type": "code",
      "execution_count": null,
      "metadata": {
        "id": "mht4pKIlaFnd"
      },
      "outputs": [],
      "source": [
        "# vector de calificaciones\n",
        "x <- c(8.6, 9.0, 10.0, 8.8, 9.4, 9.9, 9.2, 10.0, 9.2, 8.9)"
      ]
    },
    {
      "cell_type": "code",
      "execution_count": null,
      "metadata": {
        "id": "59tHGph0aFnf"
      },
      "outputs": [],
      "source": [
        "# i-ésimo alumno\n",
        "clase.promedio <- function(promedio, v){\n",
        "    # inputs:\n",
        "    #   v  : vector de elementos numéricos\n",
        "    #   promedio : promedio de un alumno\n",
        "    # outputs:\n",
        "    #   texto\n",
        "    \n",
        "    # condicional\n",
        "    if(promedio > mean(v)){\n",
        "        result <- paste('El alumno se encuentra por arriba del promedio.', sep='')\n",
        "    }else{\n",
        "        result <- paste('El alumno se encuentra por debajo del promedio.', sep='')\n",
        "    }\n",
        "\n",
        "    return(result)\n",
        "}\n"
      ]
    },
    {
      "cell_type": "code",
      "execution_count": null,
      "metadata": {
        "id": "lCImeZVdaFng",
        "outputId": "bb1cc7ed-9c35-4cb9-d153-ab28658baefb",
        "colab": {
          "base_uri": "https://localhost:8080/",
          "height": 34
        }
      },
      "outputs": [
        {
          "output_type": "display_data",
          "data": {
            "text/html": [
              "'El alumno se encuentra por arriba del promedio.'"
            ],
            "text/markdown": "'El alumno se encuentra por arriba del promedio.'",
            "text/latex": "'El alumno se encuentra por arriba del promedio.'",
            "text/plain": [
              "[1] \"El alumno se encuentra por arriba del promedio.\""
            ]
          },
          "metadata": {}
        }
      ],
      "source": [
        "# vector de calificaciones\n",
        "x <- c(8.6, 9.0, 10.0, 8.8, 9.4, 9.9, 9.2, 10.0, 9.2, 8.9)\n",
        "\n",
        "# pasando argumentos a los parámetros\n",
        "clase.promedio(promedio=9.5, v=x)"
      ]
    },
    {
      "cell_type": "code",
      "source": [
        "# pasando directamente los argumentos\n",
        "clase.promedio(9.5, x)"
      ],
      "metadata": {
        "colab": {
          "base_uri": "https://localhost:8080/",
          "height": 34
        },
        "id": "dntRlb9F9MSQ",
        "outputId": "3d12bdd0-2080-4c08-c171-f7a95284559b"
      },
      "execution_count": null,
      "outputs": [
        {
          "output_type": "display_data",
          "data": {
            "text/html": [
              "'El alumno se encuentra por arriba del promedio.'"
            ],
            "text/markdown": "'El alumno se encuentra por arriba del promedio.'",
            "text/latex": "'El alumno se encuentra por arriba del promedio.'",
            "text/plain": [
              "[1] \"El alumno se encuentra por arriba del promedio.\""
            ]
          },
          "metadata": {}
        }
      ]
    },
    {
      "cell_type": "markdown",
      "source": [
        "Una función puede tener más de una sentencia **return()**, en cuyo caso se detiene tras ejecutar la primera que alcanza. "
      ],
      "metadata": {
        "id": "4IZ8Dox28EO5"
      }
    },
    {
      "cell_type": "code",
      "source": [
        "# i-ésimo alumno\n",
        "clase.promedio <- function(promedio, v){\n",
        "    # inputs:\n",
        "    #   v  : vector de elementos numéricos\n",
        "    #   promedio : promedio de un alumno\n",
        "    # outputs:\n",
        "    #   texto\n",
        "    \n",
        "    # condicional\n",
        "    if(promedio > mean(v)){\n",
        "        result <- paste('El alumno se encuentra por arriba del promeio.', sep='')\n",
        "        return(result)\n",
        "    }else{\n",
        "        result <- paste('El alumno se encuentra por debajo del promeio.', sep='')\n",
        "        return(result)\n",
        "    }\n",
        "\n",
        "    #return(result)\n",
        "}\n"
      ],
      "metadata": {
        "id": "kUNPW_LW8gpg"
      },
      "execution_count": null,
      "outputs": []
    },
    {
      "cell_type": "code",
      "source": [
        "clase.promedio(promedio=9.5, v=x)"
      ],
      "metadata": {
        "colab": {
          "base_uri": "https://localhost:8080/",
          "height": 34
        },
        "id": "VgKVHy9C8_kZ",
        "outputId": "dea1fd45-e6b2-4baa-95b6-058ed4da1a00"
      },
      "execution_count": null,
      "outputs": [
        {
          "output_type": "display_data",
          "data": {
            "text/html": [
              "'El alumno se encuentra por arriba del promeio.'"
            ],
            "text/markdown": "'El alumno se encuentra por arriba del promeio.'",
            "text/latex": "'El alumno se encuentra por arriba del promeio.'",
            "text/plain": [
              "[1] \"El alumno se encuentra por arriba del promeio.\""
            ]
          },
          "metadata": {}
        }
      ]
    },
    {
      "cell_type": "markdown",
      "source": [
        "Si no hay ninguna sentencia **return(output)** entonces el valor devuelto por la función es el valor de la última expresión entre llaves (siempre que no esté asignada a una variable)."
      ],
      "metadata": {
        "id": "mrpT82teBgAl"
      }
    },
    {
      "cell_type": "code",
      "source": [
        "# i-ésimo alumno\n",
        "clase.promedio <- function(promedio, v){\n",
        "    # inputs:\n",
        "    #   v  : vector de elementos numéricos\n",
        "    #   promedio : promedio de un alumno\n",
        "    # outputs:\n",
        "    #   texto\n",
        "    \n",
        "    # condicional\n",
        "    if(promedio > mean(v)){\n",
        "        result <- paste('El alumno se encuentra por arriba del promeio.', sep='')\n",
        "    }else{\n",
        "        result <- paste('El alumno se encuentra por debajo del promeio.', sep='')\n",
        "    }\n",
        "    \n",
        "    #return(result)\n",
        "}\n"
      ],
      "metadata": {
        "id": "6g8zr0_JBiTS"
      },
      "execution_count": null,
      "outputs": []
    },
    {
      "cell_type": "code",
      "source": [
        "clase.promedio(promedio=6, v=x)"
      ],
      "metadata": {
        "id": "nlwW3gS7BoCw"
      },
      "execution_count": null,
      "outputs": []
    },
    {
      "cell_type": "markdown",
      "source": [
        "Cuando se llama a el valor devuelto por una función (o cualquier expresión) y no se asignada a una variable, entonces se imprime. Para evitar eso podemos emplear la expresión **invisible(x)**."
      ],
      "metadata": {
        "id": "Q8oO0-umCVZi"
      }
    },
    {
      "cell_type": "code",
      "source": [
        "# i-ésimo alumno\n",
        "clase.promedio <- function(promedio, v){\n",
        "    # inputs:\n",
        "    #   v  : vector de elementos numéricos\n",
        "    #   promedio : promedio de un alumno\n",
        "    # outputs:\n",
        "    #   texto\n",
        "    \n",
        "    # condicional\n",
        "    if(promedio > mean(v)){\n",
        "        result <- paste('El alumno se encuentra por arriba del promedio.', sep='')\n",
        "    }else{\n",
        "        result <- paste('El alumno se encuentra por debajo del promedio.', sep='')\n",
        "    }\n",
        "    invisible(result)\n",
        "}\n"
      ],
      "metadata": {
        "id": "XWysHY1uCxrV"
      },
      "execution_count": null,
      "outputs": []
    },
    {
      "cell_type": "markdown",
      "source": [
        "Podemos apreciar que al llamar la función no imprime el resultado."
      ],
      "metadata": {
        "id": "_LsaAyKoD85L"
      }
    },
    {
      "cell_type": "code",
      "source": [
        "result <- clase.promedio(promedio=6, v=x)\n",
        "result"
      ],
      "metadata": {
        "id": "kfdKdLCBC43i",
        "colab": {
          "base_uri": "https://localhost:8080/",
          "height": 34
        },
        "outputId": "15883d16-06f5-42ff-bbdc-4b823ec8241e"
      },
      "execution_count": null,
      "outputs": [
        {
          "output_type": "display_data",
          "data": {
            "text/html": [
              "'El alumno se encuentra por debajo del promedio.'"
            ],
            "text/markdown": "'El alumno se encuentra por debajo del promedio.'",
            "text/latex": "'El alumno se encuentra por debajo del promedio.'",
            "text/plain": [
              "[1] \"El alumno se encuentra por debajo del promedio.\""
            ]
          },
          "metadata": {}
        }
      ]
    },
    {
      "cell_type": "markdown",
      "source": [
        "Para que imprima el resultado debemos asignarla a una variable, y después llamar a esa variable."
      ],
      "metadata": {
        "id": "cgoifPNhEDul"
      }
    },
    {
      "cell_type": "code",
      "source": [
        "result <- clase.promedio(promedio=6, v=x)\n",
        "result"
      ],
      "metadata": {
        "colab": {
          "base_uri": "https://localhost:8080/",
          "height": 34
        },
        "id": "K1SMfi7wEK_g",
        "outputId": "f62538e5-59da-4e9e-a670-0420593f39a5"
      },
      "execution_count": null,
      "outputs": [
        {
          "output_type": "display_data",
          "data": {
            "text/html": [
              "'El alumno se encuentra por debajo del promeio.'"
            ],
            "text/markdown": "'El alumno se encuentra por debajo del promeio.'",
            "text/latex": "'El alumno se encuentra por debajo del promeio.'",
            "text/plain": [
              "[1] \"El alumno se encuentra por debajo del promeio.\""
            ]
          },
          "metadata": {}
        }
      ]
    },
    {
      "cell_type": "markdown",
      "source": [
        "# **Ámbito de aplicación (Scope)**\n",
        "\n",
        "Los argumentos y variables definidos dentro de una función sólo existen dentro de esa función (ambiente local). Es decir, si defines y utilizas una variable $x$ dentro de una función, ésta no existe fuera de la función (ambiente global).\n",
        "\n",
        "- Variables locales : definidas dentro de una función.\n",
        "- Variables globales : definida fuera de cualquier función.\n",
        "\n",
        "\n",
        "![scope.png](data:image/png;base64,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)\n",
        "\n",
        "Fuente : [CodeCademy](https://www.codecademy.com/forum_questions/53a6b2c48c1ccc0d3d0039eb)\n",
        "\n"
      ],
      "metadata": {
        "id": "NwULQTQVEiwe"
      }
    },
    {
      "cell_type": "markdown",
      "source": [
        "Analicemos el siguiente ejemplo:"
      ],
      "metadata": {
        "id": "beqrZjKKNEjE"
      }
    },
    {
      "cell_type": "code",
      "source": [
        "# variable global (no está contenida dentro de ninguna función)\n",
        "x <- 5\n",
        "# definimos función 1\n",
        "funcion1 <- function() {\n",
        "  y <- x + 1\n",
        "  return(y)\n",
        "}\n",
        "#-------------------- \n",
        "result <- funcion1()\n",
        "print(result)\n",
        "# \n",
        "print(y)"
      ],
      "metadata": {
        "colab": {
          "base_uri": "https://localhost:8080/"
        },
        "id": "067o1iluJycy",
        "outputId": "b19e0b9e-1c6a-48c9-97ce-4391ea54b913"
      },
      "execution_count": null,
      "outputs": [
        {
          "output_type": "stream",
          "name": "stdout",
          "text": [
            "[1] 6\n",
            "[1] 6\n"
          ]
        }
      ]
    },
    {
      "cell_type": "markdown",
      "source": [
        "Para hacer una variable local de tipo global empleamos el comando <<-"
      ],
      "metadata": {
        "id": "DLtPuj4wbN0b"
      }
    },
    {
      "cell_type": "code",
      "source": [
        "# variable global (no está contenida dentro de ninguna función)\n",
        "x <- 5\n",
        "# definimos función 1\n",
        "funcion1 <- function() {\n",
        "  y <- x + 1\n",
        "  return(y)\n",
        "}\n",
        "#-------------------- \n",
        "result <- funcion1()\n",
        "#print(result)\n",
        "# \n",
        "print(y)"
      ],
      "metadata": {
        "colab": {
          "base_uri": "https://localhost:8080/"
        },
        "id": "aFRbqRCubMTS",
        "outputId": "556dd21c-f4ed-4329-db80-1db599c2f9c9"
      },
      "execution_count": null,
      "outputs": [
        {
          "output_type": "stream",
          "name": "stdout",
          "text": [
            "[1] 6\n"
          ]
        }
      ]
    },
    {
      "cell_type": "markdown",
      "source": [
        "El valor de $x$ en el ambiente local toma el valor definido en el ambiente global."
      ],
      "metadata": {
        "id": "eWPHEIJ2NiNU"
      }
    },
    {
      "cell_type": "code",
      "source": [
        "result <- funcion1()\n",
        "print(result)"
      ],
      "metadata": {
        "colab": {
          "base_uri": "https://localhost:8080/"
        },
        "id": "igq0dNQEEfeL",
        "outputId": "499836a6-71f0-4158-b8e3-595d0dc7e335"
      },
      "execution_count": null,
      "outputs": [
        {
          "output_type": "stream",
          "name": "stdout",
          "text": [
            "[1] 6\n"
          ]
        }
      ]
    },
    {
      "cell_type": "markdown",
      "source": [
        "La variable local $y$ no puede ser llamada en el ambiente global."
      ],
      "metadata": {
        "id": "S45jACKxN2kB"
      }
    },
    {
      "cell_type": "code",
      "source": [
        "y"
      ],
      "metadata": {
        "colab": {
          "base_uri": "https://localhost:8080/",
          "height": 96
        },
        "id": "RpzF28RAMkbb",
        "outputId": "9028b13b-baef-4f52-9307-c3f79323e5c6"
      },
      "execution_count": null,
      "outputs": [
        {
          "output_type": "error",
          "ename": "ERROR",
          "evalue": "ignored",
          "traceback": [
            "Error in eval(expr, envir, enclos): object 'y' not found\nTraceback:\n"
          ]
        }
      ]
    },
    {
      "cell_type": "markdown",
      "source": [
        "Veamos otro ejemplo"
      ],
      "metadata": {
        "id": "SRK9PZ6dO86_"
      }
    },
    {
      "cell_type": "code",
      "source": [
        "# variable global (no está contenida dentro de ninguna función)\n",
        "x <- 5\n",
        "z <- 2\n",
        "# definimos función 1\n",
        "funcion1 <- function() {\n",
        "  \n",
        "  function2 <- function(){\n",
        "    w <<- z + 1\n",
        "    return(w)\n",
        "  }\n",
        "  v <<- function2() + x\n",
        "\n",
        "  return(v)\n",
        "}\n",
        "# \n",
        "result <- funcion1()\n",
        "print(result)\n"
      ],
      "metadata": {
        "colab": {
          "base_uri": "https://localhost:8080/"
        },
        "id": "TYQOV9ozO76C",
        "outputId": "8354c488-8a50-4dab-eeb8-917ee814cdc0"
      },
      "execution_count": null,
      "outputs": [
        {
          "output_type": "stream",
          "name": "stdout",
          "text": [
            "[1] 8\n"
          ]
        }
      ]
    },
    {
      "cell_type": "code",
      "source": [
        "w"
      ],
      "metadata": {
        "colab": {
          "base_uri": "https://localhost:8080/",
          "height": 34
        },
        "id": "4ODwFoCjcXIz",
        "outputId": "24f3437e-e4a9-49ee-d15c-3808f36ed25d"
      },
      "execution_count": null,
      "outputs": [
        {
          "output_type": "display_data",
          "data": {
            "text/html": [
              "3"
            ],
            "text/markdown": "3",
            "text/latex": "3",
            "text/plain": [
              "[1] 3"
            ]
          },
          "metadata": {}
        }
      ]
    },
    {
      "cell_type": "code",
      "source": [
        "v"
      ],
      "metadata": {
        "colab": {
          "base_uri": "https://localhost:8080/",
          "height": 34
        },
        "id": "89o3WMXgcgFm",
        "outputId": "2a0eb7ca-e007-4f27-c873-7ad39b7c8130"
      },
      "execution_count": null,
      "outputs": [
        {
          "output_type": "display_data",
          "data": {
            "text/html": [
              "8"
            ],
            "text/markdown": "8",
            "text/latex": "8",
            "text/plain": [
              "[1] 8"
            ]
          },
          "metadata": {}
        }
      ]
    },
    {
      "cell_type": "code",
      "source": [
        "# intentamos accder  la variable local w\n",
        "print(w)"
      ],
      "metadata": {
        "colab": {
          "base_uri": "https://localhost:8080/",
          "height": 131
        },
        "id": "eV0Zvfu7QF32",
        "outputId": "2dbd6de6-86ce-4cbe-cbe6-394ad0b7f1fe"
      },
      "execution_count": null,
      "outputs": [
        {
          "output_type": "error",
          "ename": "ERROR",
          "evalue": "ignored",
          "traceback": [
            "Error in print(w): object 'w' not found\nTraceback:\n",
            "1. print(w)"
          ]
        }
      ]
    },
    {
      "cell_type": "code",
      "source": [
        "# intentamos accder  la variable local y\n",
        "print(y)"
      ],
      "metadata": {
        "colab": {
          "base_uri": "https://localhost:8080/",
          "height": 131
        },
        "id": "uan9Vr3nQH0H",
        "outputId": "d856f904-4382-4727-9ee1-ca19195023b3"
      },
      "execution_count": null,
      "outputs": [
        {
          "output_type": "error",
          "ename": "ERROR",
          "evalue": "ignored",
          "traceback": [
            "Error in print(y): object 'y' not found\nTraceback:\n",
            "1. print(y)"
          ]
        }
      ]
    },
    {
      "cell_type": "markdown",
      "source": [
        "# Argumentos opcionales y valores por defecto\n",
        "\n",
        "Para dar al argumento **argument_1** el valor por defecto $x1$ utilizamos $argument_1 = x1$ dentro de la definición de la función. Si un argumento tiene un valor por defecto, puede omitirse al llamar a la función, en cuyo caso se utiliza el valor por defecto."
      ],
      "metadata": {
        "id": "7gYgbZU9QbQk"
      }
    },
    {
      "cell_type": "markdown",
      "metadata": {
        "id": "RQ-3VJhcaFni"
      },
      "source": [
        "# Ejemplo 3:\n",
        "\n",
        "Supongamos que deseamos un código que multiplique una matriz consigo misma $n$ veces. Construya una función."
      ]
    },
    {
      "cell_type": "code",
      "execution_count": null,
      "metadata": {
        "id": "FSXtvd8MaFni"
      },
      "outputs": [],
      "source": [
        "# definimos nuestra función\n",
        "matmul <- function(A, n){\n",
        "    # Inputs:\n",
        "    #   A : matriz\n",
        "    #   n : potencia\n",
        "    # Outputs:\n",
        "    #   Mn : Matriz potencia n\n",
        "    # for loop\n",
        "    \n",
        "    for(i in 1:n){\n",
        "        if(i == 1){\n",
        "            Mn <- A\n",
        "        }else{\n",
        "            Mn <- Mn%*%A\n",
        "        }\n",
        "    }\n",
        "    return(Mn)\n",
        "}\n"
      ]
    },
    {
      "cell_type": "code",
      "execution_count": null,
      "metadata": {
        "id": "szjltdiEaFnj"
      },
      "outputs": [],
      "source": [
        "# Declaramos las entradas de la función\n",
        "m <- 41\n",
        "B <- matrix(c(0, 1,\n",
        "              1, 0), ncol=2, nrow=2, byrow=T)"
      ]
    },
    {
      "cell_type": "code",
      "execution_count": null,
      "metadata": {
        "id": "98-vFS9gaFnk",
        "outputId": "960be8ee-f34b-4a10-cc42-3b5f105fd5d2",
        "colab": {
          "base_uri": "https://localhost:8080/"
        }
      },
      "outputs": [
        {
          "output_type": "stream",
          "name": "stdout",
          "text": [
            "     [,1] [,2]\n",
            "[1,]    0    1\n",
            "[2,]    1    0\n"
          ]
        }
      ],
      "source": [
        "# llamamos la función\n",
        "A41 <-  matmul(A=B, n=m)\n",
        "print(A41)"
      ]
    },
    {
      "cell_type": "markdown",
      "source": [
        "Supongamos que nuestra función **matmul()** la empleamos de manera recurrente para efectuar la potencia $n=2$, en tal caso sería conveniente establecer por defecto dicho valor dentro de la función, y al ejecutar la función bastaría con pasar la matriz, y el argumento $n$ sería opcional. "
      ],
      "metadata": {
        "id": "91L08Z1HRauP"
      }
    },
    {
      "cell_type": "code",
      "source": [
        "# definimos nuestra función\n",
        "matmul <- function(A, n=2){\n",
        "    # Inputs:\n",
        "    #   A : matriz  m=n\n",
        "    #   n : potencia\n",
        "    # Outputs:\n",
        "    #   Mn : Matriz potencia n\n",
        "    # for loop\n",
        "    \n",
        "    for(i in 1:n){\n",
        "        if(i == 1){\n",
        "            Mn <- A\n",
        "        }else{\n",
        "            Mn <- Mn%*%A\n",
        "        }\n",
        "    }\n",
        "    return(Mn)\n",
        "}"
      ],
      "metadata": {
        "id": "REq2HQgkSl2Z"
      },
      "execution_count": null,
      "outputs": []
    },
    {
      "cell_type": "code",
      "source": [
        "# Declaramos las entradas de la función\n",
        "m <- 41\n",
        "B <- matrix(c(0, 1,\n",
        "              1, 0), ncol=2, nrow=2, byrow=T)"
      ],
      "metadata": {
        "id": "SAigTpWcSsXf"
      },
      "execution_count": null,
      "outputs": []
    },
    {
      "cell_type": "code",
      "source": [
        "# llamamos la función\n",
        "A2 <-  matmul(A=B)\n",
        "print(A2)"
      ],
      "metadata": {
        "colab": {
          "base_uri": "https://localhost:8080/"
        },
        "id": "2Lw7iy-SSvWA",
        "outputId": "a03de1b0-302f-4776-c0be-21abb60a63d3"
      },
      "execution_count": null,
      "outputs": [
        {
          "output_type": "stream",
          "name": "stdout",
          "text": [
            "     [,1] [,2]\n",
            "[1,]    1    0\n",
            "[2,]    0    1\n"
          ]
        }
      ]
    },
    {
      "cell_type": "markdown",
      "source": [
        "Y cuando sea necesario emplear una potencia distinta basta con asignarle otro valor a $n$."
      ],
      "metadata": {
        "id": "x3xfmnUnS72Q"
      }
    },
    {
      "cell_type": "code",
      "source": [
        "# llamamos la función\n",
        "A3 <-  matmul(A=B, n=3)\n",
        "print(A3)"
      ],
      "metadata": {
        "colab": {
          "base_uri": "https://localhost:8080/"
        },
        "id": "4IrAMv2XTTdQ",
        "outputId": "e005a170-be0c-48ac-d797-0eafa35aedb8"
      },
      "execution_count": null,
      "outputs": [
        {
          "output_type": "stream",
          "name": "stdout",
          "text": [
            "     [,1] [,2]\n",
            "[1,]    0    1\n",
            "[2,]    1    0\n"
          ]
        }
      ]
    },
    {
      "cell_type": "markdown",
      "metadata": {
        "id": "3rh3lqUCaFnk"
      },
      "source": [
        "## Ejemplo 4: \n",
        "\n",
        "Generar una función para calcular una realización de \n",
        "\n",
        "\\begin{equation}\n",
        "S_n = S_{n-1} + X_i, \\ \\ \\ \\ S_0 = 10\n",
        "\\end{equation}\n",
        "\n",
        "donde $P(X_i=1) = p$ , y $P(X_i=-1) = 1-p$. Con la condición de que acumule hasta que $S_n=0$. Considerando lo siguiente:\n",
        "\n",
        "La función debe tener como parámetros:\n",
        "- Monto inicial $S_0$\n",
        "- Capital final $S_n$\n",
        "- Probabilidad de ganar $p$, por defecto $p=0.5$\n",
        "\n",
        "Como salida un vector del capital en cada jugada."
      ]
    },
    {
      "cell_type": "code",
      "execution_count": null,
      "metadata": {
        "id": "QBt5TAKwaFnl",
        "colab": {
          "base_uri": "https://localhost:8080/"
        },
        "outputId": "71a34984-23b7-4a96-b50d-3a1090dd987c"
      },
      "outputs": [
        {
          "output_type": "stream",
          "name": "stdout",
          "text": [
            "  [1] 10 11 10 11 10 11 12 11 12 11 10 11 10  9 10  9  8  9 10 11 12 11 10 11 12\n",
            " [26] 13 12 13 14 13 14 13 14 15 16 17 18 19 18 17 18 17 16 15 16 17 16 17 16 15\n",
            " [51] 16 17 16 17 18 17 18 19 20 19 18 17 16 15 16 15 14 13 12 13 12 11 12 13 14\n",
            " [76] 15 16 15 16 15 16 15 14 13 14 13 14 15 16 17 18 17 18 17 18 17 16 15 14 15\n",
            "[101] 16 17 16 17 18 17 18 17 16 15 16 17 18 19 18 19 18 17 16 17 18 19 20 21 20\n",
            "[126] 21 20 19 18 19 18 17 16 15 14 13 12 11 12 11 10  9  8  7  8  7  6  7  6  5\n",
            "[151]  4  3  4  3  2  3  2  3  4  3  4  5  6  5  6  7  6  5  6  7  6  7  6  5  6\n",
            "[176]  5  6  5  6  5  6  7  6  7  6  5  4  5  4  5  4  5  6  5  4  3  2  1  2  3\n",
            "[201]  2  1  2  1  2  1  2  3  4  5  6  5  6  7  8  7  8  9 10  9 10  9  8  7  6\n",
            "[226]  7  6  5  6  5  6  7  6  5  4  3  4  5  4  5  4  3  2  1  2  1  0\n"
          ]
        }
      ],
      "source": [
        "# probabilidad de ganar\n",
        "p <- 0.5\n",
        "# monto inicial\n",
        "S0 <- 10\n",
        "# valores que puede tomar \n",
        "x.gana = 1 # a la derecha\n",
        "x.pierde = -1 # a la izquierda\n",
        "# inicialización del vector\n",
        "Sn = c(S0)\n",
        "# inicialización\n",
        "i <- 2\n",
        "# inicio del bucle\n",
        "while(Sn[i-1] != 0){\n",
        "    x_i <- sample(c(x.gana, x.pierde), size=1, replace=T, prob=c(p, 1-p))\n",
        "    Sn[i]  <- Sn[i-1] + x_i\n",
        "    i <- i + 1\n",
        " }\n",
        " # impresión del resultado\n",
        " print(Sn)"
      ]
    },
    {
      "cell_type": "code",
      "source": [
        "# Función aquí\n",
        "SimPlay <- function(S0, Sf, p=0.5){\n",
        "\n",
        "  # valores que puede tomar \n",
        "  x.gana = 1 # a la derecha\n",
        "  x.pierde = -1 # a la izquierda\n",
        "  # inicialización del vector\n",
        "  Sn = c(S0)\n",
        "  # inicialización\n",
        "  i <- 2\n",
        "  # inicio del bucle\n",
        "  while(Sn[i-1] != Sf){\n",
        "      x_i <- sample(c(x.gana, x.pierde), size=1, replace=T, prob=c(p, 1-p))\n",
        "      Sn[i]  <- Sn[i-1] + x_i\n",
        "      i <- i + 1\n",
        "  }\n",
        "  return(Sn)\n",
        "}\n"
      ],
      "metadata": {
        "id": "J-2LR8S1t224"
      },
      "execution_count": null,
      "outputs": []
    },
    {
      "cell_type": "code",
      "source": [
        "sim1 <- SimPlay(S0=10, Sf=0)\n",
        "print(sim1)\n",
        "\n",
        "sim2 <- SimPlay(S0=20, Sf=1)\n",
        "print(sim2)\n"
      ],
      "metadata": {
        "colab": {
          "base_uri": "https://localhost:8080/"
        },
        "id": "EhQtToECf6PC",
        "outputId": "3538db97-639d-47c8-d33f-36ec6e6805d2"
      },
      "execution_count": null,
      "outputs": [
        {
          "output_type": "stream",
          "name": "stdout",
          "text": [
            " [1] 10  9 10  9  8  9 10  9  8  9  8  7  6  7  6  7  8  9 10 11 12 13 12 13 14\n",
            "[26] 13 14 13 12 11 12 13 14 13 14 13 12 11 12 11 12 11 10 11 10 11 12 13 12 13\n",
            "[51] 12 13 12 11 10 11 10  9  8  7  6  5  4  3  2  1  0\n",
            "  [1] 20 19 20 19 20 19 20 21 20 19 18 17 18 19 18 17 18 17 16 17 18 19 18 17 18\n",
            " [26] 19 20 19 18 19 18 19 18 19 20 21 22 23 24 25 26 27 28 29 28 29 30 31 32 33\n",
            " [51] 32 33 32 33 34 33 32 33 34 35 36 35 34 35 34 35 34 35 36 37 36 35 34 33 34\n",
            " [76] 33 34 33 34 33 32 33 32 31 30 31 32 31 30 31 30 29 30 31 30 29 28 29 30 31\n",
            "[101] 30 29 30 29 28 27 26 25 26 25 26 25 24 25 24 25 26 25 26 27 26 27 28 27 28\n",
            "[126] 29 30 31 32 33 34 33 34 35 34 35 36 37 36 35 36 35 34 33 34 35 34 35 36 35\n",
            "[151] 34 33 32 33 32 31 32 33 32 33 32 31 30 31 32 33 34 33 34 33 34 33 34 33 32\n",
            "[176] 31 32 33 32 33 34 33 32 33 32 33 34 35 34 33 32 33 34 35 34 33 32 33 34 33\n",
            "[201] 32 31 32 33 34 35 36 37 36 35 34 35 34 33 32 31 30 31 30 29 28 29 28 29 28\n",
            "[226] 29 30 29 28 29 28 27 26 27 26 25 26 27 28 27 28 27 26 25 24 25 24 25 24 25\n",
            "[251] 24 25 24 23 24 25 24 25 26 27 26 25 26 25 24 25 26 25 24 23 24 25 26 27 28\n",
            "[276] 27 26 27 28 27 28 27 28 29 30 29 30 31 32 33 32 33 34 35 36 37 36 35 36 35\n",
            "[301] 36 35 36 35 34 35 36 35 34 35 34 33 32 33 32 31 30 31 32 31 30 31 32 33 32\n",
            "[326] 31 30 31 32 33 34 33 34 33 32 31 30 29 28 29 30 29 28 27 28 29 30 31 32 31\n",
            "[351] 32 33 32 33 34 35 34 35 34 33 32 33 32 33 32 31 30 31 30 31 32 33 34 33 34\n",
            "[376] 35 34 35 34 33 34 33 32 31 32 31 32 31 32 33 32 31 30 29 30 29 30 31 30 29\n",
            "[401] 30 31 30 29 28 29 28 27 28 27 26 25 24 23 24 25 26 27 28 29 28 29 28 29 30\n",
            "[426] 29 30 31 30 29 28 27 26 27 26 27 28 27 26 27 26 27 28 27 26 25 26 27 26 27\n",
            "[451] 26 25 24 25 26 25 24 25 24 23 24 25 26 25 24 25 26 25 26 25 26 25 24 23 22\n",
            "[476] 23 24 25 26 25 26 27 26 25 26 25 26 25 26 27 28 29 28 27 26 25 26 25 24 23\n",
            "[501] 22 21 20 19 20 19 18 17 18 17 18 17 16 15 14 15 14 15 16 17 18 19 18 19 18\n",
            "[526] 19 18 19 18 17 18 17 16 17 18 17 16 15 14 13 12 11 12 13 14 15 14 13 14 15\n",
            "[551] 16 15 16 17 18 19 18 17 18 19 20 19 18 17 16 17 18 17 18 17 16 17 16 15 16\n",
            "[576] 15 14 13 12 11 12 13 12 11 10  9 10  9  8  9  8  7  6  7  8  7  6  7  8  7\n",
            "[601]  8  7  8  7  6  7  8  7  6  7  8  7  6  5  6  7  6  7  8  7  6  5  6  5  6\n",
            "[626]  7  6  7  8  7  6  7  8  9 10  9 10 11 10 11 12 13 12 11 12 11 12 11 10  9\n",
            "[651]  8  9  8  9 10 11 10 11 12 13 12 13 14 15 14 15 16 15 16 15 14 15 14 13 12\n",
            "[676] 11 10 11 10 11 10  9  8  9 10  9  8  7  6  7  8  9 10  9  8  7  6  5  4  3\n",
            "[701]  4  5  4  3  2  1\n"
          ]
        }
      ]
    },
    {
      "cell_type": "markdown",
      "source": [
        "# **stop(),  warning() y message()**\n",
        "\n",
        "- La función **message()** genera un mensaje de diagnóstico.\n",
        "- La función **warning()** genera un mensaje de advertencia.\n",
        "- La función **stop()** genera un mensaje de error y detiene la ejecución del programa."
      ],
      "metadata": {
        "id": "lN9kLnaF4xIA"
      }
    },
    {
      "cell_type": "markdown",
      "source": [
        "Consideremos el ejemplo del programa que consiste en multiplicar una matriz $n$ veces. "
      ],
      "metadata": {
        "id": "OvXy_95E5E19"
      }
    },
    {
      "cell_type": "code",
      "source": [
        "# definimos nuestra función\n",
        "matmul <- function(A, n=2){\n",
        "    # Inputs:\n",
        "    #   A : matriz  m=n\n",
        "    #   n : potencia\n",
        "    # Outputs:\n",
        "    #   Mn : Matriz potencia n\n",
        "    # for loop\n",
        "\n",
        "    # input validation\n",
        "    if(!is.matrix(A)){\n",
        "      stop('A is not a matrix')\n",
        "    }\n",
        "    if(nrow(A)!=ncol(A)){\n",
        "      stop('A is not square matrix')\n",
        "    }\n",
        "    if(n <= 0){\n",
        "      stop('n must be greater than 0')\n",
        "    }\n",
        "\n",
        "    # ciclo\n",
        "    for(i in 1:n){\n",
        "        if(i == 1){\n",
        "            Mn <- A\n",
        "        }else{\n",
        "            Mn <- Mn%*%A\n",
        "        }\n",
        "    }\n",
        "\n",
        "    return(Mn)\n",
        "}"
      ],
      "metadata": {
        "id": "acKcc4lg3koA"
      },
      "execution_count": null,
      "outputs": []
    },
    {
      "cell_type": "code",
      "source": [
        "# probamos con una matriz m!=n\n",
        "m <- 1:12\n",
        "B <- matrix(m, nrow=3, byrow=T)\n",
        "print(B)"
      ],
      "metadata": {
        "colab": {
          "base_uri": "https://localhost:8080/"
        },
        "id": "jxhocDjP58B3",
        "outputId": "d86a0a03-4b31-48f1-996c-c89f38065de5"
      },
      "execution_count": null,
      "outputs": [
        {
          "output_type": "stream",
          "name": "stdout",
          "text": [
            "     [,1] [,2] [,3] [,4]\n",
            "[1,]    1    2    3    4\n",
            "[2,]    5    6    7    8\n",
            "[3,]    9   10   11   12\n"
          ]
        }
      ]
    },
    {
      "cell_type": "code",
      "source": [
        "matmul(B, n=2)"
      ],
      "metadata": {
        "colab": {
          "base_uri": "https://localhost:8080/",
          "height": 152
        },
        "id": "58_pIrKl60bE",
        "outputId": "fc295a30-2d2b-4d32-d39e-db5ea8bd1a3c"
      },
      "execution_count": null,
      "outputs": [
        {
          "output_type": "error",
          "ename": "ERROR",
          "evalue": "ignored",
          "traceback": [
            "Error in matmul(B, n = 2): A is not square matrix\nTraceback:\n",
            "1. matmul(B, n = 2)",
            "2. stop(\"A is not square matrix\")   # at line 15 of file <text>"
          ]
        }
      ]
    },
    {
      "cell_type": "code",
      "source": [
        "# probamos con una matriz m=n\n",
        "m <- 1:9\n",
        "B <- matrix(m, nrow=3, byrow=T)\n",
        "print(B)"
      ],
      "metadata": {
        "colab": {
          "base_uri": "https://localhost:8080/"
        },
        "id": "cvgswMkj7UXB",
        "outputId": "3b5eaa49-7745-4399-8daf-edb9d659759a"
      },
      "execution_count": null,
      "outputs": [
        {
          "output_type": "stream",
          "name": "stdout",
          "text": [
            "     [,1] [,2] [,3]\n",
            "[1,]    1    2    3\n",
            "[2,]    4    5    6\n",
            "[3,]    7    8    9\n"
          ]
        }
      ]
    },
    {
      "cell_type": "code",
      "source": [
        "# para n= -2\n",
        "matmul(B, n=1)"
      ],
      "metadata": {
        "colab": {
          "base_uri": "https://localhost:8080/",
          "height": 163
        },
        "id": "Ocs4hFD57dEe",
        "outputId": "1ad1a5a8-5264-4dea-eeaa-3be8b84bbab8"
      },
      "execution_count": null,
      "outputs": [
        {
          "output_type": "display_data",
          "data": {
            "text/html": [
              "<table class=\"dataframe\">\n",
              "<caption>A matrix: 3 × 3 of type int</caption>\n",
              "<tbody>\n",
              "\t<tr><td>1</td><td>2</td><td>3</td></tr>\n",
              "\t<tr><td>4</td><td>5</td><td>6</td></tr>\n",
              "\t<tr><td>7</td><td>8</td><td>9</td></tr>\n",
              "</tbody>\n",
              "</table>\n"
            ],
            "text/markdown": "\nA matrix: 3 × 3 of type int\n\n| 1 | 2 | 3 |\n| 4 | 5 | 6 |\n| 7 | 8 | 9 |\n\n",
            "text/latex": "A matrix: 3 × 3 of type int\n\\begin{tabular}{lll}\n\t 1 & 2 & 3\\\\\n\t 4 & 5 & 6\\\\\n\t 7 & 8 & 9\\\\\n\\end{tabular}\n",
            "text/plain": [
              "     [,1] [,2] [,3]\n",
              "[1,] 1    2    3   \n",
              "[2,] 4    5    6   \n",
              "[3,] 7    8    9   "
            ]
          },
          "metadata": {}
        }
      ]
    }
  ],
  "metadata": {
    "kernelspec": {
      "display_name": "R",
      "language": "R",
      "name": "ir"
    },
    "language_info": {
      "codemirror_mode": "r",
      "file_extension": ".r",
      "mimetype": "text/x-r-source",
      "name": "R",
      "pygments_lexer": "r",
      "version": "4.1.0"
    },
    "orig_nbformat": 4,
    "colab": {
      "name": "4.- Funciones en R.ipynb",
      "provenance": [],
      "collapsed_sections": [],
      "include_colab_link": true
    }
  },
  "nbformat": 4,
  "nbformat_minor": 0
}