{
 "cells": [
  {
   "cell_type": "markdown",
   "metadata": {},
   "source": [
    "# **Programación Básica**"
   ]
  },
  {
   "cell_type": "markdown",
   "metadata": {},
   "source": [
    "\n",
    "Este apartado presenta un conjunto de construcciones básicas de programación, que son los bloques de construcción de la mayoría de los programas. Algunas de estas herramientas se utilizan prácticamente en todos los lenguajes de programación, por ejemplo, la ejecución condicional mediante sentencias $if$, y la ejecución en bucle mediante sentencias $for$ y $while$. Otras herramientas, como la programación basada en vectores, son más especializadas, pero son igual de importantes para una codificación eficiente de R. Una implicación es que el código que parece ser eficiente en otro lenguaje puede no ser eficiente en R."
   ]
  },
  {
   "cell_type": "markdown",
   "metadata": {},
   "source": [
    "# If else"
   ]
  },
  {
   "cell_type": "markdown",
   "metadata": {},
   "source": [
    "A menudo es útil forzar la ejecución de alguna parte de un programa para que dependa de una condición. La función $if$ tiene la forma\n",
    "\n",
    "```r\n",
    "if (logical_expression) {\n",
    "expression_1\n",
    "...\n",
    "}\n",
    "```\n",
    "\n",
    "Una extensión natural del comando $if$ incluye la parte $else$\n",
    "```r\n",
    "if (logical_expression) {\n",
    "expression_1\n",
    "...\n",
    "} else {\n",
    "expression_2\n",
    "...\n",
    "}\n",
    "```\n",
    "\n",
    "Cuando se evalúa una expresión $if$, si la expresion logical es TRUE se ejecuta la expresión del primer grupo y no se ejecuta la del segundo grupo. A la inversa, si la expresión lógica es FALSE, sólo se ejecuta la expresión del segundo grupo. "
   ]
  },
  {
   "cell_type": "markdown",
   "metadata": {},
   "source": [
    "## Ejemplo 1:\n",
    "\n",
    "Supongamos que tenemos un vector $x$ con los promedios de calificaciones de alumnos. Deseamos contruir una función que nos indique si un alumno está por arriba o debajo del promedio de calificaciones. "
   ]
  },
  {
   "cell_type": "code",
   "execution_count": 62,
   "metadata": {},
   "outputs": [],
   "source": [
    "# vector de calificaciones\n",
    "x <- c(8.6, 9.0, 10.0, 8.8, 9.4, 9.9, 9.2, 10.0, 9.2, 8.9)"
   ]
  },
  {
   "cell_type": "code",
   "execution_count": 8,
   "metadata": {},
   "outputs": [
    {
     "name": "stdout",
     "output_type": "stream",
     "text": [
      "[1] \"El alumno se encuentra por arriba del promeio.\"\n"
     ]
    }
   ],
   "source": [
    "# i-ésimo alumno\n",
    "xi <- x[3]\n",
    "# condicional\n",
    "if(xi > mean(x)){\n",
    "    print(paste('El alumno se encuentra por arriba del promeio.', sep=''))\n",
    "}else{\n",
    "    print(paste('El alumno se encuentra por debajo del promeio.', sep=''))\n",
    "}"
   ]
  },
  {
   "cell_type": "markdown",
   "metadata": {},
   "source": [
    "## Ejemplo 2:\n",
    "\n",
    "Ahora deseamos un código que nos muestre si un estudiante ha aprobado o no \"Proceos Estocásticos\".\n",
    "SI la calificación de un estudiante es igual o mayor a 6, ENTONCES mostrar “Aprobado”, DE OTRO MODO, mostrar “Reprobado”."
   ]
  },
  {
   "cell_type": "code",
   "execution_count": 9,
   "metadata": {},
   "outputs": [],
   "source": [
    "# Calificaciones\n",
    "x <- c(8.6, 9.0, 10.0, 5.5, 9.4, 9.9, 9.2, 10.0, 9.2, 8.9)"
   ]
  },
  {
   "cell_type": "code",
   "execution_count": 11,
   "metadata": {},
   "outputs": [
    {
     "name": "stdout",
     "output_type": "stream",
     "text": [
      "[1] \"Aprobado\"\n"
     ]
    }
   ],
   "source": [
    "# Solución:\n",
    "xi <- x[1]\n",
    "if(xi >= 6){\n",
    "    print('Aprobado')\n",
    "}else{\n",
    "    print('Repreobado')\n",
    "}\n"
   ]
  },
  {
   "cell_type": "markdown",
   "metadata": {},
   "source": [
    "# Bucle for\n",
    "\n",
    "El comando $for$ tiene la siguiente forma, donde $i$ es una variable simple y 1:10 es un vector, que establece el inicio y fin del iterador $i$.\n",
    "\n",
    "```r\n",
    "for (i in 1:10) {\n",
    "    expression_1\n",
    "...\n",
    "}\n",
    "```\n",
    "\n",
    "Cuando se ejecuta, el comando $for$ ejecuta el grupo de expresiones dentro de las llaves { }, una vez por cada elemento del vector (1:10). Las expresiones agrupadas pueden utilizar $i$, que toma cada uno de los valores de los elementos del vector a medida que el bucle se repite.\n"
   ]
  },
  {
   "cell_type": "markdown",
   "metadata": {},
   "source": [
    "## Ejemplo 1: \n",
    "\n",
    "Supongamos que deseamos calcular la suma de elementos de un vector $x$."
   ]
  },
  {
   "cell_type": "code",
   "execution_count": 14,
   "metadata": {},
   "outputs": [
    {
     "name": "stdout",
     "output_type": "stream",
     "text": [
      "[1] 120\n"
     ]
    }
   ],
   "source": [
    "# Vector\n",
    "x <- c(1, 2, 3, 4,5, 6, 7, 8, 9, 10, 11, 12, 13, 14, 15)\n",
    "# definimos suma antes de acumular valores\n",
    "suma <- 0\n",
    "# for loop\n",
    "for(i in 1:length(x)){\n",
    "    suma <- suma + x[i]\n",
    "}\n",
    "print(suma)"
   ]
  },
  {
   "cell_type": "markdown",
   "metadata": {},
   "source": [
    "## Ejemplo 2: \n",
    "\n",
    "Supongamos que tenemos una matriz $A$ en la cual deseamos multiplicar los elementos $i=i$ por $2$, y los elementos $i\\neq j$ por $4$."
   ]
  },
  {
   "cell_type": "code",
   "execution_count": 15,
   "metadata": {},
   "outputs": [
    {
     "name": "stdout",
     "output_type": "stream",
     "text": [
      "     [,1] [,2] [,3] [,4]\n",
      "[1,]    1    1    1    1\n",
      "[2,]    1    1    1    1\n",
      "[3,]    1    1    1    1\n",
      "[4,]    1    1    1    1\n"
     ]
    }
   ],
   "source": [
    "A <- matrix(1, ncol=4, nrow=4)\n",
    "print(A)"
   ]
  },
  {
   "cell_type": "code",
   "execution_count": 17,
   "metadata": {},
   "outputs": [
    {
     "name": "stdout",
     "output_type": "stream",
     "text": [
      "     [,1] [,2] [,3] [,4]\n",
      "[1,]    2    4    4    4\n",
      "[2,]    4    2    4    4\n",
      "[3,]    4    4    2    4\n",
      "[4,]    4    4    4    2\n"
     ]
    }
   ],
   "source": [
    "# for loop\n",
    "B <- matrix(1, ncol=4, nrow=4)\n",
    "for(j in 1:ncol(B)){\n",
    "    for(i in 1:nrow(B)){\n",
    "        if(i == j){\n",
    "            B[i, j] <- B[i, j]*2 \n",
    "\n",
    "        }else{\n",
    "            B[i, j] <- B[i, j]*4 \n",
    "        }  \n",
    "    }\n",
    "}\n",
    "print(B)"
   ]
  },
  {
   "cell_type": "markdown",
   "metadata": {},
   "source": [
    "## Ejemplo 3:\n",
    "Supongamos que deseamos un código que multiplique una matriz consigo misma $n$ veces."
   ]
  },
  {
   "cell_type": "code",
   "execution_count": 24,
   "metadata": {},
   "outputs": [
    {
     "name": "stdout",
     "output_type": "stream",
     "text": [
      "     [,1] [,2]\n",
      "[1,]    0    1\n",
      "[2,]    1    0\n"
     ]
    }
   ],
   "source": [
    "A <- matrix(c(0, 1,\n",
    "              1, 0), ncol=2, nrow=2, byrow=T)\n",
    "print(A)"
   ]
  },
  {
   "cell_type": "code",
   "execution_count": 31,
   "metadata": {},
   "outputs": [
    {
     "name": "stdout",
     "output_type": "stream",
     "text": [
      "     [,1] [,2]\n",
      "[1,]    0    1\n",
      "[2,]    1    0\n"
     ]
    }
   ],
   "source": [
    "# definimos la potencia de la matriz\n",
    "n <- 41\n",
    "# for loop\n",
    "for(i in 1:n){\n",
    "    if(i == 1){\n",
    "        Mn <- A\n",
    "    }else{\n",
    "        Mn <- Mn%*%A\n",
    "    }\n",
    "}\n",
    "print(Mn)"
   ]
  },
  {
   "cell_type": "markdown",
   "metadata": {},
   "source": [
    "## Ejemplo 4:\n",
    "\n",
    "Generar un código para calcular una realización de \n",
    "\n",
    "\\begin{equation}\n",
    "S_n = S_{n-1} + X_i, \\ \\ \\ \\ S_0 = 0\n",
    "\\end{equation}\n",
    "\n",
    "donde $P(X_i=1) = p$ , y $P(X_i=-1) = 1-p$ "
   ]
  },
  {
   "cell_type": "code",
   "execution_count": 50,
   "metadata": {},
   "outputs": [
    {
     "name": "stdout",
     "output_type": "stream",
     "text": [
      "  [1]   0   1   2   3   4   3   2   3   2   3   2   1   2   1   2   3   2   3\n",
      " [19]   4   5   6   5   6   7   8   7   8   7   6   5   6   5   6   7   8   7\n",
      " [37]   6   5   4   3   4   5   4   3   2   3   4   3   4   3   2   1   0   1\n",
      " [55]   2   1   2   3   2   1   2   1   0  -1  -2  -1   0  -1   0  -1  -2  -3\n",
      " [73]  -4  -3  -4  -5  -6  -7  -6  -7  -8  -9 -10 -11 -10 -11 -10  -9 -10 -11\n",
      " [91] -12 -13 -14 -15 -16 -15 -14 -13 -14 -15 -16\n"
     ]
    }
   ],
   "source": [
    "# definimos n pasos\n",
    "n <- 100\n",
    "# probabilidad de moverse a la derecha\n",
    "p <- 0.5\n",
    "# valores que puede tomar \n",
    "x.right = 1 # a la derecha\n",
    "x.left = -1 # a la izquierda\n",
    "# inicialización del vector\n",
    "S_n = numeric(n+1)\n",
    "# inicio del bucle\n",
    "for(i in 2:length(S_n)){\n",
    "    x_i <- sample(c(x.right, x.left), size=1, replace=T, prob=c(p, 1-p))\n",
    "    S_n[i]  <- S_n[i-1] + x_i\n",
    " }\n",
    " # impresión del resultado\n",
    " print(S_n)"
   ]
  },
  {
   "cell_type": "markdown",
   "metadata": {},
   "source": [
    "## Ejemplo 5:\n",
    "\n",
    "Considere el caso anterior pero para  $n$ pasos, y $m$ trajectorias. (Sugerencia, utilice un arreglo matricial de dimensión $n*m$)"
   ]
  },
  {
   "cell_type": "markdown",
   "metadata": {},
   "source": [
    "# Bucle While"
   ]
  },
  {
   "cell_type": "markdown",
   "metadata": {},
   "source": [
    "A menudo no sabemos de antemano cuántas veces tenemos que dar la vuelta a un bucle. Es decir, cada vez que damos una vuelta al bucle, comprobamos alguna condición para para ver si ya hemos terminado. En esta situación utilizamos un bucle $while$, que tiene la forma\n",
    "\n",
    "```r\n",
    "while (logical_expression) {\n",
    "    expression_1\n",
    "...\n",
    "}\n",
    "```\n",
    "\n",
    "Cuando se ejecuta un comando $while$, se evalúa primero la expresión lógica. Si es **TRUE** se ejecuta el grupo de expresiones entre llaves { }. A continuación, el control se vuelve al inicio del comando: si la expresión lógica sigue siendo **TRUE**, las expresiones agrupadas se ejecutan de nuevo, y así sucesivamente. Evidentemente, para que el bucle se detenga finalmente, la expression lógica debe ser finalmente **FALSE**. Para conseguirlo, la expression lógica suele depender de una variable que se altera dentro de las expresiones agrupadas.\n",
    "\n",
    "El bucle $while$ es más fundamental que el bucle $for$, ya que siempre podemos reescribir un bucle $for$ como un bucle $while$."
   ]
  },
  {
   "cell_type": "markdown",
   "metadata": {},
   "source": [
    "## Ejemplo 1:\n",
    "\n",
    "Supongamos que queremos conocer el primer número entero positivo cuyo cuadrado es superior a 4000, podemos hacerlo:"
   ]
  },
  {
   "cell_type": "code",
   "execution_count": 52,
   "metadata": {},
   "outputs": [],
   "source": [
    "# Variable initialization\n",
    "n <- 0\n",
    "square <- 0\n",
    "\n",
    "# While loop\n",
    "while(square <= 4000) {\n",
    "    n <- n + 1\n",
    "    square <- n ^ 2\n",
    "}"
   ]
  },
  {
   "cell_type": "markdown",
   "metadata": {},
   "source": [
    "## Ejemplo 2:\n",
    "\n",
    "Crear un bucle $while$ para sumar dos vectores."
   ]
  },
  {
   "cell_type": "code",
   "execution_count": 53,
   "metadata": {},
   "outputs": [
    {
     "name": "stdout",
     "output_type": "stream",
     "text": [
      "[1] 1 2 8 5\n"
     ]
    }
   ],
   "source": [
    "# vectores\n",
    "x <- c(1, 2, 3, 4)\n",
    "y <- c(0, 0, 5, 1)\n",
    "# inicialización \n",
    "n <- length(x)\n",
    "i <- 0\n",
    "# inicialización del vector que almacenará la suma\n",
    "z <- numeric(n)\n",
    "# loop\n",
    "while (i <= n) {\n",
    "    z[i] <- x[i] + y[i]\n",
    "    i <- i + 1\n",
    "}\n",
    "print(z)"
   ]
  },
  {
   "cell_type": "markdown",
   "metadata": {},
   "source": [
    "## Ejemplo 3:\n",
    "Supongamos que deseamos un código que multiplique una matriz consigo misma $n$ veces. Utilice un bucle $while$ para responder."
   ]
  },
  {
   "cell_type": "code",
   "execution_count": 54,
   "metadata": {},
   "outputs": [
    {
     "name": "stdout",
     "output_type": "stream",
     "text": [
      "     [,1] [,2]\n",
      "[1,]    0    1\n",
      "[2,]    1    0\n"
     ]
    }
   ],
   "source": [
    "A <- matrix(c(0, 1,\n",
    "              1, 0), ncol=2, nrow=2, byrow=T)\n",
    "print(A)"
   ]
  },
  {
   "cell_type": "code",
   "execution_count": 55,
   "metadata": {},
   "outputs": [
    {
     "name": "stdout",
     "output_type": "stream",
     "text": [
      "     [,1] [,2]\n",
      "[1,]    0    1\n",
      "[2,]    1    0\n"
     ]
    }
   ],
   "source": [
    "# definimos la potencia de la matriz\n",
    "n <- 40\n",
    "i <- 0\n",
    "# for loop\n",
    "while(i <= n){\n",
    "    i <- i + 1\n",
    "    if(i == 1){\n",
    "        Mn <- A\n",
    "    }else{\n",
    "        Mn <- Mn%*%A\n",
    "    }\n",
    "   \n",
    "}\n",
    "print(Mn)"
   ]
  },
  {
   "cell_type": "markdown",
   "metadata": {},
   "source": [
    "## Ejemplo 4:\n",
    "\n",
    "Generar un código para calcular una realización de \n",
    "\n",
    "\\begin{equation}\n",
    "S_n = S_{n-1} + X_i, \\ \\ \\ \\ S_0 = 0\n",
    "\\end{equation}\n",
    "\n",
    "donde $P(X_i=1) = p$ , y $P(X_i=-1) = 1-p$. Con la condición de que acumule hasta que $S_n=60$, o bien $S_n=-60$."
   ]
  },
  {
   "cell_type": "code",
   "execution_count": 60,
   "metadata": {},
   "outputs": [
    {
     "name": "stdout",
     "output_type": "stream",
     "text": [
      "   [1]   0  -1   0   1   2   3   2   3   2   3   4   5   6   7   6   7   6   5\n",
      "  [19]   4   5   6   5   6   5   4   5   6   5   6   7   8   9  10  11  12  13\n",
      "  [37]  14  15  16  15  14  13  14  15  16  17  18  19  18  19  18  17  16  17\n",
      "  [55]  18  17  16  15  16  17  18  19  20  21  20  21  22  21  20  19  18  19\n",
      "  [73]  18  17  18  19  20  19  18  19  20  19  20  19  20  19  20  21  20  19\n",
      "  [91]  20  21  22  23  24  23  22  21  20  21  20  19  20  21  20  19  20  19\n",
      " [109]  20  19  18  19  20  21  22  21  22  23  22  21  22  21  22  21  22  21\n",
      " [127]  22  23  24  23  22  21  22  23  22  21  20  21  22  21  20  19  20  19\n",
      " [145]  18  19  20  19  18  19  18  19  18  19  18  17  16  17  16  17  18  17\n",
      " [163]  16  15  14  13  14  13  14  15  16  15  14  15  16  17  16  15  14  15\n",
      " [181]  16  17  18  19  20  21  22  21  20  19  18  17  16  17  16  17  18  17\n",
      " [199]  16  15  16  17  16  17  18  17  16  17  16  15  16  15  16  17  18  17\n",
      " [217]  16  17  16  17  16  15  16  15  16  15  14  15  14  15  14  13  12  13\n",
      " [235]  12  13  14  15  16  17  18  19  18  17  18  19  18  17  16  17  16  17\n",
      " [253]  16  17  16  15  14  13  12  11  12  11  10  11  10  11  10  11  10  11\n",
      " [271]  12  13  14  13  14  13  14  15  14  13  14  13  14  15  14  15  14  13\n",
      " [289]  12  13  14  15  16  15  16  17  16  15  16  17  18  17  16  17  18  17\n",
      " [307]  18  17  18  19  20  21  20  21  22  23  22  21  22  21  22  21  22  23\n",
      " [325]  22  23  24  25  24  23  22  23  22  23  24  25  24  25  24  25  26  25\n",
      " [343]  26  25  24  23  24  23  24  25  26  27  26  27  28  27  26  27  26  25\n",
      " [361]  26  25  26  27  28  29  28  27  28  27  28  29  30  31  32  31  30  31\n",
      " [379]  30  29  28  29  30  31  32  31  32  33  32  31  32  33  34  33  32  33\n",
      " [397]  32  31  30  31  32  33  32  33  34  35  36  37  36  37  38  37  36  37\n",
      " [415]  36  37  36  37  36  37  38  39  38  39  40  39  38  37  38  37  38  37\n",
      " [433]  36  35  36  35  34  33  32  31  30  29  28  27  28  27  28  29  28  27\n",
      " [451]  28  27  28  29  30  29  30  29  30  29  28  27  26  27  26  27  28  29\n",
      " [469]  30  31  32  33  34  35  34  35  36  37  36  35  34  33  32  33  32  33\n",
      " [487]  34  35  36  35  34  33  34  35  36  37  38  39  38  39  38  39  40  41\n",
      " [505]  42  43  42  41  40  39  38  37  38  37  36  35  36  35  34  33  34  35\n",
      " [523]  34  33  32  33  32  31  30  31  32  33  32  33  34  33  34  33  32  31\n",
      " [541]  32  31  30  29  28  29  28  29  28  27  28  27  28  29  30  31  32  31\n",
      " [559]  30  31  32  33  32  31  30  29  30  29  28  27  28  27  26  25  26  27\n",
      " [577]  26  25  24  25  26  27  28  27  28  29  28  29  28  27  26  27  26  25\n",
      " [595]  24  25  24  23  24  25  26  27  26  25  24  25  24  25  24  23  22  21\n",
      " [613]  20  21  22  21  22  23  24  25  24  23  24  25  26  25  26  27  28  27\n",
      " [631]  26  25  26  27  26  25  26  27  28  27  28  27  28  29  28  29  28  29\n",
      " [649]  30  31  30  29  30  31  32  31  32  33  32  33  34  33  34  35  36  35\n",
      " [667]  34  35  34  33  32  33  34  33  34  33  34  35  34  33  34  35  34  35\n",
      " [685]  36  37  36  37  36  35  34  33  34  33  34  33  34  35  36  35  34  35\n",
      " [703]  36  35  34  35  34  35  36  35  36  35  34  35  36  35  34  35  36  35\n",
      " [721]  34  35  36  35  34  33  34  35  34  33  34  33  32  31  30  31  30  29\n",
      " [739]  30  29  28  27  28  27  28  27  26  25  26  25  26  27  28  29  28  29\n",
      " [757]  28  27  28  27  28  29  28  29  30  29  28  27  26  25  26  27  28  27\n",
      " [775]  28  27  28  27  28  27  26  25  24  23  22  21  22  23  24  25  26  25\n",
      " [793]  26  25  24  25  24  23  22  21  22  23  24  25  24  23  22  21  22  21\n",
      " [811]  20  19  18  19  18  17  16  15  16  17  16  17  18  17  18  17  16  15\n",
      " [829]  16  15  16  17  16  15  16  17  18  17  16  17  16  15  14  13  12  13\n",
      " [847]  14  13  12  13  12  13  12  11  12  11  12  11  12  13  12  11  10   9\n",
      " [865]   8   7   8   7   8   7   8   9   8   7   8   9   8   7   6   5   6   7\n",
      " [883]   8   7   8   7   8   7   6   7   8   9  10   9  10   9   8   7   6   7\n",
      " [901]   8   7   6   5   6   5   6   7   8   7   8   7   8   9   8   7   8   9\n",
      " [919]   8   9  10  11  12  11  10   9  10  11  10   9  10  11  12  11  10  11\n",
      " [937]  12  11  12  11  12  13  14  13  12  13  12  11  12  11  12  11  12  11\n",
      " [955]  12  13  12  11  10  11  10  11  12  13  12  11  12  11  10   9  10   9\n",
      " [973]  10  11  12  13  14  15  14  13  14  15  14  13  14  13  14  13  14  13\n",
      " [991]  14  13  12  11  10   9   8   7   6   7   6   5   4   5   6   5   6   7\n",
      "[1009]   8   7   8   9  10   9   8   9   8   7   6   5   6   5   6   5   4   5\n",
      "[1027]   4   5   6   7   6   7   8   9   8   7   8   9   8   9   8   7   6   7\n",
      "[1045]   8   9   8   9   8   9  10  11  10  11  12  13  14  15  16  15  16  17\n",
      "[1063]  16  15  14  15  14  15  14  13  14  13  12  11  12  11  10   9  10  11\n",
      "[1081]  10  11  10  11  12  13  12  13  14  15  14  15  14  15  14  15  16  15\n",
      "[1099]  14  15  16  17  16  15  14  13  14  13  14  13  14  13  12  13  12  11\n",
      "[1117]  12  11  12  13  12  13  12  13  12  11  10   9  10  11  10  11  10   9\n",
      "[1135]   8   9   8   7   6   7   6   5   4   3   4   5   6   7   6   7   8   9\n",
      "[1153]   8   9   8   9  10   9  10  11  10   9  10   9   8   9  10  11  12  13\n",
      "[1171]  14  15  14  15  14  15  16  17  16  15  14  13  12  13  14  13  14  13\n",
      "[1189]  14  13  14  13  14  13  12  11  12  13  12  13  14  15  16  15  16  15\n",
      "[1207]  16  17  18  19  20  19  20  21  22  21  22  21  22  21  22  23  22  23\n",
      "[1225]  22  23  22  23  22  23  22  21  20  21  22  21  20  19  20  21  20  19\n",
      "[1243]  20  19  18  17  18  17  16  15  16  15  14  13  14  13  12  13  14  15\n",
      "[1261]  16  17  16  15  14  15  16  17  16  17  18  17  16  15  14  15  16  17\n",
      "[1279]  16  15  16  15  14  15  14  13  12  13  14  15  16  17  16  15  16  15\n",
      "[1297]  14  15  14  15  16  15  14  15  14  15  16  15  16  15  16  17  16  15\n",
      "[1315]  16  15  16  17  16  17  16  15  14  13  14  15  16  17  18  19  20  19\n",
      "[1333]  18  17  16  17  18  17  18  19  20  19  18  19  18  17  16  15  14  13\n",
      "[1351]  12  13  14  15  14  13  12  13  14  13  14  15  16  17  16  17  16  15\n",
      "[1369]  16  15  16  17  16  17  16  17  16  15  16  15  14  13  12  13  14  15\n",
      "[1387]  14  15  16  17  18  19  18  19  18  19  18  17  16  15  14  15  14  13\n",
      "[1405]  14  13  14  15  16  17  16  15  14  15  14  13  14  13  14  13  12  13\n",
      "[1423]  12  13  12  11  10   9   8   7   6   5   6   5   6   5   4   5   6   5\n",
      "[1441]   4   3   4   3   2   1   2   3   4   3   2   1   2   3   4   3   2   1\n",
      "[1459]   2   1   0   1   0  -1   0   1   0   1   2   3   2   3   4   3   4   3\n",
      "[1477]   2   3   2   3   2   3   2   1   0   1   0   1   0  -1  -2  -3  -2  -3\n",
      "[1495]  -2  -1  -2  -3  -2  -3  -2  -3  -4  -5  -6  -5  -4  -3  -2  -1  -2  -1\n",
      "[1513]  -2  -3  -2  -1  -2  -3  -4  -5  -4  -3  -2  -3  -2  -3  -4  -3  -4  -3\n",
      "[1531]  -2  -3  -4  -3  -4  -3  -2  -1  -2  -3  -4  -5  -4  -3  -4  -5  -6  -5\n",
      "[1549]  -6  -7  -8  -7  -8  -9 -10 -11 -10 -11 -12 -13 -14 -15 -16 -15 -16 -17\n",
      "[1567] -18 -17 -18 -19 -20 -19 -18 -17 -18 -17 -16 -15 -16 -15 -16 -17 -18 -19\n",
      "[1585] -20 -19 -20 -21 -22 -23 -24 -25 -26 -27 -26 -25 -26 -25 -24 -23 -22 -23\n",
      "[1603] -24 -23 -24 -25 -26 -25 -24 -25 -24 -23 -22 -23 -22 -23 -24 -25 -24 -23\n",
      "[1621] -22 -23 -22 -23 -22 -23 -22 -23 -24 -23 -22 -23 -22 -23 -22 -21 -20 -21\n",
      "[1639] -22 -23 -22 -21 -22 -21 -22 -21 -22 -21 -22 -21 -22 -23 -24 -25 -24 -25\n",
      "[1657] -24 -23 -22 -23 -24 -25 -24 -25 -24 -23 -22 -21 -20 -21 -22 -21 -22 -21\n",
      "[1675] -22 -21 -20 -21 -20 -19 -18 -17 -16 -17 -18 -17 -16 -17 -16 -17 -18 -19\n",
      "[1693] -18 -19 -18 -19 -20 -19 -18 -17 -18 -17 -18 -19 -20 -19 -18 -17 -18 -19\n",
      "[1711] -18 -19 -20 -21 -20 -21 -20 -21 -20 -21 -22 -21 -20 -21 -20 -21 -22 -21\n",
      "[1729] -20 -19 -18 -17 -16 -15 -14 -15 -16 -15 -14 -13 -14 -15 -14 -13 -14 -13\n",
      "[1747] -14 -13 -14 -13 -12 -13 -12 -11 -12 -13 -14 -15 -16 -17 -16 -15 -14 -15\n",
      "[1765] -14 -13 -12 -13 -14 -15 -14 -13 -12 -11 -12 -11 -10  -9 -10 -11 -12 -11\n",
      "[1783] -10 -11 -12 -13 -14 -15 -16 -15 -14 -15 -14 -13 -14 -15 -14 -15 -16 -15\n",
      "[1801] -16 -17 -18 -17 -16 -17 -16 -17 -18 -19 -20 -19 -18 -17 -16 -15 -16 -17\n",
      "[1819] -16 -17 -16 -15 -16 -15 -14 -13 -14 -13 -12 -13 -14 -13 -14 -15 -14 -15\n",
      "[1837] -16 -15 -16 -17 -18 -17 -18 -17 -18 -19 -20 -19 -20 -21 -20 -19 -18 -19\n",
      "[1855] -20 -19 -18 -19 -20 -19 -20 -21 -22 -21 -22 -21 -22 -23 -22 -21 -20 -21\n",
      "[1873] -20 -19 -18 -19 -20 -21 -22 -23 -24 -23 -24 -23 -24 -23 -22 -21 -22 -23\n",
      "[1891] -22 -21 -20 -19 -20 -21 -22 -21 -22 -21 -22 -21 -20 -19 -20 -21 -20 -19\n",
      "[1909] -20 -19 -18 -19 -18 -19 -18 -17 -18 -17 -18 -19 -20 -21 -22 -23 -22 -23\n",
      "[1927] -22 -21 -20 -19 -18 -17 -16 -15 -16 -17 -16 -15 -16 -17 -16 -17 -16 -17\n",
      "[1945] -16 -15 -16 -15 -16 -15 -16 -17 -16 -17 -18 -17 -16 -17 -18 -17 -18 -17\n",
      "[1963] -18 -17 -18 -19 -20 -19 -18 -17 -16 -15 -16 -17 -16 -17 -18 -19 -18 -19\n",
      "[1981] -18 -17 -18 -17 -18 -19 -18 -19 -20 -19 -18 -19 -18 -17 -18 -19 -20 -19\n",
      "[1999] -20 -21 -22 -23 -24 -23 -24 -23 -22 -23 -24 -23 -24 -25 -26 -25 -24 -23\n",
      "[2017] -24 -25 -24 -25 -26 -25 -26 -27 -28 -27 -28 -29 -30 -31 -32 -33 -32 -31\n",
      "[2035] -32 -31 -30 -31 -32 -31 -32 -31 -32 -31 -30 -31 -30 -31 -30 -29 -28 -29\n",
      "[2053] -30 -29 -30 -29 -28 -29 -28 -27 -28 -29 -28 -29 -30 -31 -30 -29 -30 -29\n",
      "[2071] -30 -31 -32 -33 -32 -31 -32 -33 -32 -33 -32 -33 -32 -33 -34 -33 -34 -35\n",
      "[2089] -34 -35 -34 -33 -32 -31 -32 -33 -34 -35 -34 -33 -34 -35 -34 -33 -32 -31\n",
      "[2107] -32 -33 -34 -33 -34 -35 -36 -37 -36 -37 -36 -35 -36 -37 -36 -35 -36 -37\n",
      "[2125] -36 -35 -36 -37 -36 -37 -38 -37 -38 -39 -38 -37 -38 -37 -36 -37 -36 -35\n",
      "[2143] -36 -37 -36 -35 -36 -35 -34 -35 -34 -35 -36 -35 -34 -35 -34 -33 -32 -33\n",
      "[2161] -34 -35 -36 -37 -38 -37 -36 -37 -36 -35 -34 -35 -34 -35 -36 -37 -36 -37\n",
      "[2179] -38 -37 -36 -37 -36 -35 -36 -37 -36 -37 -36 -37 -38 -39 -38 -37 -38 -37\n",
      "[2197] -38 -37 -36 -35 -36 -37 -38 -37 -36 -37 -38 -37 -36 -35 -34 -35 -34 -35\n",
      "[2215] -36 -37 -38 -37 -36 -35 -34 -33 -32 -33 -34 -35 -36 -35 -36 -37 -38 -39\n",
      "[2233] -38 -39 -40 -39 -40 -39 -40 -41 -42 -43 -42 -41 -42 -43 -44 -45 -46 -47\n",
      "[2251] -46 -47 -46 -47 -46 -47 -48 -47 -46 -45 -46 -45 -44 -45 -44 -43 -44 -43\n",
      "[2269] -42 -43 -44 -45 -46 -45 -44 -45 -44 -45 -46 -45 -44 -45 -46 -45 -46 -47\n",
      "[2287] -46 -47 -48 -49 -48 -47 -48 -47 -46 -45 -44 -45 -46 -45 -46 -45 -44 -45\n",
      "[2305] -46 -47 -48 -47 -48 -49 -48 -49 -48 -47 -46 -45 -44 -43 -44 -45 -44 -43\n",
      "[2323] -42 -41 -42 -41 -42 -41 -40 -39 -40 -39 -38 -39 -40 -41 -40 -39 -40 -41\n",
      "[2341] -40 -41 -40 -39 -38 -39 -38 -39 -38 -37 -38 -37 -38 -39 -40 -39 -38 -37\n",
      "[2359] -38 -39 -38 -37 -36 -35 -34 -33 -34 -33 -32 -31 -30 -31 -32 -31 -32 -31\n",
      "[2377] -30 -29 -30 -29 -30 -29 -30 -31 -30 -31 -32 -31 -30 -31 -30 -31 -32 -33\n",
      "[2395] -34 -33 -32 -31 -32 -33 -34 -35 -36 -37 -36 -35 -34 -35 -34 -33 -32 -33\n",
      "[2413] -34 -33 -34 -35 -34 -35 -36 -37 -36 -37 -36 -37 -36 -35 -34 -33 -34 -33\n",
      "[2431] -32 -31 -32 -31 -32 -31 -30 -31 -30 -29 -30 -31 -30 -29 -30 -31 -32 -33\n",
      "[2449] -34 -33 -32 -33 -32 -31 -30 -29 -28 -27 -28 -27 -26 -25 -24 -25 -24 -23\n",
      "[2467] -22 -23 -22 -21 -20 -19 -18 -17 -18 -17 -18 -17 -18 -17 -18 -19 -20 -19\n",
      "[2485] -20 -19 -20 -21 -20 -21 -22 -21 -20 -21 -20 -21 -22 -23 -24 -23 -24 -23\n",
      "[2503] -22 -23 -24 -25 -26 -27 -26 -27 -28 -27 -26 -27 -28 -29 -30 -29 -30 -31\n",
      "[2521] -32 -31 -32 -33 -34 -35 -36 -35 -34 -33 -32 -31 -32 -33 -32 -33 -34 -35\n",
      "[2539] -34 -35 -36 -37 -38 -39 -40 -39 -38 -37 -36 -37 -36 -37 -38 -39 -40 -41\n",
      "[2557] -42 -43 -44 -43 -42 -43 -42 -43 -42 -41 -42 -41 -40 -41 -40 -41 -42 -41\n",
      "[2575] -40 -41 -42 -41 -42 -41 -42 -43 -42 -41 -42 -41 -42 -41 -42 -43 -44 -45\n",
      "[2593] -44 -45 -44 -45 -44 -45 -44 -45 -46 -45 -44 -43 -44 -43 -42 -43 -44 -43\n",
      "[2611] -42 -41 -42 -41 -42 -41 -42 -41 -42 -41 -42 -43 -42 -43 -44 -43 -44 -45\n",
      "[2629] -46 -47 -48 -47 -46 -45 -46 -47 -46 -45 -46 -45 -44 -45 -44 -45 -44 -43\n",
      "[2647] -44 -43 -42 -41 -40 -41 -40 -41 -42 -43 -42 -41 -42 -43 -42 -43 -44 -45\n",
      "[2665] -46 -45 -46 -45 -46 -47 -46 -47 -46 -45 -44 -43 -44 -43 -42 -43 -44 -45\n",
      "[2683] -46 -47 -48 -49 -48 -49 -50 -49 -50 -51 -50 -49 -48 -49 -48 -49 -48 -49\n",
      "[2701] -48 -49 -50 -51 -50 -49 -50 -51 -52 -51 -50 -51 -52 -53 -52 -51 -50 -49\n",
      "[2719] -50 -51 -50 -49 -48 -47 -48 -47 -46 -47 -48 -47 -48 -49 -50 -51 -52 -53\n",
      "[2737] -52 -51 -50 -49 -50 -51 -50 -49 -50 -49 -50 -51 -52 -53 -52 -53 -54 -53\n",
      "[2755] -52 -51 -52 -53 -54 -55 -54 -55 -54 -55 -56 -57 -56 -57 -56 -57 -56 -55\n",
      "[2773] -56 -57 -56 -55 -54 -55 -56 -55 -54 -53 -54 -53 -54 -55 -54 -53 -52 -51\n",
      "[2791] -50 -51 -52 -51 -52 -51 -50 -51 -50 -51 -52 -51 -50 -51 -52 -51 -50 -51\n",
      "[2809] -50 -51 -52 -51 -52 -53 -52 -53 -54 -55 -54 -55 -54 -53 -52 -53 -54 -53\n",
      "[2827] -52 -53 -54 -55 -56 -57 -56 -55 -56 -57 -56 -55 -56 -55 -56 -57 -56 -57\n",
      "[2845] -58 -57 -56 -57 -58 -59 -60\n"
     ]
    }
   ],
   "source": [
    "# probabilidad de moverse a la derecha\n",
    "p <- 0.5\n",
    "# valores que puede tomar \n",
    "x.right = 1 # a la derecha\n",
    "x.left = -1 # a la izquierda\n",
    "# inicialización del vector\n",
    "S_n = c()\n",
    "S_n[1] <- 0\n",
    "# inicialización\n",
    "i <- 2\n",
    "# inicio del bucle\n",
    "while(abs(S_n[i-1]) < 60){\n",
    "    x_i <- sample(c(x.right, x.left), size=1, replace=T, prob=c(p, 1-p))\n",
    "    S_n[i]  <- S_n[i-1] + x_i\n",
    "    i <- i + 1\n",
    " }\n",
    " # impresión del resultado\n",
    " print(S_n)"
   ]
  }
 ],
 "metadata": {
  "kernelspec": {
   "display_name": "R",
   "language": "R",
   "name": "ir"
  },
  "language_info": {
   "codemirror_mode": "r",
   "file_extension": ".r",
   "mimetype": "text/x-r-source",
   "name": "R",
   "pygments_lexer": "r",
   "version": "4.1.0"
  },
  "orig_nbformat": 4
 },
 "nbformat": 4,
 "nbformat_minor": 2
}
