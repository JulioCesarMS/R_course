{
  "cells": [
    {
      "cell_type": "markdown",
      "metadata": {
        "id": "view-in-github",
        "colab_type": "text"
      },
      "source": [
        "<a href=\"https://colab.research.google.com/github/JulioCesarMS/R_course/blob/master/2.-%20Elementos%20de%20R.ipynb\" target=\"_parent\"><img src=\"https://colab.research.google.com/assets/colab-badge.svg\" alt=\"Open In Colab\"/></a>"
      ]
    },
    {
      "cell_type": "markdown",
      "id": "deadly-neighbor",
      "metadata": {
        "id": "deadly-neighbor"
      },
      "source": [
        "# **Elementos de R**"
      ]
    },
    {
      "cell_type": "markdown",
      "source": [
        "R tiene cinco clases de objetos:\n",
        "\n",
        "- character\n",
        "\n",
        "- numeric (real numbers)\n",
        "\n",
        "- integer\n",
        "\n",
        "- complex\n",
        "\n",
        "- logical (True/False)"
      ],
      "metadata": {
        "id": "Ai9vmsGUWpQh"
      },
      "id": "Ai9vmsGUWpQh"
    },
    {
      "cell_type": "markdown",
      "id": "willing-retention",
      "metadata": {
        "id": "willing-retention"
      },
      "source": [
        "# Operadores aritméticos"
      ]
    },
    {
      "cell_type": "markdown",
      "id": "higher-scenario",
      "metadata": {
        "id": "higher-scenario"
      },
      "source": [
        "R utiliza los símbolos habituales para operaciones aritméticas como:\n",
        "- la suma $+$, \n",
        "- la resta $-$, \n",
        "- la multiplicación $*$, \n",
        "- la división $/$, y \n",
        "- la exponenciación ^. \n",
        "\n",
        "Para especificar el orden de las operaciones pueden usarse los paréntesis ( ) . Para tomar el módulo *%%*  y *%/%* para la\n",
        "división de enteros."
      ]
    },
    {
      "cell_type": "markdown",
      "id": "successful-spread",
      "metadata": {
        "id": "successful-spread"
      },
      "source": [
        "## Ejemplos:"
      ]
    },
    {
      "cell_type": "code",
      "execution_count": null,
      "id": "structured-portrait",
      "metadata": {
        "id": "structured-portrait",
        "outputId": "09699bb8-08c9-4de5-b427-b511d51b91df"
      },
      "outputs": [
        {
          "data": {
            "text/html": [
              "900"
            ],
            "text/latex": [
              "900"
            ],
            "text/markdown": [
              "900"
            ],
            "text/plain": [
              "[1] 900"
            ]
          },
          "metadata": {},
          "output_type": "display_data"
        }
      ],
      "source": [
        "# Operador potencia\n",
        "30^2"
      ]
    },
    {
      "cell_type": "code",
      "execution_count": null,
      "id": "vietnamese-press",
      "metadata": {
        "id": "vietnamese-press",
        "outputId": "d4e2e1ad-1930-4cfa-8060-7c326d998d97"
      },
      "outputs": [
        {
          "data": {
            "text/html": [
              "2.70481382942153"
            ],
            "text/latex": [
              "2.70481382942153"
            ],
            "text/markdown": [
              "2.70481382942153"
            ],
            "text/plain": [
              "[1] 2.704814"
            ]
          },
          "metadata": {},
          "output_type": "display_data"
        }
      ],
      "source": [
        "(1 + 1/100)^100"
      ]
    },
    {
      "cell_type": "code",
      "execution_count": null,
      "id": "treated-newcastle",
      "metadata": {
        "id": "treated-newcastle",
        "outputId": "50f406cc-14f6-4ac8-e6b7-7f793c17635f"
      },
      "outputs": [
        {
          "data": {
            "text/html": [
              "2"
            ],
            "text/latex": [
              "2"
            ],
            "text/markdown": [
              "2"
            ],
            "text/plain": [
              "[1] 2"
            ]
          },
          "metadata": {},
          "output_type": "display_data"
        }
      ],
      "source": [
        "# operador de módulo (devuelve el residuo)\n",
        "17%%5 "
      ]
    },
    {
      "cell_type": "code",
      "execution_count": null,
      "id": "technological-fireplace",
      "metadata": {
        "id": "technological-fireplace",
        "outputId": "219916f8-c75c-40d0-808f-463965169ef9"
      },
      "outputs": [
        {
          "data": {
            "text/html": [
              "3"
            ],
            "text/latex": [
              "3"
            ],
            "text/markdown": [
              "3"
            ],
            "text/plain": [
              "[1] 3"
            ]
          },
          "metadata": {},
          "output_type": "display_data"
        }
      ],
      "source": [
        "# Operador división de enteros\n",
        "17%/%5"
      ]
    },
    {
      "cell_type": "markdown",
      "id": "republican-server",
      "metadata": {
        "id": "republican-server"
      },
      "source": [
        "Podemos modificar el número de fígitos impresos **options(digits = x)**"
      ]
    },
    {
      "cell_type": "code",
      "execution_count": null,
      "id": "finite-humanity",
      "metadata": {
        "id": "finite-humanity"
      },
      "outputs": [],
      "source": [
        "options(digits = 3) # funciona en consola de R"
      ]
    },
    {
      "cell_type": "code",
      "execution_count": null,
      "id": "interim-virginia",
      "metadata": {
        "colab": {
          "base_uri": "https://localhost:8080/",
          "height": 34
        },
        "id": "interim-virginia",
        "outputId": "ba6debd8-ceee-4a7a-c954-5f2cc21ea140"
      },
      "outputs": [
        {
          "output_type": "display_data",
          "data": {
            "text/html": [
              "2.70481382942153"
            ],
            "text/markdown": "2.70481382942153",
            "text/latex": "2.70481382942153",
            "text/plain": [
              "[1] 2.7"
            ]
          },
          "metadata": {}
        }
      ],
      "source": [
        "(1 + 1/100)^100"
      ]
    },
    {
      "cell_type": "markdown",
      "id": "civil-leave",
      "metadata": {
        "id": "civil-leave"
      },
      "source": [
        "R tiene un número de funciones incorporadas, por ejemplo:\n",
        "- $sin(x)$, \n",
        "- $cos(x)$, \n",
        "- $tan(x)$, (todas la funciones trigonométricas en radianes), \n",
        "- $exp(x)$, \n",
        "- $log(x)$ y \n",
        "- $sqrt(x)$. \n",
        "\n",
        "Algunas constantes especiales, como como $pi$ también están predefinidas."
      ]
    },
    {
      "cell_type": "code",
      "execution_count": null,
      "id": "billion-rental",
      "metadata": {
        "colab": {
          "base_uri": "https://localhost:8080/",
          "height": 34
        },
        "id": "billion-rental",
        "outputId": "e1dc3111-98a7-433f-d82c-04314019d72e"
      },
      "outputs": [
        {
          "output_type": "display_data",
          "data": {
            "text/html": [
              "2.71828182845905"
            ],
            "text/markdown": "2.71828182845905",
            "text/latex": "2.71828182845905",
            "text/plain": [
              "[1] 2.72"
            ]
          },
          "metadata": {}
        }
      ],
      "source": [
        "exp(1)"
      ]
    },
    {
      "cell_type": "code",
      "execution_count": null,
      "id": "waiting-township",
      "metadata": {
        "colab": {
          "base_uri": "https://localhost:8080/",
          "height": 34
        },
        "id": "waiting-township",
        "outputId": "8ac480d3-f961-435b-afd9-c04aae2eead4"
      },
      "outputs": [
        {
          "output_type": "display_data",
          "data": {
            "text/html": [
              "3.14159265358979"
            ],
            "text/markdown": "3.14159265358979",
            "text/latex": "3.14159265358979",
            "text/plain": [
              "[1] 3.14"
            ]
          },
          "metadata": {}
        }
      ],
      "source": [
        "pi"
      ]
    },
    {
      "cell_type": "code",
      "execution_count": null,
      "id": "indoor-angle",
      "metadata": {
        "colab": {
          "base_uri": "https://localhost:8080/",
          "height": 34
        },
        "id": "indoor-angle",
        "outputId": "4eda67db-2d17-4312-daa2-138876f7c9a7"
      },
      "outputs": [
        {
          "output_type": "display_data",
          "data": {
            "text/html": [
              "0.5"
            ],
            "text/markdown": "0.5",
            "text/latex": "0.5",
            "text/plain": [
              "[1] 0.5"
            ]
          },
          "metadata": {}
        }
      ],
      "source": [
        "sin(pi/6)"
      ]
    },
    {
      "cell_type": "markdown",
      "id": "young-thumbnail",
      "metadata": {
        "id": "young-thumbnail"
      },
      "source": [
        "Las funciones \n",
        "\n",
        "- $floor(x)$ y \n",
        "- $ceiling(x)$\n",
        "\n",
        "redondean hacia abajo y hacia arriba, respectivamente, al número entero más cercano."
      ]
    },
    {
      "cell_type": "code",
      "execution_count": null,
      "id": "530dc12d",
      "metadata": {
        "id": "530dc12d",
        "outputId": "2a53fe03-ff56-4200-e963-751ebe608c42"
      },
      "outputs": [
        {
          "data": {
            "text/html": [
              "0"
            ],
            "text/latex": [
              "0"
            ],
            "text/markdown": [
              "0"
            ],
            "text/plain": [
              "[1] 0"
            ]
          },
          "metadata": {},
          "output_type": "display_data"
        }
      ],
      "source": [
        "floor(0.55)"
      ]
    },
    {
      "cell_type": "code",
      "execution_count": null,
      "id": "e954ad8d",
      "metadata": {
        "id": "e954ad8d",
        "outputId": "2cb7f1a4-2f95-42b5-8d5e-0bcc7c6770e7"
      },
      "outputs": [
        {
          "data": {
            "text/html": [
              "1"
            ],
            "text/latex": [
              "1"
            ],
            "text/markdown": [
              "1"
            ],
            "text/plain": [
              "[1] 1"
            ]
          },
          "metadata": {},
          "output_type": "display_data"
        }
      ],
      "source": [
        "ceiling(0.55)"
      ]
    },
    {
      "cell_type": "markdown",
      "id": "administrative-danish",
      "metadata": {
        "id": "administrative-danish"
      },
      "source": [
        "# Variables"
      ]
    },
    {
      "cell_type": "markdown",
      "id": "stone-frame",
      "metadata": {
        "id": "stone-frame"
      },
      "source": [
        "Una variable es como una carpeta con un nombre en el frente. Puedes colocar algo dentro de la carpeta, mirarlo, reemplazarlo por otra cosa, pero el nombre en el frente de la carpeta sigue siendo el mismo. Para asignar un valor a una variable utilizamos el comando de asignación **<-**. Las variables se crean la primera vez que se les asigna un valor. Se puede dar a una variable cualquier nombre compuesto por letras, números y \".\" o \"_\", siempre que empiece por una letra, o \".\" y luego una letra. Tenga en cuenta que los nombres distinguen entre mayúsculas y minúsculas.\n"
      ]
    },
    {
      "cell_type": "code",
      "execution_count": null,
      "id": "executed-authentication",
      "metadata": {
        "id": "executed-authentication"
      },
      "outputs": [],
      "source": [
        "x <- 100"
      ]
    },
    {
      "cell_type": "code",
      "execution_count": null,
      "id": "regulation-bosnia",
      "metadata": {
        "id": "regulation-bosnia",
        "outputId": "0d35520c-5844-4163-c4f5-1c7f4ac8e719"
      },
      "outputs": [
        {
          "name": "stdout",
          "output_type": "stream",
          "text": [
            "[1] 100\n"
          ]
        }
      ],
      "source": [
        "# imprime valor de la variable x\n",
        "print(x)"
      ]
    },
    {
      "cell_type": "code",
      "execution_count": null,
      "id": "ahead-nerve",
      "metadata": {
        "colab": {
          "base_uri": "https://localhost:8080/",
          "height": 34
        },
        "id": "ahead-nerve",
        "outputId": "5159b507-c4a9-4dc1-c713-96c45ba820a9"
      },
      "outputs": [
        {
          "output_type": "display_data",
          "data": {
            "text/html": [
              "2.70481382942153"
            ],
            "text/markdown": "2.70481382942153",
            "text/latex": "2.70481382942153",
            "text/plain": [
              "[1] 2.7"
            ]
          },
          "metadata": {}
        }
      ],
      "source": [
        "(1 + 1/x)^x"
      ]
    },
    {
      "cell_type": "code",
      "execution_count": null,
      "id": "golden-auction",
      "metadata": {
        "id": "golden-auction"
      },
      "outputs": [],
      "source": [
        "n <- 1\n",
        "n <- n + 1\n",
        "n <- n + 1"
      ]
    },
    {
      "cell_type": "code",
      "execution_count": null,
      "id": "bearing-mouse",
      "metadata": {
        "colab": {
          "base_uri": "https://localhost:8080/"
        },
        "id": "bearing-mouse",
        "outputId": "7a443a72-89a4-418d-dcc6-ff88a1ab0eea"
      },
      "outputs": [
        {
          "output_type": "stream",
          "name": "stdout",
          "text": [
            "[1] 3\n"
          ]
        }
      ],
      "source": [
        "print(n)"
      ]
    },
    {
      "cell_type": "markdown",
      "id": "empirical-rocket",
      "metadata": {
        "id": "empirical-rocket"
      },
      "source": [
        "# **Funciones**"
      ]
    },
    {
      "cell_type": "markdown",
      "id": "waiting-privacy",
      "metadata": {
        "id": "waiting-privacy"
      },
      "source": [
        "En matemáticas, una función toma uno o más argumentos (o entradas) y produce una o más salidas (o valores de retorno). Las funciones en R funcionan de forma manera análoga.\n",
        "\n",
        "Para llamar o invocar una función definida en R se escribe el nombre de la función seguido de los valores de sus argumentos encerrados entre paréntesis y separados por comas. Lo ilustramos con la función seq, que produce secuencias aritméticas:\n",
        "\n",
        "\n"
      ]
    },
    {
      "cell_type": "code",
      "execution_count": null,
      "id": "4e9779e4",
      "metadata": {
        "id": "4e9779e4",
        "outputId": "2b72b18d-d734-4717-ef78-49c4950e62d8"
      },
      "outputs": [
        {
          "data": {
            "text/html": [
              "<style>\n",
              ".list-inline {list-style: none; margin:0; padding: 0}\n",
              ".list-inline>li {display: inline-block}\n",
              ".list-inline>li:not(:last-child)::after {content: \"\\00b7\"; padding: 0 .5ex}\n",
              "</style>\n",
              "<ol class=list-inline><li>1</li><li>3</li><li>5</li><li>7</li><li>9</li></ol>\n"
            ],
            "text/latex": [
              "\\begin{enumerate*}\n",
              "\\item 1\n",
              "\\item 3\n",
              "\\item 5\n",
              "\\item 7\n",
              "\\item 9\n",
              "\\end{enumerate*}\n"
            ],
            "text/markdown": [
              "1. 1\n",
              "2. 3\n",
              "3. 5\n",
              "4. 7\n",
              "5. 9\n",
              "\n",
              "\n"
            ],
            "text/plain": [
              "[1] 1 3 5 7 9"
            ]
          },
          "metadata": {},
          "output_type": "display_data"
        }
      ],
      "source": [
        "seq(from = 1, to = 9, by = 2)"
      ]
    },
    {
      "cell_type": "markdown",
      "id": "aaac6948",
      "metadata": {
        "id": "aaac6948"
      },
      "source": [
        "Algunos argumentos son opcionales y tienen valores predefinidos por defecto, por ejemplo si omitimos by entonces R utiliza by = 1:"
      ]
    },
    {
      "cell_type": "code",
      "execution_count": null,
      "id": "a949e8c4",
      "metadata": {
        "id": "a949e8c4",
        "outputId": "6e97a38d-a9b9-40ad-fd34-b6cd68555597"
      },
      "outputs": [
        {
          "data": {
            "text/html": [
              "<style>\n",
              ".list-inline {list-style: none; margin:0; padding: 0}\n",
              ".list-inline>li {display: inline-block}\n",
              ".list-inline>li:not(:last-child)::after {content: \"\\00b7\"; padding: 0 .5ex}\n",
              "</style>\n",
              "<ol class=list-inline><li>1</li><li>2</li><li>3</li><li>4</li><li>5</li><li>6</li><li>7</li><li>8</li><li>9</li></ol>\n"
            ],
            "text/latex": [
              "\\begin{enumerate*}\n",
              "\\item 1\n",
              "\\item 2\n",
              "\\item 3\n",
              "\\item 4\n",
              "\\item 5\n",
              "\\item 6\n",
              "\\item 7\n",
              "\\item 8\n",
              "\\item 9\n",
              "\\end{enumerate*}\n"
            ],
            "text/markdown": [
              "1. 1\n",
              "2. 2\n",
              "3. 3\n",
              "4. 4\n",
              "5. 5\n",
              "6. 6\n",
              "7. 7\n",
              "8. 8\n",
              "9. 9\n",
              "\n",
              "\n"
            ],
            "text/plain": [
              "[1] 1 2 3 4 5 6 7 8 9"
            ]
          },
          "metadata": {},
          "output_type": "display_data"
        }
      ],
      "source": [
        "seq(from = 1, to = 9)"
      ]
    },
    {
      "cell_type": "markdown",
      "id": "d239aafd",
      "metadata": {
        "id": "d239aafd"
      },
      "source": [
        "Cada valor del argumento viene dado por una expresión, que puede ser una constante una variable, otra llamada a una función o una combinación algebraica de éstas."
      ]
    },
    {
      "cell_type": "code",
      "execution_count": null,
      "id": "80ed7c08",
      "metadata": {
        "id": "80ed7c08",
        "outputId": "c4f5a6ea-089f-432f-dc8f-d1bb745bcab2"
      },
      "outputs": [
        {
          "data": {
            "text/html": [
              "<style>\n",
              ".list-inline {list-style: none; margin:0; padding: 0}\n",
              ".list-inline>li {display: inline-block}\n",
              ".list-inline>li:not(:last-child)::after {content: \"\\00b7\"; padding: 0 .5ex}\n",
              "</style>\n",
              "<ol class=list-inline><li>1</li><li>4</li><li>7</li></ol>\n"
            ],
            "text/latex": [
              "\\begin{enumerate*}\n",
              "\\item 1\n",
              "\\item 4\n",
              "\\item 7\n",
              "\\end{enumerate*}\n"
            ],
            "text/markdown": [
              "1. 1\n",
              "2. 4\n",
              "3. 7\n",
              "\n",
              "\n"
            ],
            "text/plain": [
              "[1] 1 4 7"
            ]
          },
          "metadata": {},
          "output_type": "display_data"
        }
      ],
      "source": [
        "x <- 9\n",
        "seq(1, x, x/3)"
      ]
    },
    {
      "cell_type": "markdown",
      "id": "18c82c8e",
      "metadata": {
        "id": "18c82c8e"
      },
      "source": [
        "# **Vectores**"
      ]
    },
    {
      "cell_type": "markdown",
      "id": "a93dfdc8",
      "metadata": {
        "id": "a93dfdc8"
      },
      "source": [
        "Un vector es una lista indexada de variables. Puedes pensar en un vector como en un cajón de un archivador: el cajón tiene un nombre en el exterior y dentro de él hay archivos etiquetados secuencialmente 1, 2, 3, . . . desde el frente. Cada fichero es una simple variable cuyo nombre está formado por el nombre del vector y el número de la etiqueta/índice: el nombre del elemento i-ésimo del vector x es x[i].\n",
        "\n",
        "\n",
        "La función **c()** puede utilizarse para crear vectores."
      ]
    },
    {
      "cell_type": "markdown",
      "source": [
        "![Vectors-in-R.jpg](data:image/jpeg;base64,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)"
      ],
      "metadata": {
        "id": "66VbcXQUAYyF"
      },
      "id": "66VbcXQUAYyF"
    },
    {
      "cell_type": "code",
      "execution_count": null,
      "id": "fc9f825b",
      "metadata": {
        "id": "fc9f825b",
        "outputId": "b671cd9f-9854-4654-8bfc-377df5299d06"
      },
      "outputs": [
        {
          "name": "stdout",
          "output_type": "stream",
          "text": [
            " [1]  1  2  3  4  5  6  7  8  9 10\n",
            " [1] 11 12 13 14 15 16 17 18 19 20\n"
          ]
        }
      ],
      "source": [
        "x <- seq(1, 10, by = 1)\n",
        "y <- seq(11, 20, by = 1)\n",
        "print(x)\n",
        "print(y)"
      ]
    },
    {
      "cell_type": "markdown",
      "id": "6c0bae45",
      "metadata": {
        "id": "6c0bae45"
      },
      "source": [
        "La función length(x) da el número de elemntos de $x$."
      ]
    },
    {
      "cell_type": "code",
      "execution_count": null,
      "id": "07750d14",
      "metadata": {
        "id": "07750d14",
        "outputId": "b0435fd7-0288-49f9-8080-9b3bb7cdf197"
      },
      "outputs": [
        {
          "data": {
            "text/html": [
              "10"
            ],
            "text/latex": [
              "10"
            ],
            "text/markdown": [
              "10"
            ],
            "text/plain": [
              "[1] 10"
            ]
          },
          "metadata": {},
          "output_type": "display_data"
        },
        {
          "data": {
            "text/html": [
              "10"
            ],
            "text/latex": [
              "10"
            ],
            "text/markdown": [
              "10"
            ],
            "text/plain": [
              "[1] 10"
            ]
          },
          "metadata": {},
          "output_type": "display_data"
        }
      ],
      "source": [
        "length(x)\n",
        "length(y)"
      ]
    },
    {
      "cell_type": "markdown",
      "id": "27fb0ca1",
      "metadata": {
        "id": "27fb0ca1"
      },
      "source": [
        "Podemos concatenar vectores"
      ]
    },
    {
      "cell_type": "code",
      "execution_count": null,
      "id": "cda34a37",
      "metadata": {
        "id": "cda34a37",
        "outputId": "4bec8951-35de-4722-e42f-dd24cbbe37fd"
      },
      "outputs": [
        {
          "name": "stdout",
          "output_type": "stream",
          "text": [
            " [1]  1  2  3  4  5  6  7  8  9 10 11 12 13 14 15 16 17 18 19 20\n"
          ]
        }
      ],
      "source": [
        "z <- c(x, y)\n",
        "print(z)"
      ]
    },
    {
      "cell_type": "markdown",
      "id": "55312ff2",
      "metadata": {
        "id": "55312ff2"
      },
      "source": [
        "## Extracción de elementos de un vector "
      ]
    },
    {
      "cell_type": "markdown",
      "id": "1a7243e3",
      "metadata": {
        "id": "1a7243e3"
      },
      "source": [
        "Para referirse al elemento $i$ del vector $x$, utilizamos $x[i]$. Si $i$ es un vector de enteros positivos enteros, entonces $x[i]$ es el correspondiente subvector de $x$. Si los elementos de $i$ son negativos, se omiten los valores correspondientes."
      ]
    },
    {
      "cell_type": "code",
      "execution_count": null,
      "id": "45461046",
      "metadata": {
        "colab": {
          "base_uri": "https://localhost:8080/"
        },
        "id": "45461046",
        "outputId": "88af6383-7426-49fd-f305-f3b2abdb5af6"
      },
      "outputs": [
        {
          "output_type": "stream",
          "name": "stdout",
          "text": [
            " [1] 100 101 102 103 104 105 106 107 108 109 110\n"
          ]
        }
      ],
      "source": [
        "x <- 100:110\n",
        "print(x)"
      ]
    },
    {
      "cell_type": "markdown",
      "id": "590b2d8b",
      "metadata": {
        "id": "590b2d8b"
      },
      "source": [
        "Supongamos que deseamos extraer el elemento número 5."
      ]
    },
    {
      "cell_type": "code",
      "execution_count": null,
      "id": "86991ecf",
      "metadata": {
        "colab": {
          "base_uri": "https://localhost:8080/",
          "height": 34
        },
        "id": "86991ecf",
        "outputId": "943fc884-9384-4b14-92e9-ceea0191a1ba"
      },
      "outputs": [
        {
          "output_type": "display_data",
          "data": {
            "text/html": [
              "104"
            ],
            "text/markdown": "104",
            "text/latex": "104",
            "text/plain": [
              "[1] 104"
            ]
          },
          "metadata": {}
        }
      ],
      "source": [
        "x[5]"
      ]
    },
    {
      "cell_type": "markdown",
      "id": "5d43be8e",
      "metadata": {
        "id": "5d43be8e"
      },
      "source": [
        "Si queremos eliminar el elemento 5 procedemos de la siguiente forma"
      ]
    },
    {
      "cell_type": "code",
      "execution_count": null,
      "id": "91204eea",
      "metadata": {
        "colab": {
          "base_uri": "https://localhost:8080/",
          "height": 34
        },
        "id": "91204eea",
        "outputId": "0589d304-32a8-442d-e8d0-ccbb21afdf24"
      },
      "outputs": [
        {
          "output_type": "display_data",
          "data": {
            "text/html": [
              "<style>\n",
              ".list-inline {list-style: none; margin:0; padding: 0}\n",
              ".list-inline>li {display: inline-block}\n",
              ".list-inline>li:not(:last-child)::after {content: \"\\00b7\"; padding: 0 .5ex}\n",
              "</style>\n",
              "<ol class=list-inline><li>100</li><li>101</li><li>102</li><li>103</li><li>105</li><li>106</li><li>107</li><li>108</li><li>109</li><li>110</li></ol>\n"
            ],
            "text/markdown": "1. 100\n2. 101\n3. 102\n4. 103\n5. 105\n6. 106\n7. 107\n8. 108\n9. 109\n10. 110\n\n\n",
            "text/latex": "\\begin{enumerate*}\n\\item 100\n\\item 101\n\\item 102\n\\item 103\n\\item 105\n\\item 106\n\\item 107\n\\item 108\n\\item 109\n\\item 110\n\\end{enumerate*}\n",
            "text/plain": [
              " [1] 100 101 102 103 105 106 107 108 109 110"
            ]
          },
          "metadata": {}
        }
      ],
      "source": [
        "x[-5]"
      ]
    },
    {
      "cell_type": "markdown",
      "id": "2e1a24d1",
      "metadata": {
        "id": "2e1a24d1"
      },
      "source": [
        "Si queremos extraer un grupo de elementos del vector"
      ]
    },
    {
      "cell_type": "code",
      "execution_count": null,
      "id": "0e2afb5b",
      "metadata": {
        "colab": {
          "base_uri": "https://localhost:8080/",
          "height": 34
        },
        "id": "0e2afb5b",
        "outputId": "fddf9c5f-1b3c-43ec-80ab-2dc8cecd492a"
      },
      "outputs": [
        {
          "output_type": "display_data",
          "data": {
            "text/html": [
              "<style>\n",
              ".list-inline {list-style: none; margin:0; padding: 0}\n",
              ".list-inline>li {display: inline-block}\n",
              ".list-inline>li:not(:last-child)::after {content: \"\\00b7\"; padding: 0 .5ex}\n",
              "</style>\n",
              "<ol class=list-inline><li>101</li><li>102</li><li>103</li><li>104</li></ol>\n"
            ],
            "text/markdown": "1. 101\n2. 102\n3. 103\n4. 104\n\n\n",
            "text/latex": "\\begin{enumerate*}\n\\item 101\n\\item 102\n\\item 103\n\\item 104\n\\end{enumerate*}\n",
            "text/plain": [
              "[1] 101 102 103 104"
            ]
          },
          "metadata": {}
        }
      ],
      "source": [
        "i <- c(2, 3, 4, 5) # posición de elementos a extraer\n",
        "x[i]"
      ]
    },
    {
      "cell_type": "markdown",
      "id": "bb718d08",
      "metadata": {
        "id": "bb718d08"
      },
      "source": [
        "Si lo que deseamos es eliminarlos"
      ]
    },
    {
      "cell_type": "code",
      "execution_count": null,
      "id": "f451dc92",
      "metadata": {
        "colab": {
          "base_uri": "https://localhost:8080/",
          "height": 34
        },
        "id": "f451dc92",
        "outputId": "7dcc2d53-9832-4671-bcb9-e14bc6348293"
      },
      "outputs": [
        {
          "output_type": "display_data",
          "data": {
            "text/html": [
              "<style>\n",
              ".list-inline {list-style: none; margin:0; padding: 0}\n",
              ".list-inline>li {display: inline-block}\n",
              ".list-inline>li:not(:last-child)::after {content: \"\\00b7\"; padding: 0 .5ex}\n",
              "</style>\n",
              "<ol class=list-inline><li>100</li><li>105</li><li>106</li><li>107</li><li>108</li><li>109</li><li>110</li></ol>\n"
            ],
            "text/markdown": "1. 100\n2. 105\n3. 106\n4. 107\n5. 108\n6. 109\n7. 110\n\n\n",
            "text/latex": "\\begin{enumerate*}\n\\item 100\n\\item 105\n\\item 106\n\\item 107\n\\item 108\n\\item 109\n\\item 110\n\\end{enumerate*}\n",
            "text/plain": [
              "[1] 100 105 106 107 108 109 110"
            ]
          },
          "metadata": {}
        }
      ],
      "source": [
        "i <- c(-2, -3, -4, -5) # posición de elementos a eliminar\n",
        "x[i]"
      ]
    },
    {
      "cell_type": "markdown",
      "id": "4fe4b8e2",
      "metadata": {
        "id": "4fe4b8e2"
      },
      "source": [
        "## Operaciones con vectores"
      ]
    },
    {
      "cell_type": "markdown",
      "id": "37f946a6",
      "metadata": {
        "id": "37f946a6"
      },
      "source": [
        "Con  los vectores podemos realizar operaciones como:\n",
        "- $u$ $\\cdot$ $v$ \n",
        "- $u$ / $v$\n",
        "- $u$ + $v$\n",
        "- $u$ - $v$\n",
        "\n",
        "donde $u$ y $v$ son vectores.  "
      ]
    },
    {
      "cell_type": "markdown",
      "id": "6f709472",
      "metadata": {
        "id": "6f709472"
      },
      "source": [
        "Las operaciones algebraicas sobre vectores actúan sobre cada elemento por separado, es decir, por elementos."
      ]
    },
    {
      "cell_type": "code",
      "execution_count": null,
      "id": "af798a27",
      "metadata": {
        "id": "af798a27"
      },
      "outputs": [],
      "source": [
        "x <- c(1, 2, 3)\n",
        "y <- c(4, 5, 6)"
      ]
    },
    {
      "cell_type": "markdown",
      "id": "83e28178",
      "metadata": {
        "id": "83e28178"
      },
      "source": [
        "Multiplicación"
      ]
    },
    {
      "cell_type": "code",
      "execution_count": null,
      "id": "3cfda445",
      "metadata": {
        "id": "3cfda445",
        "outputId": "73cf6773-0477-44ef-cb0e-b57bb35b1160"
      },
      "outputs": [
        {
          "data": {
            "text/html": [
              "<style>\n",
              ".list-inline {list-style: none; margin:0; padding: 0}\n",
              ".list-inline>li {display: inline-block}\n",
              ".list-inline>li:not(:last-child)::after {content: \"\\00b7\"; padding: 0 .5ex}\n",
              "</style>\n",
              "<ol class=list-inline><li>4</li><li>10</li><li>18</li></ol>\n"
            ],
            "text/latex": [
              "\\begin{enumerate*}\n",
              "\\item 4\n",
              "\\item 10\n",
              "\\item 18\n",
              "\\end{enumerate*}\n"
            ],
            "text/markdown": [
              "1. 4\n",
              "2. 10\n",
              "3. 18\n",
              "\n",
              "\n"
            ],
            "text/plain": [
              "[1]  4 10 18"
            ]
          },
          "metadata": {},
          "output_type": "display_data"
        }
      ],
      "source": [
        "# la operación la realiza elemento a elemento\n",
        "x * y"
      ]
    },
    {
      "cell_type": "markdown",
      "id": "0d9bd4bb",
      "metadata": {
        "id": "0d9bd4bb"
      },
      "source": [
        "División\n"
      ]
    },
    {
      "cell_type": "code",
      "execution_count": null,
      "id": "9b1fa43d",
      "metadata": {
        "id": "9b1fa43d",
        "outputId": "460587a2-bd7a-49af-9c0c-b61763cb4e38"
      },
      "outputs": [
        {
          "data": {
            "text/html": [
              "<style>\n",
              ".list-inline {list-style: none; margin:0; padding: 0}\n",
              ".list-inline>li {display: inline-block}\n",
              ".list-inline>li:not(:last-child)::after {content: \"\\00b7\"; padding: 0 .5ex}\n",
              "</style>\n",
              "<ol class=list-inline><li>0.25</li><li>0.4</li><li>0.5</li></ol>\n"
            ],
            "text/latex": [
              "\\begin{enumerate*}\n",
              "\\item 0.25\n",
              "\\item 0.4\n",
              "\\item 0.5\n",
              "\\end{enumerate*}\n"
            ],
            "text/markdown": [
              "1. 0.25\n",
              "2. 0.4\n",
              "3. 0.5\n",
              "\n",
              "\n"
            ],
            "text/plain": [
              "[1] 0.25 0.40 0.50"
            ]
          },
          "metadata": {},
          "output_type": "display_data"
        }
      ],
      "source": [
        "# la operación la realiza elemento a elemento\n",
        "x / y"
      ]
    },
    {
      "cell_type": "markdown",
      "id": "4e30bae4",
      "metadata": {
        "id": "4e30bae4"
      },
      "source": [
        "Suma"
      ]
    },
    {
      "cell_type": "code",
      "execution_count": null,
      "id": "127ce094",
      "metadata": {
        "id": "127ce094",
        "outputId": "d249f063-4e42-4e4e-9a61-eed5956659ae"
      },
      "outputs": [
        {
          "data": {
            "text/html": [
              "<style>\n",
              ".list-inline {list-style: none; margin:0; padding: 0}\n",
              ".list-inline>li {display: inline-block}\n",
              ".list-inline>li:not(:last-child)::after {content: \"\\00b7\"; padding: 0 .5ex}\n",
              "</style>\n",
              "<ol class=list-inline><li>5</li><li>7</li><li>9</li></ol>\n"
            ],
            "text/latex": [
              "\\begin{enumerate*}\n",
              "\\item 5\n",
              "\\item 7\n",
              "\\item 9\n",
              "\\end{enumerate*}\n"
            ],
            "text/markdown": [
              "1. 5\n",
              "2. 7\n",
              "3. 9\n",
              "\n",
              "\n"
            ],
            "text/plain": [
              "[1] 5 7 9"
            ]
          },
          "metadata": {},
          "output_type": "display_data"
        }
      ],
      "source": [
        "# la operación la realiza elemento a elemento\n",
        "x + y"
      ]
    },
    {
      "cell_type": "markdown",
      "id": "c45e694c",
      "metadata": {
        "id": "c45e694c"
      },
      "source": [
        "> Cuando se aplica una expresión algebraica a dos vectores de longitud desigual, R repite automáticamente el vector más corto hasta que tenga la misma longitud que el vector más largo."
      ]
    },
    {
      "cell_type": "code",
      "execution_count": null,
      "id": "65d5f310",
      "metadata": {
        "id": "65d5f310",
        "outputId": "beb8bdbb-d612-445f-b93f-34a42f08f921"
      },
      "outputs": [
        {
          "data": {
            "text/html": [
              "<style>\n",
              ".list-inline {list-style: none; margin:0; padding: 0}\n",
              ".list-inline>li {display: inline-block}\n",
              ".list-inline>li:not(:last-child)::after {content: \"\\00b7\"; padding: 0 .5ex}\n",
              "</style>\n",
              "<ol class=list-inline><li>2</li><li>4</li><li>4</li><li>6</li></ol>\n"
            ],
            "text/latex": [
              "\\begin{enumerate*}\n",
              "\\item 2\n",
              "\\item 4\n",
              "\\item 4\n",
              "\\item 6\n",
              "\\end{enumerate*}\n"
            ],
            "text/markdown": [
              "1. 2\n",
              "2. 4\n",
              "3. 4\n",
              "4. 6\n",
              "\n",
              "\n"
            ],
            "text/plain": [
              "[1] 2 4 4 6"
            ]
          },
          "metadata": {},
          "output_type": "display_data"
        }
      ],
      "source": [
        "c(1, 2, 3, 4) + c(1, 2)"
      ]
    },
    {
      "cell_type": "markdown",
      "id": "81ec121a",
      "metadata": {
        "id": "81ec121a"
      },
      "source": [
        "R seguirá duplicando el vector más corto aunque no pueda igualar el vector más largo con un número entero de múltiplos, pero en este caso producirá un warning."
      ]
    },
    {
      "cell_type": "code",
      "execution_count": null,
      "id": "6951ff68",
      "metadata": {
        "id": "6951ff68",
        "outputId": "c129dd72-6f6b-465d-b0f6-d3a124a41a68"
      },
      "outputs": [
        {
          "name": "stderr",
          "output_type": "stream",
          "text": [
            "Warning message in c(1, 2, 3) + c(1, 2):\n",
            "\"longitud de objeto mayor no es múltiplo de la longitud de uno menor\"\n"
          ]
        },
        {
          "data": {
            "text/html": [
              "<style>\n",
              ".list-inline {list-style: none; margin:0; padding: 0}\n",
              ".list-inline>li {display: inline-block}\n",
              ".list-inline>li:not(:last-child)::after {content: \"\\00b7\"; padding: 0 .5ex}\n",
              "</style>\n",
              "<ol class=list-inline><li>2</li><li>4</li><li>4</li></ol>\n"
            ],
            "text/latex": [
              "\\begin{enumerate*}\n",
              "\\item 2\n",
              "\\item 4\n",
              "\\item 4\n",
              "\\end{enumerate*}\n"
            ],
            "text/markdown": [
              "1. 2\n",
              "2. 4\n",
              "3. 4\n",
              "\n",
              "\n"
            ],
            "text/plain": [
              "[1] 2 4 4"
            ]
          },
          "metadata": {},
          "output_type": "display_data"
        }
      ],
      "source": [
        "c(1,2,3) + c(1,2)"
      ]
    },
    {
      "cell_type": "markdown",
      "id": "711b144a",
      "metadata": {
        "id": "711b144a"
      },
      "source": [
        "## Funciones con vectores"
      ]
    },
    {
      "cell_type": "markdown",
      "id": "1ea7241c",
      "metadata": {
        "id": "1ea7241c"
      },
      "source": [
        "Si consideramos $x$ un vector númerico, entonces, podemos emplear las siguientes funciones\n",
        "- $sum(x)$ : suma los elementos del vector $x$.\n",
        "- $prod(x)$ : realiza el producto de los elementos del vector.\n",
        "- $max(x)$ : regresa el máximo del vector.\n",
        "- $min(x)$ : regresa el mínimo del vector.\n",
        "- $sqrt(x)$ : calcula la raíz cuadrada de los elementos del vector.\n",
        "- $sort(x)$ : ordena los elementos del vector.\n",
        "- $mean(x)$ : calcula la media de los elementos del vector.\n",
        "- $var(x)$ : calcula la varianza."
      ]
    },
    {
      "cell_type": "code",
      "execution_count": null,
      "id": "faf907ce",
      "metadata": {
        "id": "faf907ce"
      },
      "outputs": [],
      "source": [
        "# definimos un vector\n",
        "x <- c(6, 5, 4, 3, 2, 1) "
      ]
    },
    {
      "cell_type": "code",
      "execution_count": null,
      "id": "4a44d85d",
      "metadata": {
        "colab": {
          "base_uri": "https://localhost:8080/",
          "height": 34
        },
        "id": "4a44d85d",
        "outputId": "c78119c6-e5c2-4739-982e-8d41d71f9146"
      },
      "outputs": [
        {
          "output_type": "display_data",
          "data": {
            "text/html": [
              "3.5"
            ],
            "text/markdown": "3.5",
            "text/latex": "3.5",
            "text/plain": [
              "[1] 3.5"
            ]
          },
          "metadata": {}
        }
      ],
      "source": [
        "# calculamos la media\n",
        "mean(x)"
      ]
    },
    {
      "cell_type": "code",
      "execution_count": null,
      "id": "290fc2ca",
      "metadata": {
        "colab": {
          "base_uri": "https://localhost:8080/",
          "height": 34
        },
        "id": "290fc2ca",
        "outputId": "ea982a32-d2d6-4d1f-ec1e-af4af28aa7fc"
      },
      "outputs": [
        {
          "output_type": "display_data",
          "data": {
            "text/html": [
              "<style>\n",
              ".list-inline {list-style: none; margin:0; padding: 0}\n",
              ".list-inline>li {display: inline-block}\n",
              ".list-inline>li:not(:last-child)::after {content: \"\\00b7\"; padding: 0 .5ex}\n",
              "</style>\n",
              "<ol class=list-inline><li>6</li><li>5</li><li>4</li><li>3</li><li>2</li><li>1</li></ol>\n"
            ],
            "text/markdown": "1. 6\n2. 5\n3. 4\n4. 3\n5. 2\n6. 1\n\n\n",
            "text/latex": "\\begin{enumerate*}\n\\item 6\n\\item 5\n\\item 4\n\\item 3\n\\item 2\n\\item 1\n\\end{enumerate*}\n",
            "text/plain": [
              "[1] 6 5 4 3 2 1"
            ]
          },
          "metadata": {}
        }
      ],
      "source": [
        "# se ordena el vector de forma ascendente\n",
        "sort(x, decreasing=TRUE)"
      ]
    },
    {
      "cell_type": "code",
      "source": [
        ""
      ],
      "metadata": {
        "id": "Gr-qB44OX8uq"
      },
      "id": "Gr-qB44OX8uq",
      "execution_count": null,
      "outputs": []
    },
    {
      "cell_type": "markdown",
      "id": "f41d652a",
      "metadata": {
        "id": "f41d652a"
      },
      "source": [
        "## **Datos faltantes**"
      ]
    },
    {
      "cell_type": "markdown",
      "id": "57d7bc9f",
      "metadata": {
        "id": "57d7bc9f"
      },
      "source": [
        "En los experimentos reales es frecuente que, por una u otra razón, falten ciertas observaciones. Dependiendo del análisis que se realice los datos que faltan pueden ser ignorados o imputados. R representa las observaciones que faltan mediante el valor de datos **NA**. Pueden ser mezclados con todos los demás tipos de datos. Lo más fácil es pensar en los valores **NA** como el lugar de los datos que deberían estar ahí, pero que, por alguna razón, no lo están. Podemos detectar los valores que faltan utilizando **is.na**.\n",
        "\n"
      ]
    },
    {
      "cell_type": "code",
      "execution_count": null,
      "id": "3a26266b",
      "metadata": {
        "id": "3a26266b",
        "outputId": "c27d39fe-64cb-4385-ecc3-b736071e36a4"
      },
      "outputs": [
        {
          "data": {
            "text/html": [
              "TRUE"
            ],
            "text/latex": [
              "TRUE"
            ],
            "text/markdown": [
              "TRUE"
            ],
            "text/plain": [
              "[1] TRUE"
            ]
          },
          "metadata": {},
          "output_type": "display_data"
        }
      ],
      "source": [
        "a <- NA\n",
        "is.na(a)"
      ]
    },
    {
      "cell_type": "code",
      "execution_count": null,
      "id": "98c8f9e3",
      "metadata": {
        "id": "98c8f9e3",
        "outputId": "43b73d10-d21f-4ecf-8c30-c31693224bcb"
      },
      "outputs": [
        {
          "data": {
            "text/html": [
              "<style>\n",
              ".list-inline {list-style: none; margin:0; padding: 0}\n",
              ".list-inline>li {display: inline-block}\n",
              ".list-inline>li:not(:last-child)::after {content: \"\\00b7\"; padding: 0 .5ex}\n",
              "</style>\n",
              "<ol class=list-inline><li>FALSE</li><li>TRUE</li><li>FALSE</li></ol>\n"
            ],
            "text/latex": [
              "\\begin{enumerate*}\n",
              "\\item FALSE\n",
              "\\item TRUE\n",
              "\\item FALSE\n",
              "\\end{enumerate*}\n"
            ],
            "text/markdown": [
              "1. FALSE\n",
              "2. TRUE\n",
              "3. FALSE\n",
              "\n",
              "\n"
            ],
            "text/plain": [
              "[1] FALSE  TRUE FALSE"
            ]
          },
          "metadata": {},
          "output_type": "display_data"
        }
      ],
      "source": [
        "a <- c(11,NA,13)\n",
        "is.na(a)"
      ]
    },
    {
      "cell_type": "code",
      "execution_count": null,
      "id": "5c34fc37",
      "metadata": {
        "id": "5c34fc37",
        "outputId": "2c663ce5-a2a0-4d6d-edaf-ae774deaac06"
      },
      "outputs": [
        {
          "data": {
            "text/html": [
              "&lt;NA&gt;"
            ],
            "text/latex": [
              "<NA>"
            ],
            "text/markdown": [
              "&lt;NA&gt;"
            ],
            "text/plain": [
              "[1] NA"
            ]
          },
          "metadata": {},
          "output_type": "display_data"
        }
      ],
      "source": [
        "mean(a)"
      ]
    },
    {
      "cell_type": "code",
      "execution_count": null,
      "id": "12f3a8dd",
      "metadata": {
        "id": "12f3a8dd",
        "outputId": "422ddd24-289d-403c-e845-fdb232952539"
      },
      "outputs": [
        {
          "data": {
            "text/html": [
              "12"
            ],
            "text/latex": [
              "12"
            ],
            "text/markdown": [
              "12"
            ],
            "text/plain": [
              "[1] 12"
            ]
          },
          "metadata": {},
          "output_type": "display_data"
        }
      ],
      "source": [
        "mean(a, na.rm = TRUE)"
      ]
    },
    {
      "cell_type": "markdown",
      "id": "cccf57cf",
      "metadata": {
        "id": "cccf57cf"
      },
      "source": [
        "También mencionamos el objeto nulo, llamado **NULL**, que es devuelto por algunas funciones y expresiones. Tenga en cuenta que **NA** y **NULL** no son equivalentes. **NA** es un marcador de posición para algo que existe pero que falta. **NULL** representa algo que nunca ha existido.\n",
        "\n",
        "\n",
        "La diferencia entre las dos es que un dato **NULL** aparece sólo cuando R intenta recuperar un dato y no encuentra nada, mientras que **NA** es usado para representar explícitamente datos perdidos, omitidos o que por alguna razón son faltantes."
      ]
    },
    {
      "cell_type": "code",
      "source": [
        "x <- c(90, 80, 75, 95, 100, 95, 80, 90, NULL)"
      ],
      "metadata": {
        "id": "ymjo2dI4YLn-"
      },
      "id": "ymjo2dI4YLn-",
      "execution_count": 8,
      "outputs": []
    },
    {
      "cell_type": "code",
      "source": [
        "length(x)"
      ],
      "metadata": {
        "colab": {
          "base_uri": "https://localhost:8080/",
          "height": 34
        },
        "id": "Z5N3u10GYgV8",
        "outputId": "c39fd3f5-f740-4a43-fb43-be385f0c9b5c"
      },
      "id": "Z5N3u10GYgV8",
      "execution_count": 9,
      "outputs": [
        {
          "output_type": "display_data",
          "data": {
            "text/html": [
              "8"
            ],
            "text/markdown": "8",
            "text/latex": "8",
            "text/plain": [
              "[1] 8"
            ]
          },
          "metadata": {}
        }
      ]
    },
    {
      "cell_type": "code",
      "source": [
        "mean(x)"
      ],
      "metadata": {
        "colab": {
          "base_uri": "https://localhost:8080/",
          "height": 34
        },
        "id": "yViG0quzYXRw",
        "outputId": "b08940e4-07d1-45b8-9e71-3ab12b82f60a"
      },
      "id": "yViG0quzYXRw",
      "execution_count": 10,
      "outputs": [
        {
          "output_type": "display_data",
          "data": {
            "text/html": [
              "88.125"
            ],
            "text/markdown": "88.125",
            "text/latex": "88.125",
            "text/plain": [
              "[1] 88.125"
            ]
          },
          "metadata": {}
        }
      ]
    },
    {
      "cell_type": "code",
      "source": [
        "x <- c(90, 80, 75, 95, 100, 95, 80, 90, NA)"
      ],
      "metadata": {
        "id": "p6H0zfpAZGSf"
      },
      "id": "p6H0zfpAZGSf",
      "execution_count": 11,
      "outputs": []
    },
    {
      "cell_type": "code",
      "source": [
        "length(x)"
      ],
      "metadata": {
        "colab": {
          "base_uri": "https://localhost:8080/",
          "height": 34
        },
        "id": "dhwIS6n7ZJjB",
        "outputId": "e2e94465-c9a3-41b1-de05-35df29ddf5b8"
      },
      "id": "dhwIS6n7ZJjB",
      "execution_count": 12,
      "outputs": [
        {
          "output_type": "display_data",
          "data": {
            "text/html": [
              "9"
            ],
            "text/markdown": "9",
            "text/latex": "9",
            "text/plain": [
              "[1] 9"
            ]
          },
          "metadata": {}
        }
      ]
    },
    {
      "cell_type": "code",
      "source": [
        "mean(x)"
      ],
      "metadata": {
        "colab": {
          "base_uri": "https://localhost:8080/",
          "height": 34
        },
        "id": "b6SqjuYAZP2s",
        "outputId": "b57cfcce-66a9-4cb4-8768-f9cd0312241f"
      },
      "id": "b6SqjuYAZP2s",
      "execution_count": 13,
      "outputs": [
        {
          "output_type": "display_data",
          "data": {
            "text/html": [
              "&lt;NA&gt;"
            ],
            "text/markdown": "&lt;NA&gt;",
            "text/latex": "<NA>",
            "text/plain": [
              "[1] NA"
            ]
          },
          "metadata": {}
        }
      ]
    },
    {
      "cell_type": "markdown",
      "id": "e3858a2b",
      "metadata": {
        "id": "e3858a2b"
      },
      "source": [
        "# **Expresiones lógicas**"
      ]
    },
    {
      "cell_type": "markdown",
      "id": "7961a78d",
      "metadata": {
        "id": "7961a78d"
      },
      "source": [
        "Una expresión lógica se forma utilizando los operadores de comparación:\n",
        "- $<$, \n",
        "- $>$, \n",
        "- $<=$, \n",
        "- $>=$, \n",
        "- $==$ (igual a) y \n",
        "- $!=$ (no igual a)\n",
        "\n",
        "los operadores lógicos son :\n",
        "\n",
        "| Símbolo  | Uso        |    Significado        | Ejemplo           |  Resultado |\n",
        "| --- | --- | --- | --- | --- |\n",
        "|  \\& (y)  |  x \\& y    |  x Y y son verdadero  |  TRUE \\& FALSE    |  FALSE   |\n",
        "| \\| (o)    |  x \\| y  |  x Ó y es verdadero   |  TRUE \\| FALSE     |  TRUE    |\n",
        "|  \\! (no)  |  \\!x       |  x no es verdadero    | \\!TRUE               |  FALSE   |\n",
        "\n",
        "\n",
        "Los operadores | y $\\&$ siguen estas reglas:\n",
        "\n",
        "- | devuelve TRUE si alguno de los datos es TRUE\n",
        "- & solo devuelve TRUE si ambos datos es TRUE\n",
        "- | solo devuelve FALSE si ambos datos son FALSE\n",
        "- & devuelve FALSE si alguno de los datos es FALSE\n",
        "\n",
        "El orden de las operaciones puede controlarse mediante paréntesis ().\n",
        "\n",
        "El valor de una expresión lógica es TRUE o FALSE. Los enteros $1$ y $0$ también pueden utilizarse para representar TRUE y FALSE, respectivamente."
      ]
    },
    {
      "cell_type": "code",
      "source": [
        "x <- c(FALSE, FALSE, TRUE, TRUE)\n",
        "y <- c(FALSE, TRUE, FALSE, TRUE)"
      ],
      "metadata": {
        "id": "Mg6hXHzjbKCP"
      },
      "id": "Mg6hXHzjbKCP",
      "execution_count": 14,
      "outputs": []
    },
    {
      "cell_type": "code",
      "source": [
        "x | y"
      ],
      "metadata": {
        "colab": {
          "base_uri": "https://localhost:8080/",
          "height": 34
        },
        "id": "YrKr9keAbwlr",
        "outputId": "2e93a863-637c-497b-d54e-4e270dec6064"
      },
      "id": "YrKr9keAbwlr",
      "execution_count": 15,
      "outputs": [
        {
          "output_type": "display_data",
          "data": {
            "text/html": [
              "<style>\n",
              ".list-inline {list-style: none; margin:0; padding: 0}\n",
              ".list-inline>li {display: inline-block}\n",
              ".list-inline>li:not(:last-child)::after {content: \"\\00b7\"; padding: 0 .5ex}\n",
              "</style>\n",
              "<ol class=list-inline><li>FALSE</li><li>TRUE</li><li>TRUE</li><li>TRUE</li></ol>\n"
            ],
            "text/markdown": "1. FALSE\n2. TRUE\n3. TRUE\n4. TRUE\n\n\n",
            "text/latex": "\\begin{enumerate*}\n\\item FALSE\n\\item TRUE\n\\item TRUE\n\\item TRUE\n\\end{enumerate*}\n",
            "text/plain": [
              "[1] FALSE  TRUE  TRUE  TRUE"
            ]
          },
          "metadata": {}
        }
      ]
    },
    {
      "cell_type": "code",
      "execution_count": null,
      "id": "abf283f1",
      "metadata": {
        "id": "abf283f1"
      },
      "outputs": [],
      "source": [
        "x <- c(0, 0, 1, 1) \n",
        "y <- c(0, 1, 0, 1)"
      ]
    },
    {
      "cell_type": "code",
      "execution_count": null,
      "id": "002549e5",
      "metadata": {
        "id": "002549e5",
        "outputId": "bcf1cdc4-784f-4a1d-936d-7c7ce60da19a"
      },
      "outputs": [
        {
          "data": {
            "text/html": [
              "<style>\n",
              ".list-inline {list-style: none; margin:0; padding: 0}\n",
              ".list-inline>li {display: inline-block}\n",
              ".list-inline>li:not(:last-child)::after {content: \"\\00b7\"; padding: 0 .5ex}\n",
              "</style>\n",
              "<ol class=list-inline><li>FALSE</li><li>TRUE</li><li>TRUE</li><li>TRUE</li></ol>\n"
            ],
            "text/latex": [
              "\\begin{enumerate*}\n",
              "\\item FALSE\n",
              "\\item TRUE\n",
              "\\item TRUE\n",
              "\\item TRUE\n",
              "\\end{enumerate*}\n"
            ],
            "text/markdown": [
              "1. FALSE\n",
              "2. TRUE\n",
              "3. TRUE\n",
              "4. TRUE\n",
              "\n",
              "\n"
            ],
            "text/plain": [
              "[1] FALSE  TRUE  TRUE  TRUE"
            ]
          },
          "metadata": {},
          "output_type": "display_data"
        }
      ],
      "source": [
        "x | y"
      ]
    },
    {
      "cell_type": "markdown",
      "id": "932d0c01",
      "metadata": {
        "id": "932d0c01"
      },
      "source": [
        "> Tenga en cuenta que A|B es TRUE si A o B o ambos son TRUE"
      ]
    },
    {
      "cell_type": "markdown",
      "source": [
        "Por ejemplo, la negación FALSE Y FALSE dará como resultado TRUE"
      ],
      "metadata": {
        "id": "t05KErYtdPBK"
      },
      "id": "t05KErYtdPBK"
    },
    {
      "cell_type": "markdown",
      "source": [
        "¿Qué resultado nos devuelve?\n",
        "- !(FALSE | FALSE)\n",
        "- !(TRUE | FALSE)\n",
        "- !(FALSE | TRUE)\n",
        "- !(TRUE | TRUE)"
      ],
      "metadata": {
        "id": "2KPrhnAxd2ej"
      },
      "id": "2KPrhnAxd2ej"
    },
    {
      "cell_type": "code",
      "source": [
        "!(TRUE | FALSE)"
      ],
      "metadata": {
        "id": "Sqe7i4aWdrC5"
      },
      "id": "Sqe7i4aWdrC5",
      "execution_count": null,
      "outputs": []
    },
    {
      "cell_type": "code",
      "source": [
        "!(FALSE | TRUE)"
      ],
      "metadata": {
        "id": "alSK_f69dyoQ"
      },
      "id": "alSK_f69dyoQ",
      "execution_count": null,
      "outputs": []
    },
    {
      "cell_type": "code",
      "source": [
        "!(TRUE | TRUE)"
      ],
      "metadata": {
        "id": "Mv0ObkJPeM1L"
      },
      "id": "Mv0ObkJPeM1L",
      "execution_count": null,
      "outputs": []
    },
    {
      "cell_type": "markdown",
      "source": [
        "¿Qué resultado nos devuelve?\n",
        "- !(FALSE & FALSE)\n",
        "- !(TRUE & FALSE)\n",
        "- !(FALSE & TRUE)\n",
        "- !(TRUE & TRUE)"
      ],
      "metadata": {
        "id": "9vnpaD9HeaCV"
      },
      "id": "9vnpaD9HeaCV"
    },
    {
      "cell_type": "code",
      "source": [
        "# respuesta\n"
      ],
      "metadata": {
        "id": "Bhv9T5CqeZRf"
      },
      "id": "Bhv9T5CqeZRf",
      "execution_count": null,
      "outputs": []
    },
    {
      "cell_type": "markdown",
      "id": "6de0ff8f",
      "metadata": {
        "id": "6de0ff8f"
      },
      "source": [
        "## Subconjuntos de un vector"
      ]
    },
    {
      "cell_type": "markdown",
      "id": "b362b003",
      "metadata": {
        "id": "b362b003"
      },
      "source": [
        "Una forma de extraer un subvector es proporcionar un subconjunto como un vector de valores TRUE/FALSE, de la misma longitud que x."
      ]
    },
    {
      "cell_type": "code",
      "execution_count": 19,
      "id": "b7b54cde",
      "metadata": {
        "id": "b7b54cde",
        "outputId": "dd043c7f-a077-4e53-d2f5-df9e2ab074cd",
        "colab": {
          "base_uri": "https://localhost:8080/"
        }
      },
      "outputs": [
        {
          "output_type": "stream",
          "name": "stdout",
          "text": [
            " [1]  1  2  3  4  5  6  7  8  9 10 11 12 13 14 15 16 17 18 19 20\n"
          ]
        }
      ],
      "source": [
        "x <- 1:20\n",
        "print(x)"
      ]
    },
    {
      "cell_type": "code",
      "source": [
        "x%%4 "
      ],
      "metadata": {
        "colab": {
          "base_uri": "https://localhost:8080/",
          "height": 34
        },
        "id": "lavrP7qRcOaS",
        "outputId": "eef7f04a-c589-47d5-90e7-1c91d1c81d29"
      },
      "id": "lavrP7qRcOaS",
      "execution_count": 18,
      "outputs": [
        {
          "output_type": "display_data",
          "data": {
            "text/html": [
              "<style>\n",
              ".list-inline {list-style: none; margin:0; padding: 0}\n",
              ".list-inline>li {display: inline-block}\n",
              ".list-inline>li:not(:last-child)::after {content: \"\\00b7\"; padding: 0 .5ex}\n",
              "</style>\n",
              "<ol class=list-inline><li>1</li><li>2</li><li>3</li><li>0</li><li>1</li><li>2</li><li>3</li><li>0</li><li>1</li><li>2</li><li>3</li><li>0</li><li>1</li><li>2</li><li>3</li><li>0</li><li>1</li><li>2</li><li>3</li><li>0</li></ol>\n"
            ],
            "text/markdown": "1. 1\n2. 2\n3. 3\n4. 0\n5. 1\n6. 2\n7. 3\n8. 0\n9. 1\n10. 2\n11. 3\n12. 0\n13. 1\n14. 2\n15. 3\n16. 0\n17. 1\n18. 2\n19. 3\n20. 0\n\n\n",
            "text/latex": "\\begin{enumerate*}\n\\item 1\n\\item 2\n\\item 3\n\\item 0\n\\item 1\n\\item 2\n\\item 3\n\\item 0\n\\item 1\n\\item 2\n\\item 3\n\\item 0\n\\item 1\n\\item 2\n\\item 3\n\\item 0\n\\item 1\n\\item 2\n\\item 3\n\\item 0\n\\end{enumerate*}\n",
            "text/plain": [
              " [1] 1 2 3 0 1 2 3 0 1 2 3 0 1 2 3 0 1 2 3 0"
            ]
          },
          "metadata": {}
        }
      ]
    },
    {
      "cell_type": "code",
      "execution_count": null,
      "id": "0d747f6e",
      "metadata": {
        "id": "0d747f6e",
        "outputId": "ebba2be8-01ff-4e8c-a596-faeeebb5ab9f"
      },
      "outputs": [
        {
          "data": {
            "text/html": [
              "<style>\n",
              ".list-inline {list-style: none; margin:0; padding: 0}\n",
              ".list-inline>li {display: inline-block}\n",
              ".list-inline>li:not(:last-child)::after {content: \"\\00b7\"; padding: 0 .5ex}\n",
              "</style>\n",
              "<ol class=list-inline><li>4</li><li>8</li><li>12</li><li>16</li><li>20</li></ol>\n"
            ],
            "text/latex": [
              "\\begin{enumerate*}\n",
              "\\item 4\n",
              "\\item 8\n",
              "\\item 12\n",
              "\\item 16\n",
              "\\item 20\n",
              "\\end{enumerate*}\n"
            ],
            "text/markdown": [
              "1. 4\n",
              "2. 8\n",
              "3. 12\n",
              "4. 16\n",
              "5. 20\n",
              "\n",
              "\n"
            ],
            "text/plain": [
              "[1]  4  8 12 16 20"
            ]
          },
          "metadata": {},
          "output_type": "display_data"
        }
      ],
      "source": [
        "x[x%%4 == 0]"
      ]
    },
    {
      "cell_type": "code",
      "execution_count": null,
      "id": "d5f80355",
      "metadata": {
        "id": "d5f80355",
        "outputId": "4e216348-0ec2-41b5-ab19-bcca46e88eca"
      },
      "outputs": [
        {
          "data": {
            "text/html": [
              "<style>\n",
              ".list-inline {list-style: none; margin:0; padding: 0}\n",
              ".list-inline>li {display: inline-block}\n",
              ".list-inline>li:not(:last-child)::after {content: \"\\00b7\"; padding: 0 .5ex}\n",
              "</style>\n",
              "<ol class=list-inline><li>FALSE</li><li>&lt;NA&gt;</li><li>TRUE</li><li>TRUE</li></ol>\n"
            ],
            "text/latex": [
              "\\begin{enumerate*}\n",
              "\\item FALSE\n",
              "\\item <NA>\n",
              "\\item TRUE\n",
              "\\item TRUE\n",
              "\\end{enumerate*}\n"
            ],
            "text/markdown": [
              "1. FALSE\n",
              "2. &lt;NA&gt;\n",
              "3. TRUE\n",
              "4. TRUE\n",
              "\n",
              "\n"
            ],
            "text/plain": [
              "[1] FALSE    NA  TRUE  TRUE"
            ]
          },
          "metadata": {},
          "output_type": "display_data"
        }
      ],
      "source": [
        "# con valores faltantes\n",
        "x <- c(1, NA, 3, 4)\n",
        "x > 2"
      ]
    },
    {
      "cell_type": "code",
      "execution_count": null,
      "id": "31d8c2c7",
      "metadata": {
        "id": "31d8c2c7",
        "outputId": "9ebdc6b4-7ad4-4401-e347-22cf49ae7d12"
      },
      "outputs": [
        {
          "data": {
            "text/html": [
              "<style>\n",
              ".list-inline {list-style: none; margin:0; padding: 0}\n",
              ".list-inline>li {display: inline-block}\n",
              ".list-inline>li:not(:last-child)::after {content: \"\\00b7\"; padding: 0 .5ex}\n",
              "</style>\n",
              "<ol class=list-inline><li>&lt;NA&gt;</li><li>3</li><li>4</li></ol>\n"
            ],
            "text/latex": [
              "\\begin{enumerate*}\n",
              "\\item <NA>\n",
              "\\item 3\n",
              "\\item 4\n",
              "\\end{enumerate*}\n"
            ],
            "text/markdown": [
              "1. &lt;NA&gt;\n",
              "2. 3\n",
              "3. 4\n",
              "\n",
              "\n"
            ],
            "text/plain": [
              "[1] NA  3  4"
            ]
          },
          "metadata": {},
          "output_type": "display_data"
        }
      ],
      "source": [
        "x[x > 2]"
      ]
    },
    {
      "cell_type": "markdown",
      "id": "88153bf6",
      "metadata": {
        "id": "88153bf6"
      },
      "source": [
        "Si desea conocer las posiciones de índice de los elementos TRUE de un vector lógico x, utilice which(x)."
      ]
    },
    {
      "cell_type": "code",
      "execution_count": null,
      "id": "50257dd3",
      "metadata": {
        "id": "50257dd3"
      },
      "outputs": [],
      "source": [
        "x <- c(1, 1, 2, 3, 5, 8, 13)"
      ]
    },
    {
      "cell_type": "code",
      "execution_count": null,
      "id": "4927eb6b",
      "metadata": {
        "colab": {
          "base_uri": "https://localhost:8080/",
          "height": 34
        },
        "id": "4927eb6b",
        "outputId": "61fdbd08-88fe-4ccb-d857-a3ddd489cafe"
      },
      "outputs": [
        {
          "output_type": "display_data",
          "data": {
            "text/html": [
              "<style>\n",
              ".list-inline {list-style: none; margin:0; padding: 0}\n",
              ".list-inline>li {display: inline-block}\n",
              ".list-inline>li:not(:last-child)::after {content: \"\\00b7\"; padding: 0 .5ex}\n",
              "</style>\n",
              "<ol class=list-inline><li>3</li><li>6</li></ol>\n"
            ],
            "text/markdown": "1. 3\n2. 6\n\n\n",
            "text/latex": "\\begin{enumerate*}\n\\item 3\n\\item 6\n\\end{enumerate*}\n",
            "text/plain": [
              "[1] 3 6"
            ]
          },
          "metadata": {}
        }
      ],
      "source": [
        "which(x%%2 == 0)"
      ]
    },
    {
      "cell_type": "markdown",
      "id": "5fbeafc7",
      "metadata": {
        "id": "5fbeafc7"
      },
      "source": [
        "## Error de redondeo\n",
        "\n",
        "Sólo los números enteros y las fracciones cuyo denominador es una potencia de 2 pueden representarse exactamente con la representación en coma flotante que se utiliza para almacenar números en los ordenadores digitales. Todos los demás números están sujetos a un error de redondeo. Esta necesaria limitación ha causado muchos disgustos."
      ]
    },
    {
      "cell_type": "code",
      "execution_count": null,
      "id": "61747d24",
      "metadata": {
        "id": "61747d24",
        "outputId": "d672fc18-e012-48c8-a050-7a28a760769c"
      },
      "outputs": [
        {
          "data": {
            "text/html": [
              "TRUE"
            ],
            "text/latex": [
              "TRUE"
            ],
            "text/markdown": [
              "TRUE"
            ],
            "text/plain": [
              "[1] TRUE"
            ]
          },
          "metadata": {},
          "output_type": "display_data"
        }
      ],
      "source": [
        "2 * 2 == 4"
      ]
    },
    {
      "cell_type": "code",
      "execution_count": null,
      "id": "0cb8fd3d",
      "metadata": {
        "id": "0cb8fd3d",
        "outputId": "62920878-c136-4ef8-db50-b8c1db872b38"
      },
      "outputs": [
        {
          "data": {
            "text/html": [
              "FALSE"
            ],
            "text/latex": [
              "FALSE"
            ],
            "text/markdown": [
              "FALSE"
            ],
            "text/plain": [
              "[1] FALSE"
            ]
          },
          "metadata": {},
          "output_type": "display_data"
        }
      ],
      "source": [
        "sqrt(2) * sqrt(2) == 2"
      ]
    },
    {
      "cell_type": "markdown",
      "id": "ccdd6fe1",
      "metadata": {
        "id": "ccdd6fe1"
      },
      "source": [
        "El problema aquí es que sqrt(2) tiene error de redondeo, que se magnifica cuando lo elevamos al cuadrado. La solución es utilizar la función $all.equal(x, y)$ que devuelve TRUE si la diferencia entre $x$ y $y$ es menor que alguna tolerancia establecida tolerancia, basada en el nivel de precisión operacional de R."
      ]
    },
    {
      "cell_type": "code",
      "execution_count": null,
      "id": "9770ab70",
      "metadata": {
        "id": "9770ab70",
        "outputId": "878ebd7b-57a5-46b7-abc8-3d87fcb23f19"
      },
      "outputs": [
        {
          "data": {
            "text/html": [
              "TRUE"
            ],
            "text/latex": [
              "TRUE"
            ],
            "text/markdown": [
              "TRUE"
            ],
            "text/plain": [
              "[1] TRUE"
            ]
          },
          "metadata": {},
          "output_type": "display_data"
        }
      ],
      "source": [
        "all.equal(sqrt(2) * sqrt(2), 2)"
      ]
    },
    {
      "cell_type": "markdown",
      "id": "9e6fd755",
      "metadata": {
        "id": "9e6fd755"
      },
      "source": [
        "## **Operadores lógicos secuenciales && y ||**\n",
        "\n",
        "Los operadores lógicos && y || son versiones de & y | evaluadas secuencialmente, respectivamente.\n",
        "\n",
        "Supongamos que $x$ y $y$ son expresiones lógicas. Para evaluar $x$ & $y$, R evalúa primero $x$ y $y$, luego devuelve TRUE si $x$ y $y$ son ambos TRUE, FALSE en caso contrario. Para evaluar $x$ && $y$, R evalúa primero $x$. Si $x$ es FALSO, R devuelve FALSE sin evaluar $y$. Si $x$ es TRUE, R evalúa $y$ y devuelve TRUE si $y$ es TRUE, FALSE en caso contrario.\n",
        "\n",
        "Del mismo modo, para evaluar $x$ || $y$, R sólo evalúa $y$ si tiene que hacerlo, es decir, si $x$ es FALSO."
      ]
    },
    {
      "cell_type": "code",
      "execution_count": 23,
      "id": "a0dcfb0a",
      "metadata": {
        "id": "a0dcfb0a",
        "outputId": "a631aa12-294f-4195-da21-8cbad199fff0",
        "colab": {
          "base_uri": "https://localhost:8080/",
          "height": 69
        }
      },
      "outputs": [
        {
          "output_type": "stream",
          "name": "stderr",
          "text": [
            "Warning message in sin(1/v):\n",
            "“NaNs produced”\n"
          ]
        },
        {
          "output_type": "display_data",
          "data": {
            "text/html": [
              "&lt;NA&gt;"
            ],
            "text/markdown": "&lt;NA&gt;",
            "text/latex": "<NA>",
            "text/plain": [
              "[1] NA"
            ]
          },
          "metadata": {}
        }
      ],
      "source": [
        "v <- 0\n",
        "sin(1/v) == 0"
      ]
    },
    {
      "cell_type": "code",
      "execution_count": 24,
      "id": "eac6b1f7",
      "metadata": {
        "id": "eac6b1f7",
        "outputId": "5aecffa8-5f0b-42dc-8d93-5b514d5bacb9",
        "colab": {
          "base_uri": "https://localhost:8080/",
          "height": 69
        }
      },
      "outputs": [
        {
          "output_type": "stream",
          "name": "stderr",
          "text": [
            "Warning message in sin(1/v):\n",
            "“NaNs produced”\n"
          ]
        },
        {
          "output_type": "display_data",
          "data": {
            "text/html": [
              "TRUE"
            ],
            "text/markdown": "TRUE",
            "text/latex": "TRUE",
            "text/plain": [
              "[1] TRUE"
            ]
          },
          "metadata": {}
        }
      ],
      "source": [
        "# Operación | evalua ambas operaciones\n",
        "(v == 0)  | (sin(1/v) == 0)"
      ]
    },
    {
      "cell_type": "code",
      "execution_count": null,
      "id": "8034fd58",
      "metadata": {
        "id": "8034fd58",
        "outputId": "32d6359f-cc36-4fb9-ac0b-29873ec4bd30"
      },
      "outputs": [
        {
          "data": {
            "text/html": [
              "TRUE"
            ],
            "text/latex": [
              "TRUE"
            ],
            "text/markdown": [
              "TRUE"
            ],
            "text/plain": [
              "[1] TRUE"
            ]
          },
          "metadata": {},
          "output_type": "display_data"
        }
      ],
      "source": [
        "# Operación || evalua primero v. Si v es FALSE evalua y\n",
        "(v == 0)  || (sin(1/v) == 0)"
      ]
    },
    {
      "cell_type": "markdown",
      "id": "b8105e5c",
      "metadata": {
        "id": "b8105e5c"
      },
      "source": [
        "**Nota**\n",
        "Tenga en cuenta que && y || sólo funcionan con escalares, mientras que & y | funcionan con vectores sobre una base de elemento por elemento."
      ]
    },
    {
      "cell_type": "markdown",
      "id": "05d32988",
      "metadata": {
        "id": "05d32988"
      },
      "source": [
        "# **Matrices**"
      ]
    },
    {
      "cell_type": "markdown",
      "source": [
        "![dibujo_matriz.png](data:image/png;base64,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)"
      ],
      "metadata": {
        "id": "kTP4IC3DZ7To"
      },
      "id": "kTP4IC3DZ7To"
    },
    {
      "cell_type": "markdown",
      "source": [
        "Atributos:\n",
        "- names()\n",
        "- rownames()\n",
        "- colnames()\n",
        "- dim()\n",
        "- nrow()\n",
        "- ncol()"
      ],
      "metadata": {
        "id": "0434eThuDffP"
      },
      "id": "0434eThuDffP"
    },
    {
      "cell_type": "markdown",
      "id": "4b5c8fa7",
      "metadata": {
        "id": "4b5c8fa7"
      },
      "source": [
        "Una matriz se crea a partir de un vector utilizando la función matrix(), que tiene la forma \n",
        "\n",
        "> $matrix(datos, nrow = 1, ncol = 1, byrow = FALSE)$ \n",
        "\n",
        "Aquí los datos son un vector de longitud máxima $nrow*ncol$, nrow y ncol son el número de filas y columnas respectivamente, y byrow puede ser TRUE o FALSE (por defecto FALSE) e indica si se desea desea rellenar la matriz fila por fila o columna por columna, utilizando los elementos de data. Si length(data) es menor que $nrow*ncol$, los datos se reutilizan tantas veces como sea necesario. Esto proporciona una forma compacta de hacer una matriz de ceros o unos."
      ]
    },
    {
      "cell_type": "code",
      "execution_count": 34,
      "id": "8e7bc838",
      "metadata": {
        "id": "8e7bc838"
      },
      "outputs": [],
      "source": [
        "# definimos un vector\n",
        "x <- c(1, 2, 3, 4, 5, 6, 7, 8, 9)"
      ]
    },
    {
      "cell_type": "code",
      "execution_count": 35,
      "id": "362d7b2a",
      "metadata": {
        "id": "362d7b2a",
        "outputId": "3ea1d776-636b-47be-990f-92b213cb2ea7",
        "colab": {
          "base_uri": "https://localhost:8080/"
        }
      },
      "outputs": [
        {
          "output_type": "stream",
          "name": "stdout",
          "text": [
            "     [,1] [,2] [,3]\n",
            "[1,]    1    4    7\n",
            "[2,]    2    5    8\n",
            "[3,]    3    6    9\n"
          ]
        }
      ],
      "source": [
        "# byrow = FALSE rellena la matriz por columnas\n",
        "A <- matrix(x, nrow=3, byrow=FALSE)\n",
        "print(A)"
      ]
    },
    {
      "cell_type": "code",
      "execution_count": 36,
      "id": "f43f47b7",
      "metadata": {
        "id": "f43f47b7",
        "outputId": "895d77e7-e5e8-4a45-9bc5-85a16a33b15e",
        "colab": {
          "base_uri": "https://localhost:8080/"
        }
      },
      "outputs": [
        {
          "output_type": "stream",
          "name": "stdout",
          "text": [
            "     [,1] [,2] [,3]\n",
            "[1,]    1    2    3\n",
            "[2,]    4    5    6\n",
            "[3,]    7    8    9\n"
          ]
        }
      ],
      "source": [
        "# byrow = TRUE rellena la matriz por filas\n",
        "A <- matrix(x, nrow=3, byrow=TRUE)\n",
        "print(A)"
      ]
    },
    {
      "cell_type": "markdown",
      "id": "ae0d7887",
      "metadata": {
        "id": "ae0d7887"
      },
      "source": [
        "## Operaciones con matrices:\n",
        "- A%*%B : Multiplicación matricial.\n",
        "- A*B : Multiplicación de elemento a elemento.\n",
        "- A + B : Suma de matrices.\n",
        "- A - B : Diferencia de matrices."
      ]
    },
    {
      "cell_type": "code",
      "execution_count": null,
      "id": "f7fe7216",
      "metadata": {
        "id": "f7fe7216",
        "outputId": "40ec036f-0f54-4d1f-88b9-93b3190c6125"
      },
      "outputs": [
        {
          "name": "stdout",
          "output_type": "stream",
          "text": [
            "     [,1] [,2]\n",
            "[1,]    3    2\n",
            "[2,]    5    3\n"
          ]
        }
      ],
      "source": [
        "# definimos la matriz A\n",
        "A <- matrix(c(3, 5, 2, 3), nrow = 2, ncol = 2)\n",
        "print(A)"
      ]
    },
    {
      "cell_type": "code",
      "execution_count": null,
      "id": "e2086adb",
      "metadata": {
        "id": "e2086adb",
        "outputId": "7d9423dc-d2d6-4e97-89b3-901c5559cc4f"
      },
      "outputs": [
        {
          "name": "stdout",
          "output_type": "stream",
          "text": [
            "     [,1] [,2]\n",
            "[1,]    1    0\n",
            "[2,]    1    1\n"
          ]
        }
      ],
      "source": [
        "# Definimos la matriz B\n",
        "B <- matrix(c(1, 1, 0, 1), nrow = 2, ncol = 2)\n",
        "print(B)"
      ]
    },
    {
      "cell_type": "code",
      "execution_count": null,
      "id": "5e32af51",
      "metadata": {
        "id": "5e32af51",
        "outputId": "00588d95-dd76-4ffe-8ee5-951e83c97dc1"
      },
      "outputs": [
        {
          "name": "stdout",
          "output_type": "stream",
          "text": [
            "     [,1] [,2]\n",
            "[1,]    5    2\n",
            "[2,]    8    3\n"
          ]
        }
      ],
      "source": [
        "# Multiplicación matricial\n",
        "C <- A %*% B\n",
        "print(C)"
      ]
    },
    {
      "cell_type": "code",
      "execution_count": null,
      "id": "5b85c784",
      "metadata": {
        "id": "5b85c784",
        "outputId": "50447582-584d-41c8-9dae-d928de9efc8a"
      },
      "outputs": [
        {
          "name": "stdout",
          "output_type": "stream",
          "text": [
            "     [,1] [,2]\n",
            "[1,]    3    0\n",
            "[2,]    5    3\n"
          ]
        }
      ],
      "source": [
        "# Multiplicación de elemento a elemento\n",
        "C <- A * B\n",
        "print(C)"
      ]
    },
    {
      "cell_type": "code",
      "execution_count": null,
      "id": "b8dbf3d2",
      "metadata": {
        "id": "b8dbf3d2",
        "outputId": "ed98333a-f9eb-4f2b-c71d-8721c725dd2d"
      },
      "outputs": [
        {
          "name": "stdout",
          "output_type": "stream",
          "text": [
            "     [,1] [,2]\n",
            "[1,]    4    2\n",
            "[2,]    6    4\n"
          ]
        }
      ],
      "source": [
        "# suma de matrices\n",
        "C <- A + B\n",
        "print(C)"
      ]
    },
    {
      "cell_type": "code",
      "execution_count": null,
      "id": "1938dc1c",
      "metadata": {
        "id": "1938dc1c",
        "outputId": "3dfc2dfa-6d72-47fd-91f1-087f5a18b64d"
      },
      "outputs": [
        {
          "name": "stdout",
          "output_type": "stream",
          "text": [
            "     [,1] [,2]\n",
            "[1,]    2    2\n",
            "[2,]    4    2\n"
          ]
        }
      ],
      "source": [
        "# Diferencia de matrices\n",
        "C <- A - B\n",
        "print(C)"
      ]
    },
    {
      "cell_type": "markdown",
      "id": "6f626eca",
      "metadata": {
        "id": "6f626eca"
      },
      "source": [
        "## Funciones con matrices\n",
        "- $diag()$ : dado un vector genera una diagonal de una matriz.\n",
        "- $solve()$ : Inversa de una matriz.\n",
        "- $t()$ : Transpuesta de una matriz.\n",
        "- $eigen()$ : dada una matriz devuelve una lista con los valores propios y vectores propios.\n"
      ]
    },
    {
      "cell_type": "code",
      "execution_count": null,
      "id": "c054e7bf",
      "metadata": {
        "id": "c054e7bf",
        "outputId": "2affc264-6082-4b92-9583-170100136a4b"
      },
      "outputs": [
        {
          "name": "stdout",
          "output_type": "stream",
          "text": [
            "[1] 1 2 3 4 5 6 7 8 9\n"
          ]
        }
      ],
      "source": [
        "# definimos el vector x\n",
        "x <- 1:9\n",
        "print(x)"
      ]
    },
    {
      "cell_type": "code",
      "execution_count": null,
      "id": "cca020b4",
      "metadata": {
        "id": "cca020b4",
        "outputId": "0789d8ad-d8f7-4f9b-a8a7-9430f0c384ed"
      },
      "outputs": [
        {
          "name": "stdout",
          "output_type": "stream",
          "text": [
            "      [,1] [,2] [,3] [,4] [,5] [,6] [,7] [,8] [,9]\n",
            " [1,]    1    0    0    0    0    0    0    0    0\n",
            " [2,]    0    2    0    0    0    0    0    0    0\n",
            " [3,]    0    0    3    0    0    0    0    0    0\n",
            " [4,]    0    0    0    4    0    0    0    0    0\n",
            " [5,]    0    0    0    0    5    0    0    0    0\n",
            " [6,]    0    0    0    0    0    6    0    0    0\n",
            " [7,]    0    0    0    0    0    0    7    0    0\n",
            " [8,]    0    0    0    0    0    0    0    8    0\n",
            " [9,]    0    0    0    0    0    0    0    0    9\n"
          ]
        }
      ],
      "source": [
        "# generamos una matriz diagonal\n",
        "A <- diag(x)\n",
        "print(A)"
      ]
    },
    {
      "cell_type": "code",
      "execution_count": null,
      "id": "84542b95",
      "metadata": {
        "id": "84542b95",
        "outputId": "ddb7a6d5-4f24-42e4-d297-f3b295167efe"
      },
      "outputs": [
        {
          "name": "stdout",
          "output_type": "stream",
          "text": [
            "     [,1] [,2] [,3]\n",
            "[1,]    2    4    5\n",
            "[2,]    7    8    9\n",
            "[3,]   10    3    7\n"
          ]
        }
      ],
      "source": [
        "# Generamos la matriz A\n",
        "A <- matrix(c(2,4,5,7,8,9,10,3,7), nrow = 3, byrow=TRUE)\n",
        "print(A)"
      ]
    },
    {
      "cell_type": "code",
      "execution_count": null,
      "id": "d06b056a",
      "metadata": {
        "id": "d06b056a",
        "outputId": "11a81fb0-85b8-46dd-82ec-9b830e7390e3"
      },
      "outputs": [
        {
          "name": "stdout",
          "output_type": "stream",
          "text": [
            "           [,1]       [,2]        [,3]\n",
            "[1,] -0.3972603  0.1780822  0.05479452\n",
            "[2,] -0.5616438  0.4931507 -0.23287671\n",
            "[3,]  0.8082192 -0.4657534  0.16438356\n"
          ]
        }
      ],
      "source": [
        "# Obtenemos su inversa\n",
        "B <- solve(A)\n",
        "print(B)"
      ]
    },
    {
      "cell_type": "code",
      "execution_count": null,
      "id": "9514e7c4",
      "metadata": {
        "id": "9514e7c4",
        "outputId": "ea33ff42-5680-4567-df81-8966cea9861a"
      },
      "outputs": [
        {
          "name": "stdout",
          "output_type": "stream",
          "text": [
            "     [,1] [,2] [,3]\n",
            "[1,]    2    7   10\n",
            "[2,]    4    8    3\n",
            "[3,]    5    9    7\n"
          ]
        }
      ],
      "source": [
        "# Obtenemos su transpuesta\n",
        "B <- t(A)\n",
        "print(B)"
      ]
    },
    {
      "cell_type": "code",
      "execution_count": null,
      "id": "8960525e",
      "metadata": {
        "id": "8960525e",
        "outputId": "8e5c2b2a-ead5-4f0a-9026-ba7b313b886e"
      },
      "outputs": [
        {
          "name": "stdout",
          "output_type": "stream",
          "text": [
            "eigen() decomposition\n",
            "$values\n",
            "[1] 17.835797 -2.483699  1.647902\n",
            "\n",
            "$vectors\n",
            "           [,1]       [,2]       [,3]\n",
            "[1,] -0.3629023 -0.6393588 -0.1029763\n",
            "[2,] -0.7563275 -0.2084645 -0.7731676\n",
            "[3,] -0.5443075  0.7401101  0.6257857\n",
            "\n"
          ]
        }
      ],
      "source": [
        "# Obtenemos los valores y vectores propios\n",
        "B <- eigen(A)\n",
        "print(B)"
      ]
    },
    {
      "cell_type": "markdown",
      "id": "10cb5f33",
      "metadata": {
        "id": "10cb5f33"
      },
      "source": [
        "## Extracción de elementos de una matriz"
      ]
    },
    {
      "cell_type": "code",
      "execution_count": null,
      "id": "12199a6b",
      "metadata": {
        "id": "12199a6b",
        "outputId": "6995f686-4d2e-4511-c7bb-708e812cf6f5"
      },
      "outputs": [
        {
          "name": "stdout",
          "output_type": "stream",
          "text": [
            "     [,1] [,2] [,3]\n",
            "[1,]    1    2    3\n",
            "[2,]    4    5    6\n",
            "[3,]    7    8    9\n"
          ]
        }
      ],
      "source": [
        "# Extracción de elementos de una matriz\n",
        "A <- matrix(1:9, nrow = 3, byrow=TRUE)\n",
        "print(A)"
      ]
    },
    {
      "cell_type": "code",
      "execution_count": null,
      "id": "ab9ae389",
      "metadata": {
        "id": "ab9ae389",
        "outputId": "8d143627-25d7-49e0-9b8a-1606ad476f2e"
      },
      "outputs": [
        {
          "name": "stdout",
          "output_type": "stream",
          "text": [
            "[1] 1\n"
          ]
        }
      ],
      "source": [
        "# extraer el elemento del primer renglón y primera columna.\n",
        "a11 <- A[1,1]\n",
        "print(a11)"
      ]
    },
    {
      "cell_type": "code",
      "execution_count": null,
      "id": "04c1f61f",
      "metadata": {
        "id": "04c1f61f",
        "outputId": "75979f54-19d8-4251-f83a-6525e165ad14"
      },
      "outputs": [
        {
          "name": "stdout",
          "output_type": "stream",
          "text": [
            "[1] 4\n"
          ]
        }
      ],
      "source": [
        "# extraer el elemento del segundo renglón y primera columna.\n",
        "a21 <- A[2,1]\n",
        "print(a21)"
      ]
    },
    {
      "cell_type": "code",
      "execution_count": null,
      "id": "0af6a5b2",
      "metadata": {
        "id": "0af6a5b2",
        "outputId": "9c861254-5b20-4580-9568-aec02a88ad9c"
      },
      "outputs": [
        {
          "name": "stdout",
          "output_type": "stream",
          "text": [
            "[1] 1 2 3\n"
          ]
        }
      ],
      "source": [
        "# extraer toda la primera fila\n",
        "a1k <- A[1,]\n",
        "print(a1k)"
      ]
    },
    {
      "cell_type": "code",
      "execution_count": null,
      "id": "56b3247a",
      "metadata": {
        "id": "56b3247a",
        "outputId": "483344ab-266f-411e-ce5a-10abba1aca55"
      },
      "outputs": [
        {
          "name": "stdout",
          "output_type": "stream",
          "text": [
            "[1] 1 4 7\n"
          ]
        }
      ],
      "source": [
        "# extraer toda la primera columna\n",
        "ak1 <- A[,1]\n",
        "print(ak1)"
      ]
    },
    {
      "cell_type": "code",
      "execution_count": null,
      "id": "3818e1c1",
      "metadata": {
        "id": "3818e1c1",
        "outputId": "3b6f77ea-7f08-4d10-fe97-4743cfb62945"
      },
      "outputs": [
        {
          "name": "stdout",
          "output_type": "stream",
          "text": [
            "     [,1] [,2] [,3]\n",
            "[1,]    1    2    3\n",
            "[2,]    4    5    6\n"
          ]
        }
      ],
      "source": [
        "# extraer toda la primera y segunda fila\n",
        "a12k <- A[1:2,]\n",
        "print(a12k)"
      ]
    },
    {
      "cell_type": "markdown",
      "source": [
        "> **Práctica:**\n",
        "\n",
        "- Formar una matriz de $3x3$ con unos en la diagonal."
      ],
      "metadata": {
        "id": "eaI1XAU1h8gs"
      },
      "id": "eaI1XAU1h8gs"
    },
    {
      "cell_type": "code",
      "source": [
        "# código aquí\n",
        "x <- c()\n",
        "B <- matrix()\n",
        "print(B)"
      ],
      "metadata": {
        "id": "7YSDxTVIiSmn"
      },
      "id": "7YSDxTVIiSmn",
      "execution_count": null,
      "outputs": []
    },
    {
      "cell_type": "markdown",
      "id": "23414ee0",
      "metadata": {
        "id": "23414ee0"
      },
      "source": [
        "# **Listas**\n",
        "\n",
        "Las listas son como vectores porque agrupan los datos en un conjunto unidimensional. Sin embargo, las listas no agrupan valores individuales; las listas agrupan objetos R, como vectores atómicos y otras listas. Por ejemplo, hacer una lista que contenga un vector numérico de longitud $31$ en su primer elemento, un vector de caracteres de longitud $1$ en su segundo elemento, y una nueva lista de longitud $2$ en su tercer elemento. Para ello, utilice la función de lista.\n"
      ]
    },
    {
      "cell_type": "markdown",
      "source": [
        "![structures.png](data:image/png;base64,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)"
      ],
      "metadata": {
        "id": "l7AhyZYeW9f2"
      },
      "id": "l7AhyZYeW9f2"
    },
    {
      "cell_type": "code",
      "execution_count": null,
      "id": "d295b7d8",
      "metadata": {
        "id": "d295b7d8",
        "outputId": "bcbd5889-1b6b-42cd-c4f0-416b272d1fb5"
      },
      "outputs": [
        {
          "name": "stdout",
          "output_type": "stream",
          "text": [
            "[1] 1 2 3 4 5 6 7 8 9\n"
          ]
        }
      ],
      "source": [
        "# definimos un vector\n",
        "x<- c(1:9)\n",
        "print(x)\n"
      ]
    },
    {
      "cell_type": "code",
      "execution_count": null,
      "id": "706a4827",
      "metadata": {
        "id": "706a4827",
        "outputId": "b7d7e660-bde7-4836-a378-8c0b284117a7"
      },
      "outputs": [
        {
          "name": "stdout",
          "output_type": "stream",
          "text": [
            "     [,1] [,2] [,3]\n",
            "[1,]    1    2    3\n",
            "[2,]    4    5    6\n",
            "[3,]    7    8    9\n"
          ]
        }
      ],
      "source": [
        "# definimos una matriz\n",
        "A <- matrix(1:9, nrow = 3, byrow=TRUE)\n",
        "print(A)"
      ]
    },
    {
      "cell_type": "code",
      "execution_count": null,
      "id": "1a37692e",
      "metadata": {
        "id": "1a37692e"
      },
      "outputs": [],
      "source": [
        "# cadena de caracteres\n",
        "y <- \"name\""
      ]
    },
    {
      "cell_type": "code",
      "execution_count": null,
      "id": "7034826a",
      "metadata": {
        "id": "7034826a",
        "outputId": "ed9ee6fa-4f2c-4cc0-a78c-decb4c38c7d2"
      },
      "outputs": [
        {
          "name": "stdout",
          "output_type": "stream",
          "text": [
            "[[1]]\n",
            "[1] 1 2 3 4 5 6 7 8 9\n",
            "\n",
            "[[2]]\n",
            "     [,1] [,2] [,3]\n",
            "[1,]    1    2    3\n",
            "[2,]    4    5    6\n",
            "[3,]    7    8    9\n",
            "\n",
            "[[3]]\n",
            "[1] \"name\"\n",
            "\n"
          ]
        }
      ],
      "source": [
        "# creamos una lista con los objetos x, A, y\n",
        "list1 <- list(x, A, y)\n",
        "print(list1)"
      ]
    },
    {
      "cell_type": "code",
      "execution_count": null,
      "id": "cc63bbdc",
      "metadata": {
        "id": "cc63bbdc",
        "outputId": "c4672d74-e7f2-4b8d-b570-63693483c6a6"
      },
      "outputs": [
        {
          "name": "stdout",
          "output_type": "stream",
          "text": [
            "[1] 1 2 3 4 5 6 7 8 9\n"
          ]
        }
      ],
      "source": [
        "# accedemos al primer elemento de la lista\n",
        "l1 <- list1[[1]]\n",
        "print(l1)"
      ]
    },
    {
      "cell_type": "code",
      "execution_count": null,
      "id": "b22ddcd2",
      "metadata": {
        "id": "b22ddcd2",
        "outputId": "723c7ac7-98f6-4cd5-df01-c5b8c2ba63c1"
      },
      "outputs": [
        {
          "name": "stdout",
          "output_type": "stream",
          "text": [
            "     [,1] [,2] [,3]\n",
            "[1,]    1    2    3\n",
            "[2,]    4    5    6\n",
            "[3,]    7    8    9\n"
          ]
        }
      ],
      "source": [
        "# accedemos al segundo elemento de la lista\n",
        "l2 <- list1[[2]]\n",
        "print(l2)"
      ]
    },
    {
      "cell_type": "code",
      "execution_count": null,
      "id": "27d9fbcc",
      "metadata": {
        "id": "27d9fbcc",
        "outputId": "79ac18f3-e30c-4abf-a8ac-2e00d9175328"
      },
      "outputs": [
        {
          "name": "stdout",
          "output_type": "stream",
          "text": [
            "[1] \"name\"\n"
          ]
        }
      ],
      "source": [
        "# accedemos al tercer elemento de la lista\n",
        "l3 <- list1[[3]]\n",
        "print(l3)"
      ]
    },
    {
      "cell_type": "markdown",
      "id": "fc890d91",
      "metadata": {
        "id": "fc890d91"
      },
      "source": [
        "Podemos darle nombre a los elementos de la lista."
      ]
    },
    {
      "cell_type": "code",
      "execution_count": null,
      "id": "e6277e0e",
      "metadata": {
        "id": "e6277e0e",
        "outputId": "7bce6baa-368b-4705-f53d-08d61d3fed93"
      },
      "outputs": [
        {
          "name": "stdout",
          "output_type": "stream",
          "text": [
            "$elemento1\n",
            "[1] 1 2 3 4 5 6 7 8 9\n",
            "\n",
            "$elemento2\n",
            "     [,1] [,2] [,3]\n",
            "[1,]    1    2    3\n",
            "[2,]    4    5    6\n",
            "[3,]    7    8    9\n",
            "\n",
            "$elemento3\n",
            "[1] \"name\"\n",
            "\n"
          ]
        }
      ],
      "source": [
        "# creamos una lista con los objetos x, A, y\n",
        "list1 <- list('elemento1' = x, \n",
        "               'elemento2' = A, \n",
        "               'elemento3' = y)\n",
        "print(list1)"
      ]
    },
    {
      "cell_type": "code",
      "execution_count": null,
      "id": "adf3c723",
      "metadata": {
        "id": "adf3c723",
        "outputId": "6082faca-4067-4124-9ce4-c25e12654759"
      },
      "outputs": [
        {
          "name": "stdout",
          "output_type": "stream",
          "text": [
            "[1] 1 2 3 4 5 6 7 8 9\n"
          ]
        }
      ],
      "source": [
        "# segunda forma de acceder a cada elemento\n",
        "print(list1$elemento1)"
      ]
    },
    {
      "cell_type": "markdown",
      "id": "3de5f815",
      "metadata": {
        "id": "3de5f815"
      },
      "source": [
        "# **Data frame**"
      ]
    },
    {
      "cell_type": "markdown",
      "id": "0c1e4796",
      "metadata": {
        "id": "0c1e4796"
      },
      "source": [
        "Los data frames son la versión bidimensional de una lista. Son, de lejos, la estructura de almacenamiento más útil para el análisis de datos. Puede pensar en un data frame como el equivalente de R a la hoja de cálculo de Excel porque almacena los datos en un formato similar."
      ]
    },
    {
      "cell_type": "markdown",
      "id": "64a5cdaa",
      "metadata": {
        "id": "64a5cdaa"
      },
      "source": [
        "![data_frame.png](data:image/png;base64,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)"
      ]
    },
    {
      "cell_type": "code",
      "execution_count": null,
      "id": "9a4c50e6",
      "metadata": {
        "id": "9a4c50e6"
      },
      "outputs": [],
      "source": [
        "# definimos vectores \n",
        "name <- c(\"Jorge\", \"Pedro\", \"Paco\")\n",
        "club <- c(\"club1\", \"club2\", \"club2\")\n",
        "edad <- c(16, 15, 17)"
      ]
    },
    {
      "cell_type": "code",
      "execution_count": null,
      "id": "37a87bbf",
      "metadata": {
        "colab": {
          "base_uri": "https://localhost:8080/"
        },
        "id": "37a87bbf",
        "outputId": "2dab5418-9978-45ad-a93e-ada02c5166d0"
      },
      "outputs": [
        {
          "output_type": "stream",
          "name": "stdout",
          "text": [
            "   Name  Club Edad\n",
            "1 Jorge club1   16\n",
            "2 Pedro club2   15\n",
            "3  Paco club2   17\n"
          ]
        }
      ],
      "source": [
        "# formamos el data.frame\n",
        "df1 <- data.frame(Name = name,\n",
        "                 Club = club, \n",
        "                 Edad = edad)\n",
        "print(df1)"
      ]
    },
    {
      "cell_type": "code",
      "execution_count": null,
      "id": "058a1ecf",
      "metadata": {
        "colab": {
          "base_uri": "https://localhost:8080/"
        },
        "id": "058a1ecf",
        "outputId": "cb587872-452a-456b-9e3b-8e655c059741"
      },
      "outputs": [
        {
          "output_type": "stream",
          "name": "stdout",
          "text": [
            "    Name  Club Edad\n",
            "1   Hugo club2   16\n",
            "2 Arturo club1   16\n",
            "3 Javier club3   17\n"
          ]
        }
      ],
      "source": [
        "# supongamos que tenemos otro data frame\n",
        "df2 <- data.frame(Name = c(\"Hugo\", \"Arturo\", \"Javier\"),\n",
        "                 Club = c(\"club2\", \"club1\", \"club3\"), \n",
        "                 Edad = c(16, 16, 17))\n",
        "print(df2)"
      ]
    },
    {
      "cell_type": "code",
      "execution_count": null,
      "id": "a1855d23",
      "metadata": {
        "colab": {
          "base_uri": "https://localhost:8080/"
        },
        "id": "a1855d23",
        "outputId": "bc1b8378-f4ce-49b5-ecc3-175ed2f82739"
      },
      "outputs": [
        {
          "output_type": "stream",
          "name": "stdout",
          "text": [
            "   Name  Club Edad   Name  Club Edad\n",
            "1 Jorge club1   16   Hugo club2   16\n",
            "2 Pedro club2   15 Arturo club1   16\n",
            "3  Paco club2   17 Javier club3   17\n"
          ]
        }
      ],
      "source": [
        "# para unir dos data frames por columnas\n",
        "df1y2  <- cbind(df1, df2)\n",
        "print(df1y2)"
      ]
    },
    {
      "cell_type": "code",
      "execution_count": null,
      "id": "e6162341",
      "metadata": {
        "colab": {
          "base_uri": "https://localhost:8080/"
        },
        "id": "e6162341",
        "outputId": "8ae182bc-e00f-4aea-9fb4-4877558a811a"
      },
      "outputs": [
        {
          "output_type": "stream",
          "name": "stdout",
          "text": [
            "    Name  Club Edad\n",
            "1  Jorge club1   16\n",
            "2  Pedro club2   15\n",
            "3   Paco club2   17\n",
            "4   Hugo club2   16\n",
            "5 Arturo club1   16\n",
            "6 Javier club3   17\n"
          ]
        }
      ],
      "source": [
        "# para unir dos data frames por filas (deben tener los mismos nombres de columnas)\n",
        "df1y2  <- rbind(df1, df2)\n",
        "print(df1y2)"
      ]
    },
    {
      "cell_type": "markdown",
      "source": [
        "# **Ejercicio : Formulación de la regresión lineal**"
      ],
      "metadata": {
        "id": "0yLmxQ_F-j-i"
      },
      "id": "0yLmxQ_F-j-i"
    },
    {
      "cell_type": "markdown",
      "source": [
        "El término regresión fue acuñando por Francis Galton ($1822$-$1911$), antopólogo y meteorólogo inglés, originalmente él usó el término reversión en una poblicación titulada \"Typical laws of heredity in man\" en la Royal Institution, el 9 de Febrero de $1877$. El término regresión apareció en la British Asociation en Aberdeen, 1885, impreso en Nature en Septiembre de 1885 pp. 507-510, y también en el ratículo que lleva por título \"Regression towards mediocrity in hereditary stature\", Journal of the Anthropolical Institute, 15, $1885$, 246-263. Galton observó que las alturas de hijos de padres altos tienden a regresar hacia abajo, hacia un promedio normal (un fenómeno conocido como regresión hacia la media)\n",
        "\n",
        "\n",
        "![Regression.png](data:image/png;base64,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)"
      ],
      "metadata": {
        "id": "5_gJki-Ttya1"
      },
      "id": "5_gJki-Ttya1"
    },
    {
      "cell_type": "markdown",
      "source": [
        ""
      ],
      "metadata": {
        "id": "kFkoVJJeldOL"
      },
      "id": "kFkoVJJeldOL"
    },
    {
      "cell_type": "code",
      "source": [
        "#install.packages(\"UsingR\")\n",
        "library('UsingR')"
      ],
      "metadata": {
        "id": "bWMoV4am-hxl"
      },
      "id": "bWMoV4am-hxl",
      "execution_count": 39,
      "outputs": []
    },
    {
      "cell_type": "code",
      "source": [
        "head(galton)"
      ],
      "metadata": {
        "colab": {
          "base_uri": "https://localhost:8080/",
          "height": 286
        },
        "id": "aE7cwsO2-tFF",
        "outputId": "dc15b2bc-fe4d-4520-9aba-439a2ccf07e0"
      },
      "id": "aE7cwsO2-tFF",
      "execution_count": null,
      "outputs": [
        {
          "output_type": "display_data",
          "data": {
            "text/html": [
              "<table class=\"dataframe\">\n",
              "<caption>A data.frame: 6 × 2</caption>\n",
              "<thead>\n",
              "\t<tr><th></th><th scope=col>child</th><th scope=col>parent</th></tr>\n",
              "\t<tr><th></th><th scope=col>&lt;dbl&gt;</th><th scope=col>&lt;dbl&gt;</th></tr>\n",
              "</thead>\n",
              "<tbody>\n",
              "\t<tr><th scope=row>1</th><td>61.7</td><td>70.5</td></tr>\n",
              "\t<tr><th scope=row>2</th><td>61.7</td><td>68.5</td></tr>\n",
              "\t<tr><th scope=row>3</th><td>61.7</td><td>65.5</td></tr>\n",
              "\t<tr><th scope=row>4</th><td>61.7</td><td>64.5</td></tr>\n",
              "\t<tr><th scope=row>5</th><td>61.7</td><td>64.0</td></tr>\n",
              "\t<tr><th scope=row>6</th><td>62.2</td><td>67.5</td></tr>\n",
              "</tbody>\n",
              "</table>\n"
            ],
            "text/markdown": "\nA data.frame: 6 × 2\n\n| <!--/--> | child &lt;dbl&gt; | parent &lt;dbl&gt; |\n|---|---|---|\n| 1 | 61.7 | 70.5 |\n| 2 | 61.7 | 68.5 |\n| 3 | 61.7 | 65.5 |\n| 4 | 61.7 | 64.5 |\n| 5 | 61.7 | 64.0 |\n| 6 | 62.2 | 67.5 |\n\n",
            "text/latex": "A data.frame: 6 × 2\n\\begin{tabular}{r|ll}\n  & child & parent\\\\\n  & <dbl> & <dbl>\\\\\n\\hline\n\t1 & 61.7 & 70.5\\\\\n\t2 & 61.7 & 68.5\\\\\n\t3 & 61.7 & 65.5\\\\\n\t4 & 61.7 & 64.5\\\\\n\t5 & 61.7 & 64.0\\\\\n\t6 & 62.2 & 67.5\\\\\n\\end{tabular}\n",
            "text/plain": [
              "  child parent\n",
              "1 61.7  70.5  \n",
              "2 61.7  68.5  \n",
              "3 61.7  65.5  \n",
              "4 61.7  64.5  \n",
              "5 61.7  64.0  \n",
              "6 62.2  67.5  "
            ]
          },
          "metadata": {}
        }
      ]
    },
    {
      "cell_type": "markdown",
      "source": [
        "![galton.png](data:image/png;base64,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)"
      ],
      "metadata": {
        "id": "uw0RS6jxyNMm"
      },
      "id": "uw0RS6jxyNMm"
    },
    {
      "cell_type": "markdown",
      "source": [
        "En términos matriciales  la regresión se expresa como\n",
        "\n",
        "\\begin{equation}\n",
        "Y=Xβ+ϵ\n",
        "\\end{equation}\n",
        "\n",
        "Cuya estimación, $\\hat{\\beta}$,  por mínimos cuadrados es\n",
        "\n",
        "\\begin{equation}\n",
        "\\hat{\\beta}  = (X′X)^{−1}X′Y\n",
        "\\end{equation}"
      ],
      "metadata": {
        "id": "vyJEsESuyL1O"
      },
      "id": "vyJEsESuyL1O"
    },
    {
      "cell_type": "code",
      "source": [
        "Y <- galton$parent\n",
        "x <- galton$child"
      ],
      "metadata": {
        "id": "WENMtMrS-4gD"
      },
      "id": "WENMtMrS-4gD",
      "execution_count": null,
      "outputs": []
    },
    {
      "cell_type": "code",
      "source": [
        "v.unos <- rep(1, length(x))"
      ],
      "metadata": {
        "id": "GIpGQwam_URc"
      },
      "id": "GIpGQwam_URc",
      "execution_count": null,
      "outputs": []
    },
    {
      "cell_type": "code",
      "source": [
        "X <- matrix(c(v.unos, x), byrow = FALSE, ncol=2)\n",
        "head(X)"
      ],
      "metadata": {
        "colab": {
          "base_uri": "https://localhost:8080/",
          "height": 257
        },
        "id": "XucmQjSE_WNu",
        "outputId": "51e626bf-96fe-40ab-c4aa-af04d199d35e"
      },
      "id": "XucmQjSE_WNu",
      "execution_count": null,
      "outputs": [
        {
          "output_type": "display_data",
          "data": {
            "text/html": [
              "<table class=\"dataframe\">\n",
              "<caption>A matrix: 6 × 2 of type dbl</caption>\n",
              "<tbody>\n",
              "\t<tr><td>1</td><td>61.7</td></tr>\n",
              "\t<tr><td>1</td><td>61.7</td></tr>\n",
              "\t<tr><td>1</td><td>61.7</td></tr>\n",
              "\t<tr><td>1</td><td>61.7</td></tr>\n",
              "\t<tr><td>1</td><td>61.7</td></tr>\n",
              "\t<tr><td>1</td><td>62.2</td></tr>\n",
              "</tbody>\n",
              "</table>\n"
            ],
            "text/markdown": "\nA matrix: 6 × 2 of type dbl\n\n| 1 | 61.7 |\n| 1 | 61.7 |\n| 1 | 61.7 |\n| 1 | 61.7 |\n| 1 | 61.7 |\n| 1 | 62.2 |\n\n",
            "text/latex": "A matrix: 6 × 2 of type dbl\n\\begin{tabular}{ll}\n\t 1 & 61.7\\\\\n\t 1 & 61.7\\\\\n\t 1 & 61.7\\\\\n\t 1 & 61.7\\\\\n\t 1 & 61.7\\\\\n\t 1 & 62.2\\\\\n\\end{tabular}\n",
            "text/plain": [
              "     [,1] [,2]\n",
              "[1,] 1    61.7\n",
              "[2,] 1    61.7\n",
              "[3,] 1    61.7\n",
              "[4,] 1    61.7\n",
              "[5,] 1    61.7\n",
              "[6,] 1    62.2"
            ]
          },
          "metadata": {}
        }
      ]
    },
    {
      "cell_type": "markdown",
      "source": [
        "**Carcular :**\n",
        "\n",
        "\\begin{equation}\n",
        "\\hat{\\beta}  = (X′X)^{−1}X′Y\n",
        "\\end{equation}"
      ],
      "metadata": {
        "id": "TgOpUC5-vl0S"
      },
      "id": "TgOpUC5-vl0S"
    },
    {
      "cell_type": "code",
      "source": [
        "# escribir solución aquí \n",
        "beta <- ---"
      ],
      "metadata": {
        "id": "YEuXAbF1_hFc"
      },
      "id": "YEuXAbF1_hFc",
      "execution_count": null,
      "outputs": []
    },
    {
      "cell_type": "markdown",
      "source": [
        "**Calcular:**\n",
        "\n",
        "\\begin{equation}\n",
        "\\hat{Y}=X\\hat{β}\n",
        "\\end{equation}"
      ],
      "metadata": {
        "id": "7_JyhkvhwEAj"
      },
      "id": "7_JyhkvhwEAj"
    },
    {
      "cell_type": "code",
      "source": [
        "# solución aquí\n",
        "Y_hat <- -----"
      ],
      "metadata": {
        "id": "htKhyy7TwCve"
      },
      "id": "htKhyy7TwCve",
      "execution_count": null,
      "outputs": []
    },
    {
      "cell_type": "markdown",
      "source": [
        "Una vez realizado lo anterior observamos los datos y graficamos."
      ],
      "metadata": {
        "id": "V5eq1g3fwgTC"
      },
      "id": "V5eq1g3fwgTC"
    },
    {
      "cell_type": "code",
      "source": [
        "df <- data.frame(galton, 'parents_predicted'=Y_hat)\n",
        "head(df)"
      ],
      "metadata": {
        "colab": {
          "base_uri": "https://localhost:8080/",
          "height": 286
        },
        "id": "Lqc9Wpck_mxB",
        "outputId": "f369e6f5-09e6-4284-da69-c82647a3fb0e"
      },
      "id": "Lqc9Wpck_mxB",
      "execution_count": null,
      "outputs": [
        {
          "output_type": "display_data",
          "data": {
            "text/html": [
              "<table class=\"dataframe\">\n",
              "<caption>A data.frame: 6 × 3</caption>\n",
              "<thead>\n",
              "\t<tr><th></th><th scope=col>child</th><th scope=col>parent</th><th scope=col>predicted</th></tr>\n",
              "\t<tr><th></th><th scope=col>&lt;dbl&gt;</th><th scope=col>&lt;dbl&gt;</th><th scope=col>&lt;dbl&gt;</th></tr>\n",
              "</thead>\n",
              "<tbody>\n",
              "\t<tr><th scope=row>1</th><td>61.7</td><td>70.5</td><td>66.2</td></tr>\n",
              "\t<tr><th scope=row>2</th><td>61.7</td><td>68.5</td><td>66.2</td></tr>\n",
              "\t<tr><th scope=row>3</th><td>61.7</td><td>65.5</td><td>66.2</td></tr>\n",
              "\t<tr><th scope=row>4</th><td>61.7</td><td>64.5</td><td>66.2</td></tr>\n",
              "\t<tr><th scope=row>5</th><td>61.7</td><td>64.0</td><td>66.2</td></tr>\n",
              "\t<tr><th scope=row>6</th><td>62.2</td><td>67.5</td><td>66.4</td></tr>\n",
              "</tbody>\n",
              "</table>\n"
            ],
            "text/markdown": "\nA data.frame: 6 × 3\n\n| <!--/--> | child &lt;dbl&gt; | parent &lt;dbl&gt; | predicted &lt;dbl&gt; |\n|---|---|---|---|\n| 1 | 61.7 | 70.5 | 66.2 |\n| 2 | 61.7 | 68.5 | 66.2 |\n| 3 | 61.7 | 65.5 | 66.2 |\n| 4 | 61.7 | 64.5 | 66.2 |\n| 5 | 61.7 | 64.0 | 66.2 |\n| 6 | 62.2 | 67.5 | 66.4 |\n\n",
            "text/latex": "A data.frame: 6 × 3\n\\begin{tabular}{r|lll}\n  & child & parent & predicted\\\\\n  & <dbl> & <dbl> & <dbl>\\\\\n\\hline\n\t1 & 61.7 & 70.5 & 66.2\\\\\n\t2 & 61.7 & 68.5 & 66.2\\\\\n\t3 & 61.7 & 65.5 & 66.2\\\\\n\t4 & 61.7 & 64.5 & 66.2\\\\\n\t5 & 61.7 & 64.0 & 66.2\\\\\n\t6 & 62.2 & 67.5 & 66.4\\\\\n\\end{tabular}\n",
            "text/plain": [
              "  child parent predicted\n",
              "1 61.7  70.5   66.2     \n",
              "2 61.7  68.5   66.2     \n",
              "3 61.7  65.5   66.2     \n",
              "4 61.7  64.5   66.2     \n",
              "5 61.7  64.0   66.2     \n",
              "6 62.2  67.5   66.4     "
            ]
          },
          "metadata": {}
        }
      ]
    },
    {
      "cell_type": "code",
      "source": [
        "library('ggplot2')\n",
        "options(repr.plot.width=14, repr.plot.height=8)\n",
        "\n",
        "p1 <- ggplot(df, aes(x=child, y=parent)) +\n",
        "  geom_point(color='orange', size=4) +\n",
        "  geom_line(aes(x=child, y=predicted), size=2, color='blue') +\n",
        "  ggtitle('Regresion a la media') +\n",
        "  xlab('Estatura de hijos') +\n",
        "  ylab('Estatura de padres')\n",
        "p1\n",
        "\n"
      ],
      "metadata": {
        "colab": {
          "base_uri": "https://localhost:8080/",
          "height": 497
        },
        "id": "6NU8e_3G_sgD",
        "outputId": "85058405-7f68-4021-ac35-865f25fd21a2"
      },
      "id": "6NU8e_3G_sgD",
      "execution_count": null,
      "outputs": [
        {
          "output_type": "display_data",
          "data": {
            "text/plain": [
              "plot without title"
            ],
            "image/png": "[encoded data removed]"
          },
          "metadata": {
            "image/png": {
              "width": 840,
              "height": 480
            }
          }
        }
      ]
    }
  ],
  "metadata": {
    "kernelspec": {
      "display_name": "R",
      "language": "R",
      "name": "ir"
    },
    "language_info": {
      "codemirror_mode": "r",
      "file_extension": ".r",
      "mimetype": "text/x-r-source",
      "name": "R",
      "pygments_lexer": "r",
      "version": "4.1.0"
    },
    "colab": {
      "name": "2.- Elementos de R.ipynb",
      "provenance": [],
      "collapsed_sections": [],
      "include_colab_link": true
    }
  },
  "nbformat": 4,
  "nbformat_minor": 5
}