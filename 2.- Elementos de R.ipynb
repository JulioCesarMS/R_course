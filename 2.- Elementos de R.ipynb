{
 "cells": [
  {
   "cell_type": "markdown",
   "id": "deadly-neighbor",
   "metadata": {},
   "source": [
    "# **Elementos de R**"
   ]
  },
  {
   "cell_type": "markdown",
   "id": "willing-retention",
   "metadata": {},
   "source": [
    "# Operadores aritméticos"
   ]
  },
  {
   "cell_type": "markdown",
   "id": "higher-scenario",
   "metadata": {},
   "source": [
    "R utiliza los símbolos habituales para operaciones aritméticas como:\n",
    "- la suma $+$, \n",
    "- la resta $-$, \n",
    "- la multiplicación $*$, \n",
    "- la división $/$, y \n",
    "- la exponenciación ^. \n",
    "\n",
    "Para especificar el orden de las operaciones pueden usarse los paréntesis ( ) . Para tomar el módulo *%%*  y *%/%* para la\n",
    "división de enteros."
   ]
  },
  {
   "cell_type": "markdown",
   "id": "successful-spread",
   "metadata": {},
   "source": [
    "## Ejemplos:"
   ]
  },
  {
   "cell_type": "code",
   "execution_count": 6,
   "id": "structured-portrait",
   "metadata": {},
   "outputs": [
    {
     "data": {
      "text/html": [
       "900"
      ],
      "text/latex": [
       "900"
      ],
      "text/markdown": [
       "900"
      ],
      "text/plain": [
       "[1] 900"
      ]
     },
     "metadata": {},
     "output_type": "display_data"
    }
   ],
   "source": [
    "# Operador potencia\n",
    "30^2"
   ]
  },
  {
   "cell_type": "code",
   "execution_count": 1,
   "id": "vietnamese-press",
   "metadata": {},
   "outputs": [
    {
     "data": {
      "text/html": [
       "2.70481382942153"
      ],
      "text/latex": [
       "2.70481382942153"
      ],
      "text/markdown": [
       "2.70481382942153"
      ],
      "text/plain": [
       "[1] 2.704814"
      ]
     },
     "metadata": {},
     "output_type": "display_data"
    }
   ],
   "source": [
    "(1 + 1/100)^100"
   ]
  },
  {
   "cell_type": "code",
   "execution_count": 4,
   "id": "treated-newcastle",
   "metadata": {},
   "outputs": [
    {
     "data": {
      "text/html": [
       "2"
      ],
      "text/latex": [
       "2"
      ],
      "text/markdown": [
       "2"
      ],
      "text/plain": [
       "[1] 2"
      ]
     },
     "metadata": {},
     "output_type": "display_data"
    }
   ],
   "source": [
    "# operador de módulo (devuelve el residuo)\n",
    "17%%5 "
   ]
  },
  {
   "cell_type": "code",
   "execution_count": 5,
   "id": "technological-fireplace",
   "metadata": {},
   "outputs": [
    {
     "data": {
      "text/html": [
       "3"
      ],
      "text/latex": [
       "3"
      ],
      "text/markdown": [
       "3"
      ],
      "text/plain": [
       "[1] 3"
      ]
     },
     "metadata": {},
     "output_type": "display_data"
    }
   ],
   "source": [
    "# Operador división de enteros\n",
    "17%/%5"
   ]
  },
  {
   "cell_type": "markdown",
   "id": "republican-server",
   "metadata": {},
   "source": [
    "Podemos modificar el número de fígitos impresos **options(digits = x)**"
   ]
  },
  {
   "cell_type": "code",
   "execution_count": 9,
   "id": "finite-humanity",
   "metadata": {},
   "outputs": [],
   "source": [
    "options(digits = 3)"
   ]
  },
  {
   "cell_type": "code",
   "execution_count": 10,
   "id": "interim-virginia",
   "metadata": {},
   "outputs": [
    {
     "data": {
      "text/html": [
       "2.70481382942153"
      ],
      "text/latex": [
       "2.70481382942153"
      ],
      "text/markdown": [
       "2.70481382942153"
      ],
      "text/plain": [
       "[1] 2.7"
      ]
     },
     "metadata": {},
     "output_type": "display_data"
    }
   ],
   "source": [
    "(1 + 1/100)^100"
   ]
  },
  {
   "cell_type": "markdown",
   "id": "civil-leave",
   "metadata": {},
   "source": [
    "R tiene un número de funciones incorporadas, por ejemplo:\n",
    "- $sin(x)$, \n",
    "- $cos(x)$, \n",
    "- $tan(x)$, (todas la funciones trogonométricas en radianes), \n",
    "- $exp(x)$, \n",
    "- $log(x)$ y \n",
    "- $sqrt(x)$. \n",
    "\n",
    "Algunas constantes especiales, como como $pi$ también están predefinidas."
   ]
  },
  {
   "cell_type": "code",
   "execution_count": 11,
   "id": "billion-rental",
   "metadata": {},
   "outputs": [
    {
     "data": {
      "text/html": [
       "2.71828182845905"
      ],
      "text/latex": [
       "2.71828182845905"
      ],
      "text/markdown": [
       "2.71828182845905"
      ],
      "text/plain": [
       "[1] 2.72"
      ]
     },
     "metadata": {},
     "output_type": "display_data"
    }
   ],
   "source": [
    "exp(1)"
   ]
  },
  {
   "cell_type": "code",
   "execution_count": 12,
   "id": "waiting-township",
   "metadata": {},
   "outputs": [
    {
     "data": {
      "text/html": [
       "3.14159265358979"
      ],
      "text/latex": [
       "3.14159265358979"
      ],
      "text/markdown": [
       "3.14159265358979"
      ],
      "text/plain": [
       "[1] 3.14"
      ]
     },
     "metadata": {},
     "output_type": "display_data"
    }
   ],
   "source": [
    "pi"
   ]
  },
  {
   "cell_type": "code",
   "execution_count": 13,
   "id": "indoor-angle",
   "metadata": {},
   "outputs": [
    {
     "data": {
      "text/html": [
       "0.5"
      ],
      "text/latex": [
       "0.5"
      ],
      "text/markdown": [
       "0.5"
      ],
      "text/plain": [
       "[1] 0.5"
      ]
     },
     "metadata": {},
     "output_type": "display_data"
    }
   ],
   "source": [
    "sin(pi/6)"
   ]
  },
  {
   "cell_type": "markdown",
   "id": "young-thumbnail",
   "metadata": {},
   "source": [
    "Las funciones \n",
    "\n",
    "- $floor(x)$ y \n",
    "- $ceiling(x)$\n",
    "\n",
    "redondean hacia abajo y hacia arriba, respectivamente, al al número entero más cercano."
   ]
  },
  {
   "cell_type": "code",
   "execution_count": 1,
   "id": "530dc12d",
   "metadata": {},
   "outputs": [
    {
     "data": {
      "text/html": [
       "0"
      ],
      "text/latex": [
       "0"
      ],
      "text/markdown": [
       "0"
      ],
      "text/plain": [
       "[1] 0"
      ]
     },
     "metadata": {},
     "output_type": "display_data"
    }
   ],
   "source": [
    "floor(0.55)"
   ]
  },
  {
   "cell_type": "code",
   "execution_count": 2,
   "id": "e954ad8d",
   "metadata": {},
   "outputs": [
    {
     "data": {
      "text/html": [
       "1"
      ],
      "text/latex": [
       "1"
      ],
      "text/markdown": [
       "1"
      ],
      "text/plain": [
       "[1] 1"
      ]
     },
     "metadata": {},
     "output_type": "display_data"
    }
   ],
   "source": [
    "ceiling(0.55)"
   ]
  },
  {
   "cell_type": "markdown",
   "id": "administrative-danish",
   "metadata": {},
   "source": [
    "# Variables"
   ]
  },
  {
   "cell_type": "markdown",
   "id": "stone-frame",
   "metadata": {},
   "source": [
    "Una variable es como una carpeta con un nombre en el frente. Puedes colocar algo dentro de la carpeta, mirarlo, reemplazarlo por otra cosa, pero el nombre en el frente de la carpeta sigue siendo el mismo. Para asignar un valor a una variable utilizamos el comando de asignación **<-**. Las variables se crean la primera vez que se les asigna un valor. Se puede dar a una variable cualquier nombre compuesto por letras, números y **.** o **_**, siempre que empiece por una letra, o **.** y luego una letra. Tenga en cuenta que los nombres distinguen entre mayúsculas y minúsculas.\n"
   ]
  },
  {
   "cell_type": "code",
   "execution_count": 18,
   "id": "executed-authentication",
   "metadata": {},
   "outputs": [],
   "source": [
    "x <- 100"
   ]
  },
  {
   "cell_type": "code",
   "execution_count": 15,
   "id": "regulation-bosnia",
   "metadata": {},
   "outputs": [
    {
     "name": "stdout",
     "output_type": "stream",
     "text": [
      "[1] 100\n"
     ]
    }
   ],
   "source": [
    "print(x)"
   ]
  },
  {
   "cell_type": "code",
   "execution_count": 19,
   "id": "ahead-nerve",
   "metadata": {},
   "outputs": [
    {
     "data": {
      "text/html": [
       "2.70481382942153"
      ],
      "text/latex": [
       "2.70481382942153"
      ],
      "text/markdown": [
       "2.70481382942153"
      ],
      "text/plain": [
       "[1] 2.7"
      ]
     },
     "metadata": {},
     "output_type": "display_data"
    }
   ],
   "source": [
    "(1 + 1/x)^x"
   ]
  },
  {
   "cell_type": "code",
   "execution_count": 20,
   "id": "golden-auction",
   "metadata": {},
   "outputs": [],
   "source": [
    "n <- 1\n",
    "n <- n + 1"
   ]
  },
  {
   "cell_type": "code",
   "execution_count": 21,
   "id": "bearing-mouse",
   "metadata": {},
   "outputs": [
    {
     "name": "stdout",
     "output_type": "stream",
     "text": [
      "[1] 2\n"
     ]
    }
   ],
   "source": [
    "print(n)"
   ]
  },
  {
   "cell_type": "markdown",
   "id": "empirical-rocket",
   "metadata": {},
   "source": [
    "# Funciones"
   ]
  },
  {
   "cell_type": "markdown",
   "id": "waiting-privacy",
   "metadata": {},
   "source": [
    "En matemáticas, una función toma uno o más argumentos (o entradas) y produce una o más salidas (o valores de retorno). Las funciones en R funcionan de forma manera análoga.\n",
    "\n",
    "Para llamar o invocar una función definida en R se escribe el nombre de la función seguido de los valores de sus argumentos encerrados entre paréntesis y separados por comas. Lo ilustramos con la función seq, que produce secuencias aritméticas:\n",
    "\n",
    "\n"
   ]
  },
  {
   "cell_type": "code",
   "execution_count": 3,
   "id": "4e9779e4",
   "metadata": {},
   "outputs": [
    {
     "data": {
      "text/html": [
       "<style>\n",
       ".list-inline {list-style: none; margin:0; padding: 0}\n",
       ".list-inline>li {display: inline-block}\n",
       ".list-inline>li:not(:last-child)::after {content: \"\\00b7\"; padding: 0 .5ex}\n",
       "</style>\n",
       "<ol class=list-inline><li>1</li><li>3</li><li>5</li><li>7</li><li>9</li></ol>\n"
      ],
      "text/latex": [
       "\\begin{enumerate*}\n",
       "\\item 1\n",
       "\\item 3\n",
       "\\item 5\n",
       "\\item 7\n",
       "\\item 9\n",
       "\\end{enumerate*}\n"
      ],
      "text/markdown": [
       "1. 1\n",
       "2. 3\n",
       "3. 5\n",
       "4. 7\n",
       "5. 9\n",
       "\n",
       "\n"
      ],
      "text/plain": [
       "[1] 1 3 5 7 9"
      ]
     },
     "metadata": {},
     "output_type": "display_data"
    }
   ],
   "source": [
    "seq(from = 1, to = 9, by = 2)"
   ]
  },
  {
   "cell_type": "markdown",
   "id": "aaac6948",
   "metadata": {},
   "source": [
    "Algunos argumentos son opcionales y tienen valores predefinidos por defecto, por ejemplo si omitimos by entonces R utiliza by = 1:"
   ]
  },
  {
   "cell_type": "code",
   "execution_count": 4,
   "id": "a949e8c4",
   "metadata": {},
   "outputs": [
    {
     "data": {
      "text/html": [
       "<style>\n",
       ".list-inline {list-style: none; margin:0; padding: 0}\n",
       ".list-inline>li {display: inline-block}\n",
       ".list-inline>li:not(:last-child)::after {content: \"\\00b7\"; padding: 0 .5ex}\n",
       "</style>\n",
       "<ol class=list-inline><li>1</li><li>2</li><li>3</li><li>4</li><li>5</li><li>6</li><li>7</li><li>8</li><li>9</li></ol>\n"
      ],
      "text/latex": [
       "\\begin{enumerate*}\n",
       "\\item 1\n",
       "\\item 2\n",
       "\\item 3\n",
       "\\item 4\n",
       "\\item 5\n",
       "\\item 6\n",
       "\\item 7\n",
       "\\item 8\n",
       "\\item 9\n",
       "\\end{enumerate*}\n"
      ],
      "text/markdown": [
       "1. 1\n",
       "2. 2\n",
       "3. 3\n",
       "4. 4\n",
       "5. 5\n",
       "6. 6\n",
       "7. 7\n",
       "8. 8\n",
       "9. 9\n",
       "\n",
       "\n"
      ],
      "text/plain": [
       "[1] 1 2 3 4 5 6 7 8 9"
      ]
     },
     "metadata": {},
     "output_type": "display_data"
    }
   ],
   "source": [
    "seq(from = 1, to = 9)"
   ]
  },
  {
   "cell_type": "markdown",
   "id": "d239aafd",
   "metadata": {},
   "source": [
    "Cada valor del argumento viene dado por una expresión, que puede ser una constante una variable, otra llamada a una función o una combinación algebraica de éstas."
   ]
  },
  {
   "cell_type": "code",
   "execution_count": 5,
   "id": "80ed7c08",
   "metadata": {},
   "outputs": [
    {
     "data": {
      "text/html": [
       "<style>\n",
       ".list-inline {list-style: none; margin:0; padding: 0}\n",
       ".list-inline>li {display: inline-block}\n",
       ".list-inline>li:not(:last-child)::after {content: \"\\00b7\"; padding: 0 .5ex}\n",
       "</style>\n",
       "<ol class=list-inline><li>1</li><li>4</li><li>7</li></ol>\n"
      ],
      "text/latex": [
       "\\begin{enumerate*}\n",
       "\\item 1\n",
       "\\item 4\n",
       "\\item 7\n",
       "\\end{enumerate*}\n"
      ],
      "text/markdown": [
       "1. 1\n",
       "2. 4\n",
       "3. 7\n",
       "\n",
       "\n"
      ],
      "text/plain": [
       "[1] 1 4 7"
      ]
     },
     "metadata": {},
     "output_type": "display_data"
    }
   ],
   "source": [
    "x <- 9\n",
    "seq(1, x, x/3)"
   ]
  },
  {
   "cell_type": "markdown",
   "id": "18c82c8e",
   "metadata": {},
   "source": [
    "# Vectores"
   ]
  },
  {
   "cell_type": "markdown",
   "id": "a93dfdc8",
   "metadata": {},
   "source": [
    "Un vector es una lista indexada de variables. Puedes pensar en un vector como en un cajón de un archivador: el cajón tiene un nombre en el exterior y dentro de él hay archivos etiquetados secuencialmente 1, 2, 3, . . . desde el frente. Cada fichero es una simple variable cuyo nombre está formado por el nombre del vector y el número de la etiqueta/índice: el nombre del elemento i-ésimo del vector x es x[i]."
   ]
  },
  {
   "cell_type": "code",
   "execution_count": 11,
   "id": "fc9f825b",
   "metadata": {},
   "outputs": [
    {
     "name": "stdout",
     "output_type": "stream",
     "text": [
      " [1]  1  2  3  4  5  6  7  8  9 10\n",
      " [1] 11 12 13 14 15 16 17 18 19 20\n"
     ]
    }
   ],
   "source": [
    "x <- seq(1, 10, by = 1)\n",
    "y <- seq(11, 20, by = 1)\n",
    "print(x)\n",
    "print(y)"
   ]
  },
  {
   "cell_type": "markdown",
   "id": "6c0bae45",
   "metadata": {},
   "source": [
    "La función length(x) da el número de elemntos de $x$."
   ]
  },
  {
   "cell_type": "code",
   "execution_count": 12,
   "id": "07750d14",
   "metadata": {},
   "outputs": [
    {
     "data": {
      "text/html": [
       "10"
      ],
      "text/latex": [
       "10"
      ],
      "text/markdown": [
       "10"
      ],
      "text/plain": [
       "[1] 10"
      ]
     },
     "metadata": {},
     "output_type": "display_data"
    },
    {
     "data": {
      "text/html": [
       "10"
      ],
      "text/latex": [
       "10"
      ],
      "text/markdown": [
       "10"
      ],
      "text/plain": [
       "[1] 10"
      ]
     },
     "metadata": {},
     "output_type": "display_data"
    }
   ],
   "source": [
    "length(x)\n",
    "length(y)"
   ]
  },
  {
   "cell_type": "markdown",
   "id": "27fb0ca1",
   "metadata": {},
   "source": [
    "Podemos concatenar vectores"
   ]
  },
  {
   "cell_type": "code",
   "execution_count": 13,
   "id": "cda34a37",
   "metadata": {},
   "outputs": [
    {
     "name": "stdout",
     "output_type": "stream",
     "text": [
      " [1]  1  2  3  4  5  6  7  8  9 10 11 12 13 14 15 16 17 18 19 20\n"
     ]
    }
   ],
   "source": [
    "z <- c(x, y)\n",
    "print(z)"
   ]
  },
  {
   "cell_type": "markdown",
   "id": "55312ff2",
   "metadata": {},
   "source": [
    "## Extracción de elementos de un vector "
   ]
  },
  {
   "cell_type": "markdown",
   "id": "1a7243e3",
   "metadata": {},
   "source": [
    "Para referirse al elemento $i$ del vector $x$, utilizamos $x[i]$. Si $i$ es un vector de enteros positivos enteros, entonces $x[i]$ es el correspondiente subvector de $x$. Si los elementos de $i$ son negativos, se omiten los valores correspondientes."
   ]
  },
  {
   "cell_type": "code",
   "execution_count": 14,
   "id": "45461046",
   "metadata": {},
   "outputs": [
    {
     "name": "stdout",
     "output_type": "stream",
     "text": [
      " [1] 100 101 102 103 104 105 106 107 108 109 110\n"
     ]
    }
   ],
   "source": [
    "x <- 100:110\n",
    "print(x)"
   ]
  },
  {
   "cell_type": "markdown",
   "id": "590b2d8b",
   "metadata": {},
   "source": [
    "Supongamos que deseamos extraer el elemento número 5."
   ]
  },
  {
   "cell_type": "code",
   "execution_count": 15,
   "id": "86991ecf",
   "metadata": {},
   "outputs": [
    {
     "data": {
      "text/html": [
       "104"
      ],
      "text/latex": [
       "104"
      ],
      "text/markdown": [
       "104"
      ],
      "text/plain": [
       "[1] 104"
      ]
     },
     "metadata": {},
     "output_type": "display_data"
    }
   ],
   "source": [
    "x[5]"
   ]
  },
  {
   "cell_type": "markdown",
   "id": "5d43be8e",
   "metadata": {},
   "source": [
    "Si queremos eliminar el elemento 5 procedemos de la siguiente forma"
   ]
  },
  {
   "cell_type": "code",
   "execution_count": 16,
   "id": "91204eea",
   "metadata": {},
   "outputs": [
    {
     "data": {
      "text/html": [
       "<style>\n",
       ".list-inline {list-style: none; margin:0; padding: 0}\n",
       ".list-inline>li {display: inline-block}\n",
       ".list-inline>li:not(:last-child)::after {content: \"\\00b7\"; padding: 0 .5ex}\n",
       "</style>\n",
       "<ol class=list-inline><li>100</li><li>101</li><li>102</li><li>103</li><li>105</li><li>106</li><li>107</li><li>108</li><li>109</li><li>110</li></ol>\n"
      ],
      "text/latex": [
       "\\begin{enumerate*}\n",
       "\\item 100\n",
       "\\item 101\n",
       "\\item 102\n",
       "\\item 103\n",
       "\\item 105\n",
       "\\item 106\n",
       "\\item 107\n",
       "\\item 108\n",
       "\\item 109\n",
       "\\item 110\n",
       "\\end{enumerate*}\n"
      ],
      "text/markdown": [
       "1. 100\n",
       "2. 101\n",
       "3. 102\n",
       "4. 103\n",
       "5. 105\n",
       "6. 106\n",
       "7. 107\n",
       "8. 108\n",
       "9. 109\n",
       "10. 110\n",
       "\n",
       "\n"
      ],
      "text/plain": [
       " [1] 100 101 102 103 105 106 107 108 109 110"
      ]
     },
     "metadata": {},
     "output_type": "display_data"
    }
   ],
   "source": [
    "x[-5]"
   ]
  },
  {
   "cell_type": "markdown",
   "id": "2e1a24d1",
   "metadata": {},
   "source": [
    "Si queremos extraer un grupo de elementos del vector"
   ]
  },
  {
   "cell_type": "code",
   "execution_count": 17,
   "id": "0e2afb5b",
   "metadata": {},
   "outputs": [
    {
     "data": {
      "text/html": [
       "<style>\n",
       ".list-inline {list-style: none; margin:0; padding: 0}\n",
       ".list-inline>li {display: inline-block}\n",
       ".list-inline>li:not(:last-child)::after {content: \"\\00b7\"; padding: 0 .5ex}\n",
       "</style>\n",
       "<ol class=list-inline><li>101</li><li>102</li><li>103</li><li>104</li></ol>\n"
      ],
      "text/latex": [
       "\\begin{enumerate*}\n",
       "\\item 101\n",
       "\\item 102\n",
       "\\item 103\n",
       "\\item 104\n",
       "\\end{enumerate*}\n"
      ],
      "text/markdown": [
       "1. 101\n",
       "2. 102\n",
       "3. 103\n",
       "4. 104\n",
       "\n",
       "\n"
      ],
      "text/plain": [
       "[1] 101 102 103 104"
      ]
     },
     "metadata": {},
     "output_type": "display_data"
    }
   ],
   "source": [
    "i <- c(2, 3, 4, 5) # posición de elementos a extraer\n",
    "x[i]"
   ]
  },
  {
   "cell_type": "markdown",
   "id": "bb718d08",
   "metadata": {},
   "source": [
    "Si lo que deseamos es eliminarlos"
   ]
  },
  {
   "cell_type": "code",
   "execution_count": 18,
   "id": "f451dc92",
   "metadata": {},
   "outputs": [
    {
     "data": {
      "text/html": [
       "<style>\n",
       ".list-inline {list-style: none; margin:0; padding: 0}\n",
       ".list-inline>li {display: inline-block}\n",
       ".list-inline>li:not(:last-child)::after {content: \"\\00b7\"; padding: 0 .5ex}\n",
       "</style>\n",
       "<ol class=list-inline><li>100</li><li>105</li><li>106</li><li>107</li><li>108</li><li>109</li><li>110</li></ol>\n"
      ],
      "text/latex": [
       "\\begin{enumerate*}\n",
       "\\item 100\n",
       "\\item 105\n",
       "\\item 106\n",
       "\\item 107\n",
       "\\item 108\n",
       "\\item 109\n",
       "\\item 110\n",
       "\\end{enumerate*}\n"
      ],
      "text/markdown": [
       "1. 100\n",
       "2. 105\n",
       "3. 106\n",
       "4. 107\n",
       "5. 108\n",
       "6. 109\n",
       "7. 110\n",
       "\n",
       "\n"
      ],
      "text/plain": [
       "[1] 100 105 106 107 108 109 110"
      ]
     },
     "metadata": {},
     "output_type": "display_data"
    }
   ],
   "source": [
    "i <- c(-2, -3, -4, -5) # posición de elementos a eliminar\n",
    "x[i]"
   ]
  },
  {
   "cell_type": "markdown",
   "id": "4fe4b8e2",
   "metadata": {},
   "source": [
    "## Operaciones con vectores"
   ]
  },
  {
   "cell_type": "markdown",
   "id": "37f946a6",
   "metadata": {},
   "source": [
    "Con  los vectores podemos realizar operaciones como:\n",
    "- $u$ $\\cdot$ $v$ \n",
    "- $u$ / $v$\n",
    "- $u$ + $v$\n",
    "- $u$ - $v$\n",
    "\n",
    "donde $u$ y $v$ son vectores.  "
   ]
  },
  {
   "cell_type": "markdown",
   "id": "6f709472",
   "metadata": {},
   "source": [
    "Las operaciones algebraicas sobre vectores actúan sobre cada elemento por separado, es decir, por elementos."
   ]
  },
  {
   "cell_type": "code",
   "execution_count": 39,
   "id": "af798a27",
   "metadata": {},
   "outputs": [],
   "source": [
    "x <- c(1, 2, 3)\n",
    "y <- c(4, 5, 6)"
   ]
  },
  {
   "cell_type": "markdown",
   "id": "83e28178",
   "metadata": {},
   "source": [
    "Multiplicación"
   ]
  },
  {
   "cell_type": "code",
   "execution_count": 20,
   "id": "3cfda445",
   "metadata": {},
   "outputs": [
    {
     "data": {
      "text/html": [
       "<style>\n",
       ".list-inline {list-style: none; margin:0; padding: 0}\n",
       ".list-inline>li {display: inline-block}\n",
       ".list-inline>li:not(:last-child)::after {content: \"\\00b7\"; padding: 0 .5ex}\n",
       "</style>\n",
       "<ol class=list-inline><li>4</li><li>10</li><li>18</li></ol>\n"
      ],
      "text/latex": [
       "\\begin{enumerate*}\n",
       "\\item 4\n",
       "\\item 10\n",
       "\\item 18\n",
       "\\end{enumerate*}\n"
      ],
      "text/markdown": [
       "1. 4\n",
       "2. 10\n",
       "3. 18\n",
       "\n",
       "\n"
      ],
      "text/plain": [
       "[1]  4 10 18"
      ]
     },
     "metadata": {},
     "output_type": "display_data"
    }
   ],
   "source": [
    "# la operación la realiza elemento a elemento\n",
    "x * y"
   ]
  },
  {
   "cell_type": "markdown",
   "id": "0d9bd4bb",
   "metadata": {},
   "source": [
    "División\n"
   ]
  },
  {
   "cell_type": "code",
   "execution_count": 21,
   "id": "9b1fa43d",
   "metadata": {},
   "outputs": [
    {
     "data": {
      "text/html": [
       "<style>\n",
       ".list-inline {list-style: none; margin:0; padding: 0}\n",
       ".list-inline>li {display: inline-block}\n",
       ".list-inline>li:not(:last-child)::after {content: \"\\00b7\"; padding: 0 .5ex}\n",
       "</style>\n",
       "<ol class=list-inline><li>0.25</li><li>0.4</li><li>0.5</li></ol>\n"
      ],
      "text/latex": [
       "\\begin{enumerate*}\n",
       "\\item 0.25\n",
       "\\item 0.4\n",
       "\\item 0.5\n",
       "\\end{enumerate*}\n"
      ],
      "text/markdown": [
       "1. 0.25\n",
       "2. 0.4\n",
       "3. 0.5\n",
       "\n",
       "\n"
      ],
      "text/plain": [
       "[1] 0.25 0.40 0.50"
      ]
     },
     "metadata": {},
     "output_type": "display_data"
    }
   ],
   "source": [
    "# la operación la realiza elemento a elemento\n",
    "x / y"
   ]
  },
  {
   "cell_type": "markdown",
   "id": "4e30bae4",
   "metadata": {},
   "source": [
    "Suma"
   ]
  },
  {
   "cell_type": "code",
   "execution_count": 40,
   "id": "127ce094",
   "metadata": {},
   "outputs": [
    {
     "data": {
      "text/html": [
       "<style>\n",
       ".list-inline {list-style: none; margin:0; padding: 0}\n",
       ".list-inline>li {display: inline-block}\n",
       ".list-inline>li:not(:last-child)::after {content: \"\\00b7\"; padding: 0 .5ex}\n",
       "</style>\n",
       "<ol class=list-inline><li>5</li><li>7</li><li>9</li></ol>\n"
      ],
      "text/latex": [
       "\\begin{enumerate*}\n",
       "\\item 5\n",
       "\\item 7\n",
       "\\item 9\n",
       "\\end{enumerate*}\n"
      ],
      "text/markdown": [
       "1. 5\n",
       "2. 7\n",
       "3. 9\n",
       "\n",
       "\n"
      ],
      "text/plain": [
       "[1] 5 7 9"
      ]
     },
     "metadata": {},
     "output_type": "display_data"
    }
   ],
   "source": [
    "# la operación la realiza elemento a elemento\n",
    "x + y"
   ]
  },
  {
   "cell_type": "markdown",
   "id": "c45e694c",
   "metadata": {},
   "source": [
    "> Cuando se aplica una expresión algebraica a dos vectores de longitud desigual, R repite automáticamente el vector más corto hasta que tenga la misma longitud que el vector más largo."
   ]
  },
  {
   "cell_type": "code",
   "execution_count": 27,
   "id": "65d5f310",
   "metadata": {},
   "outputs": [
    {
     "data": {
      "text/html": [
       "<style>\n",
       ".list-inline {list-style: none; margin:0; padding: 0}\n",
       ".list-inline>li {display: inline-block}\n",
       ".list-inline>li:not(:last-child)::after {content: \"\\00b7\"; padding: 0 .5ex}\n",
       "</style>\n",
       "<ol class=list-inline><li>2</li><li>4</li><li>4</li><li>6</li></ol>\n"
      ],
      "text/latex": [
       "\\begin{enumerate*}\n",
       "\\item 2\n",
       "\\item 4\n",
       "\\item 4\n",
       "\\item 6\n",
       "\\end{enumerate*}\n"
      ],
      "text/markdown": [
       "1. 2\n",
       "2. 4\n",
       "3. 4\n",
       "4. 6\n",
       "\n",
       "\n"
      ],
      "text/plain": [
       "[1] 2 4 4 6"
      ]
     },
     "metadata": {},
     "output_type": "display_data"
    }
   ],
   "source": [
    "c(1, 2, 3, 4) + c(1, 2)"
   ]
  },
  {
   "cell_type": "markdown",
   "id": "81ec121a",
   "metadata": {},
   "source": [
    "R seguirá duplicando el vector más corto aunque no pueda igualar el vector más largo con un número entero de múltiplos, pero en este caso producirá un warning."
   ]
  },
  {
   "cell_type": "code",
   "execution_count": 28,
   "id": "6951ff68",
   "metadata": {},
   "outputs": [
    {
     "name": "stderr",
     "output_type": "stream",
     "text": [
      "Warning message in c(1, 2, 3) + c(1, 2):\n",
      "\"longitud de objeto mayor no es múltiplo de la longitud de uno menor\"\n"
     ]
    },
    {
     "data": {
      "text/html": [
       "<style>\n",
       ".list-inline {list-style: none; margin:0; padding: 0}\n",
       ".list-inline>li {display: inline-block}\n",
       ".list-inline>li:not(:last-child)::after {content: \"\\00b7\"; padding: 0 .5ex}\n",
       "</style>\n",
       "<ol class=list-inline><li>2</li><li>4</li><li>4</li></ol>\n"
      ],
      "text/latex": [
       "\\begin{enumerate*}\n",
       "\\item 2\n",
       "\\item 4\n",
       "\\item 4\n",
       "\\end{enumerate*}\n"
      ],
      "text/markdown": [
       "1. 2\n",
       "2. 4\n",
       "3. 4\n",
       "\n",
       "\n"
      ],
      "text/plain": [
       "[1] 2 4 4"
      ]
     },
     "metadata": {},
     "output_type": "display_data"
    }
   ],
   "source": [
    "c(1,2,3) + c(1,2)"
   ]
  },
  {
   "cell_type": "markdown",
   "id": "711b144a",
   "metadata": {},
   "source": [
    "## Funciones con vectores"
   ]
  },
  {
   "cell_type": "markdown",
   "id": "1ea7241c",
   "metadata": {},
   "source": [
    "Si consideramos $x$ un vector númerico, entonces, podemos emplear las siguientes funciones\n",
    "- $sum(x)$ : suma los elementos del vector $x$.\n",
    "- $prod(x)$ : realiza el producto de los elementos del vector.\n",
    "- $max(x)$ : regresa el máximo del vector.\n",
    "- $min(x)$ : regresa el mínimo del vector.\n",
    "- $sqrt(x)$ : calcula la raíz cuadrada de los elementos del vector.\n",
    "- $sort(x)$ : ordena los elementos del vector.\n",
    "- $mean(x)$ : calcula la media de los elementos del vector.\n",
    "- $var(x)$ : calcula la varianza."
   ]
  },
  {
   "cell_type": "code",
   "execution_count": 33,
   "id": "faf907ce",
   "metadata": {},
   "outputs": [],
   "source": [
    "# definimos un vector\n",
    "x <- c(6, 5, 4, 3, 2, 1) "
   ]
  },
  {
   "cell_type": "code",
   "execution_count": 34,
   "id": "4a44d85d",
   "metadata": {},
   "outputs": [
    {
     "data": {
      "text/html": [
       "3.5"
      ],
      "text/latex": [
       "3.5"
      ],
      "text/markdown": [
       "3.5"
      ],
      "text/plain": [
       "[1] 3.5"
      ]
     },
     "metadata": {},
     "output_type": "display_data"
    }
   ],
   "source": [
    "# calculamos la media\n",
    "mean(x)"
   ]
  },
  {
   "cell_type": "code",
   "execution_count": 35,
   "id": "290fc2ca",
   "metadata": {},
   "outputs": [
    {
     "data": {
      "text/html": [
       "<style>\n",
       ".list-inline {list-style: none; margin:0; padding: 0}\n",
       ".list-inline>li {display: inline-block}\n",
       ".list-inline>li:not(:last-child)::after {content: \"\\00b7\"; padding: 0 .5ex}\n",
       "</style>\n",
       "<ol class=list-inline><li>1</li><li>2</li><li>3</li><li>4</li><li>5</li><li>6</li></ol>\n"
      ],
      "text/latex": [
       "\\begin{enumerate*}\n",
       "\\item 1\n",
       "\\item 2\n",
       "\\item 3\n",
       "\\item 4\n",
       "\\item 5\n",
       "\\item 6\n",
       "\\end{enumerate*}\n"
      ],
      "text/markdown": [
       "1. 1\n",
       "2. 2\n",
       "3. 3\n",
       "4. 4\n",
       "5. 5\n",
       "6. 6\n",
       "\n",
       "\n"
      ],
      "text/plain": [
       "[1] 1 2 3 4 5 6"
      ]
     },
     "metadata": {},
     "output_type": "display_data"
    }
   ],
   "source": [
    "sort(x)"
   ]
  },
  {
   "cell_type": "markdown",
   "id": "f41d652a",
   "metadata": {},
   "source": [
    "## Datos faltantes"
   ]
  },
  {
   "cell_type": "markdown",
   "id": "57d7bc9f",
   "metadata": {},
   "source": [
    "En los experimentos reales es frecuente que, por una u otra razón, falten ciertas observaciones. Dependiendo del análisis que se realice los datos que faltan pueden ser ignorados o imputados. R representa las observaciones que faltan mediante el valor de datos **NA**. Pueden ser mezclados con todos los demás tipos de datos. Lo más fácil es pensar en los valores **NA** como el lugar de los datos que deberían estar ahí, pero que, por alguna razón, no lo están. Podemos detectar los valores que faltan utilizando **is.na**.\n",
    "\n"
   ]
  },
  {
   "cell_type": "code",
   "execution_count": 1,
   "id": "3a26266b",
   "metadata": {},
   "outputs": [
    {
     "data": {
      "text/html": [
       "TRUE"
      ],
      "text/latex": [
       "TRUE"
      ],
      "text/markdown": [
       "TRUE"
      ],
      "text/plain": [
       "[1] TRUE"
      ]
     },
     "metadata": {},
     "output_type": "display_data"
    }
   ],
   "source": [
    "a <- NA\n",
    "is.na(a)"
   ]
  },
  {
   "cell_type": "code",
   "execution_count": 2,
   "id": "98c8f9e3",
   "metadata": {},
   "outputs": [
    {
     "data": {
      "text/html": [
       "<style>\n",
       ".list-inline {list-style: none; margin:0; padding: 0}\n",
       ".list-inline>li {display: inline-block}\n",
       ".list-inline>li:not(:last-child)::after {content: \"\\00b7\"; padding: 0 .5ex}\n",
       "</style>\n",
       "<ol class=list-inline><li>FALSE</li><li>TRUE</li><li>FALSE</li></ol>\n"
      ],
      "text/latex": [
       "\\begin{enumerate*}\n",
       "\\item FALSE\n",
       "\\item TRUE\n",
       "\\item FALSE\n",
       "\\end{enumerate*}\n"
      ],
      "text/markdown": [
       "1. FALSE\n",
       "2. TRUE\n",
       "3. FALSE\n",
       "\n",
       "\n"
      ],
      "text/plain": [
       "[1] FALSE  TRUE FALSE"
      ]
     },
     "metadata": {},
     "output_type": "display_data"
    }
   ],
   "source": [
    "a <- c(11,NA,13)\n",
    "is.na(a)"
   ]
  },
  {
   "cell_type": "code",
   "execution_count": 3,
   "id": "5c34fc37",
   "metadata": {},
   "outputs": [
    {
     "data": {
      "text/html": [
       "&lt;NA&gt;"
      ],
      "text/latex": [
       "<NA>"
      ],
      "text/markdown": [
       "&lt;NA&gt;"
      ],
      "text/plain": [
       "[1] NA"
      ]
     },
     "metadata": {},
     "output_type": "display_data"
    }
   ],
   "source": [
    "mean(a)"
   ]
  },
  {
   "cell_type": "code",
   "execution_count": 4,
   "id": "12f3a8dd",
   "metadata": {},
   "outputs": [
    {
     "data": {
      "text/html": [
       "12"
      ],
      "text/latex": [
       "12"
      ],
      "text/markdown": [
       "12"
      ],
      "text/plain": [
       "[1] 12"
      ]
     },
     "metadata": {},
     "output_type": "display_data"
    }
   ],
   "source": [
    "mean(a, na.rm = TRUE)"
   ]
  },
  {
   "cell_type": "markdown",
   "id": "cccf57cf",
   "metadata": {},
   "source": [
    "También mencionamos el objeto nulo, llamado **NULL**, que es devuelto por algunas funciones y expresiones. Tenga en cuenta que **NA** y **NULL** no son equivalentes. **NA** es un marcador de posición para algo que existe pero que falta. **NULL** representa algo que nunca ha existido."
   ]
  },
  {
   "cell_type": "markdown",
   "id": "e3858a2b",
   "metadata": {},
   "source": [
    "# Expresiones lógicas"
   ]
  },
  {
   "cell_type": "markdown",
   "id": "7961a78d",
   "metadata": {},
   "source": [
    "Una expresión lógica se forma utilizando los operadores de comparación:\n",
    "- $<$, \n",
    "- $>$, \n",
    "- $<=$, \n",
    "- $>=$, \n",
    "- $==$ (igual a) y \n",
    "- $!=$ (no igual a)\n",
    "\n",
    "los operadores lógicos son :\n",
    "\n",
    "| Símbolo  | Uso        |    Significado        | Ejemplo           |  Resultado |\n",
    "| --- | --- | --- | --- | --- |\n",
    "|  \\& (y)  |  x \\& y    |  x Y y son verdadero  |  TRUE \\& FALSE    |  FALSE   |\n",
    "| \\| (o)    |  x \\| y  |  x Ó y es verdadero   |  TRUE \\| FALSE     |  TRUE    |\n",
    "|  \\! (no)  |  \\!x       |  x no es verdadero    | \\!TRUE               |  FALSE   |\n",
    "\n",
    "\n",
    "Los operadores | y $\\&$ siguen estas reglas:\n",
    "\n",
    "- | devuelve TRUE si alguno de los datos es TRUE\n",
    "- $\\&$ solo devuelve TRUE si ambos datos es TRUE\n",
    "\n",
    "El orden de las operaciones puede controlarse mediante paréntesis ().\n",
    "\n",
    "El valor de una expresión lógica es TRUE o FALSE. Los enteros $1$ y $0$ también pueden utilizarse para representar TRUE y FALSE, respectivamente."
   ]
  },
  {
   "cell_type": "code",
   "execution_count": 5,
   "id": "abf283f1",
   "metadata": {},
   "outputs": [],
   "source": [
    "x <- c(0, 0, 1, 1) \n",
    "y <- c(0, 1, 0, 1)"
   ]
  },
  {
   "cell_type": "code",
   "execution_count": 7,
   "id": "002549e5",
   "metadata": {},
   "outputs": [
    {
     "data": {
      "text/html": [
       "<style>\n",
       ".list-inline {list-style: none; margin:0; padding: 0}\n",
       ".list-inline>li {display: inline-block}\n",
       ".list-inline>li:not(:last-child)::after {content: \"\\00b7\"; padding: 0 .5ex}\n",
       "</style>\n",
       "<ol class=list-inline><li>FALSE</li><li>TRUE</li><li>TRUE</li><li>TRUE</li></ol>\n"
      ],
      "text/latex": [
       "\\begin{enumerate*}\n",
       "\\item FALSE\n",
       "\\item TRUE\n",
       "\\item TRUE\n",
       "\\item TRUE\n",
       "\\end{enumerate*}\n"
      ],
      "text/markdown": [
       "1. FALSE\n",
       "2. TRUE\n",
       "3. TRUE\n",
       "4. TRUE\n",
       "\n",
       "\n"
      ],
      "text/plain": [
       "[1] FALSE  TRUE  TRUE  TRUE"
      ]
     },
     "metadata": {},
     "output_type": "display_data"
    }
   ],
   "source": [
    "x | y"
   ]
  },
  {
   "cell_type": "markdown",
   "id": "932d0c01",
   "metadata": {},
   "source": [
    "> Tenga en cuenta que A|B es TRUE si A o B o ambos son TRUE"
   ]
  },
  {
   "cell_type": "markdown",
   "id": "6de0ff8f",
   "metadata": {},
   "source": [
    "## Subconjuntos de un vector"
   ]
  },
  {
   "cell_type": "markdown",
   "id": "b362b003",
   "metadata": {},
   "source": [
    "Una forma de extraer un subvector es proporcionar un subconjunto como un vector de valores TRUE/FALSE, de la misma longitud que x."
   ]
  },
  {
   "cell_type": "code",
   "execution_count": 8,
   "id": "b7b54cde",
   "metadata": {},
   "outputs": [
    {
     "data": {
      "text/html": [
       "<style>\n",
       ".list-inline {list-style: none; margin:0; padding: 0}\n",
       ".list-inline>li {display: inline-block}\n",
       ".list-inline>li:not(:last-child)::after {content: \"\\00b7\"; padding: 0 .5ex}\n",
       "</style>\n",
       "<ol class=list-inline><li>FALSE</li><li>FALSE</li><li>FALSE</li><li>TRUE</li><li>FALSE</li><li>FALSE</li><li>FALSE</li><li>TRUE</li><li>FALSE</li><li>FALSE</li><li>FALSE</li><li>TRUE</li><li>FALSE</li><li>FALSE</li><li>FALSE</li><li>TRUE</li><li>FALSE</li><li>FALSE</li><li>FALSE</li><li>TRUE</li></ol>\n"
      ],
      "text/latex": [
       "\\begin{enumerate*}\n",
       "\\item FALSE\n",
       "\\item FALSE\n",
       "\\item FALSE\n",
       "\\item TRUE\n",
       "\\item FALSE\n",
       "\\item FALSE\n",
       "\\item FALSE\n",
       "\\item TRUE\n",
       "\\item FALSE\n",
       "\\item FALSE\n",
       "\\item FALSE\n",
       "\\item TRUE\n",
       "\\item FALSE\n",
       "\\item FALSE\n",
       "\\item FALSE\n",
       "\\item TRUE\n",
       "\\item FALSE\n",
       "\\item FALSE\n",
       "\\item FALSE\n",
       "\\item TRUE\n",
       "\\end{enumerate*}\n"
      ],
      "text/markdown": [
       "1. FALSE\n",
       "2. FALSE\n",
       "3. FALSE\n",
       "4. TRUE\n",
       "5. FALSE\n",
       "6. FALSE\n",
       "7. FALSE\n",
       "8. TRUE\n",
       "9. FALSE\n",
       "10. FALSE\n",
       "11. FALSE\n",
       "12. TRUE\n",
       "13. FALSE\n",
       "14. FALSE\n",
       "15. FALSE\n",
       "16. TRUE\n",
       "17. FALSE\n",
       "18. FALSE\n",
       "19. FALSE\n",
       "20. TRUE\n",
       "\n",
       "\n"
      ],
      "text/plain": [
       " [1] FALSE FALSE FALSE  TRUE FALSE FALSE FALSE  TRUE FALSE FALSE FALSE  TRUE\n",
       "[13] FALSE FALSE FALSE  TRUE FALSE FALSE FALSE  TRUE"
      ]
     },
     "metadata": {},
     "output_type": "display_data"
    }
   ],
   "source": [
    "x <- 1:20\n",
    "x%%4 == 0"
   ]
  },
  {
   "cell_type": "code",
   "execution_count": 9,
   "id": "0d747f6e",
   "metadata": {},
   "outputs": [
    {
     "data": {
      "text/html": [
       "<style>\n",
       ".list-inline {list-style: none; margin:0; padding: 0}\n",
       ".list-inline>li {display: inline-block}\n",
       ".list-inline>li:not(:last-child)::after {content: \"\\00b7\"; padding: 0 .5ex}\n",
       "</style>\n",
       "<ol class=list-inline><li>4</li><li>8</li><li>12</li><li>16</li><li>20</li></ol>\n"
      ],
      "text/latex": [
       "\\begin{enumerate*}\n",
       "\\item 4\n",
       "\\item 8\n",
       "\\item 12\n",
       "\\item 16\n",
       "\\item 20\n",
       "\\end{enumerate*}\n"
      ],
      "text/markdown": [
       "1. 4\n",
       "2. 8\n",
       "3. 12\n",
       "4. 16\n",
       "5. 20\n",
       "\n",
       "\n"
      ],
      "text/plain": [
       "[1]  4  8 12 16 20"
      ]
     },
     "metadata": {},
     "output_type": "display_data"
    }
   ],
   "source": [
    "x[x%%4 == 0]"
   ]
  },
  {
   "cell_type": "code",
   "execution_count": 1,
   "id": "d5f80355",
   "metadata": {},
   "outputs": [
    {
     "data": {
      "text/html": [
       "<style>\n",
       ".list-inline {list-style: none; margin:0; padding: 0}\n",
       ".list-inline>li {display: inline-block}\n",
       ".list-inline>li:not(:last-child)::after {content: \"\\00b7\"; padding: 0 .5ex}\n",
       "</style>\n",
       "<ol class=list-inline><li>FALSE</li><li>&lt;NA&gt;</li><li>TRUE</li><li>TRUE</li></ol>\n"
      ],
      "text/latex": [
       "\\begin{enumerate*}\n",
       "\\item FALSE\n",
       "\\item <NA>\n",
       "\\item TRUE\n",
       "\\item TRUE\n",
       "\\end{enumerate*}\n"
      ],
      "text/markdown": [
       "1. FALSE\n",
       "2. &lt;NA&gt;\n",
       "3. TRUE\n",
       "4. TRUE\n",
       "\n",
       "\n"
      ],
      "text/plain": [
       "[1] FALSE    NA  TRUE  TRUE"
      ]
     },
     "metadata": {},
     "output_type": "display_data"
    }
   ],
   "source": [
    "# con valores faltantes\n",
    "x <- c(1, NA, 3, 4)\n",
    "x > 2"
   ]
  },
  {
   "cell_type": "code",
   "execution_count": 7,
   "id": "31d8c2c7",
   "metadata": {},
   "outputs": [
    {
     "data": {
      "text/html": [
       "<style>\n",
       ".list-inline {list-style: none; margin:0; padding: 0}\n",
       ".list-inline>li {display: inline-block}\n",
       ".list-inline>li:not(:last-child)::after {content: \"\\00b7\"; padding: 0 .5ex}\n",
       "</style>\n",
       "<ol class=list-inline><li>&lt;NA&gt;</li><li>3</li><li>4</li></ol>\n"
      ],
      "text/latex": [
       "\\begin{enumerate*}\n",
       "\\item <NA>\n",
       "\\item 3\n",
       "\\item 4\n",
       "\\end{enumerate*}\n"
      ],
      "text/markdown": [
       "1. &lt;NA&gt;\n",
       "2. 3\n",
       "3. 4\n",
       "\n",
       "\n"
      ],
      "text/plain": [
       "[1] NA  3  4"
      ]
     },
     "metadata": {},
     "output_type": "display_data"
    }
   ],
   "source": [
    "x[x > 2]"
   ]
  },
  {
   "cell_type": "markdown",
   "id": "88153bf6",
   "metadata": {},
   "source": [
    "Si desea conocer las posiciones de índice de los elementos TRUE de un vector lógico x, utilice which(x)."
   ]
  },
  {
   "cell_type": "code",
   "execution_count": 12,
   "id": "50257dd3",
   "metadata": {},
   "outputs": [],
   "source": [
    "x <- c(1, 1, 2, 3, 5, 8, 13)"
   ]
  },
  {
   "cell_type": "code",
   "execution_count": 13,
   "id": "4927eb6b",
   "metadata": {},
   "outputs": [
    {
     "data": {
      "text/html": [
       "<style>\n",
       ".list-inline {list-style: none; margin:0; padding: 0}\n",
       ".list-inline>li {display: inline-block}\n",
       ".list-inline>li:not(:last-child)::after {content: \"\\00b7\"; padding: 0 .5ex}\n",
       "</style>\n",
       "<ol class=list-inline><li>3</li><li>6</li></ol>\n"
      ],
      "text/latex": [
       "\\begin{enumerate*}\n",
       "\\item 3\n",
       "\\item 6\n",
       "\\end{enumerate*}\n"
      ],
      "text/markdown": [
       "1. 3\n",
       "2. 6\n",
       "\n",
       "\n"
      ],
      "text/plain": [
       "[1] 3 6"
      ]
     },
     "metadata": {},
     "output_type": "display_data"
    }
   ],
   "source": [
    "which(x%%2 == 0)"
   ]
  },
  {
   "cell_type": "markdown",
   "id": "5fbeafc7",
   "metadata": {},
   "source": [
    "## Error de redondeo\n",
    "\n",
    "Sólo los números enteros y las fracciones cuyo denominador es una potencia de 2 pueden representarse exactamente con la representación en coma flotante que se utiliza para almacenar números en los ordenadores digitales. Todos los demás números están sujetos a un error de redondeo. Esta necesaria limitación ha causado muchos disgustos."
   ]
  },
  {
   "cell_type": "code",
   "execution_count": 14,
   "id": "61747d24",
   "metadata": {},
   "outputs": [
    {
     "data": {
      "text/html": [
       "TRUE"
      ],
      "text/latex": [
       "TRUE"
      ],
      "text/markdown": [
       "TRUE"
      ],
      "text/plain": [
       "[1] TRUE"
      ]
     },
     "metadata": {},
     "output_type": "display_data"
    }
   ],
   "source": [
    "2 * 2 == 4"
   ]
  },
  {
   "cell_type": "code",
   "execution_count": 15,
   "id": "0cb8fd3d",
   "metadata": {},
   "outputs": [
    {
     "data": {
      "text/html": [
       "FALSE"
      ],
      "text/latex": [
       "FALSE"
      ],
      "text/markdown": [
       "FALSE"
      ],
      "text/plain": [
       "[1] FALSE"
      ]
     },
     "metadata": {},
     "output_type": "display_data"
    }
   ],
   "source": [
    "sqrt(2) * sqrt(2) == 2"
   ]
  },
  {
   "cell_type": "markdown",
   "id": "ccdd6fe1",
   "metadata": {},
   "source": [
    "El problema aquí es que sqrt(2) tiene error de redondeo, que se magnifica cuando lo elevamos al cuadrado. La solución es utilizar la función $all.equal(x, y)$ que devuelve TRUE si la diferencia entre $x$ e $y$ es menor que alguna tolerancia establecida tolerancia, basada en el nivel de precisión operacional de R."
   ]
  },
  {
   "cell_type": "code",
   "execution_count": 17,
   "id": "9770ab70",
   "metadata": {},
   "outputs": [
    {
     "data": {
      "text/html": [
       "TRUE"
      ],
      "text/latex": [
       "TRUE"
      ],
      "text/markdown": [
       "TRUE"
      ],
      "text/plain": [
       "[1] TRUE"
      ]
     },
     "metadata": {},
     "output_type": "display_data"
    }
   ],
   "source": [
    "all.equal(sqrt(2) * sqrt(2), 2)"
   ]
  },
  {
   "cell_type": "markdown",
   "id": "9e6fd755",
   "metadata": {},
   "source": [
    "## Operadores lógicos secuenciales && y ||\n",
    "\n",
    "Los operadores lógicos && y || son versiones de & y | evaluadas secuencialmente, respectivamente.\n",
    "\n",
    "Supongamos que $x$ e $y$ son expresiones lógicas. Para evaluar $x$ & $y$, R evalúa primero $x$ e $y$, luego devuelve TRUE si $x$ e $y$ son ambos TRUE, FALSE en caso contrario. Para evaluar $x$ && $y$, R evalúa primero $x$. Si $x$ es FALSO, R devuelve FALSE sin evaluar $y$. Si $x$ es TRUE, R evalúa $y$ y devuelve TRUE si $y$ es TRUE, FALSE en caso contrario.\n",
    "\n",
    "Del mismo modo, para evaluar $x$ || $y$, R sólo evalúa $y$ si tiene que hacerlo, es decir, si $x$ es FALSO."
   ]
  },
  {
   "cell_type": "code",
   "execution_count": 37,
   "id": "a0dcfb0a",
   "metadata": {},
   "outputs": [
    {
     "name": "stderr",
     "output_type": "stream",
     "text": [
      "Warning message in sin(1/v):\n",
      "\"Se han producido NaNs\"\n"
     ]
    },
    {
     "data": {
      "text/html": [
       "&lt;NA&gt;"
      ],
      "text/latex": [
       "<NA>"
      ],
      "text/markdown": [
       "&lt;NA&gt;"
      ],
      "text/plain": [
       "[1] NA"
      ]
     },
     "metadata": {},
     "output_type": "display_data"
    }
   ],
   "source": [
    "v <- 0\n",
    "sin(1/v) == 0"
   ]
  },
  {
   "cell_type": "code",
   "execution_count": 33,
   "id": "eac6b1f7",
   "metadata": {},
   "outputs": [
    {
     "name": "stderr",
     "output_type": "stream",
     "text": [
      "Warning message in sin(1/v):\n",
      "\"Se han producido NaNs\"\n"
     ]
    },
    {
     "data": {
      "text/html": [
       "TRUE"
      ],
      "text/latex": [
       "TRUE"
      ],
      "text/markdown": [
       "TRUE"
      ],
      "text/plain": [
       "[1] TRUE"
      ]
     },
     "metadata": {},
     "output_type": "display_data"
    }
   ],
   "source": [
    "# Operación | evalua ambas operaciones\n",
    "(v == 0)  | (sin(1/v) == 0)"
   ]
  },
  {
   "cell_type": "code",
   "execution_count": 35,
   "id": "8034fd58",
   "metadata": {},
   "outputs": [
    {
     "data": {
      "text/html": [
       "TRUE"
      ],
      "text/latex": [
       "TRUE"
      ],
      "text/markdown": [
       "TRUE"
      ],
      "text/plain": [
       "[1] TRUE"
      ]
     },
     "metadata": {},
     "output_type": "display_data"
    }
   ],
   "source": [
    "# Operación || evalua primero v. Si v es FALSE evalua y\n",
    "(v == 0)  || (sin(1/v) == 0)"
   ]
  },
  {
   "cell_type": "markdown",
   "id": "b8105e5c",
   "metadata": {},
   "source": [
    "**Nota**\n",
    "Tenga en cuenta que && y || sólo funcionan con escalares, mientras que & y | funcionan con vectores sobre una base de elemento por elemento."
   ]
  },
  {
   "cell_type": "markdown",
   "id": "05d32988",
   "metadata": {},
   "source": [
    "# Matrices"
   ]
  },
  {
   "cell_type": "markdown",
   "id": "4b5c8fa7",
   "metadata": {},
   "source": [
    "Una matriz se crea a partir de un vector utilizando la función matriz, que tiene la forma \n",
    "\n",
    "> $matrix(datos, nrow = 1, ncol = 1, byrow = FALSE)$ \n",
    "\n",
    "Aquí los datos son un vector de longitud máxima $nrow*ncol$, nrow y ncol son el número de filas y columnas respectivamente, y byrow puede ser TRUE o FALSE (por defecto FALSE) e indica si se desea desea rellenar la matriz fila por fila o columna por columna, utilizando los elementos de data. Si length(data) es menor que $nrow*ncol$, los datos se reutilizan tantas veces como sea necesario. Esto proporciona una forma compacta de hacer una matriz de ceros o unos."
   ]
  },
  {
   "cell_type": "code",
   "execution_count": 41,
   "id": "8e7bc838",
   "metadata": {},
   "outputs": [],
   "source": [
    "# definimos un vector\n",
    "x <- c(1, 2, 3, 4, 5, 6, 7, 8, 9)"
   ]
  },
  {
   "cell_type": "code",
   "execution_count": 43,
   "id": "362d7b2a",
   "metadata": {},
   "outputs": [
    {
     "name": "stdout",
     "output_type": "stream",
     "text": [
      "     [,1] [,2] [,3]\n",
      "[1,]    1    4    7\n",
      "[2,]    2    5    8\n",
      "[3,]    3    6    9\n"
     ]
    }
   ],
   "source": [
    "# byrow = FALSE rellena la matriz por columnas\n",
    "A <- matrix(x, nrow=3, byrow=FALSE)\n",
    "print(A)"
   ]
  },
  {
   "cell_type": "code",
   "execution_count": 44,
   "id": "f43f47b7",
   "metadata": {},
   "outputs": [
    {
     "name": "stdout",
     "output_type": "stream",
     "text": [
      "     [,1] [,2] [,3]\n",
      "[1,]    1    2    3\n",
      "[2,]    4    5    6\n",
      "[3,]    7    8    9\n"
     ]
    }
   ],
   "source": [
    "# byrow = TRUE rellena la matriz por filas\n",
    "A <- matrix(x, nrow=3, byrow=TRUE)\n",
    "print(A)"
   ]
  },
  {
   "cell_type": "markdown",
   "id": "ae0d7887",
   "metadata": {},
   "source": [
    "## Operaciones con matrices:\n",
    "- A%*%B : Multiplicación matricial.\n",
    "- A*B : Multiplicación de elemento a elemento.\n",
    "- A + B : Suma de matrices.\n",
    "- A - B : Diferencia de matrices."
   ]
  },
  {
   "cell_type": "code",
   "execution_count": 48,
   "id": "f7fe7216",
   "metadata": {},
   "outputs": [
    {
     "name": "stdout",
     "output_type": "stream",
     "text": [
      "     [,1] [,2]\n",
      "[1,]    3    2\n",
      "[2,]    5    3\n"
     ]
    }
   ],
   "source": [
    "# definimos la matriz A\n",
    "A <- matrix(c(3, 5, 2, 3), nrow = 2, ncol = 2)\n",
    "print(A)"
   ]
  },
  {
   "cell_type": "code",
   "execution_count": 49,
   "id": "e2086adb",
   "metadata": {},
   "outputs": [
    {
     "name": "stdout",
     "output_type": "stream",
     "text": [
      "     [,1] [,2]\n",
      "[1,]    1    0\n",
      "[2,]    1    1\n"
     ]
    }
   ],
   "source": [
    "# Definimos la matriz B\n",
    "B <- matrix(c(1, 1, 0, 1), nrow = 2, ncol = 2)\n",
    "print(B)"
   ]
  },
  {
   "cell_type": "code",
   "execution_count": 51,
   "id": "5e32af51",
   "metadata": {},
   "outputs": [
    {
     "name": "stdout",
     "output_type": "stream",
     "text": [
      "     [,1] [,2]\n",
      "[1,]    5    2\n",
      "[2,]    8    3\n"
     ]
    }
   ],
   "source": [
    "# Multiplicación matricial\n",
    "C <- A %*% B\n",
    "print(C)"
   ]
  },
  {
   "cell_type": "code",
   "execution_count": 52,
   "id": "5b85c784",
   "metadata": {},
   "outputs": [
    {
     "name": "stdout",
     "output_type": "stream",
     "text": [
      "     [,1] [,2]\n",
      "[1,]    3    0\n",
      "[2,]    5    3\n"
     ]
    }
   ],
   "source": [
    "# Multiplicación de elemento a elemento\n",
    "C <- A * B\n",
    "print(C)"
   ]
  },
  {
   "cell_type": "code",
   "execution_count": 53,
   "id": "b8dbf3d2",
   "metadata": {},
   "outputs": [
    {
     "name": "stdout",
     "output_type": "stream",
     "text": [
      "     [,1] [,2]\n",
      "[1,]    4    2\n",
      "[2,]    6    4\n"
     ]
    }
   ],
   "source": [
    "# suma de matrices\n",
    "C <- A + B\n",
    "print(C)"
   ]
  },
  {
   "cell_type": "code",
   "execution_count": 54,
   "id": "1938dc1c",
   "metadata": {},
   "outputs": [
    {
     "name": "stdout",
     "output_type": "stream",
     "text": [
      "     [,1] [,2]\n",
      "[1,]    2    2\n",
      "[2,]    4    2\n"
     ]
    }
   ],
   "source": [
    "# Diferencia de matrices\n",
    "C <- A - B\n",
    "print(C)"
   ]
  },
  {
   "cell_type": "markdown",
   "id": "6f626eca",
   "metadata": {},
   "source": [
    "## Funciones con matrices\n",
    "- $diag()$ : dado un vector genera una diagonal de una matriz.\n",
    "- $solve()$ : Inversa de una matriz.\n",
    "- $t()$ : Transpuesta de una matriz.\n",
    "- $eigen()$ : dada una matriz devuelve una lista con los valores propios y vectores propios.\n"
   ]
  },
  {
   "cell_type": "code",
   "execution_count": 57,
   "id": "c054e7bf",
   "metadata": {},
   "outputs": [
    {
     "name": "stdout",
     "output_type": "stream",
     "text": [
      "[1] 1 2 3 4 5 6 7 8 9\n"
     ]
    }
   ],
   "source": [
    "# definimos la matriz A\n",
    "x <- 1:9\n",
    "print(x)"
   ]
  },
  {
   "cell_type": "code",
   "execution_count": 58,
   "id": "cca020b4",
   "metadata": {},
   "outputs": [
    {
     "name": "stdout",
     "output_type": "stream",
     "text": [
      "      [,1] [,2] [,3] [,4] [,5] [,6] [,7] [,8] [,9]\n",
      " [1,]    1    0    0    0    0    0    0    0    0\n",
      " [2,]    0    2    0    0    0    0    0    0    0\n",
      " [3,]    0    0    3    0    0    0    0    0    0\n",
      " [4,]    0    0    0    4    0    0    0    0    0\n",
      " [5,]    0    0    0    0    5    0    0    0    0\n",
      " [6,]    0    0    0    0    0    6    0    0    0\n",
      " [7,]    0    0    0    0    0    0    7    0    0\n",
      " [8,]    0    0    0    0    0    0    0    8    0\n",
      " [9,]    0    0    0    0    0    0    0    0    9\n"
     ]
    }
   ],
   "source": [
    "# generamos una matriz diagonal\n",
    "A <- diag(x)\n",
    "print(A)"
   ]
  },
  {
   "cell_type": "code",
   "execution_count": 63,
   "id": "84542b95",
   "metadata": {},
   "outputs": [
    {
     "name": "stdout",
     "output_type": "stream",
     "text": [
      "     [,1] [,2] [,3]\n",
      "[1,]    2    4    5\n",
      "[2,]    7    8    9\n",
      "[3,]   10    3    7\n"
     ]
    }
   ],
   "source": [
    "# Generamos la matriz A\n",
    "A <- matrix(c(2,4,5,7,8,9,10,3,7), nrow = 3, byrow=TRUE)\n",
    "print(A)"
   ]
  },
  {
   "cell_type": "code",
   "execution_count": 64,
   "id": "d06b056a",
   "metadata": {},
   "outputs": [
    {
     "name": "stdout",
     "output_type": "stream",
     "text": [
      "           [,1]       [,2]        [,3]\n",
      "[1,] -0.3972603  0.1780822  0.05479452\n",
      "[2,] -0.5616438  0.4931507 -0.23287671\n",
      "[3,]  0.8082192 -0.4657534  0.16438356\n"
     ]
    }
   ],
   "source": [
    "# Obtenemos su inversa\n",
    "B <- solve(A)\n",
    "print(B)"
   ]
  },
  {
   "cell_type": "code",
   "execution_count": 65,
   "id": "9514e7c4",
   "metadata": {},
   "outputs": [
    {
     "name": "stdout",
     "output_type": "stream",
     "text": [
      "     [,1] [,2] [,3]\n",
      "[1,]    2    7   10\n",
      "[2,]    4    8    3\n",
      "[3,]    5    9    7\n"
     ]
    }
   ],
   "source": [
    "# Obtenemos su transpuesta\n",
    "B <- t(A)\n",
    "print(B)"
   ]
  },
  {
   "cell_type": "code",
   "execution_count": 66,
   "id": "8960525e",
   "metadata": {},
   "outputs": [
    {
     "name": "stdout",
     "output_type": "stream",
     "text": [
      "eigen() decomposition\n",
      "$values\n",
      "[1] 17.835797 -2.483699  1.647902\n",
      "\n",
      "$vectors\n",
      "           [,1]       [,2]       [,3]\n",
      "[1,] -0.3629023 -0.6393588 -0.1029763\n",
      "[2,] -0.7563275 -0.2084645 -0.7731676\n",
      "[3,] -0.5443075  0.7401101  0.6257857\n",
      "\n"
     ]
    }
   ],
   "source": [
    "# Obtenemos los valores y vectores propios\n",
    "B <- eigen(A)\n",
    "print(B)"
   ]
  },
  {
   "cell_type": "markdown",
   "id": "10cb5f33",
   "metadata": {},
   "source": [
    "## Extracción de elementos de una matriz"
   ]
  },
  {
   "cell_type": "code",
   "execution_count": 67,
   "id": "12199a6b",
   "metadata": {},
   "outputs": [
    {
     "name": "stdout",
     "output_type": "stream",
     "text": [
      "     [,1] [,2] [,3]\n",
      "[1,]    1    2    3\n",
      "[2,]    4    5    6\n",
      "[3,]    7    8    9\n"
     ]
    }
   ],
   "source": [
    "# Extracción de elementos de una matriz\n",
    "A <- matrix(1:9, nrow = 3, byrow=TRUE)\n",
    "print(A)"
   ]
  },
  {
   "cell_type": "code",
   "execution_count": 69,
   "id": "ab9ae389",
   "metadata": {},
   "outputs": [
    {
     "name": "stdout",
     "output_type": "stream",
     "text": [
      "[1] 1\n"
     ]
    }
   ],
   "source": [
    "# extraer el elemento del primer renglón y primera columna.\n",
    "a11 <- A[1,1]\n",
    "print(a11)"
   ]
  },
  {
   "cell_type": "code",
   "execution_count": 71,
   "id": "04c1f61f",
   "metadata": {},
   "outputs": [
    {
     "name": "stdout",
     "output_type": "stream",
     "text": [
      "[1] 4\n"
     ]
    }
   ],
   "source": [
    "# extraer el elemento del segundo renglón y primera columna.\n",
    "a21 <- A[2,1]\n",
    "print(a21)"
   ]
  },
  {
   "cell_type": "code",
   "execution_count": 73,
   "id": "0af6a5b2",
   "metadata": {},
   "outputs": [
    {
     "name": "stdout",
     "output_type": "stream",
     "text": [
      "[1] 1 2 3\n"
     ]
    }
   ],
   "source": [
    "# extraer toda la primera fila\n",
    "a1k <- A[1,]\n",
    "print(a1k)"
   ]
  },
  {
   "cell_type": "code",
   "execution_count": 75,
   "id": "56b3247a",
   "metadata": {},
   "outputs": [
    {
     "name": "stdout",
     "output_type": "stream",
     "text": [
      "[1] 1 4 7\n"
     ]
    }
   ],
   "source": [
    "# extraer toda la primera columna\n",
    "ak1 <- A[,1]\n",
    "print(ak1)"
   ]
  },
  {
   "cell_type": "code",
   "execution_count": 76,
   "id": "3818e1c1",
   "metadata": {},
   "outputs": [
    {
     "name": "stdout",
     "output_type": "stream",
     "text": [
      "     [,1] [,2] [,3]\n",
      "[1,]    1    2    3\n",
      "[2,]    4    5    6\n"
     ]
    }
   ],
   "source": [
    "# extraer toda la primera y segunda fila\n",
    "a12k <- A[1:2,]\n",
    "print(a12k)"
   ]
  },
  {
   "cell_type": "markdown",
   "id": "23414ee0",
   "metadata": {},
   "source": [
    "# Listas\n",
    "\n",
    "Las listas son como vectores porque agrupan los datos en un conjunto unidimensional. Sin embargo, las listas no agrupan valores individuales; las listas agrupan objetos R, como vectores atómicos y otras listas. Por ejemplo, hacer una lista que contenga un vector numérico de longitud $31$ en su primer elemento, un vector de caracteres de longitud $1$ en su segundo elemento, y una nueva lista de longitud $2$ en su tercer elemento. Para ello, utilice la función de lista.\n"
   ]
  },
  {
   "cell_type": "code",
   "execution_count": 77,
   "id": "d295b7d8",
   "metadata": {},
   "outputs": [
    {
     "name": "stdout",
     "output_type": "stream",
     "text": [
      "[1] 1 2 3 4 5 6 7 8 9\n"
     ]
    }
   ],
   "source": [
    "# definimos un vector\n",
    "x<- c(1:9)\n",
    "print(x)\n"
   ]
  },
  {
   "cell_type": "code",
   "execution_count": 78,
   "id": "706a4827",
   "metadata": {},
   "outputs": [
    {
     "name": "stdout",
     "output_type": "stream",
     "text": [
      "     [,1] [,2] [,3]\n",
      "[1,]    1    2    3\n",
      "[2,]    4    5    6\n",
      "[3,]    7    8    9\n"
     ]
    }
   ],
   "source": [
    "# definimos una matriz\n",
    "A <- matrix(1:9, nrow = 3, byrow=TRUE)\n",
    "print(A)"
   ]
  },
  {
   "cell_type": "code",
   "execution_count": 79,
   "id": "1a37692e",
   "metadata": {},
   "outputs": [],
   "source": [
    "# cadena de caracteres\n",
    "y <- \"name\""
   ]
  },
  {
   "cell_type": "code",
   "execution_count": 80,
   "id": "7034826a",
   "metadata": {},
   "outputs": [
    {
     "name": "stdout",
     "output_type": "stream",
     "text": [
      "[[1]]\n",
      "[1] 1 2 3 4 5 6 7 8 9\n",
      "\n",
      "[[2]]\n",
      "     [,1] [,2] [,3]\n",
      "[1,]    1    2    3\n",
      "[2,]    4    5    6\n",
      "[3,]    7    8    9\n",
      "\n",
      "[[3]]\n",
      "[1] \"name\"\n",
      "\n"
     ]
    }
   ],
   "source": [
    "# creamos una lista con los objetos x, A, y\n",
    "list1 <- list(x, A, y)\n",
    "print(list1)"
   ]
  },
  {
   "cell_type": "code",
   "execution_count": 84,
   "id": "cc63bbdc",
   "metadata": {},
   "outputs": [
    {
     "name": "stdout",
     "output_type": "stream",
     "text": [
      "[1] 1 2 3 4 5 6 7 8 9\n"
     ]
    }
   ],
   "source": [
    "# accedemos al primer elemento de la lista\n",
    "l1 <- list1[[1]]\n",
    "print(l1)"
   ]
  },
  {
   "cell_type": "code",
   "execution_count": 85,
   "id": "b22ddcd2",
   "metadata": {},
   "outputs": [
    {
     "name": "stdout",
     "output_type": "stream",
     "text": [
      "     [,1] [,2] [,3]\n",
      "[1,]    1    2    3\n",
      "[2,]    4    5    6\n",
      "[3,]    7    8    9\n"
     ]
    }
   ],
   "source": [
    "# accedemos al segundo elemento de la lista\n",
    "l2 <- list1[[2]]\n",
    "print(l2)"
   ]
  },
  {
   "cell_type": "code",
   "execution_count": 86,
   "id": "27d9fbcc",
   "metadata": {},
   "outputs": [
    {
     "name": "stdout",
     "output_type": "stream",
     "text": [
      "[1] \"name\"\n"
     ]
    }
   ],
   "source": [
    "# accedemos al tercer elemento de la lista\n",
    "l3 <- list1[[3]]\n",
    "print(l3)"
   ]
  },
  {
   "cell_type": "markdown",
   "id": "fc890d91",
   "metadata": {},
   "source": [
    "Podemos darle nombre a los elementos de la lista."
   ]
  },
  {
   "cell_type": "code",
   "execution_count": 90,
   "id": "e6277e0e",
   "metadata": {},
   "outputs": [
    {
     "name": "stdout",
     "output_type": "stream",
     "text": [
      "$elemento1\n",
      "[1] 1 2 3 4 5 6 7 8 9\n",
      "\n",
      "$elemento2\n",
      "     [,1] [,2] [,3]\n",
      "[1,]    1    2    3\n",
      "[2,]    4    5    6\n",
      "[3,]    7    8    9\n",
      "\n",
      "$elemento3\n",
      "[1] \"name\"\n",
      "\n"
     ]
    }
   ],
   "source": [
    "# creamos una lista con los objetos x, A, y\n",
    "list1 <- list('elemento1' = x, \n",
    "               'elemento2' = A, \n",
    "               'elemento3' = y)\n",
    "print(list1)"
   ]
  },
  {
   "cell_type": "code",
   "execution_count": 92,
   "id": "adf3c723",
   "metadata": {},
   "outputs": [
    {
     "name": "stdout",
     "output_type": "stream",
     "text": [
      "[1] 1 2 3 4 5 6 7 8 9\n"
     ]
    }
   ],
   "source": [
    "# segunda forma de acceder a cada elemento\n",
    "print(list1$elemento1)"
   ]
  },
  {
   "cell_type": "markdown",
   "id": "3de5f815",
   "metadata": {},
   "source": [
    "# Data frame"
   ]
  },
  {
   "cell_type": "markdown",
   "id": "0c1e4796",
   "metadata": {},
   "source": [
    "Los data frames son la versión bidimensional de una lista. Son, de lejos, la estructura de almacenamiento más útil para el análisis de datos. Puede pensar en un data frame como el equivalente de R a la hoja de cálculo de Excel porque almacena los datos en un formato similar."
   ]
  },
  {
   "cell_type": "markdown",
   "id": "64a5cdaa",
   "metadata": {},
   "source": [
    "<img src=\"./images/data_frame.png\">"
   ]
  },
  {
   "cell_type": "code",
   "execution_count": 95,
   "id": "9a4c50e6",
   "metadata": {},
   "outputs": [],
   "source": [
    "# definimos vectores \n",
    "name <- c(\"jorge\", \"pedro\", \"paco\")\n",
    "club <- c(\"club1\", \"club2\", \"club2\")\n",
    "edad <- c(16, 15, 17)"
   ]
  },
  {
   "cell_type": "code",
   "execution_count": 100,
   "id": "37a87bbf",
   "metadata": {},
   "outputs": [
    {
     "name": "stdout",
     "output_type": "stream",
     "text": [
      "   Name  Club Edad\n",
      "1 jorge club1   16\n",
      "2 pedro club2   15\n",
      "3  paco club2   17\n"
     ]
    }
   ],
   "source": [
    "# formamos el data.frame\n",
    "df1 <- data.frame(Name = name,\n",
    "                 Club = club, \n",
    "                 Edad = edad)\n",
    "print(df1)"
   ]
  },
  {
   "cell_type": "code",
   "execution_count": 101,
   "id": "058a1ecf",
   "metadata": {},
   "outputs": [
    {
     "name": "stdout",
     "output_type": "stream",
     "text": [
      "    Name  Club Edad\n",
      "1   hugo club2   16\n",
      "2 arturo club1   16\n",
      "3 javier club3   17\n"
     ]
    }
   ],
   "source": [
    "# supongamos que tenemos otro data frame\n",
    "df2 <- data.frame(Name = c(\"hugo\", \"arturo\", \"javier\"),\n",
    "                 Club = c(\"club2\", \"club1\", \"club3\"), \n",
    "                 Edad = c(16, 16, 17))\n",
    "print(df2)"
   ]
  },
  {
   "cell_type": "code",
   "execution_count": 102,
   "id": "a1855d23",
   "metadata": {},
   "outputs": [
    {
     "name": "stdout",
     "output_type": "stream",
     "text": [
      "   Name  Club Edad   Name  Club Edad\n",
      "1 jorge club1   16   hugo club2   16\n",
      "2 pedro club2   15 arturo club1   16\n",
      "3  paco club2   17 javier club3   17\n"
     ]
    }
   ],
   "source": [
    "# para unir dos data frames por columnas\n",
    "df1y2  <- cbind(df1, df2)\n",
    "print(df1y2)"
   ]
  },
  {
   "cell_type": "code",
   "execution_count": 103,
   "id": "e6162341",
   "metadata": {},
   "outputs": [
    {
     "name": "stdout",
     "output_type": "stream",
     "text": [
      "    Name  Club Edad\n",
      "1  jorge club1   16\n",
      "2  pedro club2   15\n",
      "3   paco club2   17\n",
      "4   hugo club2   16\n",
      "5 arturo club1   16\n",
      "6 javier club3   17\n"
     ]
    }
   ],
   "source": [
    "# para unir dos data frames por filas (deben tener los mismos nombres de columnas)\n",
    "df1y2  <- rbind(df1, df2)\n",
    "print(df1y2)"
   ]
  }
 ],
 "metadata": {
  "kernelspec": {
   "display_name": "R",
   "language": "R",
   "name": "ir"
  },
  "language_info": {
   "codemirror_mode": "r",
   "file_extension": ".r",
   "mimetype": "text/x-r-source",
   "name": "R",
   "pygments_lexer": "r",
   "version": "4.1.0"
  }
 },
 "nbformat": 4,
 "nbformat_minor": 5
}
