{
  "cells": [
    {
      "cell_type": "markdown",
      "metadata": {
        "id": "view-in-github",
        "colab_type": "text"
      },
      "source": [
        "<a href=\"https://colab.research.google.com/github/JulioCesarMS/R_course/blob/master/5.-%20Lectura%20de%20datos.ipynb\" target=\"_parent\"><img src=\"https://colab.research.google.com/assets/colab-badge.svg\" alt=\"Open In Colab\"/></a>"
      ]
    },
    {
      "cell_type": "markdown",
      "id": "naughty-detector",
      "metadata": {
        "id": "naughty-detector"
      },
      "source": [
        "# <center> **Lectura de datos en R** "
      ]
    },
    {
      "cell_type": "markdown",
      "id": "accurate-radio",
      "metadata": {
        "id": "accurate-radio"
      },
      "source": [
        "# **Lectura de datos**"
      ]
    },
    {
      "cell_type": "markdown",
      "id": "nasty-texas",
      "metadata": {
        "id": "nasty-texas"
      },
      "source": [
        "> **Archivos más comunes:**\n",
        "\n",
        "- read.csv() \n",
        "- read.csv2()\n",
        "- read.delim()\n",
        "- read_excel()\n",
        "- Lectura de archivos JSON\n",
        "- Lectura de archivos XML\n",
        "- Lectura de tablas HTML\n",
        "\n",
        "> **Lectura de otros formatos:**\n",
        "\n",
        "- Lectura de archivos SPSS\n",
        "- Lectura de archivos SAS\n",
        "- Lectura de archivos Minitab"
      ]
    },
    {
      "cell_type": "markdown",
      "id": "daily-chamber",
      "metadata": {
        "id": "daily-chamber"
      },
      "source": [
        "# **read_csv()**"
      ]
    },
    {
      "cell_type": "code",
      "execution_count": null,
      "id": "local-torture",
      "metadata": {
        "id": "local-torture",
        "outputId": "3a96df1c-9761-4e2c-acc5-4c75118b5a99",
        "colab": {
          "base_uri": "https://localhost:8080/",
          "height": 286
        }
      },
      "outputs": [
        {
          "output_type": "display_data",
          "data": {
            "text/html": [
              "<table class=\"dataframe\">\n",
              "<caption>A data.frame: 6 × 5</caption>\n",
              "<thead>\n",
              "\t<tr><th></th><th scope=col>Sepal.Length</th><th scope=col>Sepal.Width</th><th scope=col>Petal.Length</th><th scope=col>Petal.Width</th><th scope=col>Species</th></tr>\n",
              "\t<tr><th></th><th scope=col>&lt;dbl&gt;</th><th scope=col>&lt;dbl&gt;</th><th scope=col>&lt;dbl&gt;</th><th scope=col>&lt;dbl&gt;</th><th scope=col>&lt;chr&gt;</th></tr>\n",
              "</thead>\n",
              "<tbody>\n",
              "\t<tr><th scope=row>1</th><td>6.3</td><td>3.3</td><td>6.0</td><td>2.5</td><td>virginica</td></tr>\n",
              "\t<tr><th scope=row>2</th><td>5.8</td><td>2.7</td><td>5.1</td><td>1.9</td><td>virginica</td></tr>\n",
              "\t<tr><th scope=row>3</th><td>7.1</td><td>3.0</td><td>5.9</td><td>2.1</td><td>virginica</td></tr>\n",
              "\t<tr><th scope=row>4</th><td>6.3</td><td>2.9</td><td>5.6</td><td>1.8</td><td>virginica</td></tr>\n",
              "\t<tr><th scope=row>5</th><td>6.5</td><td>3.0</td><td>5.8</td><td>2.2</td><td>virginica</td></tr>\n",
              "\t<tr><th scope=row>6</th><td>7.6</td><td>3.0</td><td>6.6</td><td>2.1</td><td>virginica</td></tr>\n",
              "</tbody>\n",
              "</table>\n"
            ],
            "text/markdown": "\nA data.frame: 6 × 5\n\n| <!--/--> | Sepal.Length &lt;dbl&gt; | Sepal.Width &lt;dbl&gt; | Petal.Length &lt;dbl&gt; | Petal.Width &lt;dbl&gt; | Species &lt;chr&gt; |\n|---|---|---|---|---|---|\n| 1 | 6.3 | 3.3 | 6.0 | 2.5 | virginica |\n| 2 | 5.8 | 2.7 | 5.1 | 1.9 | virginica |\n| 3 | 7.1 | 3.0 | 5.9 | 2.1 | virginica |\n| 4 | 6.3 | 2.9 | 5.6 | 1.8 | virginica |\n| 5 | 6.5 | 3.0 | 5.8 | 2.2 | virginica |\n| 6 | 7.6 | 3.0 | 6.6 | 2.1 | virginica |\n\n",
            "text/latex": "A data.frame: 6 × 5\n\\begin{tabular}{r|lllll}\n  & Sepal.Length & Sepal.Width & Petal.Length & Petal.Width & Species\\\\\n  & <dbl> & <dbl> & <dbl> & <dbl> & <chr>\\\\\n\\hline\n\t1 & 6.3 & 3.3 & 6.0 & 2.5 & virginica\\\\\n\t2 & 5.8 & 2.7 & 5.1 & 1.9 & virginica\\\\\n\t3 & 7.1 & 3.0 & 5.9 & 2.1 & virginica\\\\\n\t4 & 6.3 & 2.9 & 5.6 & 1.8 & virginica\\\\\n\t5 & 6.5 & 3.0 & 5.8 & 2.2 & virginica\\\\\n\t6 & 7.6 & 3.0 & 6.6 & 2.1 & virginica\\\\\n\\end{tabular}\n",
            "text/plain": [
              "  Sepal.Length Sepal.Width Petal.Length Petal.Width Species  \n",
              "1 6.3          3.3         6.0          2.5         virginica\n",
              "2 5.8          2.7         5.1          1.9         virginica\n",
              "3 7.1          3.0         5.9          2.1         virginica\n",
              "4 6.3          2.9         5.6          1.8         virginica\n",
              "5 6.5          3.0         5.8          2.2         virginica\n",
              "6 7.6          3.0         6.6          2.1         virginica"
            ]
          },
          "metadata": {}
        }
      ],
      "source": [
        "df1 <- read.csv('./iris.csv')\n",
        "head(df1)"
      ]
    },
    {
      "cell_type": "code",
      "source": [
        "dim(df1)"
      ],
      "metadata": {
        "colab": {
          "base_uri": "https://localhost:8080/",
          "height": 34
        },
        "id": "Dzh7gLM8AbJ-",
        "outputId": "33c94e46-ad39-42d4-98fe-d0f832ac03e6"
      },
      "id": "Dzh7gLM8AbJ-",
      "execution_count": null,
      "outputs": [
        {
          "output_type": "display_data",
          "data": {
            "text/html": [
              "<style>\n",
              ".list-inline {list-style: none; margin:0; padding: 0}\n",
              ".list-inline>li {display: inline-block}\n",
              ".list-inline>li:not(:last-child)::after {content: \"\\00b7\"; padding: 0 .5ex}\n",
              "</style>\n",
              "<ol class=list-inline><li>50</li><li>5</li></ol>\n"
            ],
            "text/markdown": "1. 50\n2. 5\n\n\n",
            "text/latex": "\\begin{enumerate*}\n\\item 50\n\\item 5\n\\end{enumerate*}\n",
            "text/plain": [
              "[1] 50  5"
            ]
          },
          "metadata": {}
        }
      ]
    },
    {
      "cell_type": "code",
      "source": [
        "summary(df1)"
      ],
      "metadata": {
        "colab": {
          "base_uri": "https://localhost:8080/",
          "height": 268
        },
        "id": "9jUY-TJeAidX",
        "outputId": "375582ff-6aaf-4391-9136-b3b160bc3409"
      },
      "id": "9jUY-TJeAidX",
      "execution_count": null,
      "outputs": [
        {
          "output_type": "display_data",
          "data": {
            "text/plain": [
              "  Sepal.Length    Sepal.Width     Petal.Length    Petal.Width   \n",
              " Min.   :4.900   Min.   :2.200   Min.   :4.500   Min.   :1.400  \n",
              " 1st Qu.:6.225   1st Qu.:2.800   1st Qu.:5.100   1st Qu.:1.800  \n",
              " Median :6.500   Median :3.000   Median :5.550   Median :2.000  \n",
              " Mean   :6.588   Mean   :2.974   Mean   :5.552   Mean   :2.026  \n",
              " 3rd Qu.:6.900   3rd Qu.:3.175   3rd Qu.:5.875   3rd Qu.:2.300  \n",
              " Max.   :7.900   Max.   :3.800   Max.   :6.900   Max.   :2.500  \n",
              "   Species         \n",
              " Length:50         \n",
              " Class :character  \n",
              " Mode  :character  \n",
              "                   \n",
              "                   \n",
              "                   "
            ]
          },
          "metadata": {}
        }
      ]
    },
    {
      "cell_type": "markdown",
      "id": "blind-handling",
      "metadata": {
        "id": "blind-handling"
      },
      "source": [
        "Por defecto al leer un archivo supone que tiene encabezados, sino es el caso podemos especificar en la función <span style=\"color:blue\"> **read.csv()** </span> los encabezados agregando el algumento <span style=\"color:blue\"> **header=FALSE**</span>."
      ]
    },
    {
      "cell_type": "code",
      "execution_count": null,
      "id": "confident-wilderness",
      "metadata": {
        "id": "confident-wilderness",
        "outputId": "d006918c-f9f7-4775-877f-a306f2e557be",
        "colab": {
          "base_uri": "https://localhost:8080/",
          "height": 286
        }
      },
      "outputs": [
        {
          "output_type": "display_data",
          "data": {
            "text/html": [
              "<table class=\"dataframe\">\n",
              "<caption>A data.frame: 6 × 5</caption>\n",
              "<thead>\n",
              "\t<tr><th></th><th scope=col>Sepal.Length</th><th scope=col>Sepal.Width</th><th scope=col>Petal.Length</th><th scope=col>Petal.Width</th><th scope=col>Species</th></tr>\n",
              "\t<tr><th></th><th scope=col>&lt;dbl&gt;</th><th scope=col>&lt;dbl&gt;</th><th scope=col>&lt;dbl&gt;</th><th scope=col>&lt;dbl&gt;</th><th scope=col>&lt;chr&gt;</th></tr>\n",
              "</thead>\n",
              "<tbody>\n",
              "\t<tr><th scope=row>1</th><td>6.3</td><td>3.3</td><td>6.0</td><td>2.5</td><td>virginica</td></tr>\n",
              "\t<tr><th scope=row>2</th><td>5.8</td><td>2.7</td><td>5.1</td><td>1.9</td><td>virginica</td></tr>\n",
              "\t<tr><th scope=row>3</th><td>7.1</td><td>3.0</td><td>5.9</td><td>2.1</td><td>virginica</td></tr>\n",
              "\t<tr><th scope=row>4</th><td>6.3</td><td>2.9</td><td>5.6</td><td>1.8</td><td>virginica</td></tr>\n",
              "\t<tr><th scope=row>5</th><td>6.5</td><td>3.0</td><td>5.8</td><td>2.2</td><td>virginica</td></tr>\n",
              "\t<tr><th scope=row>6</th><td>7.6</td><td>3.0</td><td>6.6</td><td>2.1</td><td>virginica</td></tr>\n",
              "</tbody>\n",
              "</table>\n"
            ],
            "text/markdown": "\nA data.frame: 6 × 5\n\n| <!--/--> | Sepal.Length &lt;dbl&gt; | Sepal.Width &lt;dbl&gt; | Petal.Length &lt;dbl&gt; | Petal.Width &lt;dbl&gt; | Species &lt;chr&gt; |\n|---|---|---|---|---|---|\n| 1 | 6.3 | 3.3 | 6.0 | 2.5 | virginica |\n| 2 | 5.8 | 2.7 | 5.1 | 1.9 | virginica |\n| 3 | 7.1 | 3.0 | 5.9 | 2.1 | virginica |\n| 4 | 6.3 | 2.9 | 5.6 | 1.8 | virginica |\n| 5 | 6.5 | 3.0 | 5.8 | 2.2 | virginica |\n| 6 | 7.6 | 3.0 | 6.6 | 2.1 | virginica |\n\n",
            "text/latex": "A data.frame: 6 × 5\n\\begin{tabular}{r|lllll}\n  & Sepal.Length & Sepal.Width & Petal.Length & Petal.Width & Species\\\\\n  & <dbl> & <dbl> & <dbl> & <dbl> & <chr>\\\\\n\\hline\n\t1 & 6.3 & 3.3 & 6.0 & 2.5 & virginica\\\\\n\t2 & 5.8 & 2.7 & 5.1 & 1.9 & virginica\\\\\n\t3 & 7.1 & 3.0 & 5.9 & 2.1 & virginica\\\\\n\t4 & 6.3 & 2.9 & 5.6 & 1.8 & virginica\\\\\n\t5 & 6.5 & 3.0 & 5.8 & 2.2 & virginica\\\\\n\t6 & 7.6 & 3.0 & 6.6 & 2.1 & virginica\\\\\n\\end{tabular}\n",
            "text/plain": [
              "  Sepal.Length Sepal.Width Petal.Length Petal.Width Species  \n",
              "1 6.3          3.3         6.0          2.5         virginica\n",
              "2 5.8          2.7         5.1          1.9         virginica\n",
              "3 7.1          3.0         5.9          2.1         virginica\n",
              "4 6.3          2.9         5.6          1.8         virginica\n",
              "5 6.5          3.0         5.8          2.2         virginica\n",
              "6 7.6          3.0         6.6          2.1         virginica"
            ]
          },
          "metadata": {}
        }
      ],
      "source": [
        "df2 <- read.csv('./iris.csv', header=TRUE)\n",
        "head(df2)\n"
      ]
    },
    {
      "cell_type": "code",
      "source": [
        "colnames(df2) <- c('Sepalo.L', 'Sepalo.W', 'Petalo.l', 'Sepal.w', 'Especie')\n",
        "head(df2)"
      ],
      "metadata": {
        "colab": {
          "base_uri": "https://localhost:8080/",
          "height": 286
        },
        "id": "8gYEqFmPBAwc",
        "outputId": "90294567-3ccd-4f0d-f99d-27c754dcebca"
      },
      "id": "8gYEqFmPBAwc",
      "execution_count": null,
      "outputs": [
        {
          "output_type": "display_data",
          "data": {
            "text/html": [
              "<table class=\"dataframe\">\n",
              "<caption>A data.frame: 6 × 5</caption>\n",
              "<thead>\n",
              "\t<tr><th></th><th scope=col>Sepalo.L</th><th scope=col>Sepalo.W</th><th scope=col>Petalo.l</th><th scope=col>Sepal.w</th><th scope=col>Especie</th></tr>\n",
              "\t<tr><th></th><th scope=col>&lt;dbl&gt;</th><th scope=col>&lt;dbl&gt;</th><th scope=col>&lt;dbl&gt;</th><th scope=col>&lt;dbl&gt;</th><th scope=col>&lt;chr&gt;</th></tr>\n",
              "</thead>\n",
              "<tbody>\n",
              "\t<tr><th scope=row>1</th><td>6.3</td><td>3.3</td><td>6.0</td><td>2.5</td><td>virginica</td></tr>\n",
              "\t<tr><th scope=row>2</th><td>5.8</td><td>2.7</td><td>5.1</td><td>1.9</td><td>virginica</td></tr>\n",
              "\t<tr><th scope=row>3</th><td>7.1</td><td>3.0</td><td>5.9</td><td>2.1</td><td>virginica</td></tr>\n",
              "\t<tr><th scope=row>4</th><td>6.3</td><td>2.9</td><td>5.6</td><td>1.8</td><td>virginica</td></tr>\n",
              "\t<tr><th scope=row>5</th><td>6.5</td><td>3.0</td><td>5.8</td><td>2.2</td><td>virginica</td></tr>\n",
              "\t<tr><th scope=row>6</th><td>7.6</td><td>3.0</td><td>6.6</td><td>2.1</td><td>virginica</td></tr>\n",
              "</tbody>\n",
              "</table>\n"
            ],
            "text/markdown": "\nA data.frame: 6 × 5\n\n| <!--/--> | Sepalo.L &lt;dbl&gt; | Sepalo.W &lt;dbl&gt; | Petalo.l &lt;dbl&gt; | Sepal.w &lt;dbl&gt; | Especie &lt;chr&gt; |\n|---|---|---|---|---|---|\n| 1 | 6.3 | 3.3 | 6.0 | 2.5 | virginica |\n| 2 | 5.8 | 2.7 | 5.1 | 1.9 | virginica |\n| 3 | 7.1 | 3.0 | 5.9 | 2.1 | virginica |\n| 4 | 6.3 | 2.9 | 5.6 | 1.8 | virginica |\n| 5 | 6.5 | 3.0 | 5.8 | 2.2 | virginica |\n| 6 | 7.6 | 3.0 | 6.6 | 2.1 | virginica |\n\n",
            "text/latex": "A data.frame: 6 × 5\n\\begin{tabular}{r|lllll}\n  & Sepalo.L & Sepalo.W & Petalo.l & Sepal.w & Especie\\\\\n  & <dbl> & <dbl> & <dbl> & <dbl> & <chr>\\\\\n\\hline\n\t1 & 6.3 & 3.3 & 6.0 & 2.5 & virginica\\\\\n\t2 & 5.8 & 2.7 & 5.1 & 1.9 & virginica\\\\\n\t3 & 7.1 & 3.0 & 5.9 & 2.1 & virginica\\\\\n\t4 & 6.3 & 2.9 & 5.6 & 1.8 & virginica\\\\\n\t5 & 6.5 & 3.0 & 5.8 & 2.2 & virginica\\\\\n\t6 & 7.6 & 3.0 & 6.6 & 2.1 & virginica\\\\\n\\end{tabular}\n",
            "text/plain": [
              "  Sepalo.L Sepalo.W Petalo.l Sepal.w Especie  \n",
              "1 6.3      3.3      6.0      2.5     virginica\n",
              "2 5.8      2.7      5.1      1.9     virginica\n",
              "3 7.1      3.0      5.9      2.1     virginica\n",
              "4 6.3      2.9      5.6      1.8     virginica\n",
              "5 6.5      3.0      5.8      2.2     virginica\n",
              "6 7.6      3.0      6.6      2.1     virginica"
            ]
          },
          "metadata": {}
        }
      ]
    },
    {
      "cell_type": "markdown",
      "id": "helpful-ethernet",
      "metadata": {
        "id": "helpful-ethernet"
      },
      "source": [
        "Si queremos especificar los nombres de encabezados podemos utilizar el argumento <span style=\"color:blue\"> **col.names** </span>."
      ]
    },
    {
      "cell_type": "code",
      "execution_count": null,
      "id": "verbal-calculation",
      "metadata": {
        "id": "verbal-calculation",
        "outputId": "855ce25a-259b-4f16-e7c5-5ffc40242c2a",
        "colab": {
          "base_uri": "https://localhost:8080/",
          "height": 286
        }
      },
      "outputs": [
        {
          "output_type": "display_data",
          "data": {
            "text/html": [
              "<table class=\"dataframe\">\n",
              "<caption>A data.frame: 6 × 5</caption>\n",
              "<thead>\n",
              "\t<tr><th></th><th scope=col>Sepalo.L</th><th scope=col>Sepalo.W</th><th scope=col>Petalo.l</th><th scope=col>Sepal.w</th><th scope=col>Especie</th></tr>\n",
              "\t<tr><th></th><th scope=col>&lt;dbl&gt;</th><th scope=col>&lt;dbl&gt;</th><th scope=col>&lt;dbl&gt;</th><th scope=col>&lt;dbl&gt;</th><th scope=col>&lt;chr&gt;</th></tr>\n",
              "</thead>\n",
              "<tbody>\n",
              "\t<tr><th scope=row>1</th><td>6.3</td><td>3.3</td><td>6.0</td><td>2.5</td><td>virginica</td></tr>\n",
              "\t<tr><th scope=row>2</th><td>5.8</td><td>2.7</td><td>5.1</td><td>1.9</td><td>virginica</td></tr>\n",
              "\t<tr><th scope=row>3</th><td>7.1</td><td>3.0</td><td>5.9</td><td>2.1</td><td>virginica</td></tr>\n",
              "\t<tr><th scope=row>4</th><td>6.3</td><td>2.9</td><td>5.6</td><td>1.8</td><td>virginica</td></tr>\n",
              "\t<tr><th scope=row>5</th><td>6.5</td><td>3.0</td><td>5.8</td><td>2.2</td><td>virginica</td></tr>\n",
              "\t<tr><th scope=row>6</th><td>7.6</td><td>3.0</td><td>6.6</td><td>2.1</td><td>virginica</td></tr>\n",
              "</tbody>\n",
              "</table>\n"
            ],
            "text/markdown": "\nA data.frame: 6 × 5\n\n| <!--/--> | Sepalo.L &lt;dbl&gt; | Sepalo.W &lt;dbl&gt; | Petalo.l &lt;dbl&gt; | Sepal.w &lt;dbl&gt; | Especie &lt;chr&gt; |\n|---|---|---|---|---|---|\n| 1 | 6.3 | 3.3 | 6.0 | 2.5 | virginica |\n| 2 | 5.8 | 2.7 | 5.1 | 1.9 | virginica |\n| 3 | 7.1 | 3.0 | 5.9 | 2.1 | virginica |\n| 4 | 6.3 | 2.9 | 5.6 | 1.8 | virginica |\n| 5 | 6.5 | 3.0 | 5.8 | 2.2 | virginica |\n| 6 | 7.6 | 3.0 | 6.6 | 2.1 | virginica |\n\n",
            "text/latex": "A data.frame: 6 × 5\n\\begin{tabular}{r|lllll}\n  & Sepalo.L & Sepalo.W & Petalo.l & Sepal.w & Especie\\\\\n  & <dbl> & <dbl> & <dbl> & <dbl> & <chr>\\\\\n\\hline\n\t1 & 6.3 & 3.3 & 6.0 & 2.5 & virginica\\\\\n\t2 & 5.8 & 2.7 & 5.1 & 1.9 & virginica\\\\\n\t3 & 7.1 & 3.0 & 5.9 & 2.1 & virginica\\\\\n\t4 & 6.3 & 2.9 & 5.6 & 1.8 & virginica\\\\\n\t5 & 6.5 & 3.0 & 5.8 & 2.2 & virginica\\\\\n\t6 & 7.6 & 3.0 & 6.6 & 2.1 & virginica\\\\\n\\end{tabular}\n",
            "text/plain": [
              "  Sepalo.L Sepalo.W Petalo.l Sepal.w Especie  \n",
              "1 6.3      3.3      6.0      2.5     virginica\n",
              "2 5.8      2.7      5.1      1.9     virginica\n",
              "3 7.1      3.0      5.9      2.1     virginica\n",
              "4 6.3      2.9      5.6      1.8     virginica\n",
              "5 6.5      3.0      5.8      2.2     virginica\n",
              "6 7.6      3.0      6.6      2.1     virginica"
            ]
          },
          "metadata": {}
        }
      ],
      "source": [
        "df3 <- read.csv('./iris.csv', \n",
        "                header=TRUE, \n",
        "                col.names=c('Sepalo.L', 'Sepalo.W', 'Petalo.l', 'Sepal.w', 'Especie'))\n",
        "head(df3)"
      ]
    },
    {
      "cell_type": "markdown",
      "id": "rotary-oakland",
      "metadata": {
        "id": "rotary-oakland"
      },
      "source": [
        "> Para guardar en formato csv empleamos la función <span style=\"color:blue\"> **write.csv()** </span>, indicando el objeto a guardar y la ruta con el nombre del archivo."
      ]
    },
    {
      "cell_type": "code",
      "execution_count": null,
      "id": "ethical-nitrogen",
      "metadata": {
        "id": "ethical-nitrogen"
      },
      "outputs": [],
      "source": [
        "write.csv(df3, 'iris_new.csv', row.names=FALSE)"
      ]
    },
    {
      "cell_type": "markdown",
      "source": [
        "# Lectura de archivo CSV separado por ;"
      ],
      "metadata": {
        "id": "4dVN6APUDn8V"
      },
      "id": "4dVN6APUDn8V"
    },
    {
      "cell_type": "code",
      "execution_count": null,
      "id": "nervous-palace",
      "metadata": {
        "id": "nervous-palace",
        "outputId": "2708ebca-f151-42d6-c1e7-fbb9b43b217c",
        "colab": {
          "base_uri": "https://localhost:8080/",
          "height": 286
        }
      },
      "outputs": [
        {
          "output_type": "display_data",
          "data": {
            "text/html": [
              "<table class=\"dataframe\">\n",
              "<caption>A data.frame: 6 × 5</caption>\n",
              "<thead>\n",
              "\t<tr><th></th><th scope=col>Sepal.Length</th><th scope=col>Sepal.Width</th><th scope=col>Petal.Length</th><th scope=col>Petal.Width</th><th scope=col>Species</th></tr>\n",
              "\t<tr><th></th><th scope=col>&lt;dbl&gt;</th><th scope=col>&lt;dbl&gt;</th><th scope=col>&lt;dbl&gt;</th><th scope=col>&lt;dbl&gt;</th><th scope=col>&lt;chr&gt;</th></tr>\n",
              "</thead>\n",
              "<tbody>\n",
              "\t<tr><th scope=row>1</th><td>5.1</td><td>3.5</td><td>1.4</td><td>0.2</td><td>setosa</td></tr>\n",
              "\t<tr><th scope=row>2</th><td>4.9</td><td>3.0</td><td>1.4</td><td>0.2</td><td>setosa</td></tr>\n",
              "\t<tr><th scope=row>3</th><td>4.7</td><td>3.2</td><td>1.3</td><td>0.2</td><td>setosa</td></tr>\n",
              "\t<tr><th scope=row>4</th><td>4.6</td><td>3.1</td><td>1.5</td><td>0.2</td><td>setosa</td></tr>\n",
              "\t<tr><th scope=row>5</th><td>5.0</td><td>3.6</td><td>1.4</td><td>0.2</td><td>setosa</td></tr>\n",
              "\t<tr><th scope=row>6</th><td>5.4</td><td>3.9</td><td>1.7</td><td>0.4</td><td>setosa</td></tr>\n",
              "</tbody>\n",
              "</table>\n"
            ],
            "text/markdown": "\nA data.frame: 6 × 5\n\n| <!--/--> | Sepal.Length &lt;dbl&gt; | Sepal.Width &lt;dbl&gt; | Petal.Length &lt;dbl&gt; | Petal.Width &lt;dbl&gt; | Species &lt;chr&gt; |\n|---|---|---|---|---|---|\n| 1 | 5.1 | 3.5 | 1.4 | 0.2 | setosa |\n| 2 | 4.9 | 3.0 | 1.4 | 0.2 | setosa |\n| 3 | 4.7 | 3.2 | 1.3 | 0.2 | setosa |\n| 4 | 4.6 | 3.1 | 1.5 | 0.2 | setosa |\n| 5 | 5.0 | 3.6 | 1.4 | 0.2 | setosa |\n| 6 | 5.4 | 3.9 | 1.7 | 0.4 | setosa |\n\n",
            "text/latex": "A data.frame: 6 × 5\n\\begin{tabular}{r|lllll}\n  & Sepal.Length & Sepal.Width & Petal.Length & Petal.Width & Species\\\\\n  & <dbl> & <dbl> & <dbl> & <dbl> & <chr>\\\\\n\\hline\n\t1 & 5.1 & 3.5 & 1.4 & 0.2 & setosa\\\\\n\t2 & 4.9 & 3.0 & 1.4 & 0.2 & setosa\\\\\n\t3 & 4.7 & 3.2 & 1.3 & 0.2 & setosa\\\\\n\t4 & 4.6 & 3.1 & 1.5 & 0.2 & setosa\\\\\n\t5 & 5.0 & 3.6 & 1.4 & 0.2 & setosa\\\\\n\t6 & 5.4 & 3.9 & 1.7 & 0.4 & setosa\\\\\n\\end{tabular}\n",
            "text/plain": [
              "  Sepal.Length Sepal.Width Petal.Length Petal.Width Species\n",
              "1 5.1          3.5         1.4          0.2         setosa \n",
              "2 4.9          3.0         1.4          0.2         setosa \n",
              "3 4.7          3.2         1.3          0.2         setosa \n",
              "4 4.6          3.1         1.5          0.2         setosa \n",
              "5 5.0          3.6         1.4          0.2         setosa \n",
              "6 5.4          3.9         1.7          0.4         setosa "
            ]
          },
          "metadata": {}
        }
      ],
      "source": [
        "# csv separado poR ;\n",
        "df4 <- read.csv('iris2.csv', sep=';')\n",
        "head(df4)"
      ]
    },
    {
      "cell_type": "code",
      "source": [
        "dim(df4)"
      ],
      "metadata": {
        "colab": {
          "base_uri": "https://localhost:8080/",
          "height": 34
        },
        "id": "IC0VRrDFDb88",
        "outputId": "09220358-e8a4-4d64-cd0b-59e7d7ee2337"
      },
      "id": "IC0VRrDFDb88",
      "execution_count": null,
      "outputs": [
        {
          "output_type": "display_data",
          "data": {
            "text/html": [
              "<style>\n",
              ".list-inline {list-style: none; margin:0; padding: 0}\n",
              ".list-inline>li {display: inline-block}\n",
              ".list-inline>li:not(:last-child)::after {content: \"\\00b7\"; padding: 0 .5ex}\n",
              "</style>\n",
              "<ol class=list-inline><li>150</li><li>5</li></ol>\n"
            ],
            "text/markdown": "1. 150\n2. 5\n\n\n",
            "text/latex": "\\begin{enumerate*}\n\\item 150\n\\item 5\n\\end{enumerate*}\n",
            "text/plain": [
              "[1] 150   5"
            ]
          },
          "metadata": {}
        }
      ]
    },
    {
      "cell_type": "code",
      "execution_count": null,
      "id": "burning-sheep",
      "metadata": {
        "id": "burning-sheep",
        "outputId": "766cc1b4-0a57-415b-ef75-e33c948f7ba0",
        "colab": {
          "base_uri": "https://localhost:8080/",
          "height": 286
        }
      },
      "outputs": [
        {
          "output_type": "display_data",
          "data": {
            "text/html": [
              "<table class=\"dataframe\">\n",
              "<caption>A data.frame: 6 × 5</caption>\n",
              "<thead>\n",
              "\t<tr><th></th><th scope=col>Sepal.Length</th><th scope=col>Sepal.Width</th><th scope=col>Petal.Length</th><th scope=col>Petal.Width</th><th scope=col>Species</th></tr>\n",
              "\t<tr><th></th><th scope=col>&lt;dbl&gt;</th><th scope=col>&lt;dbl&gt;</th><th scope=col>&lt;dbl&gt;</th><th scope=col>&lt;dbl&gt;</th><th scope=col>&lt;chr&gt;</th></tr>\n",
              "</thead>\n",
              "<tbody>\n",
              "\t<tr><th scope=row>1</th><td>5.1</td><td>3.5</td><td>1.4</td><td>0.2</td><td>setosa</td></tr>\n",
              "\t<tr><th scope=row>2</th><td>4.9</td><td>3.0</td><td>1.4</td><td>0.2</td><td>setosa</td></tr>\n",
              "\t<tr><th scope=row>3</th><td>4.7</td><td>3.2</td><td>1.3</td><td>0.2</td><td>setosa</td></tr>\n",
              "\t<tr><th scope=row>4</th><td>4.6</td><td>3.1</td><td>1.5</td><td>0.2</td><td>setosa</td></tr>\n",
              "\t<tr><th scope=row>5</th><td>5.0</td><td>3.6</td><td>1.4</td><td>0.2</td><td>setosa</td></tr>\n",
              "\t<tr><th scope=row>6</th><td>5.4</td><td>3.9</td><td>1.7</td><td>0.4</td><td>setosa</td></tr>\n",
              "</tbody>\n",
              "</table>\n"
            ],
            "text/markdown": "\nA data.frame: 6 × 5\n\n| <!--/--> | Sepal.Length &lt;dbl&gt; | Sepal.Width &lt;dbl&gt; | Petal.Length &lt;dbl&gt; | Petal.Width &lt;dbl&gt; | Species &lt;chr&gt; |\n|---|---|---|---|---|---|\n| 1 | 5.1 | 3.5 | 1.4 | 0.2 | setosa |\n| 2 | 4.9 | 3.0 | 1.4 | 0.2 | setosa |\n| 3 | 4.7 | 3.2 | 1.3 | 0.2 | setosa |\n| 4 | 4.6 | 3.1 | 1.5 | 0.2 | setosa |\n| 5 | 5.0 | 3.6 | 1.4 | 0.2 | setosa |\n| 6 | 5.4 | 3.9 | 1.7 | 0.4 | setosa |\n\n",
            "text/latex": "A data.frame: 6 × 5\n\\begin{tabular}{r|lllll}\n  & Sepal.Length & Sepal.Width & Petal.Length & Petal.Width & Species\\\\\n  & <dbl> & <dbl> & <dbl> & <dbl> & <chr>\\\\\n\\hline\n\t1 & 5.1 & 3.5 & 1.4 & 0.2 & setosa\\\\\n\t2 & 4.9 & 3.0 & 1.4 & 0.2 & setosa\\\\\n\t3 & 4.7 & 3.2 & 1.3 & 0.2 & setosa\\\\\n\t4 & 4.6 & 3.1 & 1.5 & 0.2 & setosa\\\\\n\t5 & 5.0 & 3.6 & 1.4 & 0.2 & setosa\\\\\n\t6 & 5.4 & 3.9 & 1.7 & 0.4 & setosa\\\\\n\\end{tabular}\n",
            "text/plain": [
              "  Sepal.Length Sepal.Width Petal.Length Petal.Width Species\n",
              "1 5.1          3.5         1.4          0.2         setosa \n",
              "2 4.9          3.0         1.4          0.2         setosa \n",
              "3 4.7          3.2         1.3          0.2         setosa \n",
              "4 4.6          3.1         1.5          0.2         setosa \n",
              "5 5.0          3.6         1.4          0.2         setosa \n",
              "6 5.4          3.9         1.7          0.4         setosa "
            ]
          },
          "metadata": {}
        }
      ],
      "source": [
        "# csv separado por \"-\"\n",
        "df5 <- read.csv('iris3.csv', sep=\"-\")\n",
        "head(df5)"
      ]
    },
    {
      "cell_type": "markdown",
      "id": "broad-pantyhose",
      "metadata": {
        "id": "broad-pantyhose"
      },
      "source": [
        "> ### read_excel()"
      ]
    },
    {
      "cell_type": "code",
      "execution_count": null,
      "id": "divided-moore",
      "metadata": {
        "id": "divided-moore"
      },
      "outputs": [],
      "source": [
        "library(\"readxl\")"
      ]
    },
    {
      "cell_type": "markdown",
      "id": "mineral-panic",
      "metadata": {
        "id": "mineral-panic"
      },
      "source": [
        "Por defecto al leer un archivo de excel nos lee únicamente la primera hoja.\n",
        "\n",
        "> *read_excel(path, sheet = 1, col_names = TRUE, col_types = NULL, na = \"\", skip = 0)*\n",
        "\n",
        "\n",
        "**Argumentos**:\n",
        "\n",
        "- **path** : Ruta del archivo xls/xlsx\n",
        "- **sheet** : Puede ser una cadena (el nombre de una hoja), o un número entero (la posición de la hoja). Por defecto es la primera hoja.\n",
        "- **col_names** : *TRUE* para utilizar la primera fila como nombres de columnas, *FALSE* para numerar las columnas secuencialmente de *X1* a *Xn*, o bien un vector de caracteres que da un nombre a cada columna.\n",
        "- **col_types** :  O bien *NULL* para adivinar desde la hoja de cálculo o un vector de caracteres que contenga \"blank\", \"numeric\", \"date\" o \"text\".\n",
        "- **na** : Valor faltante. Por defecto, readxl convierte las celdas en blanco en datos perdidos. Establezca este valor si ha utilizado un valor centinela para los valores perdidos.\n",
        "- **skip** :  Número de filas a saltar antes de leer cualquier dato.\n",
        "\n"
      ]
    },
    {
      "cell_type": "code",
      "execution_count": null,
      "id": "statistical-pennsylvania",
      "metadata": {
        "id": "statistical-pennsylvania",
        "outputId": "6db7be1f-7b79-45e0-8a22-67b2630bbf94",
        "colab": {
          "base_uri": "https://localhost:8080/",
          "height": 286
        }
      },
      "outputs": [
        {
          "output_type": "display_data",
          "data": {
            "text/html": [
              "<table class=\"dataframe\">\n",
              "<caption>A tibble: 6 × 5</caption>\n",
              "<thead>\n",
              "\t<tr><th scope=col>Sepal.Length</th><th scope=col>Sepal.Width</th><th scope=col>Petal.Length</th><th scope=col>Petal.Width</th><th scope=col>Species</th></tr>\n",
              "\t<tr><th scope=col>&lt;dbl&gt;</th><th scope=col>&lt;dbl&gt;</th><th scope=col>&lt;dbl&gt;</th><th scope=col>&lt;dbl&gt;</th><th scope=col>&lt;chr&gt;</th></tr>\n",
              "</thead>\n",
              "<tbody>\n",
              "\t<tr><td>6.3</td><td>3.3</td><td>6.0</td><td>2.5</td><td>virginica</td></tr>\n",
              "\t<tr><td>5.8</td><td>2.7</td><td>5.1</td><td>1.9</td><td>virginica</td></tr>\n",
              "\t<tr><td>7.1</td><td>3.0</td><td>5.9</td><td>2.1</td><td>virginica</td></tr>\n",
              "\t<tr><td>6.3</td><td>2.9</td><td>5.6</td><td>1.8</td><td>virginica</td></tr>\n",
              "\t<tr><td>6.5</td><td>3.0</td><td>5.8</td><td>2.2</td><td>virginica</td></tr>\n",
              "\t<tr><td>7.6</td><td>3.0</td><td>6.6</td><td>2.1</td><td>virginica</td></tr>\n",
              "</tbody>\n",
              "</table>\n"
            ],
            "text/markdown": "\nA tibble: 6 × 5\n\n| Sepal.Length &lt;dbl&gt; | Sepal.Width &lt;dbl&gt; | Petal.Length &lt;dbl&gt; | Petal.Width &lt;dbl&gt; | Species &lt;chr&gt; |\n|---|---|---|---|---|\n| 6.3 | 3.3 | 6.0 | 2.5 | virginica |\n| 5.8 | 2.7 | 5.1 | 1.9 | virginica |\n| 7.1 | 3.0 | 5.9 | 2.1 | virginica |\n| 6.3 | 2.9 | 5.6 | 1.8 | virginica |\n| 6.5 | 3.0 | 5.8 | 2.2 | virginica |\n| 7.6 | 3.0 | 6.6 | 2.1 | virginica |\n\n",
            "text/latex": "A tibble: 6 × 5\n\\begin{tabular}{lllll}\n Sepal.Length & Sepal.Width & Petal.Length & Petal.Width & Species\\\\\n <dbl> & <dbl> & <dbl> & <dbl> & <chr>\\\\\n\\hline\n\t 6.3 & 3.3 & 6.0 & 2.5 & virginica\\\\\n\t 5.8 & 2.7 & 5.1 & 1.9 & virginica\\\\\n\t 7.1 & 3.0 & 5.9 & 2.1 & virginica\\\\\n\t 6.3 & 2.9 & 5.6 & 1.8 & virginica\\\\\n\t 6.5 & 3.0 & 5.8 & 2.2 & virginica\\\\\n\t 7.6 & 3.0 & 6.6 & 2.1 & virginica\\\\\n\\end{tabular}\n",
            "text/plain": [
              "  Sepal.Length Sepal.Width Petal.Length Petal.Width Species  \n",
              "1 6.3          3.3         6.0          2.5         virginica\n",
              "2 5.8          2.7         5.1          1.9         virginica\n",
              "3 7.1          3.0         5.9          2.1         virginica\n",
              "4 6.3          2.9         5.6          1.8         virginica\n",
              "5 6.5          3.0         5.8          2.2         virginica\n",
              "6 7.6          3.0         6.6          2.1         virginica"
            ]
          },
          "metadata": {}
        }
      ],
      "source": [
        "df6 <- read_excel(\"iris.xlsx\",sheet = 3)\n",
        "head(df6)"
      ]
    },
    {
      "cell_type": "markdown",
      "id": "compatible-tokyo",
      "metadata": {
        "id": "compatible-tokyo"
      },
      "source": [
        "> Si deseamos consolidar todas las hojas de un archivo de excel en un único data frame, podemos emplear lo aprendido sobre programación para automatizar esa tarea."
      ]
    },
    {
      "cell_type": "code",
      "source": [
        "# función para unir archivos xlsx\n",
        "union_files <- function(file, n_sheets){\n",
        "  \n",
        "  df_list <- list()\n",
        "  for(i in 1:n_sheets){\n",
        "    df_list[[i]] <- read_excel(file,sheet = i)\n",
        "  }\n",
        "  df_full <- do.call('rbind', df_list)\n",
        "\n",
        "  return(df_full)\n",
        "}\n"
      ],
      "metadata": {
        "id": "S8ws6yHHFa6Q"
      },
      "id": "S8ws6yHHFa6Q",
      "execution_count": null,
      "outputs": []
    },
    {
      "cell_type": "code",
      "source": [
        "df_full <- union_files(file='iris.xlsx', n_sheets=3)\n",
        "head(df_full)"
      ],
      "metadata": {
        "colab": {
          "base_uri": "https://localhost:8080/",
          "height": 286
        },
        "id": "kIz3j8gQF-cc",
        "outputId": "d2254cbf-66e7-4dd8-a91e-58f40b18aee3"
      },
      "id": "kIz3j8gQF-cc",
      "execution_count": null,
      "outputs": [
        {
          "output_type": "display_data",
          "data": {
            "text/html": [
              "<table class=\"dataframe\">\n",
              "<caption>A tibble: 6 × 5</caption>\n",
              "<thead>\n",
              "\t<tr><th scope=col>Sepal.Length</th><th scope=col>Sepal.Width</th><th scope=col>Petal.Length</th><th scope=col>Petal.Width</th><th scope=col>Species</th></tr>\n",
              "\t<tr><th scope=col>&lt;dbl&gt;</th><th scope=col>&lt;dbl&gt;</th><th scope=col>&lt;dbl&gt;</th><th scope=col>&lt;dbl&gt;</th><th scope=col>&lt;chr&gt;</th></tr>\n",
              "</thead>\n",
              "<tbody>\n",
              "\t<tr><td>5.1</td><td>3.5</td><td>1.4</td><td>0.2</td><td>setosa</td></tr>\n",
              "\t<tr><td>4.9</td><td>3.0</td><td>1.4</td><td>0.2</td><td>setosa</td></tr>\n",
              "\t<tr><td>4.7</td><td>3.2</td><td>1.3</td><td>0.2</td><td>setosa</td></tr>\n",
              "\t<tr><td>4.6</td><td>3.1</td><td>1.5</td><td>0.2</td><td>setosa</td></tr>\n",
              "\t<tr><td>5.0</td><td>3.6</td><td>1.4</td><td>0.2</td><td>setosa</td></tr>\n",
              "\t<tr><td>5.4</td><td>3.9</td><td>1.7</td><td>0.4</td><td>setosa</td></tr>\n",
              "</tbody>\n",
              "</table>\n"
            ],
            "text/markdown": "\nA tibble: 6 × 5\n\n| Sepal.Length &lt;dbl&gt; | Sepal.Width &lt;dbl&gt; | Petal.Length &lt;dbl&gt; | Petal.Width &lt;dbl&gt; | Species &lt;chr&gt; |\n|---|---|---|---|---|\n| 5.1 | 3.5 | 1.4 | 0.2 | setosa |\n| 4.9 | 3.0 | 1.4 | 0.2 | setosa |\n| 4.7 | 3.2 | 1.3 | 0.2 | setosa |\n| 4.6 | 3.1 | 1.5 | 0.2 | setosa |\n| 5.0 | 3.6 | 1.4 | 0.2 | setosa |\n| 5.4 | 3.9 | 1.7 | 0.4 | setosa |\n\n",
            "text/latex": "A tibble: 6 × 5\n\\begin{tabular}{lllll}\n Sepal.Length & Sepal.Width & Petal.Length & Petal.Width & Species\\\\\n <dbl> & <dbl> & <dbl> & <dbl> & <chr>\\\\\n\\hline\n\t 5.1 & 3.5 & 1.4 & 0.2 & setosa\\\\\n\t 4.9 & 3.0 & 1.4 & 0.2 & setosa\\\\\n\t 4.7 & 3.2 & 1.3 & 0.2 & setosa\\\\\n\t 4.6 & 3.1 & 1.5 & 0.2 & setosa\\\\\n\t 5.0 & 3.6 & 1.4 & 0.2 & setosa\\\\\n\t 5.4 & 3.9 & 1.7 & 0.4 & setosa\\\\\n\\end{tabular}\n",
            "text/plain": [
              "  Sepal.Length Sepal.Width Petal.Length Petal.Width Species\n",
              "1 5.1          3.5         1.4          0.2         setosa \n",
              "2 4.9          3.0         1.4          0.2         setosa \n",
              "3 4.7          3.2         1.3          0.2         setosa \n",
              "4 4.6          3.1         1.5          0.2         setosa \n",
              "5 5.0          3.6         1.4          0.2         setosa \n",
              "6 5.4          3.9         1.7          0.4         setosa "
            ]
          },
          "metadata": {}
        }
      ]
    },
    {
      "cell_type": "code",
      "source": [
        "unique(df_full$Species)"
      ],
      "metadata": {
        "colab": {
          "base_uri": "https://localhost:8080/",
          "height": 34
        },
        "id": "uWcv0UPxGvDC",
        "outputId": "ae19a747-f4f0-4771-8f9c-ca44160c42ec"
      },
      "id": "uWcv0UPxGvDC",
      "execution_count": null,
      "outputs": [
        {
          "output_type": "display_data",
          "data": {
            "text/html": [
              "<style>\n",
              ".list-inline {list-style: none; margin:0; padding: 0}\n",
              ".list-inline>li {display: inline-block}\n",
              ".list-inline>li:not(:last-child)::after {content: \"\\00b7\"; padding: 0 .5ex}\n",
              "</style>\n",
              "<ol class=list-inline><li>'setosa'</li><li>'versicolor'</li><li>'virginica'</li></ol>\n"
            ],
            "text/markdown": "1. 'setosa'\n2. 'versicolor'\n3. 'virginica'\n\n\n",
            "text/latex": "\\begin{enumerate*}\n\\item 'setosa'\n\\item 'versicolor'\n\\item 'virginica'\n\\end{enumerate*}\n",
            "text/plain": [
              "[1] \"setosa\"     \"versicolor\" \"virginica\" "
            ]
          },
          "metadata": {}
        }
      ]
    },
    {
      "cell_type": "code",
      "execution_count": null,
      "id": "universal-owner",
      "metadata": {
        "id": "universal-owner"
      },
      "outputs": [],
      "source": [
        "# código para consolidar varias hojas de excel en un sólo data frame\n",
        "sheets = 1:3\n",
        "\n",
        "for(i in 1:length(sheets)){\n",
        "    if(i == 1){\n",
        "        df_iris_1 <- read_excel(\"./datasets/iris.xlsx\", sheet=i)\n",
        "    }else{\n",
        "        df_iris_n <- read_excel(\"./datasets/iris.xlsx\", sheet=i)\n",
        "        df_iris_1 <- rbind(df_iris_1, df_iris_n)\n",
        "    }\n",
        "}"
      ]
    },
    {
      "cell_type": "code",
      "execution_count": null,
      "id": "threaded-values",
      "metadata": {
        "id": "threaded-values",
        "outputId": "438aecaa-8f7b-42fb-ec2b-c437264eed36"
      },
      "outputs": [
        {
          "data": {
            "text/html": [
              "<table>\n",
              "<caption>A tibble: 6 × 5</caption>\n",
              "<thead>\n",
              "\t<tr><th scope=col>Sepal.Length</th><th scope=col>Sepal.Width</th><th scope=col>Petal.Length</th><th scope=col>Petal.Width</th><th scope=col>Species</th></tr>\n",
              "\t<tr><th scope=col>&lt;dbl&gt;</th><th scope=col>&lt;dbl&gt;</th><th scope=col>&lt;dbl&gt;</th><th scope=col>&lt;dbl&gt;</th><th scope=col>&lt;chr&gt;</th></tr>\n",
              "</thead>\n",
              "<tbody>\n",
              "\t<tr><td>5.1</td><td>3.5</td><td>1.4</td><td>0.2</td><td>setosa</td></tr>\n",
              "\t<tr><td>4.9</td><td>3.0</td><td>1.4</td><td>0.2</td><td>setosa</td></tr>\n",
              "\t<tr><td>4.7</td><td>3.2</td><td>1.3</td><td>0.2</td><td>setosa</td></tr>\n",
              "\t<tr><td>4.6</td><td>3.1</td><td>1.5</td><td>0.2</td><td>setosa</td></tr>\n",
              "\t<tr><td>5.0</td><td>3.6</td><td>1.4</td><td>0.2</td><td>setosa</td></tr>\n",
              "\t<tr><td>5.4</td><td>3.9</td><td>1.7</td><td>0.4</td><td>setosa</td></tr>\n",
              "</tbody>\n",
              "</table>\n"
            ],
            "text/latex": [
              "A tibble: 6 × 5\n",
              "\\begin{tabular}{lllll}\n",
              " Sepal.Length & Sepal.Width & Petal.Length & Petal.Width & Species\\\\\n",
              " <dbl> & <dbl> & <dbl> & <dbl> & <chr>\\\\\n",
              "\\hline\n",
              "\t 5.1 & 3.5 & 1.4 & 0.2 & setosa\\\\\n",
              "\t 4.9 & 3.0 & 1.4 & 0.2 & setosa\\\\\n",
              "\t 4.7 & 3.2 & 1.3 & 0.2 & setosa\\\\\n",
              "\t 4.6 & 3.1 & 1.5 & 0.2 & setosa\\\\\n",
              "\t 5.0 & 3.6 & 1.4 & 0.2 & setosa\\\\\n",
              "\t 5.4 & 3.9 & 1.7 & 0.4 & setosa\\\\\n",
              "\\end{tabular}\n"
            ],
            "text/markdown": [
              "\n",
              "A tibble: 6 × 5\n",
              "\n",
              "| Sepal.Length &lt;dbl&gt; | Sepal.Width &lt;dbl&gt; | Petal.Length &lt;dbl&gt; | Petal.Width &lt;dbl&gt; | Species &lt;chr&gt; |\n",
              "|---|---|---|---|---|\n",
              "| 5.1 | 3.5 | 1.4 | 0.2 | setosa |\n",
              "| 4.9 | 3.0 | 1.4 | 0.2 | setosa |\n",
              "| 4.7 | 3.2 | 1.3 | 0.2 | setosa |\n",
              "| 4.6 | 3.1 | 1.5 | 0.2 | setosa |\n",
              "| 5.0 | 3.6 | 1.4 | 0.2 | setosa |\n",
              "| 5.4 | 3.9 | 1.7 | 0.4 | setosa |\n",
              "\n"
            ],
            "text/plain": [
              "  Sepal.Length Sepal.Width Petal.Length Petal.Width Species\n",
              "1 5.1          3.5         1.4          0.2         setosa \n",
              "2 4.9          3.0         1.4          0.2         setosa \n",
              "3 4.7          3.2         1.3          0.2         setosa \n",
              "4 4.6          3.1         1.5          0.2         setosa \n",
              "5 5.0          3.6         1.4          0.2         setosa \n",
              "6 5.4          3.9         1.7          0.4         setosa "
            ]
          },
          "metadata": {},
          "output_type": "display_data"
        }
      ],
      "source": [
        "head(df_iris_1)"
      ]
    },
    {
      "cell_type": "code",
      "execution_count": null,
      "id": "serious-sandwich",
      "metadata": {
        "id": "serious-sandwich",
        "outputId": "77b52664-094b-4f76-9ebe-59572f4a2689"
      },
      "outputs": [
        {
          "data": {
            "text/html": [
              "<style>\n",
              ".list-inline {list-style: none; margin:0; padding: 0}\n",
              ".list-inline>li {display: inline-block}\n",
              ".list-inline>li:not(:last-child)::after {content: \"\\00b7\"; padding: 0 .5ex}\n",
              "</style>\n",
              "<ol class=list-inline><li>150</li><li>5</li></ol>\n"
            ],
            "text/latex": [
              "\\begin{enumerate*}\n",
              "\\item 150\n",
              "\\item 5\n",
              "\\end{enumerate*}\n"
            ],
            "text/markdown": [
              "1. 150\n",
              "2. 5\n",
              "\n",
              "\n"
            ],
            "text/plain": [
              "[1] 150   5"
            ]
          },
          "metadata": {},
          "output_type": "display_data"
        }
      ],
      "source": [
        "dim(df_iris_1)"
      ]
    },
    {
      "cell_type": "markdown",
      "id": "double-bandwidth",
      "metadata": {
        "id": "double-bandwidth"
      },
      "source": [
        "# **Read from the web (Datos de COVID-19 México)**"
      ]
    },
    {
      "cell_type": "markdown",
      "id": "essential-spread",
      "metadata": {
        "id": "essential-spread"
      },
      "source": [
        "La información se encuentra disponible en la siguiente liga:  <a href=\"https://www.gob.mx/salud/documentos/datos-abiertos-152127\">https://www.gob.mx/salud/documentos/datos-abiertos-152127</a>."
      ]
    },
    {
      "cell_type": "code",
      "execution_count": null,
      "id": "liked-graph",
      "metadata": {
        "id": "liked-graph"
      },
      "outputs": [],
      "source": [
        "# creación de un archivo temporal\n",
        "temp <- tempfile()\n",
        "# descargar archivo .zip al archivo temporal\n",
        "download.file(\"https://datosabiertos.salud.gob.mx/gobmx/salud/datos_abiertos/datos_abiertos_covid19.zip\",temp)\n",
        "# lectura del archivo .csv deltro del .zip\n",
        "unzip(temp)\n",
        "# la siguiente linea funciona en colab\n",
        "covid_mex <- read.csv('220706COVID19MEXICO.csv')\n",
        "# la siguiente en R studio\n",
        "# list.files() # para ver en memoria el archivo descargado\n",
        "# covid_mex <- read.csv(llis_files()[1]) # el número de archivo\n",
        "# remueve archivos temporales\n",
        "unlink(temp)"
      ]
    },
    {
      "cell_type": "code",
      "execution_count": null,
      "id": "immune-nutrition",
      "metadata": {
        "id": "immune-nutrition",
        "outputId": "fc4940f3-8425-455b-cd84-379b919cf811"
      },
      "outputs": [
        {
          "data": {
            "text/html": [
              "<table>\n",
              "<caption>A data.frame: 6 × 40</caption>\n",
              "<thead>\n",
              "\t<tr><th></th><th scope=col>FECHA_ACTUALIZACION</th><th scope=col>ID_REGISTRO</th><th scope=col>ORIGEN</th><th scope=col>SECTOR</th><th scope=col>ENTIDAD_UM</th><th scope=col>SEXO</th><th scope=col>ENTIDAD_NAC</th><th scope=col>ENTIDAD_RES</th><th scope=col>MUNICIPIO_RES</th><th scope=col>TIPO_PACIENTE</th><th scope=col>...</th><th scope=col>OTRO_CASO</th><th scope=col>TOMA_MUESTRA_LAB</th><th scope=col>RESULTADO_LAB</th><th scope=col>TOMA_MUESTRA_ANTIGENO</th><th scope=col>RESULTADO_ANTIGENO</th><th scope=col>CLASIFICACION_FINAL</th><th scope=col>MIGRANTE</th><th scope=col>PAIS_NACIONALIDAD</th><th scope=col>PAIS_ORIGEN</th><th scope=col>UCI</th></tr>\n",
              "\t<tr><th></th><th scope=col>&lt;chr&gt;</th><th scope=col>&lt;chr&gt;</th><th scope=col>&lt;int&gt;</th><th scope=col>&lt;int&gt;</th><th scope=col>&lt;int&gt;</th><th scope=col>&lt;int&gt;</th><th scope=col>&lt;int&gt;</th><th scope=col>&lt;int&gt;</th><th scope=col>&lt;int&gt;</th><th scope=col>&lt;int&gt;</th><th scope=col>...</th><th scope=col>&lt;int&gt;</th><th scope=col>&lt;int&gt;</th><th scope=col>&lt;int&gt;</th><th scope=col>&lt;int&gt;</th><th scope=col>&lt;int&gt;</th><th scope=col>&lt;int&gt;</th><th scope=col>&lt;int&gt;</th><th scope=col>&lt;chr&gt;</th><th scope=col>&lt;chr&gt;</th><th scope=col>&lt;int&gt;</th></tr>\n",
              "</thead>\n",
              "<tbody>\n",
              "\t<tr><th scope=row>1</th><td>2021-07-05</td><td>z482b8</td><td>1</td><td>12</td><td> 9</td><td>2</td><td> 9</td><td> 9</td><td>12</td><td>1</td><td>...</td><td> 2</td><td>2</td><td>97</td><td>2</td><td>97</td><td>1</td><td>99</td><td>MÃ©xico</td><td>97</td><td>97</td></tr>\n",
              "\t<tr><th scope=row>2</th><td>2021-07-05</td><td>z49a69</td><td>1</td><td>12</td><td>23</td><td>1</td><td>23</td><td>23</td><td> 4</td><td>2</td><td>...</td><td> 1</td><td>2</td><td>97</td><td>2</td><td>97</td><td>2</td><td>99</td><td>MÃ©xico</td><td>97</td><td> 1</td></tr>\n",
              "\t<tr><th scope=row>3</th><td>2021-07-05</td><td>z23d9d</td><td>1</td><td>12</td><td>22</td><td>2</td><td>24</td><td>22</td><td> 9</td><td>1</td><td>...</td><td> 2</td><td>2</td><td>97</td><td>2</td><td>97</td><td>6</td><td>99</td><td>MÃ©xico</td><td>97</td><td>97</td></tr>\n",
              "\t<tr><th scope=row>4</th><td>2021-07-05</td><td>z24953</td><td>1</td><td>12</td><td> 9</td><td>1</td><td> 9</td><td> 9</td><td>10</td><td>1</td><td>...</td><td> 1</td><td>1</td><td> 2</td><td>2</td><td>97</td><td>7</td><td>99</td><td>MÃ©xico</td><td>97</td><td>97</td></tr>\n",
              "\t<tr><th scope=row>5</th><td>2021-07-05</td><td>zz8e77</td><td>1</td><td>12</td><td> 9</td><td>2</td><td> 9</td><td> 9</td><td> 2</td><td>1</td><td>...</td><td> 2</td><td>2</td><td>97</td><td>2</td><td>97</td><td>6</td><td>99</td><td>MÃ©xico</td><td>97</td><td>97</td></tr>\n",
              "\t<tr><th scope=row>6</th><td>2021-07-05</td><td>z1b0d1</td><td>1</td><td>12</td><td> 1</td><td>1</td><td> 1</td><td> 1</td><td> 3</td><td>1</td><td>...</td><td>99</td><td>1</td><td> 4</td><td>2</td><td>97</td><td>5</td><td>99</td><td>MÃ©xico</td><td>97</td><td>97</td></tr>\n",
              "</tbody>\n",
              "</table>\n"
            ],
            "text/latex": [
              "A data.frame: 6 × 40\n",
              "\\begin{tabular}{r|lllllllllllllllllllll}\n",
              "  & FECHA\\_ACTUALIZACION & ID\\_REGISTRO & ORIGEN & SECTOR & ENTIDAD\\_UM & SEXO & ENTIDAD\\_NAC & ENTIDAD\\_RES & MUNICIPIO\\_RES & TIPO\\_PACIENTE & ... & OTRO\\_CASO & TOMA\\_MUESTRA\\_LAB & RESULTADO\\_LAB & TOMA\\_MUESTRA\\_ANTIGENO & RESULTADO\\_ANTIGENO & CLASIFICACION\\_FINAL & MIGRANTE & PAIS\\_NACIONALIDAD & PAIS\\_ORIGEN & UCI\\\\\n",
              "  & <chr> & <chr> & <int> & <int> & <int> & <int> & <int> & <int> & <int> & <int> & ... & <int> & <int> & <int> & <int> & <int> & <int> & <int> & <chr> & <chr> & <int>\\\\\n",
              "\\hline\n",
              "\t1 & 2021-07-05 & z482b8 & 1 & 12 &  9 & 2 &  9 &  9 & 12 & 1 & ... &  2 & 2 & 97 & 2 & 97 & 1 & 99 & MÃ©xico & 97 & 97\\\\\n",
              "\t2 & 2021-07-05 & z49a69 & 1 & 12 & 23 & 1 & 23 & 23 &  4 & 2 & ... &  1 & 2 & 97 & 2 & 97 & 2 & 99 & MÃ©xico & 97 &  1\\\\\n",
              "\t3 & 2021-07-05 & z23d9d & 1 & 12 & 22 & 2 & 24 & 22 &  9 & 1 & ... &  2 & 2 & 97 & 2 & 97 & 6 & 99 & MÃ©xico & 97 & 97\\\\\n",
              "\t4 & 2021-07-05 & z24953 & 1 & 12 &  9 & 1 &  9 &  9 & 10 & 1 & ... &  1 & 1 &  2 & 2 & 97 & 7 & 99 & MÃ©xico & 97 & 97\\\\\n",
              "\t5 & 2021-07-05 & zz8e77 & 1 & 12 &  9 & 2 &  9 &  9 &  2 & 1 & ... &  2 & 2 & 97 & 2 & 97 & 6 & 99 & MÃ©xico & 97 & 97\\\\\n",
              "\t6 & 2021-07-05 & z1b0d1 & 1 & 12 &  1 & 1 &  1 &  1 &  3 & 1 & ... & 99 & 1 &  4 & 2 & 97 & 5 & 99 & MÃ©xico & 97 & 97\\\\\n",
              "\\end{tabular}\n"
            ],
            "text/markdown": [
              "\n",
              "A data.frame: 6 × 40\n",
              "\n",
              "| <!--/--> | FECHA_ACTUALIZACION &lt;chr&gt; | ID_REGISTRO &lt;chr&gt; | ORIGEN &lt;int&gt; | SECTOR &lt;int&gt; | ENTIDAD_UM &lt;int&gt; | SEXO &lt;int&gt; | ENTIDAD_NAC &lt;int&gt; | ENTIDAD_RES &lt;int&gt; | MUNICIPIO_RES &lt;int&gt; | TIPO_PACIENTE &lt;int&gt; | ... ... | OTRO_CASO &lt;int&gt; | TOMA_MUESTRA_LAB &lt;int&gt; | RESULTADO_LAB &lt;int&gt; | TOMA_MUESTRA_ANTIGENO &lt;int&gt; | RESULTADO_ANTIGENO &lt;int&gt; | CLASIFICACION_FINAL &lt;int&gt; | MIGRANTE &lt;int&gt; | PAIS_NACIONALIDAD &lt;chr&gt; | PAIS_ORIGEN &lt;chr&gt; | UCI &lt;int&gt; |\n",
              "|---|---|---|---|---|---|---|---|---|---|---|---|---|---|---|---|---|---|---|---|---|---|\n",
              "| 1 | 2021-07-05 | z482b8 | 1 | 12 |  9 | 2 |  9 |  9 | 12 | 1 | ... |  2 | 2 | 97 | 2 | 97 | 1 | 99 | MÃ©xico | 97 | 97 |\n",
              "| 2 | 2021-07-05 | z49a69 | 1 | 12 | 23 | 1 | 23 | 23 |  4 | 2 | ... |  1 | 2 | 97 | 2 | 97 | 2 | 99 | MÃ©xico | 97 |  1 |\n",
              "| 3 | 2021-07-05 | z23d9d | 1 | 12 | 22 | 2 | 24 | 22 |  9 | 1 | ... |  2 | 2 | 97 | 2 | 97 | 6 | 99 | MÃ©xico | 97 | 97 |\n",
              "| 4 | 2021-07-05 | z24953 | 1 | 12 |  9 | 1 |  9 |  9 | 10 | 1 | ... |  1 | 1 |  2 | 2 | 97 | 7 | 99 | MÃ©xico | 97 | 97 |\n",
              "| 5 | 2021-07-05 | zz8e77 | 1 | 12 |  9 | 2 |  9 |  9 |  2 | 1 | ... |  2 | 2 | 97 | 2 | 97 | 6 | 99 | MÃ©xico | 97 | 97 |\n",
              "| 6 | 2021-07-05 | z1b0d1 | 1 | 12 |  1 | 1 |  1 |  1 |  3 | 1 | ... | 99 | 1 |  4 | 2 | 97 | 5 | 99 | MÃ©xico | 97 | 97 |\n",
              "\n"
            ],
            "text/plain": [
              "  FECHA_ACTUALIZACION ID_REGISTRO ORIGEN SECTOR ENTIDAD_UM SEXO ENTIDAD_NAC\n",
              "1 2021-07-05          z482b8      1      12      9         2     9         \n",
              "2 2021-07-05          z49a69      1      12     23         1    23         \n",
              "3 2021-07-05          z23d9d      1      12     22         2    24         \n",
              "4 2021-07-05          z24953      1      12      9         1     9         \n",
              "5 2021-07-05          zz8e77      1      12      9         2     9         \n",
              "6 2021-07-05          z1b0d1      1      12      1         1     1         \n",
              "  ENTIDAD_RES MUNICIPIO_RES TIPO_PACIENTE ... OTRO_CASO TOMA_MUESTRA_LAB\n",
              "1  9          12            1             ...  2        2               \n",
              "2 23           4            2             ...  1        2               \n",
              "3 22           9            1             ...  2        2               \n",
              "4  9          10            1             ...  1        1               \n",
              "5  9           2            1             ...  2        2               \n",
              "6  1           3            1             ... 99        1               \n",
              "  RESULTADO_LAB TOMA_MUESTRA_ANTIGENO RESULTADO_ANTIGENO CLASIFICACION_FINAL\n",
              "1 97            2                     97                 1                  \n",
              "2 97            2                     97                 2                  \n",
              "3 97            2                     97                 6                  \n",
              "4  2            2                     97                 7                  \n",
              "5 97            2                     97                 6                  \n",
              "6  4            2                     97                 5                  \n",
              "  MIGRANTE PAIS_NACIONALIDAD PAIS_ORIGEN UCI\n",
              "1 99       MÃ©xico           97          97 \n",
              "2 99       MÃ©xico           97           1 \n",
              "3 99       MÃ©xico           97          97 \n",
              "4 99       MÃ©xico           97          97 \n",
              "5 99       MÃ©xico           97          97 \n",
              "6 99       MÃ©xico           97          97 "
            ]
          },
          "metadata": {},
          "output_type": "display_data"
        }
      ],
      "source": [
        "head(covid_mex)"
      ]
    },
    {
      "cell_type": "markdown",
      "source": [
        "# **Enfermedades Febriles Exantemáticas**"
      ],
      "metadata": {
        "id": "H767VQc_tdBu"
      },
      "id": "H767VQc_tdBu"
    },
    {
      "cell_type": "code",
      "execution_count": null,
      "id": "satisfied-peoples",
      "metadata": {
        "id": "satisfied-peoples"
      },
      "outputs": [],
      "source": [
        "# creación de un archivo temporal\n",
        "temp <- tempfile()\n",
        "# descarga de archivo .zip\n",
        "download.file(\"https://datosabiertos.salud.gob.mx/gobmx/salud/datos_abiertos/efe/datos_abiertos_efe.zip\",temp)\n",
        "# lectura del archivo .csv deltro del .zip\n",
        "\n",
        "unzip(temp)\n"
      ]
    },
    {
      "cell_type": "code",
      "source": [
        "ef <- read.csv('20220704_Base DA_EFEs.csv')\n",
        "head(ef)"
      ],
      "metadata": {
        "colab": {
          "base_uri": "https://localhost:8080/",
          "height": 306
        },
        "id": "KM2goIu0uDub",
        "outputId": "c50a62ad-b991-483d-9d71-297cf4c9f95e"
      },
      "id": "KM2goIu0uDub",
      "execution_count": null,
      "outputs": [
        {
          "output_type": "display_data",
          "data": {
            "text/html": [
              "<table class=\"dataframe\">\n",
              "<caption>A data.frame: 6 × 22</caption>\n",
              "<thead>\n",
              "\t<tr><th></th><th scope=col>FECHA_ACTUALIZACION</th><th scope=col>ID_REGISTRO</th><th scope=col>EDAD_ANOS</th><th scope=col>EDAD_MESES</th><th scope=col>EDAD_DIAS</th><th scope=col>SEXO</th><th scope=col>HABLA_LENGUA_INDIG</th><th scope=col>INDIGENA</th><th scope=col>ENTIDAD_UM_NOTIF</th><th scope=col>MUNICIPIO_UM_NOTIF</th><th scope=col>⋯</th><th scope=col>INSTITUCION_NOTIF</th><th scope=col>VACUNACION</th><th scope=col>EXANTEMA</th><th scope=col>FIEBRE</th><th scope=col>COMPLICACIONES</th><th scope=col>DEFUNCION</th><th scope=col>DIAGNOSTICO</th><th scope=col>CRITERIO_DIAGNOSTICO</th><th scope=col>FECHA_DIAGNOSTICO</th><th scope=col>ORIGEN_CASO</th></tr>\n",
              "\t<tr><th></th><th scope=col>&lt;chr&gt;</th><th scope=col>&lt;int&gt;</th><th scope=col>&lt;int&gt;</th><th scope=col>&lt;int&gt;</th><th scope=col>&lt;int&gt;</th><th scope=col>&lt;int&gt;</th><th scope=col>&lt;int&gt;</th><th scope=col>&lt;int&gt;</th><th scope=col>&lt;int&gt;</th><th scope=col>&lt;int&gt;</th><th scope=col>⋯</th><th scope=col>&lt;int&gt;</th><th scope=col>&lt;int&gt;</th><th scope=col>&lt;int&gt;</th><th scope=col>&lt;int&gt;</th><th scope=col>&lt;int&gt;</th><th scope=col>&lt;int&gt;</th><th scope=col>&lt;int&gt;</th><th scope=col>&lt;int&gt;</th><th scope=col>&lt;chr&gt;</th><th scope=col>&lt;int&gt;</th></tr>\n",
              "</thead>\n",
              "<tbody>\n",
              "\t<tr><th scope=row>1</th><td>28/06/2022</td><td>22186</td><td>4</td><td> 6</td><td>21</td><td>2</td><td>2</td><td>2</td><td>12</td><td>29</td><td>⋯</td><td>12</td><td>1</td><td>1</td><td>1</td><td>2</td><td>2</td><td>3</td><td>2</td><td>10/01/2022</td><td>5</td></tr>\n",
              "\t<tr><th scope=row>2</th><td>28/06/2022</td><td>22187</td><td>0</td><td>11</td><td>10</td><td>2</td><td>2</td><td>2</td><td>19</td><td>21</td><td>⋯</td><td>12</td><td>2</td><td>1</td><td>1</td><td>2</td><td>2</td><td>3</td><td>2</td><td>06/01/2022</td><td>5</td></tr>\n",
              "\t<tr><th scope=row>3</th><td>28/06/2022</td><td>22189</td><td>8</td><td> 2</td><td>22</td><td>2</td><td>2</td><td>2</td><td>19</td><td>46</td><td>⋯</td><td>12</td><td>1</td><td>1</td><td>1</td><td>2</td><td>2</td><td>3</td><td>2</td><td>06/01/2022</td><td>5</td></tr>\n",
              "\t<tr><th scope=row>4</th><td>28/06/2022</td><td>22190</td><td>0</td><td>11</td><td>19</td><td>1</td><td>2</td><td>2</td><td>18</td><td>17</td><td>⋯</td><td> 4</td><td>2</td><td>1</td><td>1</td><td>2</td><td>2</td><td>3</td><td>1</td><td>07/03/2022</td><td>5</td></tr>\n",
              "\t<tr><th scope=row>5</th><td>28/06/2022</td><td>22191</td><td>1</td><td> 0</td><td>27</td><td>2</td><td>2</td><td>2</td><td>25</td><td>12</td><td>⋯</td><td> 4</td><td>2</td><td>1</td><td>1</td><td>2</td><td>2</td><td>3</td><td>1</td><td>18/05/2022</td><td>5</td></tr>\n",
              "\t<tr><th scope=row>6</th><td>28/06/2022</td><td>22192</td><td>0</td><td> 7</td><td>24</td><td>2</td><td>2</td><td>2</td><td> 9</td><td> 5</td><td>⋯</td><td>12</td><td>2</td><td>1</td><td>1</td><td>2</td><td>2</td><td>3</td><td>2</td><td>11/01/2022</td><td>5</td></tr>\n",
              "</tbody>\n",
              "</table>\n"
            ],
            "text/markdown": "\nA data.frame: 6 × 22\n\n| <!--/--> | FECHA_ACTUALIZACION &lt;chr&gt; | ID_REGISTRO &lt;int&gt; | EDAD_ANOS &lt;int&gt; | EDAD_MESES &lt;int&gt; | EDAD_DIAS &lt;int&gt; | SEXO &lt;int&gt; | HABLA_LENGUA_INDIG &lt;int&gt; | INDIGENA &lt;int&gt; | ENTIDAD_UM_NOTIF &lt;int&gt; | MUNICIPIO_UM_NOTIF &lt;int&gt; | ⋯ ⋯ | INSTITUCION_NOTIF &lt;int&gt; | VACUNACION &lt;int&gt; | EXANTEMA &lt;int&gt; | FIEBRE &lt;int&gt; | COMPLICACIONES &lt;int&gt; | DEFUNCION &lt;int&gt; | DIAGNOSTICO &lt;int&gt; | CRITERIO_DIAGNOSTICO &lt;int&gt; | FECHA_DIAGNOSTICO &lt;chr&gt; | ORIGEN_CASO &lt;int&gt; |\n|---|---|---|---|---|---|---|---|---|---|---|---|---|---|---|---|---|---|---|---|---|---|\n| 1 | 28/06/2022 | 22186 | 4 |  6 | 21 | 2 | 2 | 2 | 12 | 29 | ⋯ | 12 | 1 | 1 | 1 | 2 | 2 | 3 | 2 | 10/01/2022 | 5 |\n| 2 | 28/06/2022 | 22187 | 0 | 11 | 10 | 2 | 2 | 2 | 19 | 21 | ⋯ | 12 | 2 | 1 | 1 | 2 | 2 | 3 | 2 | 06/01/2022 | 5 |\n| 3 | 28/06/2022 | 22189 | 8 |  2 | 22 | 2 | 2 | 2 | 19 | 46 | ⋯ | 12 | 1 | 1 | 1 | 2 | 2 | 3 | 2 | 06/01/2022 | 5 |\n| 4 | 28/06/2022 | 22190 | 0 | 11 | 19 | 1 | 2 | 2 | 18 | 17 | ⋯ |  4 | 2 | 1 | 1 | 2 | 2 | 3 | 1 | 07/03/2022 | 5 |\n| 5 | 28/06/2022 | 22191 | 1 |  0 | 27 | 2 | 2 | 2 | 25 | 12 | ⋯ |  4 | 2 | 1 | 1 | 2 | 2 | 3 | 1 | 18/05/2022 | 5 |\n| 6 | 28/06/2022 | 22192 | 0 |  7 | 24 | 2 | 2 | 2 |  9 |  5 | ⋯ | 12 | 2 | 1 | 1 | 2 | 2 | 3 | 2 | 11/01/2022 | 5 |\n\n",
            "text/latex": "A data.frame: 6 × 22\n\\begin{tabular}{r|lllllllllllllllllllll}\n  & FECHA\\_ACTUALIZACION & ID\\_REGISTRO & EDAD\\_ANOS & EDAD\\_MESES & EDAD\\_DIAS & SEXO & HABLA\\_LENGUA\\_INDIG & INDIGENA & ENTIDAD\\_UM\\_NOTIF & MUNICIPIO\\_UM\\_NOTIF & ⋯ & INSTITUCION\\_NOTIF & VACUNACION & EXANTEMA & FIEBRE & COMPLICACIONES & DEFUNCION & DIAGNOSTICO & CRITERIO\\_DIAGNOSTICO & FECHA\\_DIAGNOSTICO & ORIGEN\\_CASO\\\\\n  & <chr> & <int> & <int> & <int> & <int> & <int> & <int> & <int> & <int> & <int> & ⋯ & <int> & <int> & <int> & <int> & <int> & <int> & <int> & <int> & <chr> & <int>\\\\\n\\hline\n\t1 & 28/06/2022 & 22186 & 4 &  6 & 21 & 2 & 2 & 2 & 12 & 29 & ⋯ & 12 & 1 & 1 & 1 & 2 & 2 & 3 & 2 & 10/01/2022 & 5\\\\\n\t2 & 28/06/2022 & 22187 & 0 & 11 & 10 & 2 & 2 & 2 & 19 & 21 & ⋯ & 12 & 2 & 1 & 1 & 2 & 2 & 3 & 2 & 06/01/2022 & 5\\\\\n\t3 & 28/06/2022 & 22189 & 8 &  2 & 22 & 2 & 2 & 2 & 19 & 46 & ⋯ & 12 & 1 & 1 & 1 & 2 & 2 & 3 & 2 & 06/01/2022 & 5\\\\\n\t4 & 28/06/2022 & 22190 & 0 & 11 & 19 & 1 & 2 & 2 & 18 & 17 & ⋯ &  4 & 2 & 1 & 1 & 2 & 2 & 3 & 1 & 07/03/2022 & 5\\\\\n\t5 & 28/06/2022 & 22191 & 1 &  0 & 27 & 2 & 2 & 2 & 25 & 12 & ⋯ &  4 & 2 & 1 & 1 & 2 & 2 & 3 & 1 & 18/05/2022 & 5\\\\\n\t6 & 28/06/2022 & 22192 & 0 &  7 & 24 & 2 & 2 & 2 &  9 &  5 & ⋯ & 12 & 2 & 1 & 1 & 2 & 2 & 3 & 2 & 11/01/2022 & 5\\\\\n\\end{tabular}\n",
            "text/plain": [
              "  FECHA_ACTUALIZACION ID_REGISTRO EDAD_ANOS EDAD_MESES EDAD_DIAS SEXO\n",
              "1 28/06/2022          22186       4          6         21        2   \n",
              "2 28/06/2022          22187       0         11         10        2   \n",
              "3 28/06/2022          22189       8          2         22        2   \n",
              "4 28/06/2022          22190       0         11         19        1   \n",
              "5 28/06/2022          22191       1          0         27        2   \n",
              "6 28/06/2022          22192       0          7         24        2   \n",
              "  HABLA_LENGUA_INDIG INDIGENA ENTIDAD_UM_NOTIF MUNICIPIO_UM_NOTIF ⋯\n",
              "1 2                  2        12               29                 ⋯\n",
              "2 2                  2        19               21                 ⋯\n",
              "3 2                  2        19               46                 ⋯\n",
              "4 2                  2        18               17                 ⋯\n",
              "5 2                  2        25               12                 ⋯\n",
              "6 2                  2         9                5                 ⋯\n",
              "  INSTITUCION_NOTIF VACUNACION EXANTEMA FIEBRE COMPLICACIONES DEFUNCION\n",
              "1 12                1          1        1      2              2        \n",
              "2 12                2          1        1      2              2        \n",
              "3 12                1          1        1      2              2        \n",
              "4  4                2          1        1      2              2        \n",
              "5  4                2          1        1      2              2        \n",
              "6 12                2          1        1      2              2        \n",
              "  DIAGNOSTICO CRITERIO_DIAGNOSTICO FECHA_DIAGNOSTICO ORIGEN_CASO\n",
              "1 3           2                    10/01/2022        5          \n",
              "2 3           2                    06/01/2022        5          \n",
              "3 3           2                    06/01/2022        5          \n",
              "4 3           1                    07/03/2022        5          \n",
              "5 3           1                    18/05/2022        5          \n",
              "6 3           2                    11/01/2022        5          "
            ]
          },
          "metadata": {}
        }
      ]
    },
    {
      "cell_type": "code",
      "source": [
        "dim(ef)"
      ],
      "metadata": {
        "colab": {
          "base_uri": "https://localhost:8080/",
          "height": 34
        },
        "id": "CdMa2iy-KfAZ",
        "outputId": "4e2747e3-8646-407e-d470-b8813c699424"
      },
      "id": "CdMa2iy-KfAZ",
      "execution_count": null,
      "outputs": [
        {
          "output_type": "display_data",
          "data": {
            "text/html": [
              "<style>\n",
              ".list-inline {list-style: none; margin:0; padding: 0}\n",
              ".list-inline>li {display: inline-block}\n",
              ".list-inline>li:not(:last-child)::after {content: \"\\00b7\"; padding: 0 .5ex}\n",
              "</style>\n",
              "<ol class=list-inline><li>1186</li><li>22</li></ol>\n"
            ],
            "text/markdown": "1. 1186\n2. 22\n\n\n",
            "text/latex": "\\begin{enumerate*}\n\\item 1186\n\\item 22\n\\end{enumerate*}\n",
            "text/plain": [
              "[1] 1186   22"
            ]
          },
          "metadata": {}
        }
      ]
    },
    {
      "cell_type": "markdown",
      "source": [
        "# **Extraer tablas de la web**\n",
        "\n",
        "\n",
        "Para mostrar un ejemplo vamos a considerar la página web del [Ranking de centros de investigación en México](https://research.webometrics.info/es/Latin_America_es/M%C3%A9xico). "
      ],
      "metadata": {
        "id": "jKZKFm4Q7-yr"
      },
      "id": "jKZKFm4Q7-yr"
    },
    {
      "cell_type": "code",
      "source": [
        "library(xml2)\n",
        "library(rvest)"
      ],
      "metadata": {
        "id": "Xlajic2M72bh"
      },
      "id": "Xlajic2M72bh",
      "execution_count": null,
      "outputs": []
    },
    {
      "cell_type": "code",
      "source": [
        "\n",
        "url <- \"https://research.webometrics.info/es/Latin_America_es/M%C3%A9xico\" \n",
        "page <- read_html(url) \n",
        "page"
      ],
      "metadata": {
        "colab": {
          "base_uri": "https://localhost:8080/",
          "height": 160
        },
        "id": "rD6PQs-A7r4Q",
        "outputId": "1dba9220-05b1-4637-c217-78d2dae4b328"
      },
      "id": "rD6PQs-A7r4Q",
      "execution_count": null,
      "outputs": [
        {
          "output_type": "display_data",
          "data": {
            "text/plain": [
              "{html_document}\n",
              "<html xmlns=\"http://www.w3.org/1999/xhtml\" xml:lang=\"es\" version=\"XHTML+RDFa 1.0\" dir=\"ltr\" xmlns:content=\"http://purl.org/rss/1.0/modules/content/\" xmlns:dc=\"http://purl.org/dc/terms/\" xmlns:foaf=\"http://xmlns.com/foaf/0.1/\" xmlns:og=\"http://ogp.me/ns#\" xmlns:rdfs=\"http://www.w3.org/2000/01/rdf-schema#\" xmlns:sioc=\"http://rdfs.org/sioc/ns#\" xmlns:sioct=\"http://rdfs.org/sioc/types#\" xmlns:skos=\"http://www.w3.org/2004/02/skos/core#\" xmlns:xsd=\"http://www.w3.org/2001/XMLSchema#\">\n",
              "[1] <head profile=\"http://www.w3.org/1999/xhtml/vocab\">\\n<!--start head secti ...\n",
              "[2] <body class=\"marinelli html not-front not-logged-in one-sidebar sidebar-f ..."
            ]
          },
          "metadata": {}
        }
      ]
    },
    {
      "cell_type": "code",
      "source": [
        "table <- html_table(page, fill = TRUE) \n",
        "head(table[[1]])"
      ],
      "metadata": {
        "colab": {
          "base_uri": "https://localhost:8080/",
          "height": 286
        },
        "id": "pO3EM_qj8yGy",
        "outputId": "63620eed-1c11-4766-8444-5fc2fab2616f"
      },
      "id": "pO3EM_qj8yGy",
      "execution_count": null,
      "outputs": [
        {
          "output_type": "display_data",
          "data": {
            "text/html": [
              "<table class=\"dataframe\">\n",
              "<caption>A tibble: 6 × 7</caption>\n",
              "<thead>\n",
              "\t<tr><th scope=col>ranking</th><th scope=col>World Rank</th><th scope=col>Instituto</th><th scope=col>Tamaño</th><th scope=col>Visibilidad</th><th scope=col>Fich. Ricos</th><th scope=col>scholar</th></tr>\n",
              "\t<tr><th scope=col>&lt;int&gt;</th><th scope=col>&lt;int&gt;</th><th scope=col>&lt;chr&gt;</th><th scope=col>&lt;int&gt;</th><th scope=col>&lt;int&gt;</th><th scope=col>&lt;int&gt;</th><th scope=col>&lt;int&gt;</th></tr>\n",
              "</thead>\n",
              "<tbody>\n",
              "\t<tr><td>1</td><td>118</td><td>Centro de Investigación y de Estudios Avanzados del IPN CINVESTAV</td><td> 389</td><td> 366</td><td>  76</td><td> 157</td></tr>\n",
              "\t<tr><td>2</td><td>370</td><td>Instituto Nacional de Salud Pública                              </td><td>1027</td><td> 857</td><td> 306</td><td> 616</td></tr>\n",
              "\t<tr><td>3</td><td>398</td><td>Consejo Nacional de Ciencia y Tecnología CONACYT México          </td><td> 582</td><td> 551</td><td>2538</td><td> 137</td></tr>\n",
              "\t<tr><td>4</td><td>677</td><td>Centro Internacional de Mejoramiento de Maíz y Trigo             </td><td> 527</td><td> 482</td><td>2538</td><td> 782</td></tr>\n",
              "\t<tr><td>5</td><td>720</td><td>Centro de Investigación y Docencia Económicas CONACYT            </td><td> 999</td><td> 897</td><td> 740</td><td>1740</td></tr>\n",
              "\t<tr><td>6</td><td>891</td><td>Colegio de la Frontera Sur CONACYT                               </td><td> 472</td><td>1625</td><td> 372</td><td>1873</td></tr>\n",
              "</tbody>\n",
              "</table>\n"
            ],
            "text/markdown": "\nA tibble: 6 × 7\n\n| ranking &lt;int&gt; | World Rank &lt;int&gt; | Instituto &lt;chr&gt; | Tamaño &lt;int&gt; | Visibilidad &lt;int&gt; | Fich. Ricos &lt;int&gt; | scholar &lt;int&gt; |\n|---|---|---|---|---|---|---|\n| 1 | 118 | Centro de Investigación y de Estudios Avanzados del IPN CINVESTAV |  389 |  366 |   76 |  157 |\n| 2 | 370 | Instituto Nacional de Salud Pública                               | 1027 |  857 |  306 |  616 |\n| 3 | 398 | Consejo Nacional de Ciencia y Tecnología CONACYT México           |  582 |  551 | 2538 |  137 |\n| 4 | 677 | Centro Internacional de Mejoramiento de Maíz y Trigo              |  527 |  482 | 2538 |  782 |\n| 5 | 720 | Centro de Investigación y Docencia Económicas CONACYT             |  999 |  897 |  740 | 1740 |\n| 6 | 891 | Colegio de la Frontera Sur CONACYT                                |  472 | 1625 |  372 | 1873 |\n\n",
            "text/latex": "A tibble: 6 × 7\n\\begin{tabular}{lllllll}\n ranking & World Rank & Instituto & Tamaño & Visibilidad & Fich. Ricos & scholar\\\\\n <int> & <int> & <chr> & <int> & <int> & <int> & <int>\\\\\n\\hline\n\t 1 & 118 & Centro de Investigación y de Estudios Avanzados del IPN CINVESTAV &  389 &  366 &   76 &  157\\\\\n\t 2 & 370 & Instituto Nacional de Salud Pública                               & 1027 &  857 &  306 &  616\\\\\n\t 3 & 398 & Consejo Nacional de Ciencia y Tecnología CONACYT México           &  582 &  551 & 2538 &  137\\\\\n\t 4 & 677 & Centro Internacional de Mejoramiento de Maíz y Trigo              &  527 &  482 & 2538 &  782\\\\\n\t 5 & 720 & Centro de Investigación y Docencia Económicas CONACYT             &  999 &  897 &  740 & 1740\\\\\n\t 6 & 891 & Colegio de la Frontera Sur CONACYT                                &  472 & 1625 &  372 & 1873\\\\\n\\end{tabular}\n",
            "text/plain": [
              "  ranking World Rank\n",
              "1 1       118       \n",
              "2 2       370       \n",
              "3 3       398       \n",
              "4 4       677       \n",
              "5 5       720       \n",
              "6 6       891       \n",
              "  Instituto                                                         Tamaño\n",
              "1 Centro de Investigación y de Estudios Avanzados del IPN CINVESTAV  389  \n",
              "2 Instituto Nacional de Salud Pública                               1027  \n",
              "3 Consejo Nacional de Ciencia y Tecnología CONACYT México            582  \n",
              "4 Centro Internacional de Mejoramiento de Maíz y Trigo               527  \n",
              "5 Centro de Investigación y Docencia Económicas CONACYT              999  \n",
              "6 Colegio de la Frontera Sur CONACYT                                 472  \n",
              "  Visibilidad Fich. Ricos scholar\n",
              "1  366          76         157   \n",
              "2  857         306         616   \n",
              "3  551        2538         137   \n",
              "4  482        2538         782   \n",
              "5  897         740        1740   \n",
              "6 1625         372        1873   "
            ]
          },
          "metadata": {}
        }
      ]
    },
    {
      "cell_type": "markdown",
      "source": [
        "# **Leer una tabla de un archivo pdf**"
      ],
      "metadata": {
        "id": "2JjYd0oQ_hOq"
      },
      "id": "2JjYd0oQ_hOq"
    },
    {
      "cell_type": "code",
      "source": [
        "install.packages(\"rJava\")\n",
        "library(rJava) # load and attach 'rJava' now\n",
        "install.packages(\"devtools\")\n",
        "devtools::install_github(\"ropensci/tabulizer\", args=\"--no-multiarch\")"
      ],
      "metadata": {
        "id": "3dD0BgpdA2vC"
      },
      "id": "3dD0BgpdA2vC",
      "execution_count": null,
      "outputs": []
    },
    {
      "cell_type": "code",
      "source": [
        "library('tabulizer')\n",
        "library('dplyr')\n",
        "library('tidyr')\n",
        "library('stringr')"
      ],
      "metadata": {
        "id": "8tAceLjW_G8l"
      },
      "id": "8tAceLjW_G8l",
      "execution_count": null,
      "outputs": []
    },
    {
      "cell_type": "code",
      "source": [
        "# Read JCR_2021\n",
        "file <- extract_tables(\"JCR_2021.pdf\",\n",
        "             output = \"data.frame\",\n",
        "             pages = 3:264,\n",
        "             method = \"stream\")"
      ],
      "metadata": {
        "id": "2suIuVvSAAJg"
      },
      "id": "2suIuVvSAAJg",
      "execution_count": null,
      "outputs": []
    },
    {
      "cell_type": "code",
      "source": [
        "length(file)"
      ],
      "metadata": {
        "colab": {
          "base_uri": "https://localhost:8080/",
          "height": 34
        },
        "id": "W2qa-GCZQNsD",
        "outputId": "62006f51-55d6-47b8-a183-e7b834516638"
      },
      "id": "W2qa-GCZQNsD",
      "execution_count": null,
      "outputs": [
        {
          "output_type": "display_data",
          "data": {
            "text/html": [
              "262"
            ],
            "text/markdown": "262",
            "text/latex": "262",
            "text/plain": [
              "[1] 262"
            ]
          },
          "metadata": {}
        }
      ]
    },
    {
      "cell_type": "code",
      "source": [
        "head(file[[2]])"
      ],
      "metadata": {
        "colab": {
          "base_uri": "https://localhost:8080/",
          "height": 286
        },
        "id": "ZFH53gQLB1b3",
        "outputId": "bf57f0f3-3312-4d03-d60b-8c4004de01be"
      },
      "id": "ZFH53gQLB1b3",
      "execution_count": null,
      "outputs": [
        {
          "output_type": "display_data",
          "data": {
            "text/html": [
              "<table class=\"dataframe\">\n",
              "<caption>A data.frame: 6 × 5</caption>\n",
              "<thead>\n",
              "\t<tr><th></th><th scope=col>X96</th><th scope=col>Cell.Stem.Cell</th><th scope=col>X32.147</th><th scope=col>X24.633</th><th scope=col>X0.062780</th></tr>\n",
              "\t<tr><th></th><th scope=col>&lt;int&gt;</th><th scope=col>&lt;chr&gt;</th><th scope=col>&lt;chr&gt;</th><th scope=col>&lt;dbl&gt;</th><th scope=col>&lt;dbl&gt;</th></tr>\n",
              "</thead>\n",
              "<tbody>\n",
              "\t<tr><th scope=row>1</th><td> 97</td><td>Lancet Digital Health             </td><td>1,260  </td><td>24.519</td><td>0.00300</td></tr>\n",
              "\t<tr><th scope=row>2</th><td> 98</td><td>Nature Chemistry                  </td><td>41,139 </td><td>24.427</td><td>0.06942</td></tr>\n",
              "\t<tr><th scope=row>3</th><td> 99</td><td>Annual Review of Psychology       </td><td>28,065 </td><td>24.137</td><td>0.01897</td></tr>\n",
              "\t<tr><th scope=row>4</th><td> 99</td><td>Annual Review of Psychology       </td><td>28,065 </td><td>24.137</td><td>0.01897</td></tr>\n",
              "\t<tr><th scope=row>5</th><td> NA</td><td>JOURNAL OF THE AMERICAN COLLEGE OF</td><td>       </td><td>    NA</td><td>     NA</td></tr>\n",
              "\t<tr><th scope=row>6</th><td>101</td><td>CARDIOLOGY                        </td><td>125,873</td><td>24.094</td><td>0.17700</td></tr>\n",
              "</tbody>\n",
              "</table>\n"
            ],
            "text/markdown": "\nA data.frame: 6 × 5\n\n| <!--/--> | X96 &lt;int&gt; | Cell.Stem.Cell &lt;chr&gt; | X32.147 &lt;chr&gt; | X24.633 &lt;dbl&gt; | X0.062780 &lt;dbl&gt; |\n|---|---|---|---|---|---|\n| 1 |  97 | Lancet Digital Health              | 1,260   | 24.519 | 0.00300 |\n| 2 |  98 | Nature Chemistry                   | 41,139  | 24.427 | 0.06942 |\n| 3 |  99 | Annual Review of Psychology        | 28,065  | 24.137 | 0.01897 |\n| 4 |  99 | Annual Review of Psychology        | 28,065  | 24.137 | 0.01897 |\n| 5 |  NA | JOURNAL OF THE AMERICAN COLLEGE OF | <!----> |     NA |      NA |\n| 6 | 101 | CARDIOLOGY                         | 125,873 | 24.094 | 0.17700 |\n\n",
            "text/latex": "A data.frame: 6 × 5\n\\begin{tabular}{r|lllll}\n  & X96 & Cell.Stem.Cell & X32.147 & X24.633 & X0.062780\\\\\n  & <int> & <chr> & <chr> & <dbl> & <dbl>\\\\\n\\hline\n\t1 &  97 & Lancet Digital Health              & 1,260   & 24.519 & 0.00300\\\\\n\t2 &  98 & Nature Chemistry                   & 41,139  & 24.427 & 0.06942\\\\\n\t3 &  99 & Annual Review of Psychology        & 28,065  & 24.137 & 0.01897\\\\\n\t4 &  99 & Annual Review of Psychology        & 28,065  & 24.137 & 0.01897\\\\\n\t5 &  NA & JOURNAL OF THE AMERICAN COLLEGE OF &         &     NA &      NA\\\\\n\t6 & 101 & CARDIOLOGY                         & 125,873 & 24.094 & 0.17700\\\\\n\\end{tabular}\n",
            "text/plain": [
              "  X96 Cell.Stem.Cell                     X32.147 X24.633 X0.062780\n",
              "1  97 Lancet Digital Health              1,260   24.519  0.00300  \n",
              "2  98 Nature Chemistry                   41,139  24.427  0.06942  \n",
              "3  99 Annual Review of Psychology        28,065  24.137  0.01897  \n",
              "4  99 Annual Review of Psychology        28,065  24.137  0.01897  \n",
              "5  NA JOURNAL OF THE AMERICAN COLLEGE OF             NA       NA  \n",
              "6 101 CARDIOLOGY                         125,873 24.094  0.17700  "
            ]
          },
          "metadata": {}
        }
      ]
    },
    {
      "cell_type": "code",
      "source": [
        "n <- length(file)\n",
        "#completed <- NULL\n",
        "for(i in 1:n){\n",
        "    colnames(file[[i]]) <- c(\"n\", \"Journal\", \"Total Cites\", \"Impact Factor\", \"Eigenfactor Score\" )\n",
        "    #completed <- rbind(completed, file[[i]])\n",
        "}\n",
        "head(file[[5]])"
      ],
      "metadata": {
        "colab": {
          "base_uri": "https://localhost:8080/",
          "height": 286
        },
        "id": "NnqQ4RqGBvxq",
        "outputId": "3cbda8f6-0e79-42c1-d160-000e2871b1a0"
      },
      "id": "NnqQ4RqGBvxq",
      "execution_count": null,
      "outputs": [
        {
          "output_type": "display_data",
          "data": {
            "text/html": [
              "<table class=\"dataframe\">\n",
              "<caption>A data.frame: 6 × 5</caption>\n",
              "<thead>\n",
              "\t<tr><th></th><th scope=col>n</th><th scope=col>Journal</th><th scope=col>Total Cites</th><th scope=col>Impact Factor</th><th scope=col>Eigenfactor Score</th></tr>\n",
              "\t<tr><th></th><th scope=col>&lt;int&gt;</th><th scope=col>&lt;chr&gt;</th><th scope=col>&lt;chr&gt;</th><th scope=col>&lt;dbl&gt;</th><th scope=col>&lt;dbl&gt;</th></tr>\n",
              "</thead>\n",
              "<tbody>\n",
              "\t<tr><th scope=row>1</th><td>250</td><td>Annual Review of Marine Science                </td><td>5,492 </td><td>13.850</td><td>0.00720</td></tr>\n",
              "\t<tr><th scope=row>2</th><td>251</td><td>TRENDS IN NEUROSCIENCES                        </td><td>22,858</td><td>13.837</td><td>0.01947</td></tr>\n",
              "\t<tr><th scope=row>3</th><td>252</td><td>Annual Review of Cell and Developmental Biology</td><td>11,884</td><td>13.827</td><td>0.01110</td></tr>\n",
              "\t<tr><th scope=row>4</th><td>253</td><td>Annual Review of Pharmacology and Toxicology   </td><td>9,016 </td><td>13.820</td><td>0.00659</td></tr>\n",
              "\t<tr><th scope=row>5</th><td>254</td><td>TRENDS IN BIOCHEMICAL SCIENCES                 </td><td>22,003</td><td>13.807</td><td>0.02576</td></tr>\n",
              "\t<tr><th scope=row>6</th><td>255</td><td>BRITISH JOURNAL OF SPORTS MEDICINE             </td><td>30,986</td><td>13.800</td><td>0.04095</td></tr>\n",
              "</tbody>\n",
              "</table>\n"
            ],
            "text/markdown": "\nA data.frame: 6 × 5\n\n| <!--/--> | n &lt;int&gt; | Journal &lt;chr&gt; | Total Cites &lt;chr&gt; | Impact Factor &lt;dbl&gt; | Eigenfactor Score &lt;dbl&gt; |\n|---|---|---|---|---|---|\n| 1 | 250 | Annual Review of Marine Science                 | 5,492  | 13.850 | 0.00720 |\n| 2 | 251 | TRENDS IN NEUROSCIENCES                         | 22,858 | 13.837 | 0.01947 |\n| 3 | 252 | Annual Review of Cell and Developmental Biology | 11,884 | 13.827 | 0.01110 |\n| 4 | 253 | Annual Review of Pharmacology and Toxicology    | 9,016  | 13.820 | 0.00659 |\n| 5 | 254 | TRENDS IN BIOCHEMICAL SCIENCES                  | 22,003 | 13.807 | 0.02576 |\n| 6 | 255 | BRITISH JOURNAL OF SPORTS MEDICINE              | 30,986 | 13.800 | 0.04095 |\n\n",
            "text/latex": "A data.frame: 6 × 5\n\\begin{tabular}{r|lllll}\n  & n & Journal & Total Cites & Impact Factor & Eigenfactor Score\\\\\n  & <int> & <chr> & <chr> & <dbl> & <dbl>\\\\\n\\hline\n\t1 & 250 & Annual Review of Marine Science                 & 5,492  & 13.850 & 0.00720\\\\\n\t2 & 251 & TRENDS IN NEUROSCIENCES                         & 22,858 & 13.837 & 0.01947\\\\\n\t3 & 252 & Annual Review of Cell and Developmental Biology & 11,884 & 13.827 & 0.01110\\\\\n\t4 & 253 & Annual Review of Pharmacology and Toxicology    & 9,016  & 13.820 & 0.00659\\\\\n\t5 & 254 & TRENDS IN BIOCHEMICAL SCIENCES                  & 22,003 & 13.807 & 0.02576\\\\\n\t6 & 255 & BRITISH JOURNAL OF SPORTS MEDICINE              & 30,986 & 13.800 & 0.04095\\\\\n\\end{tabular}\n",
            "text/plain": [
              "  n   Journal                                         Total Cites Impact Factor\n",
              "1 250 Annual Review of Marine Science                 5,492       13.850       \n",
              "2 251 TRENDS IN NEUROSCIENCES                         22,858      13.837       \n",
              "3 252 Annual Review of Cell and Developmental Biology 11,884      13.827       \n",
              "4 253 Annual Review of Pharmacology and Toxicology    9,016       13.820       \n",
              "5 254 TRENDS IN BIOCHEMICAL SCIENCES                  22,003      13.807       \n",
              "6 255 BRITISH JOURNAL OF SPORTS MEDICINE              30,986      13.800       \n",
              "  Eigenfactor Score\n",
              "1 0.00720          \n",
              "2 0.01947          \n",
              "3 0.01110          \n",
              "4 0.00659          \n",
              "5 0.02576          \n",
              "6 0.04095          "
            ]
          },
          "metadata": {}
        }
      ]
    },
    {
      "cell_type": "code",
      "source": [
        "full_df <- do.call('rbind', file)\n",
        "head(full_df)\n"
      ],
      "metadata": {
        "colab": {
          "base_uri": "https://localhost:8080/",
          "height": 286
        },
        "id": "hGbTvRSmEHyZ",
        "outputId": "53cb4789-3ff4-49d0-cf57-5a8d1068a83e"
      },
      "id": "hGbTvRSmEHyZ",
      "execution_count": null,
      "outputs": [
        {
          "output_type": "display_data",
          "data": {
            "text/html": [
              "<table class=\"dataframe\">\n",
              "<caption>A data.frame: 6 × 5</caption>\n",
              "<thead>\n",
              "\t<tr><th></th><th scope=col>n</th><th scope=col>Journal</th><th scope=col>Total Cites</th><th scope=col>Impact Factor</th><th scope=col>Eigenfactor Score</th></tr>\n",
              "\t<tr><th></th><th scope=col>&lt;int&gt;</th><th scope=col>&lt;chr&gt;</th><th scope=col>&lt;chr&gt;</th><th scope=col>&lt;chr&gt;</th><th scope=col>&lt;dbl&gt;</th></tr>\n",
              "</thead>\n",
              "<tbody>\n",
              "\t<tr><th scope=row>1</th><td>NA</td><td>MATERIALS SCIENCE &amp; ENGINEERING R-</td><td><span style=white-space:pre-wrap>      </span></td><td><span style=white-space:pre-wrap>NA    </span></td><td><span style=white-space:pre-wrap>     NA</span></td></tr>\n",
              "\t<tr><th scope=row>2</th><td>46</td><td>REPORTS                           </td><td>8,652 </td><td>36.214</td><td>0.00477</td></tr>\n",
              "\t<tr><th scope=row>3</th><td>47</td><td>NATURE REVIEWS NEUROSCIENCE       </td><td>49,897</td><td>34.87 </td><td>0.04889</td></tr>\n",
              "\t<tr><th scope=row>4</th><td>48</td><td>Nature Reviews Chemistry          </td><td>5,750 </td><td>34.035</td><td>0.01752</td></tr>\n",
              "\t<tr><th scope=row>5</th><td>49</td><td>Nature Electronics                </td><td>4,455 </td><td>33.686</td><td>0.01448</td></tr>\n",
              "\t<tr><th scope=row>6</th><td>50</td><td>ANNALS OF ONCOLOGY                </td><td>61,542</td><td>32.976</td><td>0.11718</td></tr>\n",
              "</tbody>\n",
              "</table>\n"
            ],
            "text/markdown": "\nA data.frame: 6 × 5\n\n| <!--/--> | n &lt;int&gt; | Journal &lt;chr&gt; | Total Cites &lt;chr&gt; | Impact Factor &lt;chr&gt; | Eigenfactor Score &lt;dbl&gt; |\n|---|---|---|---|---|---|\n| 1 | NA | MATERIALS SCIENCE &amp; ENGINEERING R- | <!----> | NA     |      NA |\n| 2 | 46 | REPORTS                            | 8,652  | 36.214 | 0.00477 |\n| 3 | 47 | NATURE REVIEWS NEUROSCIENCE        | 49,897 | 34.87  | 0.04889 |\n| 4 | 48 | Nature Reviews Chemistry           | 5,750  | 34.035 | 0.01752 |\n| 5 | 49 | Nature Electronics                 | 4,455  | 33.686 | 0.01448 |\n| 6 | 50 | ANNALS OF ONCOLOGY                 | 61,542 | 32.976 | 0.11718 |\n\n",
            "text/latex": "A data.frame: 6 × 5\n\\begin{tabular}{r|lllll}\n  & n & Journal & Total Cites & Impact Factor & Eigenfactor Score\\\\\n  & <int> & <chr> & <chr> & <chr> & <dbl>\\\\\n\\hline\n\t1 & NA & MATERIALS SCIENCE \\& ENGINEERING R- &        & NA     &      NA\\\\\n\t2 & 46 & REPORTS                            & 8,652  & 36.214 & 0.00477\\\\\n\t3 & 47 & NATURE REVIEWS NEUROSCIENCE        & 49,897 & 34.87  & 0.04889\\\\\n\t4 & 48 & Nature Reviews Chemistry           & 5,750  & 34.035 & 0.01752\\\\\n\t5 & 49 & Nature Electronics                 & 4,455  & 33.686 & 0.01448\\\\\n\t6 & 50 & ANNALS OF ONCOLOGY                 & 61,542 & 32.976 & 0.11718\\\\\n\\end{tabular}\n",
            "text/plain": [
              "  n  Journal                            Total Cites Impact Factor\n",
              "1 NA MATERIALS SCIENCE & ENGINEERING R-             NA           \n",
              "2 46 REPORTS                            8,652       36.214       \n",
              "3 47 NATURE REVIEWS NEUROSCIENCE        49,897      34.87        \n",
              "4 48 Nature Reviews Chemistry           5,750       34.035       \n",
              "5 49 Nature Electronics                 4,455       33.686       \n",
              "6 50 ANNALS OF ONCOLOGY                 61,542      32.976       \n",
              "  Eigenfactor Score\n",
              "1      NA          \n",
              "2 0.00477          \n",
              "3 0.04889          \n",
              "4 0.01752          \n",
              "5 0.01448          \n",
              "6 0.11718          "
            ]
          },
          "metadata": {}
        }
      ]
    },
    {
      "cell_type": "code",
      "source": [
        "dim(full_df)"
      ],
      "metadata": {
        "colab": {
          "base_uri": "https://localhost:8080/",
          "height": 34
        },
        "id": "SYbhXhqqEp_0",
        "outputId": "b9640fc1-39ce-4186-b65f-9258c5c1760b"
      },
      "id": "SYbhXhqqEp_0",
      "execution_count": null,
      "outputs": [
        {
          "output_type": "display_data",
          "data": {
            "text/html": [
              "<style>\n",
              ".list-inline {list-style: none; margin:0; padding: 0}\n",
              ".list-inline>li {display: inline-block}\n",
              ".list-inline>li:not(:last-child)::after {content: \"\\00b7\"; padding: 0 .5ex}\n",
              "</style>\n",
              "<ol class=list-inline><li>15177</li><li>5</li></ol>\n"
            ],
            "text/markdown": "1. 15177\n2. 5\n\n\n",
            "text/latex": "\\begin{enumerate*}\n\\item 15177\n\\item 5\n\\end{enumerate*}\n",
            "text/plain": [
              "[1] 15177     5"
            ]
          },
          "metadata": {}
        }
      ]
    },
    {
      "cell_type": "code",
      "source": [
        "# para guardar el archivo\n",
        "write.csv(full_df, \"JCR_2021.csv\")"
      ],
      "metadata": {
        "id": "c0jjz1J8Fm-6"
      },
      "id": "c0jjz1J8Fm-6",
      "execution_count": null,
      "outputs": []
    }
  ],
  "metadata": {
    "kernelspec": {
      "display_name": "R",
      "language": "R",
      "name": "ir"
    },
    "language_info": {
      "codemirror_mode": "r",
      "file_extension": ".r",
      "mimetype": "text/x-r-source",
      "name": "R",
      "pygments_lexer": "r",
      "version": "4.0.4"
    },
    "colab": {
      "name": "5.- Lectura de datos.ipynb",
      "provenance": [],
      "collapsed_sections": [],
      "include_colab_link": true
    }
  },
  "nbformat": 4,
  "nbformat_minor": 5
}