{
 "cells": [
  {
   "cell_type": "markdown",
   "id": "naughty-detector",
   "metadata": {},
   "source": [
    "# <center> **Lectura de datos en R** "
   ]
  },
  {
   "cell_type": "markdown",
   "id": "accurate-radio",
   "metadata": {},
   "source": [
    "## Lectura de datos"
   ]
  },
  {
   "cell_type": "markdown",
   "id": "nasty-texas",
   "metadata": {},
   "source": [
    "> **Archivos más comunes:**\n",
    "\n",
    "- read.csv() \n",
    "- read.csv2()\n",
    "- read.delim()\n",
    "- read_excel()\n",
    "- Lectura de archivos JSON\n",
    "- Lectura de archivos XML\n",
    "- Lectura de tablas HTML\n",
    "\n",
    "> **Lectura de otros formatos:**\n",
    "\n",
    "- Lectura de archivos SPSS\n",
    "- Lectura de archivos SAS\n",
    "- Lectura de archivos Minitab"
   ]
  },
  {
   "cell_type": "markdown",
   "id": "daily-chamber",
   "metadata": {},
   "source": [
    "> ### read_csv()"
   ]
  },
  {
   "cell_type": "code",
   "execution_count": 49,
   "id": "local-torture",
   "metadata": {},
   "outputs": [
    {
     "data": {
      "text/html": [
       "<table>\n",
       "<caption>A data.frame: 6 × 5</caption>\n",
       "<thead>\n",
       "\t<tr><th></th><th scope=col>Sepal.Length</th><th scope=col>Sepal.Width</th><th scope=col>Petal.Length</th><th scope=col>Petal.Width</th><th scope=col>Species</th></tr>\n",
       "\t<tr><th></th><th scope=col>&lt;dbl&gt;</th><th scope=col>&lt;dbl&gt;</th><th scope=col>&lt;dbl&gt;</th><th scope=col>&lt;dbl&gt;</th><th scope=col>&lt;chr&gt;</th></tr>\n",
       "</thead>\n",
       "<tbody>\n",
       "\t<tr><th scope=row>1</th><td>5.1</td><td>3.5</td><td>1.4</td><td>0.2</td><td>setosa</td></tr>\n",
       "\t<tr><th scope=row>2</th><td>4.9</td><td>3.0</td><td>1.4</td><td>0.2</td><td>setosa</td></tr>\n",
       "\t<tr><th scope=row>3</th><td>4.7</td><td>3.2</td><td>1.3</td><td>0.2</td><td>setosa</td></tr>\n",
       "\t<tr><th scope=row>4</th><td>4.6</td><td>3.1</td><td>1.5</td><td>0.2</td><td>setosa</td></tr>\n",
       "\t<tr><th scope=row>5</th><td>5.0</td><td>3.6</td><td>1.4</td><td>0.2</td><td>setosa</td></tr>\n",
       "\t<tr><th scope=row>6</th><td>5.4</td><td>3.9</td><td>1.7</td><td>0.4</td><td>setosa</td></tr>\n",
       "</tbody>\n",
       "</table>\n"
      ],
      "text/latex": [
       "A data.frame: 6 × 5\n",
       "\\begin{tabular}{r|lllll}\n",
       "  & Sepal.Length & Sepal.Width & Petal.Length & Petal.Width & Species\\\\\n",
       "  & <dbl> & <dbl> & <dbl> & <dbl> & <chr>\\\\\n",
       "\\hline\n",
       "\t1 & 5.1 & 3.5 & 1.4 & 0.2 & setosa\\\\\n",
       "\t2 & 4.9 & 3.0 & 1.4 & 0.2 & setosa\\\\\n",
       "\t3 & 4.7 & 3.2 & 1.3 & 0.2 & setosa\\\\\n",
       "\t4 & 4.6 & 3.1 & 1.5 & 0.2 & setosa\\\\\n",
       "\t5 & 5.0 & 3.6 & 1.4 & 0.2 & setosa\\\\\n",
       "\t6 & 5.4 & 3.9 & 1.7 & 0.4 & setosa\\\\\n",
       "\\end{tabular}\n"
      ],
      "text/markdown": [
       "\n",
       "A data.frame: 6 × 5\n",
       "\n",
       "| <!--/--> | Sepal.Length &lt;dbl&gt; | Sepal.Width &lt;dbl&gt; | Petal.Length &lt;dbl&gt; | Petal.Width &lt;dbl&gt; | Species &lt;chr&gt; |\n",
       "|---|---|---|---|---|---|\n",
       "| 1 | 5.1 | 3.5 | 1.4 | 0.2 | setosa |\n",
       "| 2 | 4.9 | 3.0 | 1.4 | 0.2 | setosa |\n",
       "| 3 | 4.7 | 3.2 | 1.3 | 0.2 | setosa |\n",
       "| 4 | 4.6 | 3.1 | 1.5 | 0.2 | setosa |\n",
       "| 5 | 5.0 | 3.6 | 1.4 | 0.2 | setosa |\n",
       "| 6 | 5.4 | 3.9 | 1.7 | 0.4 | setosa |\n",
       "\n"
      ],
      "text/plain": [
       "  Sepal.Length Sepal.Width Petal.Length Petal.Width Species\n",
       "1 5.1          3.5         1.4          0.2         setosa \n",
       "2 4.9          3.0         1.4          0.2         setosa \n",
       "3 4.7          3.2         1.3          0.2         setosa \n",
       "4 4.6          3.1         1.5          0.2         setosa \n",
       "5 5.0          3.6         1.4          0.2         setosa \n",
       "6 5.4          3.9         1.7          0.4         setosa "
      ]
     },
     "metadata": {},
     "output_type": "display_data"
    }
   ],
   "source": [
    "df1 <- read.csv('./datasets/iris.csv')\n",
    "head(df1)"
   ]
  },
  {
   "cell_type": "markdown",
   "id": "blind-handling",
   "metadata": {},
   "source": [
    "> Por defecto al leer un archivo supone que tiene encabezados, sino es el caso podemos especificar en la función <span style=\"color:blue\"> read.csv() </span> los encabezados agregando el algumento <span style=\"color:blue\"> header=FALSE</span>."
   ]
  },
  {
   "cell_type": "code",
   "execution_count": 92,
   "id": "confident-wilderness",
   "metadata": {},
   "outputs": [
    {
     "data": {
      "text/html": [
       "<table>\n",
       "<caption>A data.frame: 6 × 5</caption>\n",
       "<thead>\n",
       "\t<tr><th></th><th scope=col>Sepal.Length</th><th scope=col>Sepal.Width</th><th scope=col>Petal.Length</th><th scope=col>Petal.Width</th><th scope=col>Species</th></tr>\n",
       "\t<tr><th></th><th scope=col>&lt;dbl&gt;</th><th scope=col>&lt;dbl&gt;</th><th scope=col>&lt;dbl&gt;</th><th scope=col>&lt;dbl&gt;</th><th scope=col>&lt;chr&gt;</th></tr>\n",
       "</thead>\n",
       "<tbody>\n",
       "\t<tr><th scope=row>1</th><td>6.3</td><td>3.3</td><td>6.0</td><td>2.5</td><td>virginica</td></tr>\n",
       "\t<tr><th scope=row>2</th><td>5.8</td><td>2.7</td><td>5.1</td><td>1.9</td><td>virginica</td></tr>\n",
       "\t<tr><th scope=row>3</th><td>7.1</td><td>3.0</td><td>5.9</td><td>2.1</td><td>virginica</td></tr>\n",
       "\t<tr><th scope=row>4</th><td>6.3</td><td>2.9</td><td>5.6</td><td>1.8</td><td>virginica</td></tr>\n",
       "\t<tr><th scope=row>5</th><td>6.5</td><td>3.0</td><td>5.8</td><td>2.2</td><td>virginica</td></tr>\n",
       "\t<tr><th scope=row>6</th><td>7.6</td><td>3.0</td><td>6.6</td><td>2.1</td><td>virginica</td></tr>\n",
       "</tbody>\n",
       "</table>\n"
      ],
      "text/latex": [
       "A data.frame: 6 × 5\n",
       "\\begin{tabular}{r|lllll}\n",
       "  & Sepal.Length & Sepal.Width & Petal.Length & Petal.Width & Species\\\\\n",
       "  & <dbl> & <dbl> & <dbl> & <dbl> & <chr>\\\\\n",
       "\\hline\n",
       "\t1 & 6.3 & 3.3 & 6.0 & 2.5 & virginica\\\\\n",
       "\t2 & 5.8 & 2.7 & 5.1 & 1.9 & virginica\\\\\n",
       "\t3 & 7.1 & 3.0 & 5.9 & 2.1 & virginica\\\\\n",
       "\t4 & 6.3 & 2.9 & 5.6 & 1.8 & virginica\\\\\n",
       "\t5 & 6.5 & 3.0 & 5.8 & 2.2 & virginica\\\\\n",
       "\t6 & 7.6 & 3.0 & 6.6 & 2.1 & virginica\\\\\n",
       "\\end{tabular}\n"
      ],
      "text/markdown": [
       "\n",
       "A data.frame: 6 × 5\n",
       "\n",
       "| <!--/--> | Sepal.Length &lt;dbl&gt; | Sepal.Width &lt;dbl&gt; | Petal.Length &lt;dbl&gt; | Petal.Width &lt;dbl&gt; | Species &lt;chr&gt; |\n",
       "|---|---|---|---|---|---|\n",
       "| 1 | 6.3 | 3.3 | 6.0 | 2.5 | virginica |\n",
       "| 2 | 5.8 | 2.7 | 5.1 | 1.9 | virginica |\n",
       "| 3 | 7.1 | 3.0 | 5.9 | 2.1 | virginica |\n",
       "| 4 | 6.3 | 2.9 | 5.6 | 1.8 | virginica |\n",
       "| 5 | 6.5 | 3.0 | 5.8 | 2.2 | virginica |\n",
       "| 6 | 7.6 | 3.0 | 6.6 | 2.1 | virginica |\n",
       "\n"
      ],
      "text/plain": [
       "  Sepal.Length Sepal.Width Petal.Length Petal.Width Species  \n",
       "1 6.3          3.3         6.0          2.5         virginica\n",
       "2 5.8          2.7         5.1          1.9         virginica\n",
       "3 7.1          3.0         5.9          2.1         virginica\n",
       "4 6.3          2.9         5.6          1.8         virginica\n",
       "5 6.5          3.0         5.8          2.2         virginica\n",
       "6 7.6          3.0         6.6          2.1         virginica"
      ]
     },
     "metadata": {},
     "output_type": "display_data"
    }
   ],
   "source": [
    "df2 <- read.csv('./datasets/iris.csv', header=TRUE)\n",
    "head(df2)\n"
   ]
  },
  {
   "cell_type": "markdown",
   "id": "helpful-ethernet",
   "metadata": {},
   "source": [
    "> Si queremos especificar los nombres de encabezados podemos utilizar el argumento <span style=\"color:blue\"> col.names </span>."
   ]
  },
  {
   "cell_type": "code",
   "execution_count": 93,
   "id": "verbal-calculation",
   "metadata": {},
   "outputs": [
    {
     "data": {
      "text/html": [
       "<table>\n",
       "<caption>A data.frame: 6 × 5</caption>\n",
       "<thead>\n",
       "\t<tr><th></th><th scope=col>Sepal_Length</th><th scope=col>Sepal_Width</th><th scope=col>Petal_Length</th><th scope=col>Petal_Width</th><th scope=col>Species</th></tr>\n",
       "\t<tr><th></th><th scope=col>&lt;dbl&gt;</th><th scope=col>&lt;dbl&gt;</th><th scope=col>&lt;dbl&gt;</th><th scope=col>&lt;dbl&gt;</th><th scope=col>&lt;chr&gt;</th></tr>\n",
       "</thead>\n",
       "<tbody>\n",
       "\t<tr><th scope=row>1</th><td>6.3</td><td>3.3</td><td>6.0</td><td>2.5</td><td>virginica</td></tr>\n",
       "\t<tr><th scope=row>2</th><td>5.8</td><td>2.7</td><td>5.1</td><td>1.9</td><td>virginica</td></tr>\n",
       "\t<tr><th scope=row>3</th><td>7.1</td><td>3.0</td><td>5.9</td><td>2.1</td><td>virginica</td></tr>\n",
       "\t<tr><th scope=row>4</th><td>6.3</td><td>2.9</td><td>5.6</td><td>1.8</td><td>virginica</td></tr>\n",
       "\t<tr><th scope=row>5</th><td>6.5</td><td>3.0</td><td>5.8</td><td>2.2</td><td>virginica</td></tr>\n",
       "\t<tr><th scope=row>6</th><td>7.6</td><td>3.0</td><td>6.6</td><td>2.1</td><td>virginica</td></tr>\n",
       "</tbody>\n",
       "</table>\n"
      ],
      "text/latex": [
       "A data.frame: 6 × 5\n",
       "\\begin{tabular}{r|lllll}\n",
       "  & Sepal\\_Length & Sepal\\_Width & Petal\\_Length & Petal\\_Width & Species\\\\\n",
       "  & <dbl> & <dbl> & <dbl> & <dbl> & <chr>\\\\\n",
       "\\hline\n",
       "\t1 & 6.3 & 3.3 & 6.0 & 2.5 & virginica\\\\\n",
       "\t2 & 5.8 & 2.7 & 5.1 & 1.9 & virginica\\\\\n",
       "\t3 & 7.1 & 3.0 & 5.9 & 2.1 & virginica\\\\\n",
       "\t4 & 6.3 & 2.9 & 5.6 & 1.8 & virginica\\\\\n",
       "\t5 & 6.5 & 3.0 & 5.8 & 2.2 & virginica\\\\\n",
       "\t6 & 7.6 & 3.0 & 6.6 & 2.1 & virginica\\\\\n",
       "\\end{tabular}\n"
      ],
      "text/markdown": [
       "\n",
       "A data.frame: 6 × 5\n",
       "\n",
       "| <!--/--> | Sepal_Length &lt;dbl&gt; | Sepal_Width &lt;dbl&gt; | Petal_Length &lt;dbl&gt; | Petal_Width &lt;dbl&gt; | Species &lt;chr&gt; |\n",
       "|---|---|---|---|---|---|\n",
       "| 1 | 6.3 | 3.3 | 6.0 | 2.5 | virginica |\n",
       "| 2 | 5.8 | 2.7 | 5.1 | 1.9 | virginica |\n",
       "| 3 | 7.1 | 3.0 | 5.9 | 2.1 | virginica |\n",
       "| 4 | 6.3 | 2.9 | 5.6 | 1.8 | virginica |\n",
       "| 5 | 6.5 | 3.0 | 5.8 | 2.2 | virginica |\n",
       "| 6 | 7.6 | 3.0 | 6.6 | 2.1 | virginica |\n",
       "\n"
      ],
      "text/plain": [
       "  Sepal_Length Sepal_Width Petal_Length Petal_Width Species  \n",
       "1 6.3          3.3         6.0          2.5         virginica\n",
       "2 5.8          2.7         5.1          1.9         virginica\n",
       "3 7.1          3.0         5.9          2.1         virginica\n",
       "4 6.3          2.9         5.6          1.8         virginica\n",
       "5 6.5          3.0         5.8          2.2         virginica\n",
       "6 7.6          3.0         6.6          2.1         virginica"
      ]
     },
     "metadata": {},
     "output_type": "display_data"
    }
   ],
   "source": [
    "df3 <- read.csv('./datasets/iris.csv', \n",
    "                header=TRUE, \n",
    "                col.names=c('Sepal_Length', 'Sepal_Width', 'Petal_Length', 'Petal_Width', 'Species'))\n",
    "head(df3)"
   ]
  },
  {
   "cell_type": "markdown",
   "id": "rotary-oakland",
   "metadata": {},
   "source": [
    "> Para guardar en formato csv empleamos la función <span style=\"color:blue\"> write.csv() </span>, indicando el objeto a guardar y la ruta con el nombre del archivo."
   ]
  },
  {
   "cell_type": "code",
   "execution_count": 10,
   "id": "ethical-nitrogen",
   "metadata": {},
   "outputs": [],
   "source": [
    "write.csv(df3, './datasets/iris2.csv', row.names=FALSE)"
   ]
  },
  {
   "cell_type": "markdown",
   "id": "oriental-hardware",
   "metadata": {},
   "source": [
    "> ### read_csv2()"
   ]
  },
  {
   "cell_type": "code",
   "execution_count": 94,
   "id": "nervous-palace",
   "metadata": {},
   "outputs": [
    {
     "data": {
      "text/html": [
       "<table>\n",
       "<caption>A data.frame: 6 × 5</caption>\n",
       "<thead>\n",
       "\t<tr><th></th><th scope=col>Sepal.Length</th><th scope=col>Sepal.Width</th><th scope=col>Petal.Length</th><th scope=col>Petal.Width</th><th scope=col>Species</th></tr>\n",
       "\t<tr><th></th><th scope=col>&lt;dbl&gt;</th><th scope=col>&lt;dbl&gt;</th><th scope=col>&lt;dbl&gt;</th><th scope=col>&lt;dbl&gt;</th><th scope=col>&lt;chr&gt;</th></tr>\n",
       "</thead>\n",
       "<tbody>\n",
       "\t<tr><th scope=row>1</th><td>5.1</td><td>3.5</td><td>1.4</td><td>0.2</td><td>setosa</td></tr>\n",
       "\t<tr><th scope=row>2</th><td>4.9</td><td>3.0</td><td>1.4</td><td>0.2</td><td>setosa</td></tr>\n",
       "\t<tr><th scope=row>3</th><td>4.7</td><td>3.2</td><td>1.3</td><td>0.2</td><td>setosa</td></tr>\n",
       "\t<tr><th scope=row>4</th><td>4.6</td><td>3.1</td><td>1.5</td><td>0.2</td><td>setosa</td></tr>\n",
       "\t<tr><th scope=row>5</th><td>5.0</td><td>3.6</td><td>1.4</td><td>0.2</td><td>setosa</td></tr>\n",
       "\t<tr><th scope=row>6</th><td>5.4</td><td>3.9</td><td>1.7</td><td>0.4</td><td>setosa</td></tr>\n",
       "</tbody>\n",
       "</table>\n"
      ],
      "text/latex": [
       "A data.frame: 6 × 5\n",
       "\\begin{tabular}{r|lllll}\n",
       "  & Sepal.Length & Sepal.Width & Petal.Length & Petal.Width & Species\\\\\n",
       "  & <dbl> & <dbl> & <dbl> & <dbl> & <chr>\\\\\n",
       "\\hline\n",
       "\t1 & 5.1 & 3.5 & 1.4 & 0.2 & setosa\\\\\n",
       "\t2 & 4.9 & 3.0 & 1.4 & 0.2 & setosa\\\\\n",
       "\t3 & 4.7 & 3.2 & 1.3 & 0.2 & setosa\\\\\n",
       "\t4 & 4.6 & 3.1 & 1.5 & 0.2 & setosa\\\\\n",
       "\t5 & 5.0 & 3.6 & 1.4 & 0.2 & setosa\\\\\n",
       "\t6 & 5.4 & 3.9 & 1.7 & 0.4 & setosa\\\\\n",
       "\\end{tabular}\n"
      ],
      "text/markdown": [
       "\n",
       "A data.frame: 6 × 5\n",
       "\n",
       "| <!--/--> | Sepal.Length &lt;dbl&gt; | Sepal.Width &lt;dbl&gt; | Petal.Length &lt;dbl&gt; | Petal.Width &lt;dbl&gt; | Species &lt;chr&gt; |\n",
       "|---|---|---|---|---|---|\n",
       "| 1 | 5.1 | 3.5 | 1.4 | 0.2 | setosa |\n",
       "| 2 | 4.9 | 3.0 | 1.4 | 0.2 | setosa |\n",
       "| 3 | 4.7 | 3.2 | 1.3 | 0.2 | setosa |\n",
       "| 4 | 4.6 | 3.1 | 1.5 | 0.2 | setosa |\n",
       "| 5 | 5.0 | 3.6 | 1.4 | 0.2 | setosa |\n",
       "| 6 | 5.4 | 3.9 | 1.7 | 0.4 | setosa |\n",
       "\n"
      ],
      "text/plain": [
       "  Sepal.Length Sepal.Width Petal.Length Petal.Width Species\n",
       "1 5.1          3.5         1.4          0.2         setosa \n",
       "2 4.9          3.0         1.4          0.2         setosa \n",
       "3 4.7          3.2         1.3          0.2         setosa \n",
       "4 4.6          3.1         1.5          0.2         setosa \n",
       "5 5.0          3.6         1.4          0.2         setosa \n",
       "6 5.4          3.9         1.7          0.4         setosa "
      ]
     },
     "metadata": {},
     "output_type": "display_data"
    }
   ],
   "source": [
    "# csv separado por ;\n",
    "df4 <- read.csv('./datasets/iris2.csv', sep=\";\")\n",
    "head(df4)"
   ]
  },
  {
   "cell_type": "code",
   "execution_count": 96,
   "id": "burning-sheep",
   "metadata": {},
   "outputs": [
    {
     "data": {
      "text/html": [
       "<table>\n",
       "<caption>A data.frame: 6 × 5</caption>\n",
       "<thead>\n",
       "\t<tr><th></th><th scope=col>Sepal.Length</th><th scope=col>Sepal.Width</th><th scope=col>Petal.Length</th><th scope=col>Petal.Width</th><th scope=col>Species</th></tr>\n",
       "\t<tr><th></th><th scope=col>&lt;dbl&gt;</th><th scope=col>&lt;dbl&gt;</th><th scope=col>&lt;dbl&gt;</th><th scope=col>&lt;dbl&gt;</th><th scope=col>&lt;chr&gt;</th></tr>\n",
       "</thead>\n",
       "<tbody>\n",
       "\t<tr><th scope=row>1</th><td>5.1</td><td>3.5</td><td>1.4</td><td>0.2</td><td>setosa</td></tr>\n",
       "\t<tr><th scope=row>2</th><td>4.9</td><td>3.0</td><td>1.4</td><td>0.2</td><td>setosa</td></tr>\n",
       "\t<tr><th scope=row>3</th><td>4.7</td><td>3.2</td><td>1.3</td><td>0.2</td><td>setosa</td></tr>\n",
       "\t<tr><th scope=row>4</th><td>4.6</td><td>3.1</td><td>1.5</td><td>0.2</td><td>setosa</td></tr>\n",
       "\t<tr><th scope=row>5</th><td>5.0</td><td>3.6</td><td>1.4</td><td>0.2</td><td>setosa</td></tr>\n",
       "\t<tr><th scope=row>6</th><td>5.4</td><td>3.9</td><td>1.7</td><td>0.4</td><td>setosa</td></tr>\n",
       "</tbody>\n",
       "</table>\n"
      ],
      "text/latex": [
       "A data.frame: 6 × 5\n",
       "\\begin{tabular}{r|lllll}\n",
       "  & Sepal.Length & Sepal.Width & Petal.Length & Petal.Width & Species\\\\\n",
       "  & <dbl> & <dbl> & <dbl> & <dbl> & <chr>\\\\\n",
       "\\hline\n",
       "\t1 & 5.1 & 3.5 & 1.4 & 0.2 & setosa\\\\\n",
       "\t2 & 4.9 & 3.0 & 1.4 & 0.2 & setosa\\\\\n",
       "\t3 & 4.7 & 3.2 & 1.3 & 0.2 & setosa\\\\\n",
       "\t4 & 4.6 & 3.1 & 1.5 & 0.2 & setosa\\\\\n",
       "\t5 & 5.0 & 3.6 & 1.4 & 0.2 & setosa\\\\\n",
       "\t6 & 5.4 & 3.9 & 1.7 & 0.4 & setosa\\\\\n",
       "\\end{tabular}\n"
      ],
      "text/markdown": [
       "\n",
       "A data.frame: 6 × 5\n",
       "\n",
       "| <!--/--> | Sepal.Length &lt;dbl&gt; | Sepal.Width &lt;dbl&gt; | Petal.Length &lt;dbl&gt; | Petal.Width &lt;dbl&gt; | Species &lt;chr&gt; |\n",
       "|---|---|---|---|---|---|\n",
       "| 1 | 5.1 | 3.5 | 1.4 | 0.2 | setosa |\n",
       "| 2 | 4.9 | 3.0 | 1.4 | 0.2 | setosa |\n",
       "| 3 | 4.7 | 3.2 | 1.3 | 0.2 | setosa |\n",
       "| 4 | 4.6 | 3.1 | 1.5 | 0.2 | setosa |\n",
       "| 5 | 5.0 | 3.6 | 1.4 | 0.2 | setosa |\n",
       "| 6 | 5.4 | 3.9 | 1.7 | 0.4 | setosa |\n",
       "\n"
      ],
      "text/plain": [
       "  Sepal.Length Sepal.Width Petal.Length Petal.Width Species\n",
       "1 5.1          3.5         1.4          0.2         setosa \n",
       "2 4.9          3.0         1.4          0.2         setosa \n",
       "3 4.7          3.2         1.3          0.2         setosa \n",
       "4 4.6          3.1         1.5          0.2         setosa \n",
       "5 5.0          3.6         1.4          0.2         setosa \n",
       "6 5.4          3.9         1.7          0.4         setosa "
      ]
     },
     "metadata": {},
     "output_type": "display_data"
    }
   ],
   "source": [
    "# csv separado por \"-\"\n",
    "df5 <- read.csv('./datasets/iris3.csv', sep=\"-\")\n",
    "head(df5)"
   ]
  },
  {
   "cell_type": "markdown",
   "id": "broad-pantyhose",
   "metadata": {},
   "source": [
    "> ### read_excel()"
   ]
  },
  {
   "cell_type": "code",
   "execution_count": 97,
   "id": "divided-moore",
   "metadata": {},
   "outputs": [],
   "source": [
    "library(\"readxl\")"
   ]
  },
  {
   "cell_type": "markdown",
   "id": "mineral-panic",
   "metadata": {},
   "source": [
    "> Por defecto al leer un archivo de excel nos lee únicamente la primera hoja."
   ]
  },
  {
   "cell_type": "code",
   "execution_count": 109,
   "id": "statistical-pennsylvania",
   "metadata": {},
   "outputs": [
    {
     "data": {
      "text/html": [
       "<table>\n",
       "<caption>A tibble: 6 × 5</caption>\n",
       "<thead>\n",
       "\t<tr><th scope=col>Sepal.Length</th><th scope=col>Sepal.Width</th><th scope=col>Petal.Length</th><th scope=col>Petal.Width</th><th scope=col>Species</th></tr>\n",
       "\t<tr><th scope=col>&lt;dbl&gt;</th><th scope=col>&lt;dbl&gt;</th><th scope=col>&lt;dbl&gt;</th><th scope=col>&lt;dbl&gt;</th><th scope=col>&lt;chr&gt;</th></tr>\n",
       "</thead>\n",
       "<tbody>\n",
       "\t<tr><td>5.1</td><td>3.5</td><td>1.4</td><td>0.2</td><td>setosa</td></tr>\n",
       "\t<tr><td>4.9</td><td>3.0</td><td>1.4</td><td>0.2</td><td>setosa</td></tr>\n",
       "\t<tr><td>4.7</td><td>3.2</td><td>1.3</td><td>0.2</td><td>setosa</td></tr>\n",
       "\t<tr><td>4.6</td><td>3.1</td><td>1.5</td><td>0.2</td><td>setosa</td></tr>\n",
       "\t<tr><td>5.0</td><td>3.6</td><td>1.4</td><td>0.2</td><td>setosa</td></tr>\n",
       "\t<tr><td>5.4</td><td>3.9</td><td>1.7</td><td>0.4</td><td>setosa</td></tr>\n",
       "</tbody>\n",
       "</table>\n"
      ],
      "text/latex": [
       "A tibble: 6 × 5\n",
       "\\begin{tabular}{lllll}\n",
       " Sepal.Length & Sepal.Width & Petal.Length & Petal.Width & Species\\\\\n",
       " <dbl> & <dbl> & <dbl> & <dbl> & <chr>\\\\\n",
       "\\hline\n",
       "\t 5.1 & 3.5 & 1.4 & 0.2 & setosa\\\\\n",
       "\t 4.9 & 3.0 & 1.4 & 0.2 & setosa\\\\\n",
       "\t 4.7 & 3.2 & 1.3 & 0.2 & setosa\\\\\n",
       "\t 4.6 & 3.1 & 1.5 & 0.2 & setosa\\\\\n",
       "\t 5.0 & 3.6 & 1.4 & 0.2 & setosa\\\\\n",
       "\t 5.4 & 3.9 & 1.7 & 0.4 & setosa\\\\\n",
       "\\end{tabular}\n"
      ],
      "text/markdown": [
       "\n",
       "A tibble: 6 × 5\n",
       "\n",
       "| Sepal.Length &lt;dbl&gt; | Sepal.Width &lt;dbl&gt; | Petal.Length &lt;dbl&gt; | Petal.Width &lt;dbl&gt; | Species &lt;chr&gt; |\n",
       "|---|---|---|---|---|\n",
       "| 5.1 | 3.5 | 1.4 | 0.2 | setosa |\n",
       "| 4.9 | 3.0 | 1.4 | 0.2 | setosa |\n",
       "| 4.7 | 3.2 | 1.3 | 0.2 | setosa |\n",
       "| 4.6 | 3.1 | 1.5 | 0.2 | setosa |\n",
       "| 5.0 | 3.6 | 1.4 | 0.2 | setosa |\n",
       "| 5.4 | 3.9 | 1.7 | 0.4 | setosa |\n",
       "\n"
      ],
      "text/plain": [
       "  Sepal.Length Sepal.Width Petal.Length Petal.Width Species\n",
       "1 5.1          3.5         1.4          0.2         setosa \n",
       "2 4.9          3.0         1.4          0.2         setosa \n",
       "3 4.7          3.2         1.3          0.2         setosa \n",
       "4 4.6          3.1         1.5          0.2         setosa \n",
       "5 5.0          3.6         1.4          0.2         setosa \n",
       "6 5.4          3.9         1.7          0.4         setosa "
      ]
     },
     "metadata": {},
     "output_type": "display_data"
    }
   ],
   "source": [
    "df6 <- read_excel(\"./datasets/iris.xlsx\")\n",
    "head(df6)"
   ]
  },
  {
   "cell_type": "markdown",
   "id": "compatible-tokyo",
   "metadata": {},
   "source": [
    "> Si deseamos consolidar todas las hojas de un archivo de excel en un único data frame, podemos emplear lo aprendido sobre programación para automatizar esa tarea."
   ]
  },
  {
   "cell_type": "code",
   "execution_count": 112,
   "id": "universal-owner",
   "metadata": {},
   "outputs": [],
   "source": [
    "# código para consolidar varias hojas de excel en un sólo data frame\n",
    "sheets = 1:3\n",
    "\n",
    "for(i in 1:length(sheets)){\n",
    "    if(i == 1){\n",
    "        df_iris_1 <- read_excel(\"./datasets/iris.xlsx\", sheet=i)\n",
    "    }else{\n",
    "        df_iris_n <- read_excel(\"./datasets/iris.xlsx\", sheet=i)\n",
    "        df_iris_1 <- rbind(df_iris_1, df_iris_n)\n",
    "    }\n",
    "}"
   ]
  },
  {
   "cell_type": "code",
   "execution_count": 114,
   "id": "threaded-values",
   "metadata": {},
   "outputs": [
    {
     "data": {
      "text/html": [
       "<table>\n",
       "<caption>A tibble: 6 × 5</caption>\n",
       "<thead>\n",
       "\t<tr><th scope=col>Sepal.Length</th><th scope=col>Sepal.Width</th><th scope=col>Petal.Length</th><th scope=col>Petal.Width</th><th scope=col>Species</th></tr>\n",
       "\t<tr><th scope=col>&lt;dbl&gt;</th><th scope=col>&lt;dbl&gt;</th><th scope=col>&lt;dbl&gt;</th><th scope=col>&lt;dbl&gt;</th><th scope=col>&lt;chr&gt;</th></tr>\n",
       "</thead>\n",
       "<tbody>\n",
       "\t<tr><td>5.1</td><td>3.5</td><td>1.4</td><td>0.2</td><td>setosa</td></tr>\n",
       "\t<tr><td>4.9</td><td>3.0</td><td>1.4</td><td>0.2</td><td>setosa</td></tr>\n",
       "\t<tr><td>4.7</td><td>3.2</td><td>1.3</td><td>0.2</td><td>setosa</td></tr>\n",
       "\t<tr><td>4.6</td><td>3.1</td><td>1.5</td><td>0.2</td><td>setosa</td></tr>\n",
       "\t<tr><td>5.0</td><td>3.6</td><td>1.4</td><td>0.2</td><td>setosa</td></tr>\n",
       "\t<tr><td>5.4</td><td>3.9</td><td>1.7</td><td>0.4</td><td>setosa</td></tr>\n",
       "</tbody>\n",
       "</table>\n"
      ],
      "text/latex": [
       "A tibble: 6 × 5\n",
       "\\begin{tabular}{lllll}\n",
       " Sepal.Length & Sepal.Width & Petal.Length & Petal.Width & Species\\\\\n",
       " <dbl> & <dbl> & <dbl> & <dbl> & <chr>\\\\\n",
       "\\hline\n",
       "\t 5.1 & 3.5 & 1.4 & 0.2 & setosa\\\\\n",
       "\t 4.9 & 3.0 & 1.4 & 0.2 & setosa\\\\\n",
       "\t 4.7 & 3.2 & 1.3 & 0.2 & setosa\\\\\n",
       "\t 4.6 & 3.1 & 1.5 & 0.2 & setosa\\\\\n",
       "\t 5.0 & 3.6 & 1.4 & 0.2 & setosa\\\\\n",
       "\t 5.4 & 3.9 & 1.7 & 0.4 & setosa\\\\\n",
       "\\end{tabular}\n"
      ],
      "text/markdown": [
       "\n",
       "A tibble: 6 × 5\n",
       "\n",
       "| Sepal.Length &lt;dbl&gt; | Sepal.Width &lt;dbl&gt; | Petal.Length &lt;dbl&gt; | Petal.Width &lt;dbl&gt; | Species &lt;chr&gt; |\n",
       "|---|---|---|---|---|\n",
       "| 5.1 | 3.5 | 1.4 | 0.2 | setosa |\n",
       "| 4.9 | 3.0 | 1.4 | 0.2 | setosa |\n",
       "| 4.7 | 3.2 | 1.3 | 0.2 | setosa |\n",
       "| 4.6 | 3.1 | 1.5 | 0.2 | setosa |\n",
       "| 5.0 | 3.6 | 1.4 | 0.2 | setosa |\n",
       "| 5.4 | 3.9 | 1.7 | 0.4 | setosa |\n",
       "\n"
      ],
      "text/plain": [
       "  Sepal.Length Sepal.Width Petal.Length Petal.Width Species\n",
       "1 5.1          3.5         1.4          0.2         setosa \n",
       "2 4.9          3.0         1.4          0.2         setosa \n",
       "3 4.7          3.2         1.3          0.2         setosa \n",
       "4 4.6          3.1         1.5          0.2         setosa \n",
       "5 5.0          3.6         1.4          0.2         setosa \n",
       "6 5.4          3.9         1.7          0.4         setosa "
      ]
     },
     "metadata": {},
     "output_type": "display_data"
    }
   ],
   "source": [
    "head(df_iris_1)"
   ]
  },
  {
   "cell_type": "code",
   "execution_count": 118,
   "id": "serious-sandwich",
   "metadata": {},
   "outputs": [
    {
     "data": {
      "text/html": [
       "<style>\n",
       ".list-inline {list-style: none; margin:0; padding: 0}\n",
       ".list-inline>li {display: inline-block}\n",
       ".list-inline>li:not(:last-child)::after {content: \"\\00b7\"; padding: 0 .5ex}\n",
       "</style>\n",
       "<ol class=list-inline><li>150</li><li>5</li></ol>\n"
      ],
      "text/latex": [
       "\\begin{enumerate*}\n",
       "\\item 150\n",
       "\\item 5\n",
       "\\end{enumerate*}\n"
      ],
      "text/markdown": [
       "1. 150\n",
       "2. 5\n",
       "\n",
       "\n"
      ],
      "text/plain": [
       "[1] 150   5"
      ]
     },
     "metadata": {},
     "output_type": "display_data"
    }
   ],
   "source": [
    "dim(df_iris_1)"
   ]
  },
  {
   "cell_type": "markdown",
   "id": "double-bandwidth",
   "metadata": {},
   "source": [
    "> ### Read from the web (Datos de COVID-19 México)"
   ]
  },
  {
   "cell_type": "markdown",
   "id": "essential-spread",
   "metadata": {},
   "source": [
    "La información se encuentra disponible en la siguiente liga:  <a href=\"https://www.gob.mx/salud/documentos/datos-abiertos-152127\">https://www.gob.mx/salud/documentos/datos-abiertos-152127</a>."
   ]
  },
  {
   "cell_type": "code",
   "execution_count": 89,
   "id": "liked-graph",
   "metadata": {},
   "outputs": [],
   "source": [
    "# creación de un archivo temporal\n",
    "temp <- tempfile()\n",
    "# descargar archivo .zip al archivo temporal\n",
    "download.file(\"http://datosabiertos.salud.gob.mx/gobmx/salud/datos_abiertos/datos_abiertos_covid19.zip\",temp)\n",
    "# lectura del archivo .csv deltro del .zip\n",
    "covid_mex <- read.csv(unz(temp,'210705COVID19MEXICO.csv'))\n",
    "# remueve archivos temporales\n",
    "unlink(temp)"
   ]
  },
  {
   "cell_type": "code",
   "execution_count": 90,
   "id": "immune-nutrition",
   "metadata": {},
   "outputs": [
    {
     "data": {
      "text/html": [
       "<table>\n",
       "<caption>A data.frame: 6 × 40</caption>\n",
       "<thead>\n",
       "\t<tr><th></th><th scope=col>FECHA_ACTUALIZACION</th><th scope=col>ID_REGISTRO</th><th scope=col>ORIGEN</th><th scope=col>SECTOR</th><th scope=col>ENTIDAD_UM</th><th scope=col>SEXO</th><th scope=col>ENTIDAD_NAC</th><th scope=col>ENTIDAD_RES</th><th scope=col>MUNICIPIO_RES</th><th scope=col>TIPO_PACIENTE</th><th scope=col>...</th><th scope=col>OTRO_CASO</th><th scope=col>TOMA_MUESTRA_LAB</th><th scope=col>RESULTADO_LAB</th><th scope=col>TOMA_MUESTRA_ANTIGENO</th><th scope=col>RESULTADO_ANTIGENO</th><th scope=col>CLASIFICACION_FINAL</th><th scope=col>MIGRANTE</th><th scope=col>PAIS_NACIONALIDAD</th><th scope=col>PAIS_ORIGEN</th><th scope=col>UCI</th></tr>\n",
       "\t<tr><th></th><th scope=col>&lt;chr&gt;</th><th scope=col>&lt;chr&gt;</th><th scope=col>&lt;int&gt;</th><th scope=col>&lt;int&gt;</th><th scope=col>&lt;int&gt;</th><th scope=col>&lt;int&gt;</th><th scope=col>&lt;int&gt;</th><th scope=col>&lt;int&gt;</th><th scope=col>&lt;int&gt;</th><th scope=col>&lt;int&gt;</th><th scope=col>...</th><th scope=col>&lt;int&gt;</th><th scope=col>&lt;int&gt;</th><th scope=col>&lt;int&gt;</th><th scope=col>&lt;int&gt;</th><th scope=col>&lt;int&gt;</th><th scope=col>&lt;int&gt;</th><th scope=col>&lt;int&gt;</th><th scope=col>&lt;chr&gt;</th><th scope=col>&lt;chr&gt;</th><th scope=col>&lt;int&gt;</th></tr>\n",
       "</thead>\n",
       "<tbody>\n",
       "\t<tr><th scope=row>1</th><td>2021-07-05</td><td>z482b8</td><td>1</td><td>12</td><td> 9</td><td>2</td><td> 9</td><td> 9</td><td>12</td><td>1</td><td>...</td><td> 2</td><td>2</td><td>97</td><td>2</td><td>97</td><td>1</td><td>99</td><td>MÃ©xico</td><td>97</td><td>97</td></tr>\n",
       "\t<tr><th scope=row>2</th><td>2021-07-05</td><td>z49a69</td><td>1</td><td>12</td><td>23</td><td>1</td><td>23</td><td>23</td><td> 4</td><td>2</td><td>...</td><td> 1</td><td>2</td><td>97</td><td>2</td><td>97</td><td>2</td><td>99</td><td>MÃ©xico</td><td>97</td><td> 1</td></tr>\n",
       "\t<tr><th scope=row>3</th><td>2021-07-05</td><td>z23d9d</td><td>1</td><td>12</td><td>22</td><td>2</td><td>24</td><td>22</td><td> 9</td><td>1</td><td>...</td><td> 2</td><td>2</td><td>97</td><td>2</td><td>97</td><td>6</td><td>99</td><td>MÃ©xico</td><td>97</td><td>97</td></tr>\n",
       "\t<tr><th scope=row>4</th><td>2021-07-05</td><td>z24953</td><td>1</td><td>12</td><td> 9</td><td>1</td><td> 9</td><td> 9</td><td>10</td><td>1</td><td>...</td><td> 1</td><td>1</td><td> 2</td><td>2</td><td>97</td><td>7</td><td>99</td><td>MÃ©xico</td><td>97</td><td>97</td></tr>\n",
       "\t<tr><th scope=row>5</th><td>2021-07-05</td><td>zz8e77</td><td>1</td><td>12</td><td> 9</td><td>2</td><td> 9</td><td> 9</td><td> 2</td><td>1</td><td>...</td><td> 2</td><td>2</td><td>97</td><td>2</td><td>97</td><td>6</td><td>99</td><td>MÃ©xico</td><td>97</td><td>97</td></tr>\n",
       "\t<tr><th scope=row>6</th><td>2021-07-05</td><td>z1b0d1</td><td>1</td><td>12</td><td> 1</td><td>1</td><td> 1</td><td> 1</td><td> 3</td><td>1</td><td>...</td><td>99</td><td>1</td><td> 4</td><td>2</td><td>97</td><td>5</td><td>99</td><td>MÃ©xico</td><td>97</td><td>97</td></tr>\n",
       "</tbody>\n",
       "</table>\n"
      ],
      "text/latex": [
       "A data.frame: 6 × 40\n",
       "\\begin{tabular}{r|lllllllllllllllllllll}\n",
       "  & FECHA\\_ACTUALIZACION & ID\\_REGISTRO & ORIGEN & SECTOR & ENTIDAD\\_UM & SEXO & ENTIDAD\\_NAC & ENTIDAD\\_RES & MUNICIPIO\\_RES & TIPO\\_PACIENTE & ... & OTRO\\_CASO & TOMA\\_MUESTRA\\_LAB & RESULTADO\\_LAB & TOMA\\_MUESTRA\\_ANTIGENO & RESULTADO\\_ANTIGENO & CLASIFICACION\\_FINAL & MIGRANTE & PAIS\\_NACIONALIDAD & PAIS\\_ORIGEN & UCI\\\\\n",
       "  & <chr> & <chr> & <int> & <int> & <int> & <int> & <int> & <int> & <int> & <int> & ... & <int> & <int> & <int> & <int> & <int> & <int> & <int> & <chr> & <chr> & <int>\\\\\n",
       "\\hline\n",
       "\t1 & 2021-07-05 & z482b8 & 1 & 12 &  9 & 2 &  9 &  9 & 12 & 1 & ... &  2 & 2 & 97 & 2 & 97 & 1 & 99 & MÃ©xico & 97 & 97\\\\\n",
       "\t2 & 2021-07-05 & z49a69 & 1 & 12 & 23 & 1 & 23 & 23 &  4 & 2 & ... &  1 & 2 & 97 & 2 & 97 & 2 & 99 & MÃ©xico & 97 &  1\\\\\n",
       "\t3 & 2021-07-05 & z23d9d & 1 & 12 & 22 & 2 & 24 & 22 &  9 & 1 & ... &  2 & 2 & 97 & 2 & 97 & 6 & 99 & MÃ©xico & 97 & 97\\\\\n",
       "\t4 & 2021-07-05 & z24953 & 1 & 12 &  9 & 1 &  9 &  9 & 10 & 1 & ... &  1 & 1 &  2 & 2 & 97 & 7 & 99 & MÃ©xico & 97 & 97\\\\\n",
       "\t5 & 2021-07-05 & zz8e77 & 1 & 12 &  9 & 2 &  9 &  9 &  2 & 1 & ... &  2 & 2 & 97 & 2 & 97 & 6 & 99 & MÃ©xico & 97 & 97\\\\\n",
       "\t6 & 2021-07-05 & z1b0d1 & 1 & 12 &  1 & 1 &  1 &  1 &  3 & 1 & ... & 99 & 1 &  4 & 2 & 97 & 5 & 99 & MÃ©xico & 97 & 97\\\\\n",
       "\\end{tabular}\n"
      ],
      "text/markdown": [
       "\n",
       "A data.frame: 6 × 40\n",
       "\n",
       "| <!--/--> | FECHA_ACTUALIZACION &lt;chr&gt; | ID_REGISTRO &lt;chr&gt; | ORIGEN &lt;int&gt; | SECTOR &lt;int&gt; | ENTIDAD_UM &lt;int&gt; | SEXO &lt;int&gt; | ENTIDAD_NAC &lt;int&gt; | ENTIDAD_RES &lt;int&gt; | MUNICIPIO_RES &lt;int&gt; | TIPO_PACIENTE &lt;int&gt; | ... ... | OTRO_CASO &lt;int&gt; | TOMA_MUESTRA_LAB &lt;int&gt; | RESULTADO_LAB &lt;int&gt; | TOMA_MUESTRA_ANTIGENO &lt;int&gt; | RESULTADO_ANTIGENO &lt;int&gt; | CLASIFICACION_FINAL &lt;int&gt; | MIGRANTE &lt;int&gt; | PAIS_NACIONALIDAD &lt;chr&gt; | PAIS_ORIGEN &lt;chr&gt; | UCI &lt;int&gt; |\n",
       "|---|---|---|---|---|---|---|---|---|---|---|---|---|---|---|---|---|---|---|---|---|---|\n",
       "| 1 | 2021-07-05 | z482b8 | 1 | 12 |  9 | 2 |  9 |  9 | 12 | 1 | ... |  2 | 2 | 97 | 2 | 97 | 1 | 99 | MÃ©xico | 97 | 97 |\n",
       "| 2 | 2021-07-05 | z49a69 | 1 | 12 | 23 | 1 | 23 | 23 |  4 | 2 | ... |  1 | 2 | 97 | 2 | 97 | 2 | 99 | MÃ©xico | 97 |  1 |\n",
       "| 3 | 2021-07-05 | z23d9d | 1 | 12 | 22 | 2 | 24 | 22 |  9 | 1 | ... |  2 | 2 | 97 | 2 | 97 | 6 | 99 | MÃ©xico | 97 | 97 |\n",
       "| 4 | 2021-07-05 | z24953 | 1 | 12 |  9 | 1 |  9 |  9 | 10 | 1 | ... |  1 | 1 |  2 | 2 | 97 | 7 | 99 | MÃ©xico | 97 | 97 |\n",
       "| 5 | 2021-07-05 | zz8e77 | 1 | 12 |  9 | 2 |  9 |  9 |  2 | 1 | ... |  2 | 2 | 97 | 2 | 97 | 6 | 99 | MÃ©xico | 97 | 97 |\n",
       "| 6 | 2021-07-05 | z1b0d1 | 1 | 12 |  1 | 1 |  1 |  1 |  3 | 1 | ... | 99 | 1 |  4 | 2 | 97 | 5 | 99 | MÃ©xico | 97 | 97 |\n",
       "\n"
      ],
      "text/plain": [
       "  FECHA_ACTUALIZACION ID_REGISTRO ORIGEN SECTOR ENTIDAD_UM SEXO ENTIDAD_NAC\n",
       "1 2021-07-05          z482b8      1      12      9         2     9         \n",
       "2 2021-07-05          z49a69      1      12     23         1    23         \n",
       "3 2021-07-05          z23d9d      1      12     22         2    24         \n",
       "4 2021-07-05          z24953      1      12      9         1     9         \n",
       "5 2021-07-05          zz8e77      1      12      9         2     9         \n",
       "6 2021-07-05          z1b0d1      1      12      1         1     1         \n",
       "  ENTIDAD_RES MUNICIPIO_RES TIPO_PACIENTE ... OTRO_CASO TOMA_MUESTRA_LAB\n",
       "1  9          12            1             ...  2        2               \n",
       "2 23           4            2             ...  1        2               \n",
       "3 22           9            1             ...  2        2               \n",
       "4  9          10            1             ...  1        1               \n",
       "5  9           2            1             ...  2        2               \n",
       "6  1           3            1             ... 99        1               \n",
       "  RESULTADO_LAB TOMA_MUESTRA_ANTIGENO RESULTADO_ANTIGENO CLASIFICACION_FINAL\n",
       "1 97            2                     97                 1                  \n",
       "2 97            2                     97                 2                  \n",
       "3 97            2                     97                 6                  \n",
       "4  2            2                     97                 7                  \n",
       "5 97            2                     97                 6                  \n",
       "6  4            2                     97                 5                  \n",
       "  MIGRANTE PAIS_NACIONALIDAD PAIS_ORIGEN UCI\n",
       "1 99       MÃ©xico           97          97 \n",
       "2 99       MÃ©xico           97           1 \n",
       "3 99       MÃ©xico           97          97 \n",
       "4 99       MÃ©xico           97          97 \n",
       "5 99       MÃ©xico           97          97 \n",
       "6 99       MÃ©xico           97          97 "
      ]
     },
     "metadata": {},
     "output_type": "display_data"
    }
   ],
   "source": [
    "head(covid_mex)"
   ]
  },
  {
   "cell_type": "code",
   "execution_count": null,
   "id": "satisfied-peoples",
   "metadata": {},
   "outputs": [],
   "source": []
  }
 ],
 "metadata": {
  "kernelspec": {
   "display_name": "R",
   "language": "R",
   "name": "ir"
  },
  "language_info": {
   "codemirror_mode": "r",
   "file_extension": ".r",
   "mimetype": "text/x-r-source",
   "name": "R",
   "pygments_lexer": "r",
   "version": "4.0.4"
  }
 },
 "nbformat": 4,
 "nbformat_minor": 5
}
