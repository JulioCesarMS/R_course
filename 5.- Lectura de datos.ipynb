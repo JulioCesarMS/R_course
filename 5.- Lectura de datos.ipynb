{
  "cells": [
    {
      "cell_type": "markdown",
      "metadata": {
        "id": "view-in-github",
        "colab_type": "text"
      },
      "source": [
        "<a href=\"https://colab.research.google.com/github/JulioCesarMS/R_course/blob/master/5.-%20Lectura%20de%20datos.ipynb\" target=\"_parent\"><img src=\"https://colab.research.google.com/assets/colab-badge.svg\" alt=\"Open In Colab\"/></a>"
      ]
    },
    {
      "cell_type": "markdown",
      "id": "naughty-detector",
      "metadata": {
        "id": "naughty-detector"
      },
      "source": [
        "# <center> **Lectura de datos en R** "
      ]
    },
    {
      "cell_type": "markdown",
      "id": "accurate-radio",
      "metadata": {
        "id": "accurate-radio"
      },
      "source": [
        "# **Lectura de datos**"
      ]
    },
    {
      "cell_type": "markdown",
      "id": "nasty-texas",
      "metadata": {
        "id": "nasty-texas"
      },
      "source": [
        "> **Archivos más comunes:**\n",
        "\n",
        "- read.csv() \n",
        "- read.csv2()\n",
        "- read.delim()\n",
        "- read_excel()\n",
        "- Lectura de archivos JSON\n",
        "- Lectura de archivos XML\n",
        "- Lectura de tablas HTML\n",
        "\n",
        "> **Lectura de otros formatos:**\n",
        "\n",
        "- Lectura de archivos SPSS\n",
        "- Lectura de archivos SAS\n",
        "- Lectura de archivos Minitab"
      ]
    },
    {
      "cell_type": "markdown",
      "id": "daily-chamber",
      "metadata": {
        "id": "daily-chamber"
      },
      "source": [
        "> # **read_csv()**"
      ]
    },
    {
      "cell_type": "code",
      "execution_count": 2,
      "id": "local-torture",
      "metadata": {
        "id": "local-torture",
        "outputId": "57e679ed-0b51-480a-9eae-7217410328d8",
        "colab": {
          "base_uri": "https://localhost:8080/",
          "height": 286
        }
      },
      "outputs": [
        {
          "output_type": "display_data",
          "data": {
            "text/html": [
              "<table class=\"dataframe\">\n",
              "<caption>A data.frame: 6 × 5</caption>\n",
              "<thead>\n",
              "\t<tr><th></th><th scope=col>Sepal.Length</th><th scope=col>Sepal.Width</th><th scope=col>Petal.Length</th><th scope=col>Petal.Width</th><th scope=col>Species</th></tr>\n",
              "\t<tr><th></th><th scope=col>&lt;dbl&gt;</th><th scope=col>&lt;dbl&gt;</th><th scope=col>&lt;dbl&gt;</th><th scope=col>&lt;dbl&gt;</th><th scope=col>&lt;chr&gt;</th></tr>\n",
              "</thead>\n",
              "<tbody>\n",
              "\t<tr><th scope=row>1</th><td>6.3</td><td>3.3</td><td>6.0</td><td>2.5</td><td>virginica</td></tr>\n",
              "\t<tr><th scope=row>2</th><td>5.8</td><td>2.7</td><td>5.1</td><td>1.9</td><td>virginica</td></tr>\n",
              "\t<tr><th scope=row>3</th><td>7.1</td><td>3.0</td><td>5.9</td><td>2.1</td><td>virginica</td></tr>\n",
              "\t<tr><th scope=row>4</th><td>6.3</td><td>2.9</td><td>5.6</td><td>1.8</td><td>virginica</td></tr>\n",
              "\t<tr><th scope=row>5</th><td>6.5</td><td>3.0</td><td>5.8</td><td>2.2</td><td>virginica</td></tr>\n",
              "\t<tr><th scope=row>6</th><td>7.6</td><td>3.0</td><td>6.6</td><td>2.1</td><td>virginica</td></tr>\n",
              "</tbody>\n",
              "</table>\n"
            ],
            "text/markdown": "\nA data.frame: 6 × 5\n\n| <!--/--> | Sepal.Length &lt;dbl&gt; | Sepal.Width &lt;dbl&gt; | Petal.Length &lt;dbl&gt; | Petal.Width &lt;dbl&gt; | Species &lt;chr&gt; |\n|---|---|---|---|---|---|\n| 1 | 6.3 | 3.3 | 6.0 | 2.5 | virginica |\n| 2 | 5.8 | 2.7 | 5.1 | 1.9 | virginica |\n| 3 | 7.1 | 3.0 | 5.9 | 2.1 | virginica |\n| 4 | 6.3 | 2.9 | 5.6 | 1.8 | virginica |\n| 5 | 6.5 | 3.0 | 5.8 | 2.2 | virginica |\n| 6 | 7.6 | 3.0 | 6.6 | 2.1 | virginica |\n\n",
            "text/latex": "A data.frame: 6 × 5\n\\begin{tabular}{r|lllll}\n  & Sepal.Length & Sepal.Width & Petal.Length & Petal.Width & Species\\\\\n  & <dbl> & <dbl> & <dbl> & <dbl> & <chr>\\\\\n\\hline\n\t1 & 6.3 & 3.3 & 6.0 & 2.5 & virginica\\\\\n\t2 & 5.8 & 2.7 & 5.1 & 1.9 & virginica\\\\\n\t3 & 7.1 & 3.0 & 5.9 & 2.1 & virginica\\\\\n\t4 & 6.3 & 2.9 & 5.6 & 1.8 & virginica\\\\\n\t5 & 6.5 & 3.0 & 5.8 & 2.2 & virginica\\\\\n\t6 & 7.6 & 3.0 & 6.6 & 2.1 & virginica\\\\\n\\end{tabular}\n",
            "text/plain": [
              "  Sepal.Length Sepal.Width Petal.Length Petal.Width Species  \n",
              "1 6.3          3.3         6.0          2.5         virginica\n",
              "2 5.8          2.7         5.1          1.9         virginica\n",
              "3 7.1          3.0         5.9          2.1         virginica\n",
              "4 6.3          2.9         5.6          1.8         virginica\n",
              "5 6.5          3.0         5.8          2.2         virginica\n",
              "6 7.6          3.0         6.6          2.1         virginica"
            ]
          },
          "metadata": {}
        }
      ],
      "source": [
        "df1 <- read.csv('./iris.csv')\n",
        "head(df1)"
      ]
    },
    {
      "cell_type": "markdown",
      "id": "blind-handling",
      "metadata": {
        "id": "blind-handling"
      },
      "source": [
        "> Por defecto al leer un archivo supone que tiene encabezados, sino es el caso podemos especificar en la función <span style=\"color:blue\"> **read.csv()** </span> los encabezados agregando el algumento <span style=\"color:blue\"> **header=FALSE**</span>."
      ]
    },
    {
      "cell_type": "code",
      "execution_count": 3,
      "id": "confident-wilderness",
      "metadata": {
        "id": "confident-wilderness",
        "outputId": "673f383b-fc24-47dc-9d10-ea862a73733e",
        "colab": {
          "base_uri": "https://localhost:8080/",
          "height": 286
        }
      },
      "outputs": [
        {
          "output_type": "display_data",
          "data": {
            "text/html": [
              "<table class=\"dataframe\">\n",
              "<caption>A data.frame: 6 × 5</caption>\n",
              "<thead>\n",
              "\t<tr><th></th><th scope=col>Sepal.Length</th><th scope=col>Sepal.Width</th><th scope=col>Petal.Length</th><th scope=col>Petal.Width</th><th scope=col>Species</th></tr>\n",
              "\t<tr><th></th><th scope=col>&lt;dbl&gt;</th><th scope=col>&lt;dbl&gt;</th><th scope=col>&lt;dbl&gt;</th><th scope=col>&lt;dbl&gt;</th><th scope=col>&lt;chr&gt;</th></tr>\n",
              "</thead>\n",
              "<tbody>\n",
              "\t<tr><th scope=row>1</th><td>6.3</td><td>3.3</td><td>6.0</td><td>2.5</td><td>virginica</td></tr>\n",
              "\t<tr><th scope=row>2</th><td>5.8</td><td>2.7</td><td>5.1</td><td>1.9</td><td>virginica</td></tr>\n",
              "\t<tr><th scope=row>3</th><td>7.1</td><td>3.0</td><td>5.9</td><td>2.1</td><td>virginica</td></tr>\n",
              "\t<tr><th scope=row>4</th><td>6.3</td><td>2.9</td><td>5.6</td><td>1.8</td><td>virginica</td></tr>\n",
              "\t<tr><th scope=row>5</th><td>6.5</td><td>3.0</td><td>5.8</td><td>2.2</td><td>virginica</td></tr>\n",
              "\t<tr><th scope=row>6</th><td>7.6</td><td>3.0</td><td>6.6</td><td>2.1</td><td>virginica</td></tr>\n",
              "</tbody>\n",
              "</table>\n"
            ],
            "text/markdown": "\nA data.frame: 6 × 5\n\n| <!--/--> | Sepal.Length &lt;dbl&gt; | Sepal.Width &lt;dbl&gt; | Petal.Length &lt;dbl&gt; | Petal.Width &lt;dbl&gt; | Species &lt;chr&gt; |\n|---|---|---|---|---|---|\n| 1 | 6.3 | 3.3 | 6.0 | 2.5 | virginica |\n| 2 | 5.8 | 2.7 | 5.1 | 1.9 | virginica |\n| 3 | 7.1 | 3.0 | 5.9 | 2.1 | virginica |\n| 4 | 6.3 | 2.9 | 5.6 | 1.8 | virginica |\n| 5 | 6.5 | 3.0 | 5.8 | 2.2 | virginica |\n| 6 | 7.6 | 3.0 | 6.6 | 2.1 | virginica |\n\n",
            "text/latex": "A data.frame: 6 × 5\n\\begin{tabular}{r|lllll}\n  & Sepal.Length & Sepal.Width & Petal.Length & Petal.Width & Species\\\\\n  & <dbl> & <dbl> & <dbl> & <dbl> & <chr>\\\\\n\\hline\n\t1 & 6.3 & 3.3 & 6.0 & 2.5 & virginica\\\\\n\t2 & 5.8 & 2.7 & 5.1 & 1.9 & virginica\\\\\n\t3 & 7.1 & 3.0 & 5.9 & 2.1 & virginica\\\\\n\t4 & 6.3 & 2.9 & 5.6 & 1.8 & virginica\\\\\n\t5 & 6.5 & 3.0 & 5.8 & 2.2 & virginica\\\\\n\t6 & 7.6 & 3.0 & 6.6 & 2.1 & virginica\\\\\n\\end{tabular}\n",
            "text/plain": [
              "  Sepal.Length Sepal.Width Petal.Length Petal.Width Species  \n",
              "1 6.3          3.3         6.0          2.5         virginica\n",
              "2 5.8          2.7         5.1          1.9         virginica\n",
              "3 7.1          3.0         5.9          2.1         virginica\n",
              "4 6.3          2.9         5.6          1.8         virginica\n",
              "5 6.5          3.0         5.8          2.2         virginica\n",
              "6 7.6          3.0         6.6          2.1         virginica"
            ]
          },
          "metadata": {}
        }
      ],
      "source": [
        "df2 <- read.csv('./iris.csv', header=TRUE)\n",
        "head(df2)\n"
      ]
    },
    {
      "cell_type": "markdown",
      "id": "helpful-ethernet",
      "metadata": {
        "id": "helpful-ethernet"
      },
      "source": [
        "> Si queremos especificar los nombres de encabezados podemos utilizar el argumento <span style=\"color:blue\"> **col.names** </span>."
      ]
    },
    {
      "cell_type": "code",
      "execution_count": 4,
      "id": "verbal-calculation",
      "metadata": {
        "id": "verbal-calculation",
        "outputId": "f7bc10ef-c650-4bb9-80fb-104e65654fea",
        "colab": {
          "base_uri": "https://localhost:8080/",
          "height": 286
        }
      },
      "outputs": [
        {
          "output_type": "display_data",
          "data": {
            "text/html": [
              "<table class=\"dataframe\">\n",
              "<caption>A data.frame: 6 × 5</caption>\n",
              "<thead>\n",
              "\t<tr><th></th><th scope=col>Sepal_Length</th><th scope=col>Sepal_Width</th><th scope=col>Petal_Length</th><th scope=col>Petal_Width</th><th scope=col>Species</th></tr>\n",
              "\t<tr><th></th><th scope=col>&lt;dbl&gt;</th><th scope=col>&lt;dbl&gt;</th><th scope=col>&lt;dbl&gt;</th><th scope=col>&lt;dbl&gt;</th><th scope=col>&lt;chr&gt;</th></tr>\n",
              "</thead>\n",
              "<tbody>\n",
              "\t<tr><th scope=row>1</th><td>6.3</td><td>3.3</td><td>6.0</td><td>2.5</td><td>virginica</td></tr>\n",
              "\t<tr><th scope=row>2</th><td>5.8</td><td>2.7</td><td>5.1</td><td>1.9</td><td>virginica</td></tr>\n",
              "\t<tr><th scope=row>3</th><td>7.1</td><td>3.0</td><td>5.9</td><td>2.1</td><td>virginica</td></tr>\n",
              "\t<tr><th scope=row>4</th><td>6.3</td><td>2.9</td><td>5.6</td><td>1.8</td><td>virginica</td></tr>\n",
              "\t<tr><th scope=row>5</th><td>6.5</td><td>3.0</td><td>5.8</td><td>2.2</td><td>virginica</td></tr>\n",
              "\t<tr><th scope=row>6</th><td>7.6</td><td>3.0</td><td>6.6</td><td>2.1</td><td>virginica</td></tr>\n",
              "</tbody>\n",
              "</table>\n"
            ],
            "text/markdown": "\nA data.frame: 6 × 5\n\n| <!--/--> | Sepal_Length &lt;dbl&gt; | Sepal_Width &lt;dbl&gt; | Petal_Length &lt;dbl&gt; | Petal_Width &lt;dbl&gt; | Species &lt;chr&gt; |\n|---|---|---|---|---|---|\n| 1 | 6.3 | 3.3 | 6.0 | 2.5 | virginica |\n| 2 | 5.8 | 2.7 | 5.1 | 1.9 | virginica |\n| 3 | 7.1 | 3.0 | 5.9 | 2.1 | virginica |\n| 4 | 6.3 | 2.9 | 5.6 | 1.8 | virginica |\n| 5 | 6.5 | 3.0 | 5.8 | 2.2 | virginica |\n| 6 | 7.6 | 3.0 | 6.6 | 2.1 | virginica |\n\n",
            "text/latex": "A data.frame: 6 × 5\n\\begin{tabular}{r|lllll}\n  & Sepal\\_Length & Sepal\\_Width & Petal\\_Length & Petal\\_Width & Species\\\\\n  & <dbl> & <dbl> & <dbl> & <dbl> & <chr>\\\\\n\\hline\n\t1 & 6.3 & 3.3 & 6.0 & 2.5 & virginica\\\\\n\t2 & 5.8 & 2.7 & 5.1 & 1.9 & virginica\\\\\n\t3 & 7.1 & 3.0 & 5.9 & 2.1 & virginica\\\\\n\t4 & 6.3 & 2.9 & 5.6 & 1.8 & virginica\\\\\n\t5 & 6.5 & 3.0 & 5.8 & 2.2 & virginica\\\\\n\t6 & 7.6 & 3.0 & 6.6 & 2.1 & virginica\\\\\n\\end{tabular}\n",
            "text/plain": [
              "  Sepal_Length Sepal_Width Petal_Length Petal_Width Species  \n",
              "1 6.3          3.3         6.0          2.5         virginica\n",
              "2 5.8          2.7         5.1          1.9         virginica\n",
              "3 7.1          3.0         5.9          2.1         virginica\n",
              "4 6.3          2.9         5.6          1.8         virginica\n",
              "5 6.5          3.0         5.8          2.2         virginica\n",
              "6 7.6          3.0         6.6          2.1         virginica"
            ]
          },
          "metadata": {}
        }
      ],
      "source": [
        "df3 <- read.csv('./iris.csv', \n",
        "                header=TRUE, \n",
        "                col.names=c('Sepal_Length', 'Sepal_Width', 'Petal_Length', 'Petal_Width', 'Species'))\n",
        "head(df3)"
      ]
    },
    {
      "cell_type": "markdown",
      "id": "rotary-oakland",
      "metadata": {
        "id": "rotary-oakland"
      },
      "source": [
        "> Para guardar en formato csv empleamos la función <span style=\"color:blue\"> **write.csv()** </span>, indicando el objeto a guardar y la ruta con el nombre del archivo."
      ]
    },
    {
      "cell_type": "code",
      "execution_count": 5,
      "id": "ethical-nitrogen",
      "metadata": {
        "id": "ethical-nitrogen"
      },
      "outputs": [],
      "source": [
        "write.csv(df3, './iris_new.csv', row.names=FALSE)"
      ]
    },
    {
      "cell_type": "markdown",
      "id": "oriental-hardware",
      "metadata": {
        "id": "oriental-hardware"
      },
      "source": [
        "> # **read_csv2()**"
      ]
    },
    {
      "cell_type": "code",
      "execution_count": 7,
      "id": "nervous-palace",
      "metadata": {
        "id": "nervous-palace",
        "outputId": "6d484070-300e-4662-82ec-0362ec51b5dc",
        "colab": {
          "base_uri": "https://localhost:8080/",
          "height": 286
        }
      },
      "outputs": [
        {
          "output_type": "display_data",
          "data": {
            "text/html": [
              "<table class=\"dataframe\">\n",
              "<caption>A data.frame: 6 × 5</caption>\n",
              "<thead>\n",
              "\t<tr><th></th><th scope=col>Sepal.Length</th><th scope=col>Sepal.Width</th><th scope=col>Petal.Length</th><th scope=col>Petal.Width</th><th scope=col>Species</th></tr>\n",
              "\t<tr><th></th><th scope=col>&lt;dbl&gt;</th><th scope=col>&lt;dbl&gt;</th><th scope=col>&lt;dbl&gt;</th><th scope=col>&lt;dbl&gt;</th><th scope=col>&lt;chr&gt;</th></tr>\n",
              "</thead>\n",
              "<tbody>\n",
              "\t<tr><th scope=row>1</th><td>5.1</td><td>3.5</td><td>1.4</td><td>0.2</td><td>setosa</td></tr>\n",
              "\t<tr><th scope=row>2</th><td>4.9</td><td>3.0</td><td>1.4</td><td>0.2</td><td>setosa</td></tr>\n",
              "\t<tr><th scope=row>3</th><td>4.7</td><td>3.2</td><td>1.3</td><td>0.2</td><td>setosa</td></tr>\n",
              "\t<tr><th scope=row>4</th><td>4.6</td><td>3.1</td><td>1.5</td><td>0.2</td><td>setosa</td></tr>\n",
              "\t<tr><th scope=row>5</th><td>5.0</td><td>3.6</td><td>1.4</td><td>0.2</td><td>setosa</td></tr>\n",
              "\t<tr><th scope=row>6</th><td>5.4</td><td>3.9</td><td>1.7</td><td>0.4</td><td>setosa</td></tr>\n",
              "</tbody>\n",
              "</table>\n"
            ],
            "text/markdown": "\nA data.frame: 6 × 5\n\n| <!--/--> | Sepal.Length &lt;dbl&gt; | Sepal.Width &lt;dbl&gt; | Petal.Length &lt;dbl&gt; | Petal.Width &lt;dbl&gt; | Species &lt;chr&gt; |\n|---|---|---|---|---|---|\n| 1 | 5.1 | 3.5 | 1.4 | 0.2 | setosa |\n| 2 | 4.9 | 3.0 | 1.4 | 0.2 | setosa |\n| 3 | 4.7 | 3.2 | 1.3 | 0.2 | setosa |\n| 4 | 4.6 | 3.1 | 1.5 | 0.2 | setosa |\n| 5 | 5.0 | 3.6 | 1.4 | 0.2 | setosa |\n| 6 | 5.4 | 3.9 | 1.7 | 0.4 | setosa |\n\n",
            "text/latex": "A data.frame: 6 × 5\n\\begin{tabular}{r|lllll}\n  & Sepal.Length & Sepal.Width & Petal.Length & Petal.Width & Species\\\\\n  & <dbl> & <dbl> & <dbl> & <dbl> & <chr>\\\\\n\\hline\n\t1 & 5.1 & 3.5 & 1.4 & 0.2 & setosa\\\\\n\t2 & 4.9 & 3.0 & 1.4 & 0.2 & setosa\\\\\n\t3 & 4.7 & 3.2 & 1.3 & 0.2 & setosa\\\\\n\t4 & 4.6 & 3.1 & 1.5 & 0.2 & setosa\\\\\n\t5 & 5.0 & 3.6 & 1.4 & 0.2 & setosa\\\\\n\t6 & 5.4 & 3.9 & 1.7 & 0.4 & setosa\\\\\n\\end{tabular}\n",
            "text/plain": [
              "  Sepal.Length Sepal.Width Petal.Length Petal.Width Species\n",
              "1 5.1          3.5         1.4          0.2         setosa \n",
              "2 4.9          3.0         1.4          0.2         setosa \n",
              "3 4.7          3.2         1.3          0.2         setosa \n",
              "4 4.6          3.1         1.5          0.2         setosa \n",
              "5 5.0          3.6         1.4          0.2         setosa \n",
              "6 5.4          3.9         1.7          0.4         setosa "
            ]
          },
          "metadata": {}
        }
      ],
      "source": [
        "# csv separado por ;\n",
        "df4 <- read.csv('./iris2.csv', sep=\";\")\n",
        "head(df4)"
      ]
    },
    {
      "cell_type": "code",
      "execution_count": 9,
      "id": "burning-sheep",
      "metadata": {
        "id": "burning-sheep",
        "outputId": "8f5dc299-5170-44c9-871d-aa8b4d0e4ed6",
        "colab": {
          "base_uri": "https://localhost:8080/",
          "height": 286
        }
      },
      "outputs": [
        {
          "output_type": "display_data",
          "data": {
            "text/html": [
              "<table class=\"dataframe\">\n",
              "<caption>A data.frame: 6 × 5</caption>\n",
              "<thead>\n",
              "\t<tr><th></th><th scope=col>Sepal.Length</th><th scope=col>Sepal.Width</th><th scope=col>Petal.Length</th><th scope=col>Petal.Width</th><th scope=col>Species</th></tr>\n",
              "\t<tr><th></th><th scope=col>&lt;dbl&gt;</th><th scope=col>&lt;dbl&gt;</th><th scope=col>&lt;dbl&gt;</th><th scope=col>&lt;dbl&gt;</th><th scope=col>&lt;chr&gt;</th></tr>\n",
              "</thead>\n",
              "<tbody>\n",
              "\t<tr><th scope=row>1</th><td>5.1</td><td>3.5</td><td>1.4</td><td>0.2</td><td>setosa</td></tr>\n",
              "\t<tr><th scope=row>2</th><td>4.9</td><td>3.0</td><td>1.4</td><td>0.2</td><td>setosa</td></tr>\n",
              "\t<tr><th scope=row>3</th><td>4.7</td><td>3.2</td><td>1.3</td><td>0.2</td><td>setosa</td></tr>\n",
              "\t<tr><th scope=row>4</th><td>4.6</td><td>3.1</td><td>1.5</td><td>0.2</td><td>setosa</td></tr>\n",
              "\t<tr><th scope=row>5</th><td>5.0</td><td>3.6</td><td>1.4</td><td>0.2</td><td>setosa</td></tr>\n",
              "\t<tr><th scope=row>6</th><td>5.4</td><td>3.9</td><td>1.7</td><td>0.4</td><td>setosa</td></tr>\n",
              "</tbody>\n",
              "</table>\n"
            ],
            "text/markdown": "\nA data.frame: 6 × 5\n\n| <!--/--> | Sepal.Length &lt;dbl&gt; | Sepal.Width &lt;dbl&gt; | Petal.Length &lt;dbl&gt; | Petal.Width &lt;dbl&gt; | Species &lt;chr&gt; |\n|---|---|---|---|---|---|\n| 1 | 5.1 | 3.5 | 1.4 | 0.2 | setosa |\n| 2 | 4.9 | 3.0 | 1.4 | 0.2 | setosa |\n| 3 | 4.7 | 3.2 | 1.3 | 0.2 | setosa |\n| 4 | 4.6 | 3.1 | 1.5 | 0.2 | setosa |\n| 5 | 5.0 | 3.6 | 1.4 | 0.2 | setosa |\n| 6 | 5.4 | 3.9 | 1.7 | 0.4 | setosa |\n\n",
            "text/latex": "A data.frame: 6 × 5\n\\begin{tabular}{r|lllll}\n  & Sepal.Length & Sepal.Width & Petal.Length & Petal.Width & Species\\\\\n  & <dbl> & <dbl> & <dbl> & <dbl> & <chr>\\\\\n\\hline\n\t1 & 5.1 & 3.5 & 1.4 & 0.2 & setosa\\\\\n\t2 & 4.9 & 3.0 & 1.4 & 0.2 & setosa\\\\\n\t3 & 4.7 & 3.2 & 1.3 & 0.2 & setosa\\\\\n\t4 & 4.6 & 3.1 & 1.5 & 0.2 & setosa\\\\\n\t5 & 5.0 & 3.6 & 1.4 & 0.2 & setosa\\\\\n\t6 & 5.4 & 3.9 & 1.7 & 0.4 & setosa\\\\\n\\end{tabular}\n",
            "text/plain": [
              "  Sepal.Length Sepal.Width Petal.Length Petal.Width Species\n",
              "1 5.1          3.5         1.4          0.2         setosa \n",
              "2 4.9          3.0         1.4          0.2         setosa \n",
              "3 4.7          3.2         1.3          0.2         setosa \n",
              "4 4.6          3.1         1.5          0.2         setosa \n",
              "5 5.0          3.6         1.4          0.2         setosa \n",
              "6 5.4          3.9         1.7          0.4         setosa "
            ]
          },
          "metadata": {}
        }
      ],
      "source": [
        "# csv separado por \"-\"\n",
        "df5 <- read.csv('./iris3.csv', sep=\"-\")\n",
        "head(df5)"
      ]
    },
    {
      "cell_type": "markdown",
      "id": "broad-pantyhose",
      "metadata": {
        "id": "broad-pantyhose"
      },
      "source": [
        "> ### read_excel()"
      ]
    },
    {
      "cell_type": "code",
      "execution_count": 10,
      "id": "divided-moore",
      "metadata": {
        "id": "divided-moore"
      },
      "outputs": [],
      "source": [
        "library(\"readxl\")"
      ]
    },
    {
      "cell_type": "markdown",
      "id": "mineral-panic",
      "metadata": {
        "id": "mineral-panic"
      },
      "source": [
        "Por defecto al leer un archivo de excel nos lee únicamente la primera hoja.\n",
        "\n",
        "> *read_excel(path, sheet = 1, col_names = TRUE, col_types = NULL, na = \"\", skip = 0)*\n",
        "\n",
        "\n",
        "**Argumentos**:\n",
        "\n",
        "- **path** : Ruta del archivo xls/xlsx\n",
        "- **sheet** : Puede ser una cadena (el nombre de una hoja), o un número entero (la posición de la hoja). Por defecto es la primera hoja.\n",
        "- **col_names** : *TRUE* para utilizar la primera fila como nombres de columnas, *FALSE* para numerar las columnas secuencialmente de *X1* a *Xn*, o bien un vector de caracteres que da un nombre a cada columna.\n",
        "- **col_types** :  O bien *NULL* para adivinar desde la hoja de cálculo o un vector de caracteres que contenga \"blank\", \"numeric\", \"date\" o \"text\".\n",
        "- **na** : Valor faltante. Por defecto, readxl convierte las celdas en blanco en datos perdidos. Establezca este valor si ha utilizado un valor centinela para los valores perdidos.\n",
        "- **skip** :  Número de filas a saltar antes de leer cualquier dato.\n",
        "\n"
      ]
    },
    {
      "cell_type": "code",
      "execution_count": 11,
      "id": "statistical-pennsylvania",
      "metadata": {
        "id": "statistical-pennsylvania",
        "outputId": "74f12af1-0987-4306-c203-f98e74f77654",
        "colab": {
          "base_uri": "https://localhost:8080/",
          "height": 286
        }
      },
      "outputs": [
        {
          "output_type": "display_data",
          "data": {
            "text/html": [
              "<table class=\"dataframe\">\n",
              "<caption>A tibble: 6 × 5</caption>\n",
              "<thead>\n",
              "\t<tr><th scope=col>Sepal.Length</th><th scope=col>Sepal.Width</th><th scope=col>Petal.Length</th><th scope=col>Petal.Width</th><th scope=col>Species</th></tr>\n",
              "\t<tr><th scope=col>&lt;dbl&gt;</th><th scope=col>&lt;dbl&gt;</th><th scope=col>&lt;dbl&gt;</th><th scope=col>&lt;dbl&gt;</th><th scope=col>&lt;chr&gt;</th></tr>\n",
              "</thead>\n",
              "<tbody>\n",
              "\t<tr><td>5.1</td><td>3.5</td><td>1.4</td><td>0.2</td><td>setosa</td></tr>\n",
              "\t<tr><td>4.9</td><td>3.0</td><td>1.4</td><td>0.2</td><td>setosa</td></tr>\n",
              "\t<tr><td>4.7</td><td>3.2</td><td>1.3</td><td>0.2</td><td>setosa</td></tr>\n",
              "\t<tr><td>4.6</td><td>3.1</td><td>1.5</td><td>0.2</td><td>setosa</td></tr>\n",
              "\t<tr><td>5.0</td><td>3.6</td><td>1.4</td><td>0.2</td><td>setosa</td></tr>\n",
              "\t<tr><td>5.4</td><td>3.9</td><td>1.7</td><td>0.4</td><td>setosa</td></tr>\n",
              "</tbody>\n",
              "</table>\n"
            ],
            "text/markdown": "\nA tibble: 6 × 5\n\n| Sepal.Length &lt;dbl&gt; | Sepal.Width &lt;dbl&gt; | Petal.Length &lt;dbl&gt; | Petal.Width &lt;dbl&gt; | Species &lt;chr&gt; |\n|---|---|---|---|---|\n| 5.1 | 3.5 | 1.4 | 0.2 | setosa |\n| 4.9 | 3.0 | 1.4 | 0.2 | setosa |\n| 4.7 | 3.2 | 1.3 | 0.2 | setosa |\n| 4.6 | 3.1 | 1.5 | 0.2 | setosa |\n| 5.0 | 3.6 | 1.4 | 0.2 | setosa |\n| 5.4 | 3.9 | 1.7 | 0.4 | setosa |\n\n",
            "text/latex": "A tibble: 6 × 5\n\\begin{tabular}{lllll}\n Sepal.Length & Sepal.Width & Petal.Length & Petal.Width & Species\\\\\n <dbl> & <dbl> & <dbl> & <dbl> & <chr>\\\\\n\\hline\n\t 5.1 & 3.5 & 1.4 & 0.2 & setosa\\\\\n\t 4.9 & 3.0 & 1.4 & 0.2 & setosa\\\\\n\t 4.7 & 3.2 & 1.3 & 0.2 & setosa\\\\\n\t 4.6 & 3.1 & 1.5 & 0.2 & setosa\\\\\n\t 5.0 & 3.6 & 1.4 & 0.2 & setosa\\\\\n\t 5.4 & 3.9 & 1.7 & 0.4 & setosa\\\\\n\\end{tabular}\n",
            "text/plain": [
              "  Sepal.Length Sepal.Width Petal.Length Petal.Width Species\n",
              "1 5.1          3.5         1.4          0.2         setosa \n",
              "2 4.9          3.0         1.4          0.2         setosa \n",
              "3 4.7          3.2         1.3          0.2         setosa \n",
              "4 4.6          3.1         1.5          0.2         setosa \n",
              "5 5.0          3.6         1.4          0.2         setosa \n",
              "6 5.4          3.9         1.7          0.4         setosa "
            ]
          },
          "metadata": {}
        }
      ],
      "source": [
        "df6 <- read_excel(\"./iris.xlsx\")\n",
        "head(df6)"
      ]
    },
    {
      "cell_type": "markdown",
      "id": "compatible-tokyo",
      "metadata": {
        "id": "compatible-tokyo"
      },
      "source": [
        "> Si deseamos consolidar todas las hojas de un archivo de excel en un único data frame, podemos emplear lo aprendido sobre programación para automatizar esa tarea."
      ]
    },
    {
      "cell_type": "code",
      "execution_count": null,
      "id": "universal-owner",
      "metadata": {
        "id": "universal-owner"
      },
      "outputs": [],
      "source": [
        "# código para consolidar varias hojas de excel en un sólo data frame\n",
        "sheets = 1:3\n",
        "\n",
        "for(i in 1:length(sheets)){\n",
        "    if(i == 1){\n",
        "        df_iris_1 <- read_excel(\"./datasets/iris.xlsx\", sheet=i)\n",
        "    }else{\n",
        "        df_iris_n <- read_excel(\"./datasets/iris.xlsx\", sheet=i)\n",
        "        df_iris_1 <- rbind(df_iris_1, df_iris_n)\n",
        "    }\n",
        "}"
      ]
    },
    {
      "cell_type": "code",
      "execution_count": null,
      "id": "threaded-values",
      "metadata": {
        "id": "threaded-values",
        "outputId": "438aecaa-8f7b-42fb-ec2b-c437264eed36"
      },
      "outputs": [
        {
          "data": {
            "text/html": [
              "<table>\n",
              "<caption>A tibble: 6 × 5</caption>\n",
              "<thead>\n",
              "\t<tr><th scope=col>Sepal.Length</th><th scope=col>Sepal.Width</th><th scope=col>Petal.Length</th><th scope=col>Petal.Width</th><th scope=col>Species</th></tr>\n",
              "\t<tr><th scope=col>&lt;dbl&gt;</th><th scope=col>&lt;dbl&gt;</th><th scope=col>&lt;dbl&gt;</th><th scope=col>&lt;dbl&gt;</th><th scope=col>&lt;chr&gt;</th></tr>\n",
              "</thead>\n",
              "<tbody>\n",
              "\t<tr><td>5.1</td><td>3.5</td><td>1.4</td><td>0.2</td><td>setosa</td></tr>\n",
              "\t<tr><td>4.9</td><td>3.0</td><td>1.4</td><td>0.2</td><td>setosa</td></tr>\n",
              "\t<tr><td>4.7</td><td>3.2</td><td>1.3</td><td>0.2</td><td>setosa</td></tr>\n",
              "\t<tr><td>4.6</td><td>3.1</td><td>1.5</td><td>0.2</td><td>setosa</td></tr>\n",
              "\t<tr><td>5.0</td><td>3.6</td><td>1.4</td><td>0.2</td><td>setosa</td></tr>\n",
              "\t<tr><td>5.4</td><td>3.9</td><td>1.7</td><td>0.4</td><td>setosa</td></tr>\n",
              "</tbody>\n",
              "</table>\n"
            ],
            "text/latex": [
              "A tibble: 6 × 5\n",
              "\\begin{tabular}{lllll}\n",
              " Sepal.Length & Sepal.Width & Petal.Length & Petal.Width & Species\\\\\n",
              " <dbl> & <dbl> & <dbl> & <dbl> & <chr>\\\\\n",
              "\\hline\n",
              "\t 5.1 & 3.5 & 1.4 & 0.2 & setosa\\\\\n",
              "\t 4.9 & 3.0 & 1.4 & 0.2 & setosa\\\\\n",
              "\t 4.7 & 3.2 & 1.3 & 0.2 & setosa\\\\\n",
              "\t 4.6 & 3.1 & 1.5 & 0.2 & setosa\\\\\n",
              "\t 5.0 & 3.6 & 1.4 & 0.2 & setosa\\\\\n",
              "\t 5.4 & 3.9 & 1.7 & 0.4 & setosa\\\\\n",
              "\\end{tabular}\n"
            ],
            "text/markdown": [
              "\n",
              "A tibble: 6 × 5\n",
              "\n",
              "| Sepal.Length &lt;dbl&gt; | Sepal.Width &lt;dbl&gt; | Petal.Length &lt;dbl&gt; | Petal.Width &lt;dbl&gt; | Species &lt;chr&gt; |\n",
              "|---|---|---|---|---|\n",
              "| 5.1 | 3.5 | 1.4 | 0.2 | setosa |\n",
              "| 4.9 | 3.0 | 1.4 | 0.2 | setosa |\n",
              "| 4.7 | 3.2 | 1.3 | 0.2 | setosa |\n",
              "| 4.6 | 3.1 | 1.5 | 0.2 | setosa |\n",
              "| 5.0 | 3.6 | 1.4 | 0.2 | setosa |\n",
              "| 5.4 | 3.9 | 1.7 | 0.4 | setosa |\n",
              "\n"
            ],
            "text/plain": [
              "  Sepal.Length Sepal.Width Petal.Length Petal.Width Species\n",
              "1 5.1          3.5         1.4          0.2         setosa \n",
              "2 4.9          3.0         1.4          0.2         setosa \n",
              "3 4.7          3.2         1.3          0.2         setosa \n",
              "4 4.6          3.1         1.5          0.2         setosa \n",
              "5 5.0          3.6         1.4          0.2         setosa \n",
              "6 5.4          3.9         1.7          0.4         setosa "
            ]
          },
          "metadata": {},
          "output_type": "display_data"
        }
      ],
      "source": [
        "head(df_iris_1)"
      ]
    },
    {
      "cell_type": "code",
      "execution_count": null,
      "id": "serious-sandwich",
      "metadata": {
        "id": "serious-sandwich",
        "outputId": "77b52664-094b-4f76-9ebe-59572f4a2689"
      },
      "outputs": [
        {
          "data": {
            "text/html": [
              "<style>\n",
              ".list-inline {list-style: none; margin:0; padding: 0}\n",
              ".list-inline>li {display: inline-block}\n",
              ".list-inline>li:not(:last-child)::after {content: \"\\00b7\"; padding: 0 .5ex}\n",
              "</style>\n",
              "<ol class=list-inline><li>150</li><li>5</li></ol>\n"
            ],
            "text/latex": [
              "\\begin{enumerate*}\n",
              "\\item 150\n",
              "\\item 5\n",
              "\\end{enumerate*}\n"
            ],
            "text/markdown": [
              "1. 150\n",
              "2. 5\n",
              "\n",
              "\n"
            ],
            "text/plain": [
              "[1] 150   5"
            ]
          },
          "metadata": {},
          "output_type": "display_data"
        }
      ],
      "source": [
        "dim(df_iris_1)"
      ]
    },
    {
      "cell_type": "markdown",
      "id": "double-bandwidth",
      "metadata": {
        "id": "double-bandwidth"
      },
      "source": [
        "# **Read from the web (Datos de COVID-19 México)**"
      ]
    },
    {
      "cell_type": "markdown",
      "id": "essential-spread",
      "metadata": {
        "id": "essential-spread"
      },
      "source": [
        "La información se encuentra disponible en la siguiente liga:  <a href=\"https://www.gob.mx/salud/documentos/datos-abiertos-152127\">https://www.gob.mx/salud/documentos/datos-abiertos-152127</a>."
      ]
    },
    {
      "cell_type": "code",
      "execution_count": 21,
      "id": "liked-graph",
      "metadata": {
        "colab": {
          "base_uri": "https://localhost:8080/",
          "height": 217
        },
        "id": "liked-graph",
        "outputId": "590d47da-f02a-46c7-e01e-a143ce6eb035"
      },
      "outputs": [
        {
          "output_type": "stream",
          "name": "stderr",
          "text": [
            "Warning message in unzip(temp):\n",
            "“zip file is corrupt”\n"
          ]
        },
        {
          "output_type": "error",
          "ename": "ERROR",
          "evalue": "ignored",
          "traceback": [
            "Error in read.table(file = file, header = header, sep = sep, quote = quote, : no lines available in input\nTraceback:\n",
            "1. read.csv(unz(temp, \"220706COVID19MEXICO.csv\"))",
            "2. read.table(file = file, header = header, sep = sep, quote = quote, \n .     dec = dec, fill = fill, comment.char = comment.char, ...)",
            "3. stop(\"no lines available in input\")"
          ]
        }
      ],
      "source": [
        "# creación de un archivo temporal\n",
        "temp <- tempfile()\n",
        "# descargar archivo .zip al archivo temporal\n",
        "download.file(\"https://datosabiertos.salud.gob.mx/gobmx/salud/datos_abiertos/datos_abiertos_covid19.zip\",temp)\n",
        "# lectura del archivo .csv deltro del .zip\n",
        "unzip(temp)\n",
        "# la siguiente linea funciona en colab\n",
        "covid_mex <- read.csv('220706COVID19MEXICO.csv')\n",
        "# la siguiente en R studio\n",
        "# list.files() # para ver en memoria el archivo descargado\n",
        "# covid_mex <- read.csv(llis_files()[1]) # el número de archivo\n",
        "# remueve archivos temporales\n",
        "unlink(temp)"
      ]
    },
    {
      "cell_type": "code",
      "execution_count": null,
      "id": "immune-nutrition",
      "metadata": {
        "id": "immune-nutrition",
        "outputId": "fc4940f3-8425-455b-cd84-379b919cf811"
      },
      "outputs": [
        {
          "data": {
            "text/html": [
              "<table>\n",
              "<caption>A data.frame: 6 × 40</caption>\n",
              "<thead>\n",
              "\t<tr><th></th><th scope=col>FECHA_ACTUALIZACION</th><th scope=col>ID_REGISTRO</th><th scope=col>ORIGEN</th><th scope=col>SECTOR</th><th scope=col>ENTIDAD_UM</th><th scope=col>SEXO</th><th scope=col>ENTIDAD_NAC</th><th scope=col>ENTIDAD_RES</th><th scope=col>MUNICIPIO_RES</th><th scope=col>TIPO_PACIENTE</th><th scope=col>...</th><th scope=col>OTRO_CASO</th><th scope=col>TOMA_MUESTRA_LAB</th><th scope=col>RESULTADO_LAB</th><th scope=col>TOMA_MUESTRA_ANTIGENO</th><th scope=col>RESULTADO_ANTIGENO</th><th scope=col>CLASIFICACION_FINAL</th><th scope=col>MIGRANTE</th><th scope=col>PAIS_NACIONALIDAD</th><th scope=col>PAIS_ORIGEN</th><th scope=col>UCI</th></tr>\n",
              "\t<tr><th></th><th scope=col>&lt;chr&gt;</th><th scope=col>&lt;chr&gt;</th><th scope=col>&lt;int&gt;</th><th scope=col>&lt;int&gt;</th><th scope=col>&lt;int&gt;</th><th scope=col>&lt;int&gt;</th><th scope=col>&lt;int&gt;</th><th scope=col>&lt;int&gt;</th><th scope=col>&lt;int&gt;</th><th scope=col>&lt;int&gt;</th><th scope=col>...</th><th scope=col>&lt;int&gt;</th><th scope=col>&lt;int&gt;</th><th scope=col>&lt;int&gt;</th><th scope=col>&lt;int&gt;</th><th scope=col>&lt;int&gt;</th><th scope=col>&lt;int&gt;</th><th scope=col>&lt;int&gt;</th><th scope=col>&lt;chr&gt;</th><th scope=col>&lt;chr&gt;</th><th scope=col>&lt;int&gt;</th></tr>\n",
              "</thead>\n",
              "<tbody>\n",
              "\t<tr><th scope=row>1</th><td>2021-07-05</td><td>z482b8</td><td>1</td><td>12</td><td> 9</td><td>2</td><td> 9</td><td> 9</td><td>12</td><td>1</td><td>...</td><td> 2</td><td>2</td><td>97</td><td>2</td><td>97</td><td>1</td><td>99</td><td>MÃ©xico</td><td>97</td><td>97</td></tr>\n",
              "\t<tr><th scope=row>2</th><td>2021-07-05</td><td>z49a69</td><td>1</td><td>12</td><td>23</td><td>1</td><td>23</td><td>23</td><td> 4</td><td>2</td><td>...</td><td> 1</td><td>2</td><td>97</td><td>2</td><td>97</td><td>2</td><td>99</td><td>MÃ©xico</td><td>97</td><td> 1</td></tr>\n",
              "\t<tr><th scope=row>3</th><td>2021-07-05</td><td>z23d9d</td><td>1</td><td>12</td><td>22</td><td>2</td><td>24</td><td>22</td><td> 9</td><td>1</td><td>...</td><td> 2</td><td>2</td><td>97</td><td>2</td><td>97</td><td>6</td><td>99</td><td>MÃ©xico</td><td>97</td><td>97</td></tr>\n",
              "\t<tr><th scope=row>4</th><td>2021-07-05</td><td>z24953</td><td>1</td><td>12</td><td> 9</td><td>1</td><td> 9</td><td> 9</td><td>10</td><td>1</td><td>...</td><td> 1</td><td>1</td><td> 2</td><td>2</td><td>97</td><td>7</td><td>99</td><td>MÃ©xico</td><td>97</td><td>97</td></tr>\n",
              "\t<tr><th scope=row>5</th><td>2021-07-05</td><td>zz8e77</td><td>1</td><td>12</td><td> 9</td><td>2</td><td> 9</td><td> 9</td><td> 2</td><td>1</td><td>...</td><td> 2</td><td>2</td><td>97</td><td>2</td><td>97</td><td>6</td><td>99</td><td>MÃ©xico</td><td>97</td><td>97</td></tr>\n",
              "\t<tr><th scope=row>6</th><td>2021-07-05</td><td>z1b0d1</td><td>1</td><td>12</td><td> 1</td><td>1</td><td> 1</td><td> 1</td><td> 3</td><td>1</td><td>...</td><td>99</td><td>1</td><td> 4</td><td>2</td><td>97</td><td>5</td><td>99</td><td>MÃ©xico</td><td>97</td><td>97</td></tr>\n",
              "</tbody>\n",
              "</table>\n"
            ],
            "text/latex": [
              "A data.frame: 6 × 40\n",
              "\\begin{tabular}{r|lllllllllllllllllllll}\n",
              "  & FECHA\\_ACTUALIZACION & ID\\_REGISTRO & ORIGEN & SECTOR & ENTIDAD\\_UM & SEXO & ENTIDAD\\_NAC & ENTIDAD\\_RES & MUNICIPIO\\_RES & TIPO\\_PACIENTE & ... & OTRO\\_CASO & TOMA\\_MUESTRA\\_LAB & RESULTADO\\_LAB & TOMA\\_MUESTRA\\_ANTIGENO & RESULTADO\\_ANTIGENO & CLASIFICACION\\_FINAL & MIGRANTE & PAIS\\_NACIONALIDAD & PAIS\\_ORIGEN & UCI\\\\\n",
              "  & <chr> & <chr> & <int> & <int> & <int> & <int> & <int> & <int> & <int> & <int> & ... & <int> & <int> & <int> & <int> & <int> & <int> & <int> & <chr> & <chr> & <int>\\\\\n",
              "\\hline\n",
              "\t1 & 2021-07-05 & z482b8 & 1 & 12 &  9 & 2 &  9 &  9 & 12 & 1 & ... &  2 & 2 & 97 & 2 & 97 & 1 & 99 & MÃ©xico & 97 & 97\\\\\n",
              "\t2 & 2021-07-05 & z49a69 & 1 & 12 & 23 & 1 & 23 & 23 &  4 & 2 & ... &  1 & 2 & 97 & 2 & 97 & 2 & 99 & MÃ©xico & 97 &  1\\\\\n",
              "\t3 & 2021-07-05 & z23d9d & 1 & 12 & 22 & 2 & 24 & 22 &  9 & 1 & ... &  2 & 2 & 97 & 2 & 97 & 6 & 99 & MÃ©xico & 97 & 97\\\\\n",
              "\t4 & 2021-07-05 & z24953 & 1 & 12 &  9 & 1 &  9 &  9 & 10 & 1 & ... &  1 & 1 &  2 & 2 & 97 & 7 & 99 & MÃ©xico & 97 & 97\\\\\n",
              "\t5 & 2021-07-05 & zz8e77 & 1 & 12 &  9 & 2 &  9 &  9 &  2 & 1 & ... &  2 & 2 & 97 & 2 & 97 & 6 & 99 & MÃ©xico & 97 & 97\\\\\n",
              "\t6 & 2021-07-05 & z1b0d1 & 1 & 12 &  1 & 1 &  1 &  1 &  3 & 1 & ... & 99 & 1 &  4 & 2 & 97 & 5 & 99 & MÃ©xico & 97 & 97\\\\\n",
              "\\end{tabular}\n"
            ],
            "text/markdown": [
              "\n",
              "A data.frame: 6 × 40\n",
              "\n",
              "| <!--/--> | FECHA_ACTUALIZACION &lt;chr&gt; | ID_REGISTRO &lt;chr&gt; | ORIGEN &lt;int&gt; | SECTOR &lt;int&gt; | ENTIDAD_UM &lt;int&gt; | SEXO &lt;int&gt; | ENTIDAD_NAC &lt;int&gt; | ENTIDAD_RES &lt;int&gt; | MUNICIPIO_RES &lt;int&gt; | TIPO_PACIENTE &lt;int&gt; | ... ... | OTRO_CASO &lt;int&gt; | TOMA_MUESTRA_LAB &lt;int&gt; | RESULTADO_LAB &lt;int&gt; | TOMA_MUESTRA_ANTIGENO &lt;int&gt; | RESULTADO_ANTIGENO &lt;int&gt; | CLASIFICACION_FINAL &lt;int&gt; | MIGRANTE &lt;int&gt; | PAIS_NACIONALIDAD &lt;chr&gt; | PAIS_ORIGEN &lt;chr&gt; | UCI &lt;int&gt; |\n",
              "|---|---|---|---|---|---|---|---|---|---|---|---|---|---|---|---|---|---|---|---|---|---|\n",
              "| 1 | 2021-07-05 | z482b8 | 1 | 12 |  9 | 2 |  9 |  9 | 12 | 1 | ... |  2 | 2 | 97 | 2 | 97 | 1 | 99 | MÃ©xico | 97 | 97 |\n",
              "| 2 | 2021-07-05 | z49a69 | 1 | 12 | 23 | 1 | 23 | 23 |  4 | 2 | ... |  1 | 2 | 97 | 2 | 97 | 2 | 99 | MÃ©xico | 97 |  1 |\n",
              "| 3 | 2021-07-05 | z23d9d | 1 | 12 | 22 | 2 | 24 | 22 |  9 | 1 | ... |  2 | 2 | 97 | 2 | 97 | 6 | 99 | MÃ©xico | 97 | 97 |\n",
              "| 4 | 2021-07-05 | z24953 | 1 | 12 |  9 | 1 |  9 |  9 | 10 | 1 | ... |  1 | 1 |  2 | 2 | 97 | 7 | 99 | MÃ©xico | 97 | 97 |\n",
              "| 5 | 2021-07-05 | zz8e77 | 1 | 12 |  9 | 2 |  9 |  9 |  2 | 1 | ... |  2 | 2 | 97 | 2 | 97 | 6 | 99 | MÃ©xico | 97 | 97 |\n",
              "| 6 | 2021-07-05 | z1b0d1 | 1 | 12 |  1 | 1 |  1 |  1 |  3 | 1 | ... | 99 | 1 |  4 | 2 | 97 | 5 | 99 | MÃ©xico | 97 | 97 |\n",
              "\n"
            ],
            "text/plain": [
              "  FECHA_ACTUALIZACION ID_REGISTRO ORIGEN SECTOR ENTIDAD_UM SEXO ENTIDAD_NAC\n",
              "1 2021-07-05          z482b8      1      12      9         2     9         \n",
              "2 2021-07-05          z49a69      1      12     23         1    23         \n",
              "3 2021-07-05          z23d9d      1      12     22         2    24         \n",
              "4 2021-07-05          z24953      1      12      9         1     9         \n",
              "5 2021-07-05          zz8e77      1      12      9         2     9         \n",
              "6 2021-07-05          z1b0d1      1      12      1         1     1         \n",
              "  ENTIDAD_RES MUNICIPIO_RES TIPO_PACIENTE ... OTRO_CASO TOMA_MUESTRA_LAB\n",
              "1  9          12            1             ...  2        2               \n",
              "2 23           4            2             ...  1        2               \n",
              "3 22           9            1             ...  2        2               \n",
              "4  9          10            1             ...  1        1               \n",
              "5  9           2            1             ...  2        2               \n",
              "6  1           3            1             ... 99        1               \n",
              "  RESULTADO_LAB TOMA_MUESTRA_ANTIGENO RESULTADO_ANTIGENO CLASIFICACION_FINAL\n",
              "1 97            2                     97                 1                  \n",
              "2 97            2                     97                 2                  \n",
              "3 97            2                     97                 6                  \n",
              "4  2            2                     97                 7                  \n",
              "5 97            2                     97                 6                  \n",
              "6  4            2                     97                 5                  \n",
              "  MIGRANTE PAIS_NACIONALIDAD PAIS_ORIGEN UCI\n",
              "1 99       MÃ©xico           97          97 \n",
              "2 99       MÃ©xico           97           1 \n",
              "3 99       MÃ©xico           97          97 \n",
              "4 99       MÃ©xico           97          97 \n",
              "5 99       MÃ©xico           97          97 \n",
              "6 99       MÃ©xico           97          97 "
            ]
          },
          "metadata": {},
          "output_type": "display_data"
        }
      ],
      "source": [
        "head(covid_mex)"
      ]
    },
    {
      "cell_type": "markdown",
      "source": [
        "# **Enfermedades Febriles Exantemáticas**"
      ],
      "metadata": {
        "id": "H767VQc_tdBu"
      },
      "id": "H767VQc_tdBu"
    },
    {
      "cell_type": "code",
      "execution_count": 23,
      "id": "satisfied-peoples",
      "metadata": {
        "id": "satisfied-peoples"
      },
      "outputs": [],
      "source": [
        "# creación de un archivo temporal\n",
        "temp <- tempfile()\n",
        "# descarga de archivo .zip\n",
        "download.file(\"https://datosabiertos.salud.gob.mx/gobmx/salud/datos_abiertos/efe/datos_abiertos_efe.zip\",temp)\n",
        "# lectura del archivo .csv deltro del .zip\n",
        "\n",
        "unzip(temp)\n"
      ]
    },
    {
      "cell_type": "code",
      "source": [
        "ef <- read.csv('20220704_Base DA_EFEs.csv')\n",
        "head(ef)"
      ],
      "metadata": {
        "colab": {
          "base_uri": "https://localhost:8080/",
          "height": 306
        },
        "id": "KM2goIu0uDub",
        "outputId": "410f1c38-b3a6-4b45-aac7-629205607499"
      },
      "id": "KM2goIu0uDub",
      "execution_count": 24,
      "outputs": [
        {
          "output_type": "display_data",
          "data": {
            "text/html": [
              "<table class=\"dataframe\">\n",
              "<caption>A data.frame: 6 × 22</caption>\n",
              "<thead>\n",
              "\t<tr><th></th><th scope=col>FECHA_ACTUALIZACION</th><th scope=col>ID_REGISTRO</th><th scope=col>EDAD_ANOS</th><th scope=col>EDAD_MESES</th><th scope=col>EDAD_DIAS</th><th scope=col>SEXO</th><th scope=col>HABLA_LENGUA_INDIG</th><th scope=col>INDIGENA</th><th scope=col>ENTIDAD_UM_NOTIF</th><th scope=col>MUNICIPIO_UM_NOTIF</th><th scope=col>⋯</th><th scope=col>INSTITUCION_NOTIF</th><th scope=col>VACUNACION</th><th scope=col>EXANTEMA</th><th scope=col>FIEBRE</th><th scope=col>COMPLICACIONES</th><th scope=col>DEFUNCION</th><th scope=col>DIAGNOSTICO</th><th scope=col>CRITERIO_DIAGNOSTICO</th><th scope=col>FECHA_DIAGNOSTICO</th><th scope=col>ORIGEN_CASO</th></tr>\n",
              "\t<tr><th></th><th scope=col>&lt;chr&gt;</th><th scope=col>&lt;int&gt;</th><th scope=col>&lt;int&gt;</th><th scope=col>&lt;int&gt;</th><th scope=col>&lt;int&gt;</th><th scope=col>&lt;int&gt;</th><th scope=col>&lt;int&gt;</th><th scope=col>&lt;int&gt;</th><th scope=col>&lt;int&gt;</th><th scope=col>&lt;int&gt;</th><th scope=col>⋯</th><th scope=col>&lt;int&gt;</th><th scope=col>&lt;int&gt;</th><th scope=col>&lt;int&gt;</th><th scope=col>&lt;int&gt;</th><th scope=col>&lt;int&gt;</th><th scope=col>&lt;int&gt;</th><th scope=col>&lt;int&gt;</th><th scope=col>&lt;int&gt;</th><th scope=col>&lt;chr&gt;</th><th scope=col>&lt;int&gt;</th></tr>\n",
              "</thead>\n",
              "<tbody>\n",
              "\t<tr><th scope=row>1</th><td>28/06/2022</td><td>22186</td><td>4</td><td> 6</td><td>21</td><td>2</td><td>2</td><td>2</td><td>12</td><td>29</td><td>⋯</td><td>12</td><td>1</td><td>1</td><td>1</td><td>2</td><td>2</td><td>3</td><td>2</td><td>10/01/2022</td><td>5</td></tr>\n",
              "\t<tr><th scope=row>2</th><td>28/06/2022</td><td>22187</td><td>0</td><td>11</td><td>10</td><td>2</td><td>2</td><td>2</td><td>19</td><td>21</td><td>⋯</td><td>12</td><td>2</td><td>1</td><td>1</td><td>2</td><td>2</td><td>3</td><td>2</td><td>06/01/2022</td><td>5</td></tr>\n",
              "\t<tr><th scope=row>3</th><td>28/06/2022</td><td>22189</td><td>8</td><td> 2</td><td>22</td><td>2</td><td>2</td><td>2</td><td>19</td><td>46</td><td>⋯</td><td>12</td><td>1</td><td>1</td><td>1</td><td>2</td><td>2</td><td>3</td><td>2</td><td>06/01/2022</td><td>5</td></tr>\n",
              "\t<tr><th scope=row>4</th><td>28/06/2022</td><td>22190</td><td>0</td><td>11</td><td>19</td><td>1</td><td>2</td><td>2</td><td>18</td><td>17</td><td>⋯</td><td> 4</td><td>2</td><td>1</td><td>1</td><td>2</td><td>2</td><td>3</td><td>1</td><td>07/03/2022</td><td>5</td></tr>\n",
              "\t<tr><th scope=row>5</th><td>28/06/2022</td><td>22191</td><td>1</td><td> 0</td><td>27</td><td>2</td><td>2</td><td>2</td><td>25</td><td>12</td><td>⋯</td><td> 4</td><td>2</td><td>1</td><td>1</td><td>2</td><td>2</td><td>3</td><td>1</td><td>18/05/2022</td><td>5</td></tr>\n",
              "\t<tr><th scope=row>6</th><td>28/06/2022</td><td>22192</td><td>0</td><td> 7</td><td>24</td><td>2</td><td>2</td><td>2</td><td> 9</td><td> 5</td><td>⋯</td><td>12</td><td>2</td><td>1</td><td>1</td><td>2</td><td>2</td><td>3</td><td>2</td><td>11/01/2022</td><td>5</td></tr>\n",
              "</tbody>\n",
              "</table>\n"
            ],
            "text/markdown": "\nA data.frame: 6 × 22\n\n| <!--/--> | FECHA_ACTUALIZACION &lt;chr&gt; | ID_REGISTRO &lt;int&gt; | EDAD_ANOS &lt;int&gt; | EDAD_MESES &lt;int&gt; | EDAD_DIAS &lt;int&gt; | SEXO &lt;int&gt; | HABLA_LENGUA_INDIG &lt;int&gt; | INDIGENA &lt;int&gt; | ENTIDAD_UM_NOTIF &lt;int&gt; | MUNICIPIO_UM_NOTIF &lt;int&gt; | ⋯ ⋯ | INSTITUCION_NOTIF &lt;int&gt; | VACUNACION &lt;int&gt; | EXANTEMA &lt;int&gt; | FIEBRE &lt;int&gt; | COMPLICACIONES &lt;int&gt; | DEFUNCION &lt;int&gt; | DIAGNOSTICO &lt;int&gt; | CRITERIO_DIAGNOSTICO &lt;int&gt; | FECHA_DIAGNOSTICO &lt;chr&gt; | ORIGEN_CASO &lt;int&gt; |\n|---|---|---|---|---|---|---|---|---|---|---|---|---|---|---|---|---|---|---|---|---|---|\n| 1 | 28/06/2022 | 22186 | 4 |  6 | 21 | 2 | 2 | 2 | 12 | 29 | ⋯ | 12 | 1 | 1 | 1 | 2 | 2 | 3 | 2 | 10/01/2022 | 5 |\n| 2 | 28/06/2022 | 22187 | 0 | 11 | 10 | 2 | 2 | 2 | 19 | 21 | ⋯ | 12 | 2 | 1 | 1 | 2 | 2 | 3 | 2 | 06/01/2022 | 5 |\n| 3 | 28/06/2022 | 22189 | 8 |  2 | 22 | 2 | 2 | 2 | 19 | 46 | ⋯ | 12 | 1 | 1 | 1 | 2 | 2 | 3 | 2 | 06/01/2022 | 5 |\n| 4 | 28/06/2022 | 22190 | 0 | 11 | 19 | 1 | 2 | 2 | 18 | 17 | ⋯ |  4 | 2 | 1 | 1 | 2 | 2 | 3 | 1 | 07/03/2022 | 5 |\n| 5 | 28/06/2022 | 22191 | 1 |  0 | 27 | 2 | 2 | 2 | 25 | 12 | ⋯ |  4 | 2 | 1 | 1 | 2 | 2 | 3 | 1 | 18/05/2022 | 5 |\n| 6 | 28/06/2022 | 22192 | 0 |  7 | 24 | 2 | 2 | 2 |  9 |  5 | ⋯ | 12 | 2 | 1 | 1 | 2 | 2 | 3 | 2 | 11/01/2022 | 5 |\n\n",
            "text/latex": "A data.frame: 6 × 22\n\\begin{tabular}{r|lllllllllllllllllllll}\n  & FECHA\\_ACTUALIZACION & ID\\_REGISTRO & EDAD\\_ANOS & EDAD\\_MESES & EDAD\\_DIAS & SEXO & HABLA\\_LENGUA\\_INDIG & INDIGENA & ENTIDAD\\_UM\\_NOTIF & MUNICIPIO\\_UM\\_NOTIF & ⋯ & INSTITUCION\\_NOTIF & VACUNACION & EXANTEMA & FIEBRE & COMPLICACIONES & DEFUNCION & DIAGNOSTICO & CRITERIO\\_DIAGNOSTICO & FECHA\\_DIAGNOSTICO & ORIGEN\\_CASO\\\\\n  & <chr> & <int> & <int> & <int> & <int> & <int> & <int> & <int> & <int> & <int> & ⋯ & <int> & <int> & <int> & <int> & <int> & <int> & <int> & <int> & <chr> & <int>\\\\\n\\hline\n\t1 & 28/06/2022 & 22186 & 4 &  6 & 21 & 2 & 2 & 2 & 12 & 29 & ⋯ & 12 & 1 & 1 & 1 & 2 & 2 & 3 & 2 & 10/01/2022 & 5\\\\\n\t2 & 28/06/2022 & 22187 & 0 & 11 & 10 & 2 & 2 & 2 & 19 & 21 & ⋯ & 12 & 2 & 1 & 1 & 2 & 2 & 3 & 2 & 06/01/2022 & 5\\\\\n\t3 & 28/06/2022 & 22189 & 8 &  2 & 22 & 2 & 2 & 2 & 19 & 46 & ⋯ & 12 & 1 & 1 & 1 & 2 & 2 & 3 & 2 & 06/01/2022 & 5\\\\\n\t4 & 28/06/2022 & 22190 & 0 & 11 & 19 & 1 & 2 & 2 & 18 & 17 & ⋯ &  4 & 2 & 1 & 1 & 2 & 2 & 3 & 1 & 07/03/2022 & 5\\\\\n\t5 & 28/06/2022 & 22191 & 1 &  0 & 27 & 2 & 2 & 2 & 25 & 12 & ⋯ &  4 & 2 & 1 & 1 & 2 & 2 & 3 & 1 & 18/05/2022 & 5\\\\\n\t6 & 28/06/2022 & 22192 & 0 &  7 & 24 & 2 & 2 & 2 &  9 &  5 & ⋯ & 12 & 2 & 1 & 1 & 2 & 2 & 3 & 2 & 11/01/2022 & 5\\\\\n\\end{tabular}\n",
            "text/plain": [
              "  FECHA_ACTUALIZACION ID_REGISTRO EDAD_ANOS EDAD_MESES EDAD_DIAS SEXO\n",
              "1 28/06/2022          22186       4          6         21        2   \n",
              "2 28/06/2022          22187       0         11         10        2   \n",
              "3 28/06/2022          22189       8          2         22        2   \n",
              "4 28/06/2022          22190       0         11         19        1   \n",
              "5 28/06/2022          22191       1          0         27        2   \n",
              "6 28/06/2022          22192       0          7         24        2   \n",
              "  HABLA_LENGUA_INDIG INDIGENA ENTIDAD_UM_NOTIF MUNICIPIO_UM_NOTIF ⋯\n",
              "1 2                  2        12               29                 ⋯\n",
              "2 2                  2        19               21                 ⋯\n",
              "3 2                  2        19               46                 ⋯\n",
              "4 2                  2        18               17                 ⋯\n",
              "5 2                  2        25               12                 ⋯\n",
              "6 2                  2         9                5                 ⋯\n",
              "  INSTITUCION_NOTIF VACUNACION EXANTEMA FIEBRE COMPLICACIONES DEFUNCION\n",
              "1 12                1          1        1      2              2        \n",
              "2 12                2          1        1      2              2        \n",
              "3 12                1          1        1      2              2        \n",
              "4  4                2          1        1      2              2        \n",
              "5  4                2          1        1      2              2        \n",
              "6 12                2          1        1      2              2        \n",
              "  DIAGNOSTICO CRITERIO_DIAGNOSTICO FECHA_DIAGNOSTICO ORIGEN_CASO\n",
              "1 3           2                    10/01/2022        5          \n",
              "2 3           2                    06/01/2022        5          \n",
              "3 3           2                    06/01/2022        5          \n",
              "4 3           1                    07/03/2022        5          \n",
              "5 3           1                    18/05/2022        5          \n",
              "6 3           2                    11/01/2022        5          "
            ]
          },
          "metadata": {}
        }
      ]
    },
    {
      "cell_type": "markdown",
      "source": [
        "# **Extraer tablas de la web**\n",
        "\n",
        "\n",
        "Para mostrar un ejemplo vamos a considerar la página web del [Ranking de centros de investigación en México](https://research.webometrics.info/es/Latin_America_es/M%C3%A9xico). "
      ],
      "metadata": {
        "id": "jKZKFm4Q7-yr"
      },
      "id": "jKZKFm4Q7-yr"
    },
    {
      "cell_type": "code",
      "source": [
        "library(xml2)\n",
        "library(rvest)"
      ],
      "metadata": {
        "id": "Xlajic2M72bh"
      },
      "id": "Xlajic2M72bh",
      "execution_count": 25,
      "outputs": []
    },
    {
      "cell_type": "code",
      "source": [
        "\n",
        "url <- \"https://research.webometrics.info/es/Latin_America_es/M%C3%A9xico\" \n",
        "page <- read_html(url) \n",
        "page"
      ],
      "metadata": {
        "colab": {
          "base_uri": "https://localhost:8080/",
          "height": 138
        },
        "id": "rD6PQs-A7r4Q",
        "outputId": "8319ae7a-4e5d-4817-fe03-639a192c3329"
      },
      "id": "rD6PQs-A7r4Q",
      "execution_count": 32,
      "outputs": [
        {
          "output_type": "display_data",
          "data": {
            "text/plain": [
              "{html_document}\n",
              "<html xmlns=\"http://www.w3.org/1999/xhtml\" xml:lang=\"es\" version=\"XHTML+RDFa 1.0\" dir=\"ltr\" xmlns:content=\"http://purl.org/rss/1.0/modules/content/\" xmlns:dc=\"http://purl.org/dc/terms/\" xmlns:foaf=\"http://xmlns.com/foaf/0.1/\" xmlns:og=\"http://ogp.me/ns#\" xmlns:rdfs=\"http://www.w3.org/2000/01/rdf-schema#\" xmlns:sioc=\"http://rdfs.org/sioc/ns#\" xmlns:sioct=\"http://rdfs.org/sioc/types#\" xmlns:skos=\"http://www.w3.org/2004/02/skos/core#\" xmlns:xsd=\"http://www.w3.org/2001/XMLSchema#\">\n",
              "[1] <head profile=\"http://www.w3.org/1999/xhtml/vocab\">\\n<!--start head secti ...\n",
              "[2] <body class=\"marinelli html not-front not-logged-in one-sidebar sidebar-f ..."
            ]
          },
          "metadata": {}
        }
      ]
    },
    {
      "cell_type": "code",
      "source": [
        "table <- html_table(page, fill = TRUE) \n",
        "head(table)"
      ],
      "metadata": {
        "colab": {
          "base_uri": "https://localhost:8080/",
          "height": 1000
        },
        "id": "pO3EM_qj8yGy",
        "outputId": "ab8dc2f6-4990-4fbf-bc2f-a34f6674e2e4"
      },
      "id": "pO3EM_qj8yGy",
      "execution_count": 33,
      "outputs": [
        {
          "output_type": "display_data",
          "data": {
            "text/html": [
              "<ol>\n",
              "\t<li><table class=\"dataframe\">\n",
              "<caption>A tibble: 52 × 7</caption>\n",
              "<thead>\n",
              "\t<tr><th scope=col>ranking</th><th scope=col>World Rank</th><th scope=col>Instituto</th><th scope=col>Tamaño</th><th scope=col>Visibilidad</th><th scope=col>Fich. Ricos</th><th scope=col>scholar</th></tr>\n",
              "\t<tr><th scope=col>&lt;int&gt;</th><th scope=col>&lt;int&gt;</th><th scope=col>&lt;chr&gt;</th><th scope=col>&lt;int&gt;</th><th scope=col>&lt;int&gt;</th><th scope=col>&lt;int&gt;</th><th scope=col>&lt;int&gt;</th></tr>\n",
              "</thead>\n",
              "<tbody>\n",
              "\t<tr><td> 1</td><td> 118</td><td>Centro de Investigación y de Estudios Avanzados del IPN CINVESTAV                           </td><td> 389</td><td> 366</td><td>  76</td><td> 157</td></tr>\n",
              "\t<tr><td> 2</td><td> 370</td><td>Instituto Nacional de Salud Pública                                                         </td><td>1027</td><td> 857</td><td> 306</td><td> 616</td></tr>\n",
              "\t<tr><td> 3</td><td> 398</td><td>Consejo Nacional de Ciencia y Tecnología CONACYT México                                     </td><td> 582</td><td> 551</td><td>2538</td><td> 137</td></tr>\n",
              "\t<tr><td> 4</td><td> 677</td><td>Centro Internacional de Mejoramiento de Maíz y Trigo                                        </td><td> 527</td><td> 482</td><td>2538</td><td> 782</td></tr>\n",
              "\t<tr><td> 5</td><td> 720</td><td>Centro de Investigación y Docencia Económicas CONACYT                                       </td><td> 999</td><td> 897</td><td> 740</td><td>1740</td></tr>\n",
              "\t<tr><td> 6</td><td> 891</td><td>Colegio de la Frontera Sur CONACYT                                                          </td><td> 472</td><td>1625</td><td> 372</td><td>1873</td></tr>\n",
              "\t<tr><td> 7</td><td> 913</td><td>El Colegio de México                                                                        </td><td> 196</td><td> 447</td><td> 611</td><td>3076</td></tr>\n",
              "\t<tr><td> 8</td><td> 951</td><td>Instituto Nacional de Investigaciones Forestales, Agrícolas y Pecuarias                     </td><td> 404</td><td>1743</td><td> 844</td><td>1765</td></tr>\n",
              "\t<tr><td> 9</td><td> 951</td><td>Centro de Investigación Científica y de Educación Superior de Ensenada CONACYT              </td><td>2580</td><td>1956</td><td>1455</td><td>1227</td></tr>\n",
              "\t<tr><td>10</td><td> 966</td><td>Centro de Investigación en Matemáticas CONACYT                                              </td><td> 876</td><td>1377</td><td> 841</td><td>2027</td></tr>\n",
              "\t<tr><td>11</td><td> 976</td><td>Centro de Investigación en Alimentación y Desarrollo CONACYT                                </td><td>1953</td><td>2217</td><td> 386</td><td>1605</td></tr>\n",
              "\t<tr><td>12</td><td>1006</td><td>Instituto Potosino de Investigación Científica CONACYT                                      </td><td>1658</td><td>2749</td><td> 556</td><td>1314</td></tr>\n",
              "\t<tr><td>13</td><td>1017</td><td>Centro de Investigaciones en Óptica CONACYT                                                 </td><td>1675</td><td>2534</td><td> 511</td><td>1501</td></tr>\n",
              "\t<tr><td>14</td><td>1160</td><td>Centro de Investigación Científica de Yucatán CONACYT                                       </td><td>1751</td><td>2402</td><td> 544</td><td>1873</td></tr>\n",
              "\t<tr><td>15</td><td>1250</td><td>Centro de Investigación en Materiales Avanzados CONACYT                                     </td><td>1735</td><td>2879</td><td> 698</td><td>1786</td></tr>\n",
              "\t<tr><td>16</td><td>1365</td><td>Instituto Nacional de Cardiología Ignacio Chávez                                            </td><td>3541</td><td>3939</td><td> 836</td><td>1419</td></tr>\n",
              "\t<tr><td>17</td><td>1369</td><td>Colegio de la Frontera Norte CONACYT                                                        </td><td> 995</td><td>1441</td><td> 885</td><td>2919</td></tr>\n",
              "\t<tr><td>18</td><td>1552</td><td>Instituto de Ecología CONACYT                                                               </td><td>2159</td><td>2404</td><td>2538</td><td>1351</td></tr>\n",
              "\t<tr><td>19</td><td>1571</td><td>Instituto de Seguridad y Servicios Sociales de los Trabajadores del Estado                  </td><td>1200</td><td>1703</td><td>2362</td><td>2431</td></tr>\n",
              "\t<tr><td>20</td><td>1643</td><td>Instituto Nacional de Ciencias Médicas y Nutrición Salvador Zubirán                         </td><td>4309</td><td>6153</td><td> 639</td><td> 868</td></tr>\n",
              "\t<tr><td>21</td><td>1744</td><td>Centro de Investigaciones y Estudios Superiores en Antropología Social CONACYT              </td><td>1458</td><td>1531</td><td>1106</td><td>3316</td></tr>\n",
              "\t<tr><td>22</td><td>1907</td><td>Instituto Nacional de Astrofísica, Óptica y Electrónica CONACYT                             </td><td>1007</td><td> 949</td><td> 331</td><td>3879</td></tr>\n",
              "\t<tr><td>23</td><td>1995</td><td>Centro de Investigación y Desarrollo Tecnológico en Electroquímica CONACYT                  </td><td>3668</td><td>4135</td><td>1505</td><td>2339</td></tr>\n",
              "\t<tr><td>24</td><td>2002</td><td>Colegio de Michoacán CONACYT                                                                </td><td>1204</td><td>2503</td><td>1801</td><td>3076</td></tr>\n",
              "\t<tr><td>25</td><td>2297</td><td>Centro de Investigaciones Biológicas del Noroeste CONACYT                                   </td><td>2373</td><td>3582</td><td>2538</td><td>2002</td></tr>\n",
              "\t<tr><td>26</td><td>2590</td><td>Colegio de San Luis CONACYT                                                                 </td><td>1458</td><td>1699</td><td>2136</td><td>3660</td></tr>\n",
              "\t<tr><td>27</td><td>2666</td><td>Instituto Latinoamericano de la Comunicación Educativa                                      </td><td> 449</td><td> 589</td><td>2538</td><td>3879</td></tr>\n",
              "\t<tr><td>28</td><td>2724</td><td>Centro de Innovación Aplicada en Tecnologías Competitivas CONACYT                           </td><td>5455</td><td>3418</td><td>2465</td><td>2867</td></tr>\n",
              "\t<tr><td>29</td><td>2725</td><td>Centro de Investigación en Química Aplicada CONACYT                                         </td><td>3447</td><td>3673</td><td>2538</td><td>2460</td></tr>\n",
              "\t<tr><td>30</td><td>2734</td><td>Hospital Infantil de México Federico Gómez                                                  </td><td>4527</td><td>5107</td><td>2538</td><td>1701</td></tr>\n",
              "\t<tr><td>31</td><td>3110</td><td>El Colegio Nacional                                                                         </td><td>4060</td><td>3760</td><td>2538</td><td>2782</td></tr>\n",
              "\t<tr><td>32</td><td>3116</td><td>Instituto de Investigaciones Dr José María Luis Mora CONACYT                                </td><td>1170</td><td>2625</td><td>2206</td><td>3660</td></tr>\n",
              "\t<tr><td>33</td><td>3327</td><td>Centro Geo Centro de Investigación en Geografía y Geomática Ingeniero Jorge L Tamayo CONACYT</td><td>2284</td><td>3901</td><td>2489</td><td>3191</td></tr>\n",
              "\t<tr><td>34</td><td>3454</td><td>Centro de Tecnología Avanzada CONACYT                                                       </td><td>1893</td><td>3319</td><td>2220</td><td>3660</td></tr>\n",
              "\t<tr><td>35</td><td>3840</td><td>Hospital Civil de Guadalajara                                                               </td><td>1377</td><td>6692</td><td>2538</td><td>2064</td></tr>\n",
              "\t<tr><td>36</td><td>4191</td><td>Centro de Investigación para el Desarrollo                                                  </td><td>2126</td><td>2341</td><td>2538</td><td>3879</td></tr>\n",
              "\t<tr><td>37</td><td>4269</td><td>Hospital Dr Luis Sanchez Bulnes Asociación para Evitar la Ceguera en México                 </td><td>6979</td><td>5511</td><td>2538</td><td>2919</td></tr>\n",
              "\t<tr><td>38</td><td>4367</td><td>Instituto de Biotecnología de la UNAM                                                       </td><td>1475</td><td>5758</td><td> 261</td><td>3879</td></tr>\n",
              "\t<tr><td>39</td><td>4627</td><td>Fondo de Información y Documentación para la Industria CONACYT                              </td><td>4787</td><td>2844</td><td>2538</td><td>3879</td></tr>\n",
              "\t<tr><td>40</td><td>4736</td><td>Centro de Investigacion y Desarrollo CARSO                                                  </td><td>2651</td><td>3178</td><td>2538</td><td>3879</td></tr>\n",
              "\t<tr><td>41</td><td>4987</td><td>Fondo para el Desarrollo de Recursos Humanos CONACYT                                        </td><td>6111</td><td>3267</td><td>2538</td><td>3879</td></tr>\n",
              "\t<tr><td>42</td><td>5045</td><td>Instituto Nacional de Enfermedades Respiratorias                                            </td><td>7870</td><td>5451</td><td>1095</td><td>3879</td></tr>\n",
              "\t<tr><td>43</td><td>5085</td><td>Instituto de Ciencias Nucleares de la UNAM                                                  </td><td>2144</td><td>6505</td><td> 383</td><td>3879</td></tr>\n",
              "\t<tr><td>44</td><td>5376</td><td>Centro de Estudios Mexicanos y Centroamericanos                                             </td><td>4442</td><td>3956</td><td>2538</td><td>3879</td></tr>\n",
              "\t<tr><td>45</td><td>5562</td><td>Third World Centre for Water Management                                                     </td><td>5555</td><td>4147</td><td>2538</td><td>3879</td></tr>\n",
              "\t<tr><td>46</td><td>5761</td><td>Instituto de Investigaciones Biomédicas de la UNAM                                          </td><td>4760</td><td>6802</td><td> 823</td><td>3879</td></tr>\n",
              "\t<tr><td>47</td><td>5849</td><td>Clínica Ruiz                                                                                </td><td>7954</td><td>5797</td><td>2538</td><td>3410</td></tr>\n",
              "\t<tr><td>48</td><td>5946</td><td>Instituto Nacional de Cancerología                                                          </td><td>3110</td><td>4898</td><td>2538</td><td>3879</td></tr>\n",
              "\t<tr><td>49</td><td>6310</td><td>Centro de Investigación y Asistencia en Tecnología y Diseño del Estado de Jalisco CONACYT   </td><td>4969</td><td>5311</td><td>2538</td><td>3879</td></tr>\n",
              "\t<tr><td>50</td><td>6328</td><td>Instituto de Química de la UNAM                                                             </td><td>1978</td><td>6830</td><td>2069</td><td>3879</td></tr>\n",
              "\t<tr><td>51</td><td>6572</td><td>Instituto de Investigaciones Sociales de la UNAM                                            </td><td>1999</td><td>5886</td><td>2538</td><td>3879</td></tr>\n",
              "\t<tr><td>52</td><td>6974</td><td>Corporación Mexicana de Investigación en Materiales CONACYT                                 </td><td>7551</td><td>7081</td><td>2255</td><td>3879</td></tr>\n",
              "</tbody>\n",
              "</table>\n",
              "</li>\n",
              "</ol>\n"
            ],
            "text/markdown": "1. \nA tibble: 52 × 7\n\n| ranking &lt;int&gt; | World Rank &lt;int&gt; | Instituto &lt;chr&gt; | Tamaño &lt;int&gt; | Visibilidad &lt;int&gt; | Fich. Ricos &lt;int&gt; | scholar &lt;int&gt; |\n|---|---|---|---|---|---|---|\n|  1 |  118 | Centro de Investigación y de Estudios Avanzados del IPN CINVESTAV                            |  389 |  366 |   76 |  157 |\n|  2 |  370 | Instituto Nacional de Salud Pública                                                          | 1027 |  857 |  306 |  616 |\n|  3 |  398 | Consejo Nacional de Ciencia y Tecnología CONACYT México                                      |  582 |  551 | 2538 |  137 |\n|  4 |  677 | Centro Internacional de Mejoramiento de Maíz y Trigo                                         |  527 |  482 | 2538 |  782 |\n|  5 |  720 | Centro de Investigación y Docencia Económicas CONACYT                                        |  999 |  897 |  740 | 1740 |\n|  6 |  891 | Colegio de la Frontera Sur CONACYT                                                           |  472 | 1625 |  372 | 1873 |\n|  7 |  913 | El Colegio de México                                                                         |  196 |  447 |  611 | 3076 |\n|  8 |  951 | Instituto Nacional de Investigaciones Forestales, Agrícolas y Pecuarias                      |  404 | 1743 |  844 | 1765 |\n|  9 |  951 | Centro de Investigación Científica y de Educación Superior de Ensenada CONACYT               | 2580 | 1956 | 1455 | 1227 |\n| 10 |  966 | Centro de Investigación en Matemáticas CONACYT                                               |  876 | 1377 |  841 | 2027 |\n| 11 |  976 | Centro de Investigación en Alimentación y Desarrollo CONACYT                                 | 1953 | 2217 |  386 | 1605 |\n| 12 | 1006 | Instituto Potosino de Investigación Científica CONACYT                                       | 1658 | 2749 |  556 | 1314 |\n| 13 | 1017 | Centro de Investigaciones en Óptica CONACYT                                                  | 1675 | 2534 |  511 | 1501 |\n| 14 | 1160 | Centro de Investigación Científica de Yucatán CONACYT                                        | 1751 | 2402 |  544 | 1873 |\n| 15 | 1250 | Centro de Investigación en Materiales Avanzados CONACYT                                      | 1735 | 2879 |  698 | 1786 |\n| 16 | 1365 | Instituto Nacional de Cardiología Ignacio Chávez                                             | 3541 | 3939 |  836 | 1419 |\n| 17 | 1369 | Colegio de la Frontera Norte CONACYT                                                         |  995 | 1441 |  885 | 2919 |\n| 18 | 1552 | Instituto de Ecología CONACYT                                                                | 2159 | 2404 | 2538 | 1351 |\n| 19 | 1571 | Instituto de Seguridad y Servicios Sociales de los Trabajadores del Estado                   | 1200 | 1703 | 2362 | 2431 |\n| 20 | 1643 | Instituto Nacional de Ciencias Médicas y Nutrición Salvador Zubirán                          | 4309 | 6153 |  639 |  868 |\n| 21 | 1744 | Centro de Investigaciones y Estudios Superiores en Antropología Social CONACYT               | 1458 | 1531 | 1106 | 3316 |\n| 22 | 1907 | Instituto Nacional de Astrofísica, Óptica y Electrónica CONACYT                              | 1007 |  949 |  331 | 3879 |\n| 23 | 1995 | Centro de Investigación y Desarrollo Tecnológico en Electroquímica CONACYT                   | 3668 | 4135 | 1505 | 2339 |\n| 24 | 2002 | Colegio de Michoacán CONACYT                                                                 | 1204 | 2503 | 1801 | 3076 |\n| 25 | 2297 | Centro de Investigaciones Biológicas del Noroeste CONACYT                                    | 2373 | 3582 | 2538 | 2002 |\n| 26 | 2590 | Colegio de San Luis CONACYT                                                                  | 1458 | 1699 | 2136 | 3660 |\n| 27 | 2666 | Instituto Latinoamericano de la Comunicación Educativa                                       |  449 |  589 | 2538 | 3879 |\n| 28 | 2724 | Centro de Innovación Aplicada en Tecnologías Competitivas CONACYT                            | 5455 | 3418 | 2465 | 2867 |\n| 29 | 2725 | Centro de Investigación en Química Aplicada CONACYT                                          | 3447 | 3673 | 2538 | 2460 |\n| 30 | 2734 | Hospital Infantil de México Federico Gómez                                                   | 4527 | 5107 | 2538 | 1701 |\n| 31 | 3110 | El Colegio Nacional                                                                          | 4060 | 3760 | 2538 | 2782 |\n| 32 | 3116 | Instituto de Investigaciones Dr José María Luis Mora CONACYT                                 | 1170 | 2625 | 2206 | 3660 |\n| 33 | 3327 | Centro Geo Centro de Investigación en Geografía y Geomática Ingeniero Jorge L Tamayo CONACYT | 2284 | 3901 | 2489 | 3191 |\n| 34 | 3454 | Centro de Tecnología Avanzada CONACYT                                                        | 1893 | 3319 | 2220 | 3660 |\n| 35 | 3840 | Hospital Civil de Guadalajara                                                                | 1377 | 6692 | 2538 | 2064 |\n| 36 | 4191 | Centro de Investigación para el Desarrollo                                                   | 2126 | 2341 | 2538 | 3879 |\n| 37 | 4269 | Hospital Dr Luis Sanchez Bulnes Asociación para Evitar la Ceguera en México                  | 6979 | 5511 | 2538 | 2919 |\n| 38 | 4367 | Instituto de Biotecnología de la UNAM                                                        | 1475 | 5758 |  261 | 3879 |\n| 39 | 4627 | Fondo de Información y Documentación para la Industria CONACYT                               | 4787 | 2844 | 2538 | 3879 |\n| 40 | 4736 | Centro de Investigacion y Desarrollo CARSO                                                   | 2651 | 3178 | 2538 | 3879 |\n| 41 | 4987 | Fondo para el Desarrollo de Recursos Humanos CONACYT                                         | 6111 | 3267 | 2538 | 3879 |\n| 42 | 5045 | Instituto Nacional de Enfermedades Respiratorias                                             | 7870 | 5451 | 1095 | 3879 |\n| 43 | 5085 | Instituto de Ciencias Nucleares de la UNAM                                                   | 2144 | 6505 |  383 | 3879 |\n| 44 | 5376 | Centro de Estudios Mexicanos y Centroamericanos                                              | 4442 | 3956 | 2538 | 3879 |\n| 45 | 5562 | Third World Centre for Water Management                                                      | 5555 | 4147 | 2538 | 3879 |\n| 46 | 5761 | Instituto de Investigaciones Biomédicas de la UNAM                                           | 4760 | 6802 |  823 | 3879 |\n| 47 | 5849 | Clínica Ruiz                                                                                 | 7954 | 5797 | 2538 | 3410 |\n| 48 | 5946 | Instituto Nacional de Cancerología                                                           | 3110 | 4898 | 2538 | 3879 |\n| 49 | 6310 | Centro de Investigación y Asistencia en Tecnología y Diseño del Estado de Jalisco CONACYT    | 4969 | 5311 | 2538 | 3879 |\n| 50 | 6328 | Instituto de Química de la UNAM                                                              | 1978 | 6830 | 2069 | 3879 |\n| 51 | 6572 | Instituto de Investigaciones Sociales de la UNAM                                             | 1999 | 5886 | 2538 | 3879 |\n| 52 | 6974 | Corporación Mexicana de Investigación en Materiales CONACYT                                  | 7551 | 7081 | 2255 | 3879 |\n\n\n\n\n",
            "text/latex": "\\begin{enumerate}\n\\item A tibble: 52 × 7\n\\begin{tabular}{lllllll}\n ranking & World Rank & Instituto & Tamaño & Visibilidad & Fich. Ricos & scholar\\\\\n <int> & <int> & <chr> & <int> & <int> & <int> & <int>\\\\\n\\hline\n\t  1 &  118 & Centro de Investigación y de Estudios Avanzados del IPN CINVESTAV                            &  389 &  366 &   76 &  157\\\\\n\t  2 &  370 & Instituto Nacional de Salud Pública                                                          & 1027 &  857 &  306 &  616\\\\\n\t  3 &  398 & Consejo Nacional de Ciencia y Tecnología CONACYT México                                      &  582 &  551 & 2538 &  137\\\\\n\t  4 &  677 & Centro Internacional de Mejoramiento de Maíz y Trigo                                         &  527 &  482 & 2538 &  782\\\\\n\t  5 &  720 & Centro de Investigación y Docencia Económicas CONACYT                                        &  999 &  897 &  740 & 1740\\\\\n\t  6 &  891 & Colegio de la Frontera Sur CONACYT                                                           &  472 & 1625 &  372 & 1873\\\\\n\t  7 &  913 & El Colegio de México                                                                         &  196 &  447 &  611 & 3076\\\\\n\t  8 &  951 & Instituto Nacional de Investigaciones Forestales, Agrícolas y Pecuarias                      &  404 & 1743 &  844 & 1765\\\\\n\t  9 &  951 & Centro de Investigación Científica y de Educación Superior de Ensenada CONACYT               & 2580 & 1956 & 1455 & 1227\\\\\n\t 10 &  966 & Centro de Investigación en Matemáticas CONACYT                                               &  876 & 1377 &  841 & 2027\\\\\n\t 11 &  976 & Centro de Investigación en Alimentación y Desarrollo CONACYT                                 & 1953 & 2217 &  386 & 1605\\\\\n\t 12 & 1006 & Instituto Potosino de Investigación Científica CONACYT                                       & 1658 & 2749 &  556 & 1314\\\\\n\t 13 & 1017 & Centro de Investigaciones en Óptica CONACYT                                                  & 1675 & 2534 &  511 & 1501\\\\\n\t 14 & 1160 & Centro de Investigación Científica de Yucatán CONACYT                                        & 1751 & 2402 &  544 & 1873\\\\\n\t 15 & 1250 & Centro de Investigación en Materiales Avanzados CONACYT                                      & 1735 & 2879 &  698 & 1786\\\\\n\t 16 & 1365 & Instituto Nacional de Cardiología Ignacio Chávez                                             & 3541 & 3939 &  836 & 1419\\\\\n\t 17 & 1369 & Colegio de la Frontera Norte CONACYT                                                         &  995 & 1441 &  885 & 2919\\\\\n\t 18 & 1552 & Instituto de Ecología CONACYT                                                                & 2159 & 2404 & 2538 & 1351\\\\\n\t 19 & 1571 & Instituto de Seguridad y Servicios Sociales de los Trabajadores del Estado                   & 1200 & 1703 & 2362 & 2431\\\\\n\t 20 & 1643 & Instituto Nacional de Ciencias Médicas y Nutrición Salvador Zubirán                          & 4309 & 6153 &  639 &  868\\\\\n\t 21 & 1744 & Centro de Investigaciones y Estudios Superiores en Antropología Social CONACYT               & 1458 & 1531 & 1106 & 3316\\\\\n\t 22 & 1907 & Instituto Nacional de Astrofísica, Óptica y Electrónica CONACYT                              & 1007 &  949 &  331 & 3879\\\\\n\t 23 & 1995 & Centro de Investigación y Desarrollo Tecnológico en Electroquímica CONACYT                   & 3668 & 4135 & 1505 & 2339\\\\\n\t 24 & 2002 & Colegio de Michoacán CONACYT                                                                 & 1204 & 2503 & 1801 & 3076\\\\\n\t 25 & 2297 & Centro de Investigaciones Biológicas del Noroeste CONACYT                                    & 2373 & 3582 & 2538 & 2002\\\\\n\t 26 & 2590 & Colegio de San Luis CONACYT                                                                  & 1458 & 1699 & 2136 & 3660\\\\\n\t 27 & 2666 & Instituto Latinoamericano de la Comunicación Educativa                                       &  449 &  589 & 2538 & 3879\\\\\n\t 28 & 2724 & Centro de Innovación Aplicada en Tecnologías Competitivas CONACYT                            & 5455 & 3418 & 2465 & 2867\\\\\n\t 29 & 2725 & Centro de Investigación en Química Aplicada CONACYT                                          & 3447 & 3673 & 2538 & 2460\\\\\n\t 30 & 2734 & Hospital Infantil de México Federico Gómez                                                   & 4527 & 5107 & 2538 & 1701\\\\\n\t 31 & 3110 & El Colegio Nacional                                                                          & 4060 & 3760 & 2538 & 2782\\\\\n\t 32 & 3116 & Instituto de Investigaciones Dr José María Luis Mora CONACYT                                 & 1170 & 2625 & 2206 & 3660\\\\\n\t 33 & 3327 & Centro Geo Centro de Investigación en Geografía y Geomática Ingeniero Jorge L Tamayo CONACYT & 2284 & 3901 & 2489 & 3191\\\\\n\t 34 & 3454 & Centro de Tecnología Avanzada CONACYT                                                        & 1893 & 3319 & 2220 & 3660\\\\\n\t 35 & 3840 & Hospital Civil de Guadalajara                                                                & 1377 & 6692 & 2538 & 2064\\\\\n\t 36 & 4191 & Centro de Investigación para el Desarrollo                                                   & 2126 & 2341 & 2538 & 3879\\\\\n\t 37 & 4269 & Hospital Dr Luis Sanchez Bulnes Asociación para Evitar la Ceguera en México                  & 6979 & 5511 & 2538 & 2919\\\\\n\t 38 & 4367 & Instituto de Biotecnología de la UNAM                                                        & 1475 & 5758 &  261 & 3879\\\\\n\t 39 & 4627 & Fondo de Información y Documentación para la Industria CONACYT                               & 4787 & 2844 & 2538 & 3879\\\\\n\t 40 & 4736 & Centro de Investigacion y Desarrollo CARSO                                                   & 2651 & 3178 & 2538 & 3879\\\\\n\t 41 & 4987 & Fondo para el Desarrollo de Recursos Humanos CONACYT                                         & 6111 & 3267 & 2538 & 3879\\\\\n\t 42 & 5045 & Instituto Nacional de Enfermedades Respiratorias                                             & 7870 & 5451 & 1095 & 3879\\\\\n\t 43 & 5085 & Instituto de Ciencias Nucleares de la UNAM                                                   & 2144 & 6505 &  383 & 3879\\\\\n\t 44 & 5376 & Centro de Estudios Mexicanos y Centroamericanos                                              & 4442 & 3956 & 2538 & 3879\\\\\n\t 45 & 5562 & Third World Centre for Water Management                                                      & 5555 & 4147 & 2538 & 3879\\\\\n\t 46 & 5761 & Instituto de Investigaciones Biomédicas de la UNAM                                           & 4760 & 6802 &  823 & 3879\\\\\n\t 47 & 5849 & Clínica Ruiz                                                                                 & 7954 & 5797 & 2538 & 3410\\\\\n\t 48 & 5946 & Instituto Nacional de Cancerología                                                           & 3110 & 4898 & 2538 & 3879\\\\\n\t 49 & 6310 & Centro de Investigación y Asistencia en Tecnología y Diseño del Estado de Jalisco CONACYT    & 4969 & 5311 & 2538 & 3879\\\\\n\t 50 & 6328 & Instituto de Química de la UNAM                                                              & 1978 & 6830 & 2069 & 3879\\\\\n\t 51 & 6572 & Instituto de Investigaciones Sociales de la UNAM                                             & 1999 & 5886 & 2538 & 3879\\\\\n\t 52 & 6974 & Corporación Mexicana de Investigación en Materiales CONACYT                                  & 7551 & 7081 & 2255 & 3879\\\\\n\\end{tabular}\n\n\\end{enumerate}\n",
            "text/plain": [
              "[[1]]\n",
              "\u001b[90m# A tibble: 52 × 7\u001b[39m\n",
              "   ranking `World Rank` Instituto       Tamaño Visibilidad `Fich. Ricos` scholar\n",
              "     \u001b[3m\u001b[90m<int>\u001b[39m\u001b[23m        \u001b[3m\u001b[90m<int>\u001b[39m\u001b[23m \u001b[3m\u001b[90m<chr>\u001b[39m\u001b[23m            \u001b[3m\u001b[90m<int>\u001b[39m\u001b[23m       \u001b[3m\u001b[90m<int>\u001b[39m\u001b[23m         \u001b[3m\u001b[90m<int>\u001b[39m\u001b[23m   \u001b[3m\u001b[90m<int>\u001b[39m\u001b[23m\n",
              "\u001b[90m 1\u001b[39m       1          118 Centro de Inve…    389         366            76     157\n",
              "\u001b[90m 2\u001b[39m       2          370 Instituto Naci…   \u001b[4m1\u001b[24m027         857           306     616\n",
              "\u001b[90m 3\u001b[39m       3          398 Consejo Nacion…    582         551          \u001b[4m2\u001b[24m538     137\n",
              "\u001b[90m 4\u001b[39m       4          677 Centro Interna…    527         482          \u001b[4m2\u001b[24m538     782\n",
              "\u001b[90m 5\u001b[39m       5          720 Centro de Inve…    999         897           740    \u001b[4m1\u001b[24m740\n",
              "\u001b[90m 6\u001b[39m       6          891 Colegio de la …    472        \u001b[4m1\u001b[24m625           372    \u001b[4m1\u001b[24m873\n",
              "\u001b[90m 7\u001b[39m       7          913 El Colegio de …    196         447           611    \u001b[4m3\u001b[24m076\n",
              "\u001b[90m 8\u001b[39m       8          951 Instituto Naci…    404        \u001b[4m1\u001b[24m743           844    \u001b[4m1\u001b[24m765\n",
              "\u001b[90m 9\u001b[39m       9          951 Centro de Inve…   \u001b[4m2\u001b[24m580        \u001b[4m1\u001b[24m956          \u001b[4m1\u001b[24m455    \u001b[4m1\u001b[24m227\n",
              "\u001b[90m10\u001b[39m      10          966 Centro de Inve…    876        \u001b[4m1\u001b[24m377           841    \u001b[4m2\u001b[24m027\n",
              "\u001b[90m# … with 42 more rows\u001b[39m\n"
            ]
          },
          "metadata": {}
        }
      ]
    },
    {
      "cell_type": "markdown",
      "source": [
        "# **Leer una tabla de un archivo pdf**"
      ],
      "metadata": {
        "id": "2JjYd0oQ_hOq"
      },
      "id": "2JjYd0oQ_hOq"
    },
    {
      "cell_type": "code",
      "source": [
        "install.packages(\"rJava\")\n",
        "library(rJava) # load and attach 'rJava' now\n",
        "install.packages(\"devtools\")\n",
        "devtools::install_github(\"ropensci/tabulizer\", args=\"--no-multiarch\")"
      ],
      "metadata": {
        "colab": {
          "base_uri": "https://localhost:8080/"
        },
        "id": "3dD0BgpdA2vC",
        "outputId": "d9d7b194-e15d-4109-b8e0-296f7f2ddd12"
      },
      "id": "3dD0BgpdA2vC",
      "execution_count": 45,
      "outputs": [
        {
          "output_type": "stream",
          "name": "stderr",
          "text": [
            "Installing package into ‘/usr/local/lib/R/site-library’\n",
            "(as ‘lib’ is unspecified)\n",
            "\n",
            "Installing package into ‘/usr/local/lib/R/site-library’\n",
            "(as ‘lib’ is unspecified)\n",
            "\n",
            "Downloading GitHub repo ropensci/tabulizer@HEAD\n",
            "\n"
          ]
        },
        {
          "output_type": "stream",
          "name": "stdout",
          "text": [
            "tabulizer... (NA -> d1924e01d...) [GitHub]\n",
            "png          (NA -> 0.1-7       ) [CRAN]\n"
          ]
        },
        {
          "output_type": "stream",
          "name": "stderr",
          "text": [
            "Downloading GitHub repo ropensci/tabulizerjars@HEAD\n",
            "\n"
          ]
        },
        {
          "output_type": "stream",
          "name": "stdout",
          "text": [
            "\n",
            "* checking for file ‘/tmp/RtmpFK39qH/remotes388aba240/ropensci-tabulizerjars-d1924e0/DESCRIPTION’ ... OK\n",
            "* preparing ‘tabulizerjars’:\n",
            "* checking DESCRIPTION meta-information ... OK\n",
            "* checking for LF line-endings in source and make files and shell scripts\n",
            "* checking for empty or unneeded directories\n",
            "* building ‘tabulizerjars_1.0.1.tar.gz’\n",
            "\n"
          ]
        },
        {
          "output_type": "stream",
          "name": "stderr",
          "text": [
            "Installing package into ‘/usr/local/lib/R/site-library’\n",
            "(as ‘lib’ is unspecified)\n",
            "\n",
            "Installing 1 packages: png\n",
            "\n",
            "Installing package into ‘/usr/local/lib/R/site-library’\n",
            "(as ‘lib’ is unspecified)\n",
            "\n",
            "Skipping install of 'tabulizerjars' from a github remote, the SHA1 (d1924e01) has not changed since last install.\n",
            "  Use `force = TRUE` to force installation\n",
            "\n"
          ]
        },
        {
          "output_type": "stream",
          "name": "stdout",
          "text": [
            "* checking for file ‘/tmp/RtmpFK39qH/remotes38365804eb/ropensci-tabulizer-3049a79/DESCRIPTION’ ... OK\n",
            "* preparing ‘tabulizer’:\n",
            "* checking DESCRIPTION meta-information ... OK\n",
            "* checking for LF line-endings in source and make files and shell scripts\n",
            "* checking for empty or unneeded directories\n",
            "Removed empty directory ‘tabulizer/docs’\n",
            "* building ‘tabulizer_0.2.2.tar.gz’\n",
            "\n"
          ]
        },
        {
          "output_type": "stream",
          "name": "stderr",
          "text": [
            "Installing package into ‘/usr/local/lib/R/site-library’\n",
            "(as ‘lib’ is unspecified)\n",
            "\n"
          ]
        }
      ]
    },
    {
      "cell_type": "code",
      "source": [
        "library('tabulizer')\n",
        "library('dplyr')\n",
        "library('tidyr')\n",
        "library('stringr')"
      ],
      "metadata": {
        "id": "8tAceLjW_G8l"
      },
      "id": "8tAceLjW_G8l",
      "execution_count": 46,
      "outputs": []
    },
    {
      "cell_type": "code",
      "source": [
        "# Read JCR_2021\n",
        "file <- extract_tables(\"./JCR_2021.pdf\",\n",
        "             output = \"data.frame\",\n",
        "             pages = 3:264,\n",
        "             method = \"stream\")"
      ],
      "metadata": {
        "id": "2suIuVvSAAJg"
      },
      "id": "2suIuVvSAAJg",
      "execution_count": 47,
      "outputs": []
    },
    {
      "cell_type": "code",
      "source": [
        "head(file[[3]])"
      ],
      "metadata": {
        "colab": {
          "base_uri": "https://localhost:8080/",
          "height": 286
        },
        "id": "ZFH53gQLB1b3",
        "outputId": "7fe28879-d97c-436f-8a23-51da505a0cc1"
      },
      "id": "ZFH53gQLB1b3",
      "execution_count": 52,
      "outputs": [
        {
          "output_type": "display_data",
          "data": {
            "text/html": [
              "<table class=\"dataframe\">\n",
              "<caption>A data.frame: 6 × 5</caption>\n",
              "<thead>\n",
              "\t<tr><th></th><th scope=col>X147</th><th scope=col>DIABETES.CARE</th><th scope=col>X85.997</th><th scope=col>X19.112</th><th scope=col>X0.084100</th></tr>\n",
              "\t<tr><th></th><th scope=col>&lt;int&gt;</th><th scope=col>&lt;chr&gt;</th><th scope=col>&lt;chr&gt;</th><th scope=col>&lt;dbl&gt;</th><th scope=col>&lt;dbl&gt;</th></tr>\n",
              "</thead>\n",
              "<tbody>\n",
              "\t<tr><th scope=row>1</th><td>148</td><td>ANNALS OF THE RHEUMATIC DISEASES    </td><td>58,006 </td><td>19.103</td><td>0.06443</td></tr>\n",
              "\t<tr><th scope=row>2</th><td>149</td><td>Lancet Haematology                  </td><td>5,140  </td><td>18.959</td><td>0.01502</td></tr>\n",
              "\t<tr><th scope=row>3</th><td>150</td><td>ADVANCED FUNCTIONAL MATERIALS       </td><td>151,020</td><td>18.808</td><td>0.20645</td></tr>\n",
              "\t<tr><th scope=row>4</th><td>151</td><td>Annual Review of Clinical Psychology</td><td>8,484  </td><td>18.561</td><td>0.00895</td></tr>\n",
              "\t<tr><th scope=row>5</th><td>151</td><td>Annual Review of Clinical Psychology</td><td>8,484  </td><td>18.561</td><td>0.00895</td></tr>\n",
              "\t<tr><th scope=row>6</th><td>153</td><td>Annual Review of Fluid Mechanics    </td><td>14,688 </td><td>18.511</td><td>0.00895</td></tr>\n",
              "</tbody>\n",
              "</table>\n"
            ],
            "text/markdown": "\nA data.frame: 6 × 5\n\n| <!--/--> | X147 &lt;int&gt; | DIABETES.CARE &lt;chr&gt; | X85.997 &lt;chr&gt; | X19.112 &lt;dbl&gt; | X0.084100 &lt;dbl&gt; |\n|---|---|---|---|---|---|\n| 1 | 148 | ANNALS OF THE RHEUMATIC DISEASES     | 58,006  | 19.103 | 0.06443 |\n| 2 | 149 | Lancet Haematology                   | 5,140   | 18.959 | 0.01502 |\n| 3 | 150 | ADVANCED FUNCTIONAL MATERIALS        | 151,020 | 18.808 | 0.20645 |\n| 4 | 151 | Annual Review of Clinical Psychology | 8,484   | 18.561 | 0.00895 |\n| 5 | 151 | Annual Review of Clinical Psychology | 8,484   | 18.561 | 0.00895 |\n| 6 | 153 | Annual Review of Fluid Mechanics     | 14,688  | 18.511 | 0.00895 |\n\n",
            "text/latex": "A data.frame: 6 × 5\n\\begin{tabular}{r|lllll}\n  & X147 & DIABETES.CARE & X85.997 & X19.112 & X0.084100\\\\\n  & <int> & <chr> & <chr> & <dbl> & <dbl>\\\\\n\\hline\n\t1 & 148 & ANNALS OF THE RHEUMATIC DISEASES     & 58,006  & 19.103 & 0.06443\\\\\n\t2 & 149 & Lancet Haematology                   & 5,140   & 18.959 & 0.01502\\\\\n\t3 & 150 & ADVANCED FUNCTIONAL MATERIALS        & 151,020 & 18.808 & 0.20645\\\\\n\t4 & 151 & Annual Review of Clinical Psychology & 8,484   & 18.561 & 0.00895\\\\\n\t5 & 151 & Annual Review of Clinical Psychology & 8,484   & 18.561 & 0.00895\\\\\n\t6 & 153 & Annual Review of Fluid Mechanics     & 14,688  & 18.511 & 0.00895\\\\\n\\end{tabular}\n",
            "text/plain": [
              "  X147 DIABETES.CARE                        X85.997 X19.112 X0.084100\n",
              "1 148  ANNALS OF THE RHEUMATIC DISEASES     58,006  19.103  0.06443  \n",
              "2 149  Lancet Haematology                   5,140   18.959  0.01502  \n",
              "3 150  ADVANCED FUNCTIONAL MATERIALS        151,020 18.808  0.20645  \n",
              "4 151  Annual Review of Clinical Psychology 8,484   18.561  0.00895  \n",
              "5 151  Annual Review of Clinical Psychology 8,484   18.561  0.00895  \n",
              "6 153  Annual Review of Fluid Mechanics     14,688  18.511  0.00895  "
            ]
          },
          "metadata": {}
        }
      ]
    },
    {
      "cell_type": "code",
      "source": [
        "n <- length(file)\n",
        "#completed <- NULL\n",
        "for(i in 1:n){\n",
        "    colnames(file[[i]]) <- c(\"n\", \"Journal\", \"Total Cites\", \"Impact Factor\", \"Eigenfactor Score\" )\n",
        "    #completed <- rbind(completed, file[[i]])\n",
        "}\n",
        "head(file[[i]])"
      ],
      "metadata": {
        "colab": {
          "base_uri": "https://localhost:8080/",
          "height": 286
        },
        "id": "NnqQ4RqGBvxq",
        "outputId": "487bea90-f856-46e4-d3c3-fb8c4b63f9e1"
      },
      "id": "NnqQ4RqGBvxq",
      "execution_count": 54,
      "outputs": [
        {
          "output_type": "display_data",
          "data": {
            "text/html": [
              "<table class=\"dataframe\">\n",
              "<caption>A data.frame: 6 × 5</caption>\n",
              "<thead>\n",
              "\t<tr><th></th><th scope=col>n</th><th scope=col>Journal</th><th scope=col>Total Cites</th><th scope=col>Impact Factor</th><th scope=col>Eigenfactor Score</th></tr>\n",
              "\t<tr><th></th><th scope=col>&lt;int&gt;</th><th scope=col>&lt;chr&gt;</th><th scope=col>&lt;chr&gt;</th><th scope=col>&lt;chr&gt;</th><th scope=col>&lt;dbl&gt;</th></tr>\n",
              "</thead>\n",
              "<tbody>\n",
              "\t<tr><th scope=row>1</th><td>12968</td><td>ZKG INTERNATIONAL                                     </td><td>111</td><td>0.064</td><td>1e-05</td></tr>\n",
              "\t<tr><th scope=row>2</th><td>12969</td><td>JOURNAL OF ENGINEERING TECHNOLOGY                     </td><td>32 </td><td>0.059</td><td>1e-05</td></tr>\n",
              "\t<tr><th scope=row>3</th><td>   NA</td><td>International Journal of Pediatric Otorhinolaryngology</td><td>   </td><td>     </td><td>   NA</td></tr>\n",
              "\t<tr><th scope=row>4</th><td>12970</td><td>Case Reports                                          </td><td>1  </td><td>0.056</td><td>0e+00</td></tr>\n",
              "\t<tr><th scope=row>5</th><td>12970</td><td>SECURITIES REGULATION LAW JOURNAL                     </td><td>13 </td><td>0.056</td><td>0e+00</td></tr>\n",
              "\t<tr><th scope=row>6</th><td>12972</td><td>Tydskrif Vir Geesteswetenskappe                       </td><td>79 </td><td>0.053</td><td>9e-05</td></tr>\n",
              "</tbody>\n",
              "</table>\n"
            ],
            "text/markdown": "\nA data.frame: 6 × 5\n\n| <!--/--> | n &lt;int&gt; | Journal &lt;chr&gt; | Total Cites &lt;chr&gt; | Impact Factor &lt;chr&gt; | Eigenfactor Score &lt;dbl&gt; |\n|---|---|---|---|---|---|\n| 1 | 12968 | ZKG INTERNATIONAL                                      | 111 | 0.064 | 1e-05 |\n| 2 | 12969 | JOURNAL OF ENGINEERING TECHNOLOGY                      | 32  | 0.059 | 1e-05 |\n| 3 |    NA | International Journal of Pediatric Otorhinolaryngology | <!----> | <!----> |    NA |\n| 4 | 12970 | Case Reports                                           | 1   | 0.056 | 0e+00 |\n| 5 | 12970 | SECURITIES REGULATION LAW JOURNAL                      | 13  | 0.056 | 0e+00 |\n| 6 | 12972 | Tydskrif Vir Geesteswetenskappe                        | 79  | 0.053 | 9e-05 |\n\n",
            "text/latex": "A data.frame: 6 × 5\n\\begin{tabular}{r|lllll}\n  & n & Journal & Total Cites & Impact Factor & Eigenfactor Score\\\\\n  & <int> & <chr> & <chr> & <chr> & <dbl>\\\\\n\\hline\n\t1 & 12968 & ZKG INTERNATIONAL                                      & 111 & 0.064 & 1e-05\\\\\n\t2 & 12969 & JOURNAL OF ENGINEERING TECHNOLOGY                      & 32  & 0.059 & 1e-05\\\\\n\t3 &    NA & International Journal of Pediatric Otorhinolaryngology &     &       &    NA\\\\\n\t4 & 12970 & Case Reports                                           & 1   & 0.056 & 0e+00\\\\\n\t5 & 12970 & SECURITIES REGULATION LAW JOURNAL                      & 13  & 0.056 & 0e+00\\\\\n\t6 & 12972 & Tydskrif Vir Geesteswetenskappe                        & 79  & 0.053 & 9e-05\\\\\n\\end{tabular}\n",
            "text/plain": [
              "  n     Journal                                                Total Cites\n",
              "1 12968 ZKG INTERNATIONAL                                      111        \n",
              "2 12969 JOURNAL OF ENGINEERING TECHNOLOGY                      32         \n",
              "3    NA International Journal of Pediatric Otorhinolaryngology            \n",
              "4 12970 Case Reports                                           1          \n",
              "5 12970 SECURITIES REGULATION LAW JOURNAL                      13         \n",
              "6 12972 Tydskrif Vir Geesteswetenskappe                        79         \n",
              "  Impact Factor Eigenfactor Score\n",
              "1 0.064         1e-05            \n",
              "2 0.059         1e-05            \n",
              "3                  NA            \n",
              "4 0.056         0e+00            \n",
              "5 0.056         0e+00            \n",
              "6 0.053         9e-05            "
            ]
          },
          "metadata": {}
        }
      ]
    },
    {
      "cell_type": "code",
      "source": [
        "full_df <- do.call('rbind', file)\n",
        "head(full_df)\n"
      ],
      "metadata": {
        "colab": {
          "base_uri": "https://localhost:8080/",
          "height": 286
        },
        "id": "hGbTvRSmEHyZ",
        "outputId": "645b5ab6-6312-4698-9384-cf7e4ae8b3d1"
      },
      "id": "hGbTvRSmEHyZ",
      "execution_count": 56,
      "outputs": [
        {
          "output_type": "display_data",
          "data": {
            "text/html": [
              "<table class=\"dataframe\">\n",
              "<caption>A data.frame: 6 × 5</caption>\n",
              "<thead>\n",
              "\t<tr><th></th><th scope=col>n</th><th scope=col>Journal</th><th scope=col>Total Cites</th><th scope=col>Impact Factor</th><th scope=col>Eigenfactor Score</th></tr>\n",
              "\t<tr><th></th><th scope=col>&lt;int&gt;</th><th scope=col>&lt;chr&gt;</th><th scope=col>&lt;chr&gt;</th><th scope=col>&lt;chr&gt;</th><th scope=col>&lt;dbl&gt;</th></tr>\n",
              "</thead>\n",
              "<tbody>\n",
              "\t<tr><th scope=row>1</th><td>NA</td><td>MATERIALS SCIENCE &amp; ENGINEERING R-</td><td><span style=white-space:pre-wrap>      </span></td><td><span style=white-space:pre-wrap>NA    </span></td><td><span style=white-space:pre-wrap>     NA</span></td></tr>\n",
              "\t<tr><th scope=row>2</th><td>46</td><td>REPORTS                           </td><td>8,652 </td><td>36.214</td><td>0.00477</td></tr>\n",
              "\t<tr><th scope=row>3</th><td>47</td><td>NATURE REVIEWS NEUROSCIENCE       </td><td>49,897</td><td>34.87 </td><td>0.04889</td></tr>\n",
              "\t<tr><th scope=row>4</th><td>48</td><td>Nature Reviews Chemistry          </td><td>5,750 </td><td>34.035</td><td>0.01752</td></tr>\n",
              "\t<tr><th scope=row>5</th><td>49</td><td>Nature Electronics                </td><td>4,455 </td><td>33.686</td><td>0.01448</td></tr>\n",
              "\t<tr><th scope=row>6</th><td>50</td><td>ANNALS OF ONCOLOGY                </td><td>61,542</td><td>32.976</td><td>0.11718</td></tr>\n",
              "</tbody>\n",
              "</table>\n"
            ],
            "text/markdown": "\nA data.frame: 6 × 5\n\n| <!--/--> | n &lt;int&gt; | Journal &lt;chr&gt; | Total Cites &lt;chr&gt; | Impact Factor &lt;chr&gt; | Eigenfactor Score &lt;dbl&gt; |\n|---|---|---|---|---|---|\n| 1 | NA | MATERIALS SCIENCE &amp; ENGINEERING R- | <!----> | NA     |      NA |\n| 2 | 46 | REPORTS                            | 8,652  | 36.214 | 0.00477 |\n| 3 | 47 | NATURE REVIEWS NEUROSCIENCE        | 49,897 | 34.87  | 0.04889 |\n| 4 | 48 | Nature Reviews Chemistry           | 5,750  | 34.035 | 0.01752 |\n| 5 | 49 | Nature Electronics                 | 4,455  | 33.686 | 0.01448 |\n| 6 | 50 | ANNALS OF ONCOLOGY                 | 61,542 | 32.976 | 0.11718 |\n\n",
            "text/latex": "A data.frame: 6 × 5\n\\begin{tabular}{r|lllll}\n  & n & Journal & Total Cites & Impact Factor & Eigenfactor Score\\\\\n  & <int> & <chr> & <chr> & <chr> & <dbl>\\\\\n\\hline\n\t1 & NA & MATERIALS SCIENCE \\& ENGINEERING R- &        & NA     &      NA\\\\\n\t2 & 46 & REPORTS                            & 8,652  & 36.214 & 0.00477\\\\\n\t3 & 47 & NATURE REVIEWS NEUROSCIENCE        & 49,897 & 34.87  & 0.04889\\\\\n\t4 & 48 & Nature Reviews Chemistry           & 5,750  & 34.035 & 0.01752\\\\\n\t5 & 49 & Nature Electronics                 & 4,455  & 33.686 & 0.01448\\\\\n\t6 & 50 & ANNALS OF ONCOLOGY                 & 61,542 & 32.976 & 0.11718\\\\\n\\end{tabular}\n",
            "text/plain": [
              "  n  Journal                            Total Cites Impact Factor\n",
              "1 NA MATERIALS SCIENCE & ENGINEERING R-             NA           \n",
              "2 46 REPORTS                            8,652       36.214       \n",
              "3 47 NATURE REVIEWS NEUROSCIENCE        49,897      34.87        \n",
              "4 48 Nature Reviews Chemistry           5,750       34.035       \n",
              "5 49 Nature Electronics                 4,455       33.686       \n",
              "6 50 ANNALS OF ONCOLOGY                 61,542      32.976       \n",
              "  Eigenfactor Score\n",
              "1      NA          \n",
              "2 0.00477          \n",
              "3 0.04889          \n",
              "4 0.01752          \n",
              "5 0.01448          \n",
              "6 0.11718          "
            ]
          },
          "metadata": {}
        }
      ]
    },
    {
      "cell_type": "code",
      "source": [
        "dim(full_df)"
      ],
      "metadata": {
        "colab": {
          "base_uri": "https://localhost:8080/",
          "height": 34
        },
        "id": "SYbhXhqqEp_0",
        "outputId": "915cacda-00a1-4557-8593-b2e6196fe990"
      },
      "id": "SYbhXhqqEp_0",
      "execution_count": 58,
      "outputs": [
        {
          "output_type": "display_data",
          "data": {
            "text/html": [
              "<style>\n",
              ".list-inline {list-style: none; margin:0; padding: 0}\n",
              ".list-inline>li {display: inline-block}\n",
              ".list-inline>li:not(:last-child)::after {content: \"\\00b7\"; padding: 0 .5ex}\n",
              "</style>\n",
              "<ol class=list-inline><li>15177</li><li>5</li></ol>\n"
            ],
            "text/markdown": "1. 15177\n2. 5\n\n\n",
            "text/latex": "\\begin{enumerate*}\n\\item 15177\n\\item 5\n\\end{enumerate*}\n",
            "text/plain": [
              "[1] 15177     5"
            ]
          },
          "metadata": {}
        }
      ]
    },
    {
      "cell_type": "code",
      "source": [
        "# para guardar el archivo\n",
        "write.csv(full_df, \"JCR_2021.csv\")"
      ],
      "metadata": {
        "id": "c0jjz1J8Fm-6"
      },
      "id": "c0jjz1J8Fm-6",
      "execution_count": 59,
      "outputs": []
    }
  ],
  "metadata": {
    "kernelspec": {
      "display_name": "R",
      "language": "R",
      "name": "ir"
    },
    "language_info": {
      "codemirror_mode": "r",
      "file_extension": ".r",
      "mimetype": "text/x-r-source",
      "name": "R",
      "pygments_lexer": "r",
      "version": "4.0.4"
    },
    "colab": {
      "name": "5.- Lectura de datos.ipynb",
      "provenance": [],
      "collapsed_sections": [],
      "include_colab_link": true
    }
  },
  "nbformat": 4,
  "nbformat_minor": 5
}