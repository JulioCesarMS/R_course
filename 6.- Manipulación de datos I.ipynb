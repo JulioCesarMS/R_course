{
  "cells": [
    {
      "cell_type": "markdown",
      "metadata": {
        "id": "view-in-github",
        "colab_type": "text"
      },
      "source": [
        "<a href=\"https://colab.research.google.com/github/JulioCesarMS/R_course/blob/master/6.-%20Manipulaci%C3%B3n%20de%20datos%20I.ipynb\" target=\"_parent\"><img src=\"https://colab.research.google.com/assets/colab-badge.svg\" alt=\"Open In Colab\"/></a>"
      ]
    },
    {
      "cell_type": "markdown",
      "id": "naughty-detector",
      "metadata": {
        "id": "naughty-detector"
      },
      "source": [
        "# <center> **Manipulación de datos I**\n"
      ]
    },
    {
      "cell_type": "markdown",
      "source": [
        "**dplyr** es una gramática de la manipulación de datos, que proporciona un conjunto coherente de verbos que ayudan a resolver los retos más comunes de manipulación de datos:"
      ],
      "metadata": {
        "id": "LPf5lFD6RjGj"
      },
      "id": "LPf5lFD6RjGj"
    },
    {
      "cell_type": "markdown",
      "id": "congressional-fireplace",
      "metadata": {
        "id": "congressional-fireplace"
      },
      "source": [
        "- **%>%**      : Operador pip\n",
        "- **select()**  : nos sirve para seleccionar variables.\n",
        "- **filter()**  : nos sirve para seleccionar filas dada una expresión lógica.\n",
        "- **arrange()** : nos sirve para ordenar valors de una (varias) varible(s) de forma ascendente o descendente.\n",
        "- **mutate()**  : nos sirve para crear o modificar nuevas variables a partir de variables existente."
      ]
    },
    {
      "cell_type": "code",
      "source": [
        "library('dplyr')"
      ],
      "metadata": {
        "id": "x2zhde2OSO0q"
      },
      "id": "x2zhde2OSO0q",
      "execution_count": 5,
      "outputs": []
    },
    {
      "cell_type": "markdown",
      "source": [
        "![select.png](data:image/png;base64,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)"
      ],
      "metadata": {
        "id": "jzDcOLeUnHHh"
      },
      "id": "jzDcOLeUnHHh"
    },
    {
      "cell_type": "markdown",
      "id": "provincial-hybrid",
      "metadata": {
        "id": "provincial-hybrid"
      },
      "source": [
        "# **select()**\n",
        "\n",
        "> **select(data, ...)** : Función para seleccionar variable(s) (columna(s)) de un data frame. Dentro de está función se pueden emplear funciones auxiliares como:\n",
        "> - starts_with() : comianza con un prefijo.\n",
        "> - ends_with() : termina con un sufijo.\n",
        "> - contains() : contiene una cadena.\n",
        "> - num_range(prefix, range) : Coincide con un rango numérico por ejemplo: x01, x02, x03.\n",
        "> - where() : aplica una función a todas las variables y seleecciona aquellas que cumplen el clriterio. Por ejemplo : where(is.numeric)\n",
        "> - everything() : coincide con todas las variables."
      ]
    },
    {
      "cell_type": "markdown",
      "source": [
        "## Ejemplo:"
      ],
      "metadata": {
        "id": "nWra1VGxQxgs"
      },
      "id": "nWra1VGxQxgs"
    },
    {
      "cell_type": "markdown",
      "source": [
        "El dataset Starwars contiene datos biográficos y físicos de los personajes de Star Wars."
      ],
      "metadata": {
        "id": "dMeNpOAFSq0b"
      },
      "id": "dMeNpOAFSq0b"
    },
    {
      "cell_type": "code",
      "source": [
        "head(starwars)"
      ],
      "metadata": {
        "colab": {
          "base_uri": "https://localhost:8080/",
          "height": 1000
        },
        "id": "nXCmx_g4QwVy",
        "outputId": "f05f282a-f63e-479a-d9de-d6d63e25654a"
      },
      "id": "nXCmx_g4QwVy",
      "execution_count": 7,
      "outputs": [
        {
          "output_type": "display_data",
          "data": {
            "text/html": [
              "<table class=\"dataframe\">\n",
              "<caption>A tibble: 6 × 14</caption>\n",
              "<thead>\n",
              "\t<tr><th scope=col>name</th><th scope=col>height</th><th scope=col>mass</th><th scope=col>hair_color</th><th scope=col>skin_color</th><th scope=col>eye_color</th><th scope=col>birth_year</th><th scope=col>sex</th><th scope=col>gender</th><th scope=col>homeworld</th><th scope=col>species</th><th scope=col>films</th><th scope=col>vehicles</th><th scope=col>starships</th></tr>\n",
              "\t<tr><th scope=col>&lt;chr&gt;</th><th scope=col>&lt;int&gt;</th><th scope=col>&lt;dbl&gt;</th><th scope=col>&lt;chr&gt;</th><th scope=col>&lt;chr&gt;</th><th scope=col>&lt;chr&gt;</th><th scope=col>&lt;dbl&gt;</th><th scope=col>&lt;chr&gt;</th><th scope=col>&lt;chr&gt;</th><th scope=col>&lt;chr&gt;</th><th scope=col>&lt;chr&gt;</th><th scope=col>&lt;list&gt;</th><th scope=col>&lt;list&gt;</th><th scope=col>&lt;list&gt;</th></tr>\n",
              "</thead>\n",
              "<tbody>\n",
              "\t<tr><td>Luke Skywalker</td><td>172</td><td> 77</td><td>blond      </td><td>fair       </td><td>blue  </td><td> 19.0</td><td>male  </td><td>masculine</td><td>Tatooine</td><td>Human</td><td>The Empire Strikes Back, Revenge of the Sith    , Return of the Jedi     , A New Hope             , The Force Awakens      </td><td>Snowspeeder          , Imperial Speeder Bike</td><td>X-wing          , Imperial shuttle</td></tr>\n",
              "\t<tr><td>C-3PO         </td><td>167</td><td> 75</td><td>NA         </td><td>gold       </td><td>yellow</td><td>112.0</td><td>none  </td><td>masculine</td><td>Tatooine</td><td>Droid</td><td>The Empire Strikes Back, Attack of the Clones   , The Phantom Menace     , Revenge of the Sith    , Return of the Jedi     , A New Hope             </td><td></td><td></td></tr>\n",
              "\t<tr><td>R2-D2         </td><td> 96</td><td> 32</td><td>NA         </td><td>white, blue</td><td>red   </td><td> 33.0</td><td>none  </td><td>masculine</td><td>Naboo   </td><td>Droid</td><td>The Empire Strikes Back, Attack of the Clones   , The Phantom Menace     , Revenge of the Sith    , Return of the Jedi     , A New Hope             , The Force Awakens      </td><td></td><td></td></tr>\n",
              "\t<tr><td>Darth Vader   </td><td>202</td><td>136</td><td>none       </td><td>white      </td><td>yellow</td><td> 41.9</td><td>male  </td><td>masculine</td><td>Tatooine</td><td>Human</td><td>The Empire Strikes Back, Revenge of the Sith    , Return of the Jedi     , A New Hope             </td><td></td><td>TIE Advanced x1</td></tr>\n",
              "\t<tr><td>Leia Organa   </td><td>150</td><td> 49</td><td>brown      </td><td>light      </td><td>brown </td><td> 19.0</td><td>female</td><td>feminine </td><td>Alderaan</td><td>Human</td><td>The Empire Strikes Back, Revenge of the Sith    , Return of the Jedi     , A New Hope             , The Force Awakens      </td><td>Imperial Speeder Bike</td><td></td></tr>\n",
              "\t<tr><td>Owen Lars     </td><td>178</td><td>120</td><td>brown, grey</td><td>light      </td><td>blue  </td><td> 52.0</td><td>male  </td><td>masculine</td><td>Tatooine</td><td>Human</td><td>Attack of the Clones, Revenge of the Sith , A New Hope          </td><td></td><td></td></tr>\n",
              "</tbody>\n",
              "</table>\n"
            ],
            "text/markdown": "\nA tibble: 6 × 14\n\n| name &lt;chr&gt; | height &lt;int&gt; | mass &lt;dbl&gt; | hair_color &lt;chr&gt; | skin_color &lt;chr&gt; | eye_color &lt;chr&gt; | birth_year &lt;dbl&gt; | sex &lt;chr&gt; | gender &lt;chr&gt; | homeworld &lt;chr&gt; | species &lt;chr&gt; | films &lt;list&gt; | vehicles &lt;list&gt; | starships &lt;list&gt; |\n|---|---|---|---|---|---|---|---|---|---|---|---|---|---|\n| Luke Skywalker | 172 |  77 | blond       | fair        | blue   |  19.0 | male   | masculine | Tatooine | Human | The Empire Strikes Back, Revenge of the Sith    , Return of the Jedi     , A New Hope             , The Force Awakens       | Snowspeeder          , Imperial Speeder Bike | X-wing          , Imperial shuttle |\n| C-3PO          | 167 |  75 | NA          | gold        | yellow | 112.0 | none   | masculine | Tatooine | Droid | The Empire Strikes Back, Attack of the Clones   , The Phantom Menace     , Revenge of the Sith    , Return of the Jedi     , A New Hope              | <!----> | <!----> |\n| R2-D2          |  96 |  32 | NA          | white, blue | red    |  33.0 | none   | masculine | Naboo    | Droid | The Empire Strikes Back, Attack of the Clones   , The Phantom Menace     , Revenge of the Sith    , Return of the Jedi     , A New Hope             , The Force Awakens       | <!----> | <!----> |\n| Darth Vader    | 202 | 136 | none        | white       | yellow |  41.9 | male   | masculine | Tatooine | Human | The Empire Strikes Back, Revenge of the Sith    , Return of the Jedi     , A New Hope              | <!----> | TIE Advanced x1 |\n| Leia Organa    | 150 |  49 | brown       | light       | brown  |  19.0 | female | feminine  | Alderaan | Human | The Empire Strikes Back, Revenge of the Sith    , Return of the Jedi     , A New Hope             , The Force Awakens       | Imperial Speeder Bike | <!----> |\n| Owen Lars      | 178 | 120 | brown, grey | light       | blue   |  52.0 | male   | masculine | Tatooine | Human | Attack of the Clones, Revenge of the Sith , A New Hope           | <!----> | <!----> |\n\n",
            "text/latex": "A tibble: 6 × 14\n\\begin{tabular}{llllllllllllll}\n name & height & mass & hair\\_color & skin\\_color & eye\\_color & birth\\_year & sex & gender & homeworld & species & films & vehicles & starships\\\\\n <chr> & <int> & <dbl> & <chr> & <chr> & <chr> & <dbl> & <chr> & <chr> & <chr> & <chr> & <list> & <list> & <list>\\\\\n\\hline\n\t Luke Skywalker & 172 &  77 & blond       & fair        & blue   &  19.0 & male   & masculine & Tatooine & Human & The Empire Strikes Back, Revenge of the Sith    , Return of the Jedi     , A New Hope             , The Force Awakens       & Snowspeeder          , Imperial Speeder Bike & X-wing          , Imperial shuttle\\\\\n\t C-3PO          & 167 &  75 & NA          & gold        & yellow & 112.0 & none   & masculine & Tatooine & Droid & The Empire Strikes Back, Attack of the Clones   , The Phantom Menace     , Revenge of the Sith    , Return of the Jedi     , A New Hope              &  & \\\\\n\t R2-D2          &  96 &  32 & NA          & white, blue & red    &  33.0 & none   & masculine & Naboo    & Droid & The Empire Strikes Back, Attack of the Clones   , The Phantom Menace     , Revenge of the Sith    , Return of the Jedi     , A New Hope             , The Force Awakens       &  & \\\\\n\t Darth Vader    & 202 & 136 & none        & white       & yellow &  41.9 & male   & masculine & Tatooine & Human & The Empire Strikes Back, Revenge of the Sith    , Return of the Jedi     , A New Hope              &  & TIE Advanced x1\\\\\n\t Leia Organa    & 150 &  49 & brown       & light       & brown  &  19.0 & female & feminine  & Alderaan & Human & The Empire Strikes Back, Revenge of the Sith    , Return of the Jedi     , A New Hope             , The Force Awakens       & Imperial Speeder Bike & \\\\\n\t Owen Lars      & 178 & 120 & brown, grey & light       & blue   &  52.0 & male   & masculine & Tatooine & Human & Attack of the Clones, Revenge of the Sith , A New Hope           &  & \\\\\n\\end{tabular}\n",
            "text/plain": [
              "  name           height mass hair_color  skin_color  eye_color birth_year\n",
              "1 Luke Skywalker 172     77  blond       fair        blue       19.0     \n",
              "2 C-3PO          167     75  NA          gold        yellow    112.0     \n",
              "3 R2-D2           96     32  NA          white, blue red        33.0     \n",
              "4 Darth Vader    202    136  none        white       yellow     41.9     \n",
              "5 Leia Organa    150     49  brown       light       brown      19.0     \n",
              "6 Owen Lars      178    120  brown, grey light       blue       52.0     \n",
              "  sex    gender    homeworld species\n",
              "1 male   masculine Tatooine  Human  \n",
              "2 none   masculine Tatooine  Droid  \n",
              "3 none   masculine Naboo     Droid  \n",
              "4 male   masculine Tatooine  Human  \n",
              "5 female feminine  Alderaan  Human  \n",
              "6 male   masculine Tatooine  Human  \n",
              "  films                                                                                                                                                                        \n",
              "1 The Empire Strikes Back, Revenge of the Sith    , Return of the Jedi     , A New Hope             , The Force Awakens                                                        \n",
              "2 The Empire Strikes Back, Attack of the Clones   , The Phantom Menace     , Revenge of the Sith    , Return of the Jedi     , A New Hope                                      \n",
              "3 The Empire Strikes Back, Attack of the Clones   , The Phantom Menace     , Revenge of the Sith    , Return of the Jedi     , A New Hope             , The Force Awakens      \n",
              "4 The Empire Strikes Back, Revenge of the Sith    , Return of the Jedi     , A New Hope                                                                                        \n",
              "5 The Empire Strikes Back, Revenge of the Sith    , Return of the Jedi     , A New Hope             , The Force Awakens                                                        \n",
              "6 Attack of the Clones, Revenge of the Sith , A New Hope                                                                                                                       \n",
              "  vehicles                                    \n",
              "1 Snowspeeder          , Imperial Speeder Bike\n",
              "2                                             \n",
              "3                                             \n",
              "4                                             \n",
              "5 Imperial Speeder Bike                       \n",
              "6                                             \n",
              "  starships                         \n",
              "1 X-wing          , Imperial shuttle\n",
              "2                                   \n",
              "3                                   \n",
              "4 TIE Advanced x1                   \n",
              "5                                   \n",
              "6                                   "
            ]
          },
          "metadata": {}
        }
      ]
    },
    {
      "cell_type": "code",
      "source": [
        "# seleccionamos \n",
        "df01 <- starwars %>% \n",
        "  select(name, gender:species) \n",
        "\n",
        "head(df01)"
      ],
      "metadata": {
        "colab": {
          "base_uri": "https://localhost:8080/",
          "height": 286
        },
        "id": "pobkhjFHQ_xj",
        "outputId": "649ed430-7a3a-4607-8029-bd1f292e912b"
      },
      "id": "pobkhjFHQ_xj",
      "execution_count": 24,
      "outputs": [
        {
          "output_type": "display_data",
          "data": {
            "text/html": [
              "<table class=\"dataframe\">\n",
              "<caption>A tibble: 6 × 4</caption>\n",
              "<thead>\n",
              "\t<tr><th scope=col>name</th><th scope=col>gender</th><th scope=col>homeworld</th><th scope=col>species</th></tr>\n",
              "\t<tr><th scope=col>&lt;chr&gt;</th><th scope=col>&lt;chr&gt;</th><th scope=col>&lt;chr&gt;</th><th scope=col>&lt;chr&gt;</th></tr>\n",
              "</thead>\n",
              "<tbody>\n",
              "\t<tr><td>Luke Skywalker</td><td>masculine</td><td>Tatooine</td><td>Human</td></tr>\n",
              "\t<tr><td>C-3PO         </td><td>masculine</td><td>Tatooine</td><td>Droid</td></tr>\n",
              "\t<tr><td>R2-D2         </td><td>masculine</td><td>Naboo   </td><td>Droid</td></tr>\n",
              "\t<tr><td>Darth Vader   </td><td>masculine</td><td>Tatooine</td><td>Human</td></tr>\n",
              "\t<tr><td>Leia Organa   </td><td>feminine </td><td>Alderaan</td><td>Human</td></tr>\n",
              "\t<tr><td>Owen Lars     </td><td>masculine</td><td>Tatooine</td><td>Human</td></tr>\n",
              "</tbody>\n",
              "</table>\n"
            ],
            "text/markdown": "\nA tibble: 6 × 4\n\n| name &lt;chr&gt; | gender &lt;chr&gt; | homeworld &lt;chr&gt; | species &lt;chr&gt; |\n|---|---|---|---|\n| Luke Skywalker | masculine | Tatooine | Human |\n| C-3PO          | masculine | Tatooine | Droid |\n| R2-D2          | masculine | Naboo    | Droid |\n| Darth Vader    | masculine | Tatooine | Human |\n| Leia Organa    | feminine  | Alderaan | Human |\n| Owen Lars      | masculine | Tatooine | Human |\n\n",
            "text/latex": "A tibble: 6 × 4\n\\begin{tabular}{llll}\n name & gender & homeworld & species\\\\\n <chr> & <chr> & <chr> & <chr>\\\\\n\\hline\n\t Luke Skywalker & masculine & Tatooine & Human\\\\\n\t C-3PO          & masculine & Tatooine & Droid\\\\\n\t R2-D2          & masculine & Naboo    & Droid\\\\\n\t Darth Vader    & masculine & Tatooine & Human\\\\\n\t Leia Organa    & feminine  & Alderaan & Human\\\\\n\t Owen Lars      & masculine & Tatooine & Human\\\\\n\\end{tabular}\n",
            "text/plain": [
              "  name           gender    homeworld species\n",
              "1 Luke Skywalker masculine Tatooine  Human  \n",
              "2 C-3PO          masculine Tatooine  Droid  \n",
              "3 R2-D2          masculine Naboo     Droid  \n",
              "4 Darth Vader    masculine Tatooine  Human  \n",
              "5 Leia Organa    feminine  Alderaan  Human  \n",
              "6 Owen Lars      masculine Tatooine  Human  "
            ]
          },
          "metadata": {}
        }
      ]
    },
    {
      "cell_type": "code",
      "source": [
        "# selecciona columnas numéricas\n",
        "df02 <- starwars %>% \n",
        "  select(where(is.numeric))\n",
        "head(df02)"
      ],
      "metadata": {
        "colab": {
          "base_uri": "https://localhost:8080/",
          "height": 286
        },
        "id": "qMUEdT7oV2So",
        "outputId": "5979ea74-9e97-4886-e974-5d772f22a72d"
      },
      "id": "qMUEdT7oV2So",
      "execution_count": 27,
      "outputs": [
        {
          "output_type": "display_data",
          "data": {
            "text/html": [
              "<table class=\"dataframe\">\n",
              "<caption>A tibble: 6 × 3</caption>\n",
              "<thead>\n",
              "\t<tr><th scope=col>height</th><th scope=col>mass</th><th scope=col>birth_year</th></tr>\n",
              "\t<tr><th scope=col>&lt;int&gt;</th><th scope=col>&lt;dbl&gt;</th><th scope=col>&lt;dbl&gt;</th></tr>\n",
              "</thead>\n",
              "<tbody>\n",
              "\t<tr><td>172</td><td> 77</td><td> 19.0</td></tr>\n",
              "\t<tr><td>167</td><td> 75</td><td>112.0</td></tr>\n",
              "\t<tr><td> 96</td><td> 32</td><td> 33.0</td></tr>\n",
              "\t<tr><td>202</td><td>136</td><td> 41.9</td></tr>\n",
              "\t<tr><td>150</td><td> 49</td><td> 19.0</td></tr>\n",
              "\t<tr><td>178</td><td>120</td><td> 52.0</td></tr>\n",
              "</tbody>\n",
              "</table>\n"
            ],
            "text/markdown": "\nA tibble: 6 × 3\n\n| height &lt;int&gt; | mass &lt;dbl&gt; | birth_year &lt;dbl&gt; |\n|---|---|---|\n| 172 |  77 |  19.0 |\n| 167 |  75 | 112.0 |\n|  96 |  32 |  33.0 |\n| 202 | 136 |  41.9 |\n| 150 |  49 |  19.0 |\n| 178 | 120 |  52.0 |\n\n",
            "text/latex": "A tibble: 6 × 3\n\\begin{tabular}{lll}\n height & mass & birth\\_year\\\\\n <int> & <dbl> & <dbl>\\\\\n\\hline\n\t 172 &  77 &  19.0\\\\\n\t 167 &  75 & 112.0\\\\\n\t  96 &  32 &  33.0\\\\\n\t 202 & 136 &  41.9\\\\\n\t 150 &  49 &  19.0\\\\\n\t 178 & 120 &  52.0\\\\\n\\end{tabular}\n",
            "text/plain": [
              "  height mass birth_year\n",
              "1 172     77   19.0     \n",
              "2 167     75  112.0     \n",
              "3  96     32   33.0     \n",
              "4 202    136   41.9     \n",
              "5 150     49   19.0     \n",
              "6 178    120   52.0     "
            ]
          },
          "metadata": {}
        }
      ]
    },
    {
      "cell_type": "code",
      "source": [
        "# ordenar columnas\n",
        "df03 <- starwars %>% \n",
        "  select(name, starships, everything())\n",
        "head(df03)"
      ],
      "metadata": {
        "colab": {
          "base_uri": "https://localhost:8080/",
          "height": 1000
        },
        "id": "PL2JqGbxVvBQ",
        "outputId": "17eddc77-3ca2-4f99-f3d3-ac3082040534"
      },
      "id": "PL2JqGbxVvBQ",
      "execution_count": 31,
      "outputs": [
        {
          "output_type": "display_data",
          "data": {
            "text/html": [
              "<table class=\"dataframe\">\n",
              "<caption>A tibble: 6 × 14</caption>\n",
              "<thead>\n",
              "\t<tr><th scope=col>name</th><th scope=col>starships</th><th scope=col>height</th><th scope=col>mass</th><th scope=col>hair_color</th><th scope=col>skin_color</th><th scope=col>eye_color</th><th scope=col>birth_year</th><th scope=col>sex</th><th scope=col>gender</th><th scope=col>homeworld</th><th scope=col>species</th><th scope=col>films</th><th scope=col>vehicles</th></tr>\n",
              "\t<tr><th scope=col>&lt;chr&gt;</th><th scope=col>&lt;list&gt;</th><th scope=col>&lt;int&gt;</th><th scope=col>&lt;dbl&gt;</th><th scope=col>&lt;chr&gt;</th><th scope=col>&lt;chr&gt;</th><th scope=col>&lt;chr&gt;</th><th scope=col>&lt;dbl&gt;</th><th scope=col>&lt;chr&gt;</th><th scope=col>&lt;chr&gt;</th><th scope=col>&lt;chr&gt;</th><th scope=col>&lt;chr&gt;</th><th scope=col>&lt;list&gt;</th><th scope=col>&lt;list&gt;</th></tr>\n",
              "</thead>\n",
              "<tbody>\n",
              "\t<tr><td>Luke Skywalker</td><td>X-wing          , Imperial shuttle</td><td>172</td><td> 77</td><td>blond      </td><td>fair       </td><td>blue  </td><td> 19.0</td><td>male  </td><td>masculine</td><td>Tatooine</td><td>Human</td><td>The Empire Strikes Back, Revenge of the Sith    , Return of the Jedi     , A New Hope             , The Force Awakens      </td><td>Snowspeeder          , Imperial Speeder Bike</td></tr>\n",
              "\t<tr><td>C-3PO         </td><td></td><td>167</td><td> 75</td><td>NA         </td><td>gold       </td><td>yellow</td><td>112.0</td><td>none  </td><td>masculine</td><td>Tatooine</td><td>Droid</td><td>The Empire Strikes Back, Attack of the Clones   , The Phantom Menace     , Revenge of the Sith    , Return of the Jedi     , A New Hope             </td><td></td></tr>\n",
              "\t<tr><td>R2-D2         </td><td></td><td> 96</td><td> 32</td><td>NA         </td><td>white, blue</td><td>red   </td><td> 33.0</td><td>none  </td><td>masculine</td><td>Naboo   </td><td>Droid</td><td>The Empire Strikes Back, Attack of the Clones   , The Phantom Menace     , Revenge of the Sith    , Return of the Jedi     , A New Hope             , The Force Awakens      </td><td></td></tr>\n",
              "\t<tr><td>Darth Vader   </td><td>TIE Advanced x1</td><td>202</td><td>136</td><td>none       </td><td>white      </td><td>yellow</td><td> 41.9</td><td>male  </td><td>masculine</td><td>Tatooine</td><td>Human</td><td>The Empire Strikes Back, Revenge of the Sith    , Return of the Jedi     , A New Hope             </td><td></td></tr>\n",
              "\t<tr><td>Leia Organa   </td><td></td><td>150</td><td> 49</td><td>brown      </td><td>light      </td><td>brown </td><td> 19.0</td><td>female</td><td>feminine </td><td>Alderaan</td><td>Human</td><td>The Empire Strikes Back, Revenge of the Sith    , Return of the Jedi     , A New Hope             , The Force Awakens      </td><td>Imperial Speeder Bike</td></tr>\n",
              "\t<tr><td>Owen Lars     </td><td></td><td>178</td><td>120</td><td>brown, grey</td><td>light      </td><td>blue  </td><td> 52.0</td><td>male  </td><td>masculine</td><td>Tatooine</td><td>Human</td><td>Attack of the Clones, Revenge of the Sith , A New Hope          </td><td></td></tr>\n",
              "</tbody>\n",
              "</table>\n"
            ],
            "text/markdown": "\nA tibble: 6 × 14\n\n| name &lt;chr&gt; | starships &lt;list&gt; | height &lt;int&gt; | mass &lt;dbl&gt; | hair_color &lt;chr&gt; | skin_color &lt;chr&gt; | eye_color &lt;chr&gt; | birth_year &lt;dbl&gt; | sex &lt;chr&gt; | gender &lt;chr&gt; | homeworld &lt;chr&gt; | species &lt;chr&gt; | films &lt;list&gt; | vehicles &lt;list&gt; |\n|---|---|---|---|---|---|---|---|---|---|---|---|---|---|\n| Luke Skywalker | X-wing          , Imperial shuttle | 172 |  77 | blond       | fair        | blue   |  19.0 | male   | masculine | Tatooine | Human | The Empire Strikes Back, Revenge of the Sith    , Return of the Jedi     , A New Hope             , The Force Awakens       | Snowspeeder          , Imperial Speeder Bike |\n| C-3PO          | <!----> | 167 |  75 | NA          | gold        | yellow | 112.0 | none   | masculine | Tatooine | Droid | The Empire Strikes Back, Attack of the Clones   , The Phantom Menace     , Revenge of the Sith    , Return of the Jedi     , A New Hope              | <!----> |\n| R2-D2          | <!----> |  96 |  32 | NA          | white, blue | red    |  33.0 | none   | masculine | Naboo    | Droid | The Empire Strikes Back, Attack of the Clones   , The Phantom Menace     , Revenge of the Sith    , Return of the Jedi     , A New Hope             , The Force Awakens       | <!----> |\n| Darth Vader    | TIE Advanced x1 | 202 | 136 | none        | white       | yellow |  41.9 | male   | masculine | Tatooine | Human | The Empire Strikes Back, Revenge of the Sith    , Return of the Jedi     , A New Hope              | <!----> |\n| Leia Organa    | <!----> | 150 |  49 | brown       | light       | brown  |  19.0 | female | feminine  | Alderaan | Human | The Empire Strikes Back, Revenge of the Sith    , Return of the Jedi     , A New Hope             , The Force Awakens       | Imperial Speeder Bike |\n| Owen Lars      | <!----> | 178 | 120 | brown, grey | light       | blue   |  52.0 | male   | masculine | Tatooine | Human | Attack of the Clones, Revenge of the Sith , A New Hope           | <!----> |\n\n",
            "text/latex": "A tibble: 6 × 14\n\\begin{tabular}{llllllllllllll}\n name & starships & height & mass & hair\\_color & skin\\_color & eye\\_color & birth\\_year & sex & gender & homeworld & species & films & vehicles\\\\\n <chr> & <list> & <int> & <dbl> & <chr> & <chr> & <chr> & <dbl> & <chr> & <chr> & <chr> & <chr> & <list> & <list>\\\\\n\\hline\n\t Luke Skywalker & X-wing          , Imperial shuttle & 172 &  77 & blond       & fair        & blue   &  19.0 & male   & masculine & Tatooine & Human & The Empire Strikes Back, Revenge of the Sith    , Return of the Jedi     , A New Hope             , The Force Awakens       & Snowspeeder          , Imperial Speeder Bike\\\\\n\t C-3PO          &  & 167 &  75 & NA          & gold        & yellow & 112.0 & none   & masculine & Tatooine & Droid & The Empire Strikes Back, Attack of the Clones   , The Phantom Menace     , Revenge of the Sith    , Return of the Jedi     , A New Hope              & \\\\\n\t R2-D2          &  &  96 &  32 & NA          & white, blue & red    &  33.0 & none   & masculine & Naboo    & Droid & The Empire Strikes Back, Attack of the Clones   , The Phantom Menace     , Revenge of the Sith    , Return of the Jedi     , A New Hope             , The Force Awakens       & \\\\\n\t Darth Vader    & TIE Advanced x1 & 202 & 136 & none        & white       & yellow &  41.9 & male   & masculine & Tatooine & Human & The Empire Strikes Back, Revenge of the Sith    , Return of the Jedi     , A New Hope              & \\\\\n\t Leia Organa    &  & 150 &  49 & brown       & light       & brown  &  19.0 & female & feminine  & Alderaan & Human & The Empire Strikes Back, Revenge of the Sith    , Return of the Jedi     , A New Hope             , The Force Awakens       & Imperial Speeder Bike\\\\\n\t Owen Lars      &  & 178 & 120 & brown, grey & light       & blue   &  52.0 & male   & masculine & Tatooine & Human & Attack of the Clones, Revenge of the Sith , A New Hope           & \\\\\n\\end{tabular}\n",
            "text/plain": [
              "  name           starships                          height mass hair_color \n",
              "1 Luke Skywalker X-wing          , Imperial shuttle 172     77  blond      \n",
              "2 C-3PO                                             167     75  NA         \n",
              "3 R2-D2                                              96     32  NA         \n",
              "4 Darth Vader    TIE Advanced x1                    202    136  none       \n",
              "5 Leia Organa                                       150     49  brown      \n",
              "6 Owen Lars                                         178    120  brown, grey\n",
              "  skin_color  eye_color birth_year sex    gender    homeworld species\n",
              "1 fair        blue       19.0      male   masculine Tatooine  Human  \n",
              "2 gold        yellow    112.0      none   masculine Tatooine  Droid  \n",
              "3 white, blue red        33.0      none   masculine Naboo     Droid  \n",
              "4 white       yellow     41.9      male   masculine Tatooine  Human  \n",
              "5 light       brown      19.0      female feminine  Alderaan  Human  \n",
              "6 light       blue       52.0      male   masculine Tatooine  Human  \n",
              "  films                                                                                                                                                                        \n",
              "1 The Empire Strikes Back, Revenge of the Sith    , Return of the Jedi     , A New Hope             , The Force Awakens                                                        \n",
              "2 The Empire Strikes Back, Attack of the Clones   , The Phantom Menace     , Revenge of the Sith    , Return of the Jedi     , A New Hope                                      \n",
              "3 The Empire Strikes Back, Attack of the Clones   , The Phantom Menace     , Revenge of the Sith    , Return of the Jedi     , A New Hope             , The Force Awakens      \n",
              "4 The Empire Strikes Back, Revenge of the Sith    , Return of the Jedi     , A New Hope                                                                                        \n",
              "5 The Empire Strikes Back, Revenge of the Sith    , Return of the Jedi     , A New Hope             , The Force Awakens                                                        \n",
              "6 Attack of the Clones, Revenge of the Sith , A New Hope                                                                                                                       \n",
              "  vehicles                                    \n",
              "1 Snowspeeder          , Imperial Speeder Bike\n",
              "2                                             \n",
              "3                                             \n",
              "4                                             \n",
              "5 Imperial Speeder Bike                       \n",
              "6                                             "
            ]
          },
          "metadata": {}
        }
      ]
    },
    {
      "cell_type": "markdown",
      "id": "41048232",
      "metadata": {
        "id": "41048232"
      },
      "source": [
        "![filter.png](data:image/png;base64,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)"
      ]
    },
    {
      "cell_type": "markdown",
      "id": "electronic-scott",
      "metadata": {
        "id": "electronic-scott"
      },
      "source": [
        "# **filter()**\n",
        "\n",
        "> **filter(data, ...)** : La función se utiliza para generar un subconjunto de un data frame, reteniendo todas las filas que satisfacen las condiciones. Para ser retenida, la fila debe producir un valor de TRUE para todas las condiciones. Algunos operadores y funciones empleadas:\n",
        "\n",
        "> - ==, >=, <=, >, <,\n",
        "\n",
        "> - &, |, !, xor(),\n",
        "\n",
        "> - is.na()\n",
        "\n",
        "> - between(), near()\n"
      ]
    },
    {
      "cell_type": "markdown",
      "source": [
        "# Ejemplo:"
      ],
      "metadata": {
        "id": "v5fWl6Rzb68O"
      },
      "id": "v5fWl6Rzb68O"
    },
    {
      "cell_type": "code",
      "source": [
        "df04 <- starwars %>%\n",
        "  filter(!is.na(hair_color)) %>%\n",
        "  filter(birth_year <= 50) %>%\n",
        "  filter(sex == 'male' & species == 'Human') %>% \n",
        "  filter(between(mass, 80, 100)) \n",
        "  \n",
        "head(df04)\n",
        "#unique(df01$mass)"
      ],
      "metadata": {
        "colab": {
          "base_uri": "https://localhost:8080/",
          "height": 435
        },
        "id": "ydfU8Dwyb9AF",
        "outputId": "9cdd96fe-704c-412e-da6f-befd14137c4b"
      },
      "id": "ydfU8Dwyb9AF",
      "execution_count": 60,
      "outputs": [
        {
          "output_type": "display_data",
          "data": {
            "text/html": [
              "<table class=\"dataframe\">\n",
              "<caption>A tibble: 3 × 14</caption>\n",
              "<thead>\n",
              "\t<tr><th scope=col>name</th><th scope=col>height</th><th scope=col>mass</th><th scope=col>hair_color</th><th scope=col>skin_color</th><th scope=col>eye_color</th><th scope=col>birth_year</th><th scope=col>sex</th><th scope=col>gender</th><th scope=col>homeworld</th><th scope=col>species</th><th scope=col>films</th><th scope=col>vehicles</th><th scope=col>starships</th></tr>\n",
              "\t<tr><th scope=col>&lt;chr&gt;</th><th scope=col>&lt;int&gt;</th><th scope=col>&lt;dbl&gt;</th><th scope=col>&lt;chr&gt;</th><th scope=col>&lt;chr&gt;</th><th scope=col>&lt;chr&gt;</th><th scope=col>&lt;dbl&gt;</th><th scope=col>&lt;chr&gt;</th><th scope=col>&lt;chr&gt;</th><th scope=col>&lt;chr&gt;</th><th scope=col>&lt;chr&gt;</th><th scope=col>&lt;list&gt;</th><th scope=col>&lt;list&gt;</th><th scope=col>&lt;list&gt;</th></tr>\n",
              "</thead>\n",
              "<tbody>\n",
              "\t<tr><td>Biggs Darklighter</td><td>183</td><td>84</td><td>black</td><td>light</td><td>brown</td><td>24.0</td><td>male</td><td>masculine</td><td>Tatooine</td><td>Human</td><td>A New Hope</td><td></td><td>X-wing</td></tr>\n",
              "\t<tr><td>Anakin Skywalker </td><td>188</td><td>84</td><td>blond</td><td>fair </td><td>blue </td><td>41.9</td><td>male</td><td>masculine</td><td>Tatooine</td><td>Human</td><td>Attack of the Clones, The Phantom Menace  , Revenge of the Sith </td><td>Zephyr-G swoop bike, XJ-6 airspeeder    </td><td>Trade Federation cruiser, Jedi Interceptor        , Naboo fighter           </td></tr>\n",
              "\t<tr><td>Han Solo         </td><td>180</td><td>80</td><td>brown</td><td>fair </td><td>brown</td><td>29.0</td><td>male</td><td>masculine</td><td>Corellia</td><td>Human</td><td>The Empire Strikes Back, Return of the Jedi     , A New Hope             , The Force Awakens      </td><td></td><td>Millennium Falcon, Imperial shuttle </td></tr>\n",
              "</tbody>\n",
              "</table>\n"
            ],
            "text/markdown": "\nA tibble: 3 × 14\n\n| name &lt;chr&gt; | height &lt;int&gt; | mass &lt;dbl&gt; | hair_color &lt;chr&gt; | skin_color &lt;chr&gt; | eye_color &lt;chr&gt; | birth_year &lt;dbl&gt; | sex &lt;chr&gt; | gender &lt;chr&gt; | homeworld &lt;chr&gt; | species &lt;chr&gt; | films &lt;list&gt; | vehicles &lt;list&gt; | starships &lt;list&gt; |\n|---|---|---|---|---|---|---|---|---|---|---|---|---|---|\n| Biggs Darklighter | 183 | 84 | black | light | brown | 24.0 | male | masculine | Tatooine | Human | A New Hope | <!----> | X-wing |\n| Anakin Skywalker  | 188 | 84 | blond | fair  | blue  | 41.9 | male | masculine | Tatooine | Human | Attack of the Clones, The Phantom Menace  , Revenge of the Sith  | Zephyr-G swoop bike, XJ-6 airspeeder     | Trade Federation cruiser, Jedi Interceptor        , Naboo fighter            |\n| Han Solo          | 180 | 80 | brown | fair  | brown | 29.0 | male | masculine | Corellia | Human | The Empire Strikes Back, Return of the Jedi     , A New Hope             , The Force Awakens       | <!----> | Millennium Falcon, Imperial shuttle  |\n\n",
            "text/latex": "A tibble: 3 × 14\n\\begin{tabular}{llllllllllllll}\n name & height & mass & hair\\_color & skin\\_color & eye\\_color & birth\\_year & sex & gender & homeworld & species & films & vehicles & starships\\\\\n <chr> & <int> & <dbl> & <chr> & <chr> & <chr> & <dbl> & <chr> & <chr> & <chr> & <chr> & <list> & <list> & <list>\\\\\n\\hline\n\t Biggs Darklighter & 183 & 84 & black & light & brown & 24.0 & male & masculine & Tatooine & Human & A New Hope &  & X-wing\\\\\n\t Anakin Skywalker  & 188 & 84 & blond & fair  & blue  & 41.9 & male & masculine & Tatooine & Human & Attack of the Clones, The Phantom Menace  , Revenge of the Sith  & Zephyr-G swoop bike, XJ-6 airspeeder     & Trade Federation cruiser, Jedi Interceptor        , Naboo fighter           \\\\\n\t Han Solo          & 180 & 80 & brown & fair  & brown & 29.0 & male & masculine & Corellia & Human & The Empire Strikes Back, Return of the Jedi     , A New Hope             , The Force Awakens       &  & Millennium Falcon, Imperial shuttle \\\\\n\\end{tabular}\n",
            "text/plain": [
              "  name              height mass hair_color skin_color eye_color birth_year sex \n",
              "1 Biggs Darklighter 183    84   black      light      brown     24.0       male\n",
              "2 Anakin Skywalker  188    84   blond      fair       blue      41.9       male\n",
              "3 Han Solo          180    80   brown      fair       brown     29.0       male\n",
              "  gender    homeworld species\n",
              "1 masculine Tatooine  Human  \n",
              "2 masculine Tatooine  Human  \n",
              "3 masculine Corellia  Human  \n",
              "  films                                                                                             \n",
              "1 A New Hope                                                                                        \n",
              "2 Attack of the Clones, The Phantom Menace  , Revenge of the Sith                                   \n",
              "3 The Empire Strikes Back, Return of the Jedi     , A New Hope             , The Force Awakens      \n",
              "  vehicles                                \n",
              "1                                         \n",
              "2 Zephyr-G swoop bike, XJ-6 airspeeder    \n",
              "3                                         \n",
              "  starships                                                                   \n",
              "1 X-wing                                                                      \n",
              "2 Trade Federation cruiser, Jedi Interceptor        , Naboo fighter           \n",
              "3 Millennium Falcon, Imperial shuttle                                         "
            ]
          },
          "metadata": {}
        }
      ]
    },
    {
      "cell_type": "markdown",
      "source": [
        "# **arrange()**\n",
        "\n",
        "> **arrange(data, ...)** : ordena las filas de un data frame por los valores de las columnas seleccionadas. Por defecto ordena de forma ascendente (menor a mayor), para indicar el orden de forma descendente emplemos la función auxiliar **desc(variable)**"
      ],
      "metadata": {
        "id": "SJcAKCSUeP62"
      },
      "id": "SJcAKCSUeP62"
    },
    {
      "cell_type": "markdown",
      "id": "hearing-modem",
      "metadata": {
        "id": "hearing-modem"
      },
      "source": [
        "![arrange.png](data:image/png;base64,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)"
      ]
    },
    {
      "cell_type": "markdown",
      "source": [
        ""
      ],
      "metadata": {
        "id": "jcAThIOidLtr"
      },
      "id": "jcAThIOidLtr"
    },
    {
      "cell_type": "markdown",
      "source": [
        "# Ejemplo:"
      ],
      "metadata": {
        "id": "jqgqzAOhYDpg"
      },
      "id": "jqgqzAOhYDpg"
    },
    {
      "cell_type": "code",
      "source": [
        "df05 <- starwars %>%\n",
        "  arrange(desc(gender), name) %>%\n",
        "  arrange(desc(height))\n",
        "\n",
        "head(df05)"
      ],
      "metadata": {
        "colab": {
          "base_uri": "https://localhost:8080/",
          "height": 616
        },
        "id": "ox-uQFocYDKp",
        "outputId": "5313329f-ad0b-4c1e-e1b3-55242b7dfa84"
      },
      "id": "ox-uQFocYDKp",
      "execution_count": 67,
      "outputs": [
        {
          "output_type": "display_data",
          "data": {
            "text/html": [
              "<table class=\"dataframe\">\n",
              "<caption>A tibble: 6 × 14</caption>\n",
              "<thead>\n",
              "\t<tr><th scope=col>name</th><th scope=col>height</th><th scope=col>mass</th><th scope=col>hair_color</th><th scope=col>skin_color</th><th scope=col>eye_color</th><th scope=col>birth_year</th><th scope=col>sex</th><th scope=col>gender</th><th scope=col>homeworld</th><th scope=col>species</th><th scope=col>films</th><th scope=col>vehicles</th><th scope=col>starships</th></tr>\n",
              "\t<tr><th scope=col>&lt;chr&gt;</th><th scope=col>&lt;int&gt;</th><th scope=col>&lt;dbl&gt;</th><th scope=col>&lt;chr&gt;</th><th scope=col>&lt;chr&gt;</th><th scope=col>&lt;chr&gt;</th><th scope=col>&lt;dbl&gt;</th><th scope=col>&lt;chr&gt;</th><th scope=col>&lt;chr&gt;</th><th scope=col>&lt;chr&gt;</th><th scope=col>&lt;chr&gt;</th><th scope=col>&lt;list&gt;</th><th scope=col>&lt;list&gt;</th><th scope=col>&lt;list&gt;</th></tr>\n",
              "</thead>\n",
              "<tbody>\n",
              "\t<tr><td>Yarael Poof </td><td>264</td><td> NA</td><td>none </td><td>white       </td><td>yellow       </td><td> NA</td><td>male</td><td>masculine</td><td>Quermia </td><td>Quermian</td><td>The Phantom Menace</td><td></td><td></td></tr>\n",
              "\t<tr><td>Tarfful     </td><td>234</td><td>136</td><td>brown</td><td>brown       </td><td>blue         </td><td> NA</td><td>male</td><td>masculine</td><td>Kashyyyk</td><td>Wookiee </td><td>Revenge of the Sith</td><td></td><td></td></tr>\n",
              "\t<tr><td>Lama Su     </td><td>229</td><td> 88</td><td>none </td><td>grey        </td><td>black        </td><td> NA</td><td>male</td><td>masculine</td><td>Kamino  </td><td>Kaminoan</td><td>Attack of the Clones</td><td></td><td></td></tr>\n",
              "\t<tr><td>Chewbacca   </td><td>228</td><td>112</td><td>brown</td><td>unknown     </td><td>blue         </td><td>200</td><td>male</td><td>masculine</td><td>Kashyyyk</td><td>Wookiee </td><td>The Empire Strikes Back, Revenge of the Sith    , Return of the Jedi     , A New Hope             , The Force Awakens      </td><td>AT-ST</td><td>Millennium Falcon, Imperial shuttle </td></tr>\n",
              "\t<tr><td>Roos Tarpals</td><td>224</td><td> 82</td><td>none </td><td>grey        </td><td>orange       </td><td> NA</td><td>male</td><td>masculine</td><td>Naboo   </td><td>Gungan  </td><td>The Phantom Menace</td><td></td><td></td></tr>\n",
              "\t<tr><td>Grievous    </td><td>216</td><td>159</td><td>none </td><td>brown, white</td><td>green, yellow</td><td> NA</td><td>male</td><td>masculine</td><td>Kalee   </td><td>Kaleesh </td><td>Revenge of the Sith</td><td>Tsmeu-6 personal wheel bike</td><td>Belbullab-22 starfighter</td></tr>\n",
              "</tbody>\n",
              "</table>\n"
            ],
            "text/markdown": "\nA tibble: 6 × 14\n\n| name &lt;chr&gt; | height &lt;int&gt; | mass &lt;dbl&gt; | hair_color &lt;chr&gt; | skin_color &lt;chr&gt; | eye_color &lt;chr&gt; | birth_year &lt;dbl&gt; | sex &lt;chr&gt; | gender &lt;chr&gt; | homeworld &lt;chr&gt; | species &lt;chr&gt; | films &lt;list&gt; | vehicles &lt;list&gt; | starships &lt;list&gt; |\n|---|---|---|---|---|---|---|---|---|---|---|---|---|---|\n| Yarael Poof  | 264 |  NA | none  | white        | yellow        |  NA | male | masculine | Quermia  | Quermian | The Phantom Menace | <!----> | <!----> |\n| Tarfful      | 234 | 136 | brown | brown        | blue          |  NA | male | masculine | Kashyyyk | Wookiee  | Revenge of the Sith | <!----> | <!----> |\n| Lama Su      | 229 |  88 | none  | grey         | black         |  NA | male | masculine | Kamino   | Kaminoan | Attack of the Clones | <!----> | <!----> |\n| Chewbacca    | 228 | 112 | brown | unknown      | blue          | 200 | male | masculine | Kashyyyk | Wookiee  | The Empire Strikes Back, Revenge of the Sith    , Return of the Jedi     , A New Hope             , The Force Awakens       | AT-ST | Millennium Falcon, Imperial shuttle  |\n| Roos Tarpals | 224 |  82 | none  | grey         | orange        |  NA | male | masculine | Naboo    | Gungan   | The Phantom Menace | <!----> | <!----> |\n| Grievous     | 216 | 159 | none  | brown, white | green, yellow |  NA | male | masculine | Kalee    | Kaleesh  | Revenge of the Sith | Tsmeu-6 personal wheel bike | Belbullab-22 starfighter |\n\n",
            "text/latex": "A tibble: 6 × 14\n\\begin{tabular}{llllllllllllll}\n name & height & mass & hair\\_color & skin\\_color & eye\\_color & birth\\_year & sex & gender & homeworld & species & films & vehicles & starships\\\\\n <chr> & <int> & <dbl> & <chr> & <chr> & <chr> & <dbl> & <chr> & <chr> & <chr> & <chr> & <list> & <list> & <list>\\\\\n\\hline\n\t Yarael Poof  & 264 &  NA & none  & white        & yellow        &  NA & male & masculine & Quermia  & Quermian & The Phantom Menace &  & \\\\\n\t Tarfful      & 234 & 136 & brown & brown        & blue          &  NA & male & masculine & Kashyyyk & Wookiee  & Revenge of the Sith &  & \\\\\n\t Lama Su      & 229 &  88 & none  & grey         & black         &  NA & male & masculine & Kamino   & Kaminoan & Attack of the Clones &  & \\\\\n\t Chewbacca    & 228 & 112 & brown & unknown      & blue          & 200 & male & masculine & Kashyyyk & Wookiee  & The Empire Strikes Back, Revenge of the Sith    , Return of the Jedi     , A New Hope             , The Force Awakens       & AT-ST & Millennium Falcon, Imperial shuttle \\\\\n\t Roos Tarpals & 224 &  82 & none  & grey         & orange        &  NA & male & masculine & Naboo    & Gungan   & The Phantom Menace &  & \\\\\n\t Grievous     & 216 & 159 & none  & brown, white & green, yellow &  NA & male & masculine & Kalee    & Kaleesh  & Revenge of the Sith & Tsmeu-6 personal wheel bike & Belbullab-22 starfighter\\\\\n\\end{tabular}\n",
            "text/plain": [
              "  name         height mass hair_color skin_color   eye_color     birth_year\n",
              "1 Yarael Poof  264     NA  none       white        yellow         NA       \n",
              "2 Tarfful      234    136  brown      brown        blue           NA       \n",
              "3 Lama Su      229     88  none       grey         black          NA       \n",
              "4 Chewbacca    228    112  brown      unknown      blue          200       \n",
              "5 Roos Tarpals 224     82  none       grey         orange         NA       \n",
              "6 Grievous     216    159  none       brown, white green, yellow  NA       \n",
              "  sex  gender    homeworld species \n",
              "1 male masculine Quermia   Quermian\n",
              "2 male masculine Kashyyyk  Wookiee \n",
              "3 male masculine Kamino    Kaminoan\n",
              "4 male masculine Kashyyyk  Wookiee \n",
              "5 male masculine Naboo     Gungan  \n",
              "6 male masculine Kalee     Kaleesh \n",
              "  films                                                                                                                      \n",
              "1 The Phantom Menace                                                                                                         \n",
              "2 Revenge of the Sith                                                                                                        \n",
              "3 Attack of the Clones                                                                                                       \n",
              "4 The Empire Strikes Back, Revenge of the Sith    , Return of the Jedi     , A New Hope             , The Force Awakens      \n",
              "5 The Phantom Menace                                                                                                         \n",
              "6 Revenge of the Sith                                                                                                        \n",
              "  vehicles                    starships                           \n",
              "1                                                                 \n",
              "2                                                                 \n",
              "3                                                                 \n",
              "4 AT-ST                       Millennium Falcon, Imperial shuttle \n",
              "5                                                                 \n",
              "6 Tsmeu-6 personal wheel bike Belbullab-22 starfighter            "
            ]
          },
          "metadata": {}
        }
      ]
    },
    {
      "cell_type": "markdown",
      "id": "unavailable-probability",
      "metadata": {
        "id": "unavailable-probability"
      },
      "source": [
        "![mutate.png](data:image/png;base64,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)"
      ]
    },
    {
      "cell_type": "markdown",
      "source": [
        "# **mutate()** \n",
        "\n",
        "Añade nuevas variables (columnas) que son funciones de variables existentes. Tambien modifica las variables ya existentes.\n",
        "\n",
        "> **mutate(data, ...)**"
      ],
      "metadata": {
        "id": "XR54Y8mudd5e"
      },
      "id": "XR54Y8mudd5e"
    },
    {
      "cell_type": "markdown",
      "source": [
        "# Ejemplo:"
      ],
      "metadata": {
        "id": "LQXVCJrkebnP"
      },
      "id": "LQXVCJrkebnP"
    },
    {
      "cell_type": "code",
      "source": [
        "df06 <- starwars %>%\n",
        "  mutate(imc = mass/height^2) %>%\n",
        "  filter(!is.na(height), !is.na(mass))\n",
        "\n",
        "head(df06)"
      ],
      "metadata": {
        "colab": {
          "base_uri": "https://localhost:8080/",
          "height": 1000
        },
        "id": "L-gqUN6TdX9a",
        "outputId": "63c3111b-4f1d-49e2-91ad-8a6df828425c"
      },
      "id": "L-gqUN6TdX9a",
      "execution_count": 97,
      "outputs": [
        {
          "output_type": "display_data",
          "data": {
            "text/html": [
              "<table class=\"dataframe\">\n",
              "<caption>A tibble: 6 × 15</caption>\n",
              "<thead>\n",
              "\t<tr><th scope=col>name</th><th scope=col>height</th><th scope=col>mass</th><th scope=col>hair_color</th><th scope=col>skin_color</th><th scope=col>eye_color</th><th scope=col>birth_year</th><th scope=col>sex</th><th scope=col>gender</th><th scope=col>homeworld</th><th scope=col>species</th><th scope=col>films</th><th scope=col>vehicles</th><th scope=col>starships</th><th scope=col>imc</th></tr>\n",
              "\t<tr><th scope=col>&lt;chr&gt;</th><th scope=col>&lt;int&gt;</th><th scope=col>&lt;dbl&gt;</th><th scope=col>&lt;chr&gt;</th><th scope=col>&lt;chr&gt;</th><th scope=col>&lt;chr&gt;</th><th scope=col>&lt;dbl&gt;</th><th scope=col>&lt;chr&gt;</th><th scope=col>&lt;chr&gt;</th><th scope=col>&lt;chr&gt;</th><th scope=col>&lt;chr&gt;</th><th scope=col>&lt;list&gt;</th><th scope=col>&lt;list&gt;</th><th scope=col>&lt;list&gt;</th><th scope=col>&lt;dbl&gt;</th></tr>\n",
              "</thead>\n",
              "<tbody>\n",
              "\t<tr><td>Luke Skywalker</td><td>172</td><td> 77</td><td>blond      </td><td>fair       </td><td>blue  </td><td> 19.0</td><td>male  </td><td>masculine</td><td>Tatooine</td><td>Human</td><td>The Empire Strikes Back, Revenge of the Sith    , Return of the Jedi     , A New Hope             , The Force Awakens      </td><td>Snowspeeder          , Imperial Speeder Bike</td><td>X-wing          , Imperial shuttle</td><td>0.002602758</td></tr>\n",
              "\t<tr><td>C-3PO         </td><td>167</td><td> 75</td><td>NA         </td><td>gold       </td><td>yellow</td><td>112.0</td><td>none  </td><td>masculine</td><td>Tatooine</td><td>Droid</td><td>The Empire Strikes Back, Attack of the Clones   , The Phantom Menace     , Revenge of the Sith    , Return of the Jedi     , A New Hope             </td><td></td><td></td><td>0.002689232</td></tr>\n",
              "\t<tr><td>R2-D2         </td><td> 96</td><td> 32</td><td>NA         </td><td>white, blue</td><td>red   </td><td> 33.0</td><td>none  </td><td>masculine</td><td>Naboo   </td><td>Droid</td><td>The Empire Strikes Back, Attack of the Clones   , The Phantom Menace     , Revenge of the Sith    , Return of the Jedi     , A New Hope             , The Force Awakens      </td><td></td><td></td><td>0.003472222</td></tr>\n",
              "\t<tr><td>Darth Vader   </td><td>202</td><td>136</td><td>none       </td><td>white      </td><td>yellow</td><td> 41.9</td><td>male  </td><td>masculine</td><td>Tatooine</td><td>Human</td><td>The Empire Strikes Back, Revenge of the Sith    , Return of the Jedi     , A New Hope             </td><td></td><td>TIE Advanced x1</td><td>0.003333007</td></tr>\n",
              "\t<tr><td>Leia Organa   </td><td>150</td><td> 49</td><td>brown      </td><td>light      </td><td>brown </td><td> 19.0</td><td>female</td><td>feminine </td><td>Alderaan</td><td>Human</td><td>The Empire Strikes Back, Revenge of the Sith    , Return of the Jedi     , A New Hope             , The Force Awakens      </td><td>Imperial Speeder Bike</td><td></td><td>0.002177778</td></tr>\n",
              "\t<tr><td>Owen Lars     </td><td>178</td><td>120</td><td>brown, grey</td><td>light      </td><td>blue  </td><td> 52.0</td><td>male  </td><td>masculine</td><td>Tatooine</td><td>Human</td><td>Attack of the Clones, Revenge of the Sith , A New Hope          </td><td></td><td></td><td>0.003787401</td></tr>\n",
              "</tbody>\n",
              "</table>\n"
            ],
            "text/markdown": "\nA tibble: 6 × 15\n\n| name &lt;chr&gt; | height &lt;int&gt; | mass &lt;dbl&gt; | hair_color &lt;chr&gt; | skin_color &lt;chr&gt; | eye_color &lt;chr&gt; | birth_year &lt;dbl&gt; | sex &lt;chr&gt; | gender &lt;chr&gt; | homeworld &lt;chr&gt; | species &lt;chr&gt; | films &lt;list&gt; | vehicles &lt;list&gt; | starships &lt;list&gt; | imc &lt;dbl&gt; |\n|---|---|---|---|---|---|---|---|---|---|---|---|---|---|---|\n| Luke Skywalker | 172 |  77 | blond       | fair        | blue   |  19.0 | male   | masculine | Tatooine | Human | The Empire Strikes Back, Revenge of the Sith    , Return of the Jedi     , A New Hope             , The Force Awakens       | Snowspeeder          , Imperial Speeder Bike | X-wing          , Imperial shuttle | 0.002602758 |\n| C-3PO          | 167 |  75 | NA          | gold        | yellow | 112.0 | none   | masculine | Tatooine | Droid | The Empire Strikes Back, Attack of the Clones   , The Phantom Menace     , Revenge of the Sith    , Return of the Jedi     , A New Hope              | <!----> | <!----> | 0.002689232 |\n| R2-D2          |  96 |  32 | NA          | white, blue | red    |  33.0 | none   | masculine | Naboo    | Droid | The Empire Strikes Back, Attack of the Clones   , The Phantom Menace     , Revenge of the Sith    , Return of the Jedi     , A New Hope             , The Force Awakens       | <!----> | <!----> | 0.003472222 |\n| Darth Vader    | 202 | 136 | none        | white       | yellow |  41.9 | male   | masculine | Tatooine | Human | The Empire Strikes Back, Revenge of the Sith    , Return of the Jedi     , A New Hope              | <!----> | TIE Advanced x1 | 0.003333007 |\n| Leia Organa    | 150 |  49 | brown       | light       | brown  |  19.0 | female | feminine  | Alderaan | Human | The Empire Strikes Back, Revenge of the Sith    , Return of the Jedi     , A New Hope             , The Force Awakens       | Imperial Speeder Bike | <!----> | 0.002177778 |\n| Owen Lars      | 178 | 120 | brown, grey | light       | blue   |  52.0 | male   | masculine | Tatooine | Human | Attack of the Clones, Revenge of the Sith , A New Hope           | <!----> | <!----> | 0.003787401 |\n\n",
            "text/latex": "A tibble: 6 × 15\n\\begin{tabular}{lllllllllllllll}\n name & height & mass & hair\\_color & skin\\_color & eye\\_color & birth\\_year & sex & gender & homeworld & species & films & vehicles & starships & imc\\\\\n <chr> & <int> & <dbl> & <chr> & <chr> & <chr> & <dbl> & <chr> & <chr> & <chr> & <chr> & <list> & <list> & <list> & <dbl>\\\\\n\\hline\n\t Luke Skywalker & 172 &  77 & blond       & fair        & blue   &  19.0 & male   & masculine & Tatooine & Human & The Empire Strikes Back, Revenge of the Sith    , Return of the Jedi     , A New Hope             , The Force Awakens       & Snowspeeder          , Imperial Speeder Bike & X-wing          , Imperial shuttle & 0.002602758\\\\\n\t C-3PO          & 167 &  75 & NA          & gold        & yellow & 112.0 & none   & masculine & Tatooine & Droid & The Empire Strikes Back, Attack of the Clones   , The Phantom Menace     , Revenge of the Sith    , Return of the Jedi     , A New Hope              &  &  & 0.002689232\\\\\n\t R2-D2          &  96 &  32 & NA          & white, blue & red    &  33.0 & none   & masculine & Naboo    & Droid & The Empire Strikes Back, Attack of the Clones   , The Phantom Menace     , Revenge of the Sith    , Return of the Jedi     , A New Hope             , The Force Awakens       &  &  & 0.003472222\\\\\n\t Darth Vader    & 202 & 136 & none        & white       & yellow &  41.9 & male   & masculine & Tatooine & Human & The Empire Strikes Back, Revenge of the Sith    , Return of the Jedi     , A New Hope              &  & TIE Advanced x1 & 0.003333007\\\\\n\t Leia Organa    & 150 &  49 & brown       & light       & brown  &  19.0 & female & feminine  & Alderaan & Human & The Empire Strikes Back, Revenge of the Sith    , Return of the Jedi     , A New Hope             , The Force Awakens       & Imperial Speeder Bike &  & 0.002177778\\\\\n\t Owen Lars      & 178 & 120 & brown, grey & light       & blue   &  52.0 & male   & masculine & Tatooine & Human & Attack of the Clones, Revenge of the Sith , A New Hope           &  &  & 0.003787401\\\\\n\\end{tabular}\n",
            "text/plain": [
              "  name           height mass hair_color  skin_color  eye_color birth_year\n",
              "1 Luke Skywalker 172     77  blond       fair        blue       19.0     \n",
              "2 C-3PO          167     75  NA          gold        yellow    112.0     \n",
              "3 R2-D2           96     32  NA          white, blue red        33.0     \n",
              "4 Darth Vader    202    136  none        white       yellow     41.9     \n",
              "5 Leia Organa    150     49  brown       light       brown      19.0     \n",
              "6 Owen Lars      178    120  brown, grey light       blue       52.0     \n",
              "  sex    gender    homeworld species\n",
              "1 male   masculine Tatooine  Human  \n",
              "2 none   masculine Tatooine  Droid  \n",
              "3 none   masculine Naboo     Droid  \n",
              "4 male   masculine Tatooine  Human  \n",
              "5 female feminine  Alderaan  Human  \n",
              "6 male   masculine Tatooine  Human  \n",
              "  films                                                                                                                                                                        \n",
              "1 The Empire Strikes Back, Revenge of the Sith    , Return of the Jedi     , A New Hope             , The Force Awakens                                                        \n",
              "2 The Empire Strikes Back, Attack of the Clones   , The Phantom Menace     , Revenge of the Sith    , Return of the Jedi     , A New Hope                                      \n",
              "3 The Empire Strikes Back, Attack of the Clones   , The Phantom Menace     , Revenge of the Sith    , Return of the Jedi     , A New Hope             , The Force Awakens      \n",
              "4 The Empire Strikes Back, Revenge of the Sith    , Return of the Jedi     , A New Hope                                                                                        \n",
              "5 The Empire Strikes Back, Revenge of the Sith    , Return of the Jedi     , A New Hope             , The Force Awakens                                                        \n",
              "6 Attack of the Clones, Revenge of the Sith , A New Hope                                                                                                                       \n",
              "  vehicles                                    \n",
              "1 Snowspeeder          , Imperial Speeder Bike\n",
              "2                                             \n",
              "3                                             \n",
              "4                                             \n",
              "5 Imperial Speeder Bike                       \n",
              "6                                             \n",
              "  starships                          imc        \n",
              "1 X-wing          , Imperial shuttle 0.002602758\n",
              "2                                    0.002689232\n",
              "3                                    0.003472222\n",
              "4 TIE Advanced x1                    0.003333007\n",
              "5                                    0.002177778\n",
              "6                                    0.003787401"
            ]
          },
          "metadata": {}
        }
      ]
    },
    {
      "cell_type": "markdown",
      "source": [
        "# **Caso Práctico : Incidencia delictiva**"
      ],
      "metadata": {
        "id": "jn5ThIbvUUdV"
      },
      "id": "jn5ThIbvUUdV"
    },
    {
      "cell_type": "markdown",
      "source": [
        "\n",
        "Incidencia delictiva del fuero común a nivel municipal. El dataset contiene $7$ archivos con los años del $2015$ al $2021$, con los siguientes encabezados:\n",
        "\n",
        "- 'Año'\n",
        "- 'Clave_Ent'\n",
        "- 'Entidad'\n",
        "- 'Cve. Municipio'\n",
        "- 'Municipio'\n",
        "- 'Bien jurídico afectado'\n",
        "- 'Tipo de delito'\n",
        "- 'Subtipo de delito'\n",
        "- 'Modalidad'\n",
        "- 'Enero'\n",
        "- 'Febrero'\n",
        "- 'Marzo'\n",
        "- 'Abril'\n",
        "- 'Mayo'\n",
        "- 'Junio'\n",
        "- 'Julio'\n",
        "- 'Agosto'\n",
        "- 'Septiembre'\n",
        "- 'Octubre'\n",
        "- 'Noviembre'\n",
        "- 'Diciembre'"
      ],
      "metadata": {
        "id": "4q_uFQLqUVDn"
      },
      "id": "4q_uFQLqUVDn"
    },
    {
      "cell_type": "markdown",
      "source": [
        "**Fuente** : [Incidencia Delictiva](https://datos.gob.mx/busca/dataset/incidencia-delictiva-del-fuero-comun-a-nivel-municipal)"
      ],
      "metadata": {
        "id": "y147un3aUVok"
      },
      "id": "y147un3aUVok"
    },
    {
      "cell_type": "code",
      "source": [
        "library('tidyr')\n",
        "library('dplyr')"
      ],
      "metadata": {
        "id": "9QAZP7oJUgxM"
      },
      "id": "9QAZP7oJUgxM",
      "execution_count": null,
      "outputs": []
    },
    {
      "cell_type": "code",
      "source": [
        "# download from github\n",
        "# download.file(url ='https://github.com/JulioCesarMS/R_course/blob/master/datasets/Delitos.zip', destfile = \"Delitos.zip\")\n"
      ],
      "metadata": {
        "id": "g90BLz1Xe3GU"
      },
      "id": "g90BLz1Xe3GU",
      "execution_count": null,
      "outputs": []
    },
    {
      "cell_type": "code",
      "source": [
        "unzip(zipfile = \"Municipal-Delitos-2015-2021_dic2021.zip\")"
      ],
      "metadata": {
        "id": "neeXrHKquOmY"
      },
      "id": "neeXrHKquOmY",
      "execution_count": null,
      "outputs": []
    },
    {
      "cell_type": "code",
      "source": [
        "df2015 <- read.csv('2015.csv', header=T, fileEncoding = \"Latin1\", check.names = F)\n",
        "head(df2015)"
      ],
      "metadata": {
        "colab": {
          "base_uri": "https://localhost:8080/",
          "height": 653
        },
        "id": "RiXasZrLtrN1",
        "outputId": "3c5313e6-1a44-4f19-be06-5012372d5ced"
      },
      "id": "RiXasZrLtrN1",
      "execution_count": null,
      "outputs": [
        {
          "output_type": "display_data",
          "data": {
            "text/html": [
              "<table class=\"dataframe\">\n",
              "<caption>A data.frame: 6 × 21</caption>\n",
              "<thead>\n",
              "\t<tr><th></th><th scope=col>Año</th><th scope=col>Clave_Ent</th><th scope=col>Entidad</th><th scope=col>Cve. Municipio</th><th scope=col>Municipio</th><th scope=col>Bien jurídico afectado</th><th scope=col>Tipo de delito</th><th scope=col>Subtipo de delito</th><th scope=col>Modalidad</th><th scope=col>Enero</th><th scope=col>⋯</th><th scope=col>Marzo</th><th scope=col>Abril</th><th scope=col>Mayo</th><th scope=col>Junio</th><th scope=col>Julio</th><th scope=col>Agosto</th><th scope=col>Septiembre</th><th scope=col>Octubre</th><th scope=col>Noviembre</th><th scope=col>Diciembre</th></tr>\n",
              "\t<tr><th></th><th scope=col>&lt;int&gt;</th><th scope=col>&lt;int&gt;</th><th scope=col>&lt;chr&gt;</th><th scope=col>&lt;int&gt;</th><th scope=col>&lt;chr&gt;</th><th scope=col>&lt;chr&gt;</th><th scope=col>&lt;chr&gt;</th><th scope=col>&lt;chr&gt;</th><th scope=col>&lt;chr&gt;</th><th scope=col>&lt;int&gt;</th><th scope=col>⋯</th><th scope=col>&lt;int&gt;</th><th scope=col>&lt;int&gt;</th><th scope=col>&lt;int&gt;</th><th scope=col>&lt;int&gt;</th><th scope=col>&lt;int&gt;</th><th scope=col>&lt;int&gt;</th><th scope=col>&lt;int&gt;</th><th scope=col>&lt;int&gt;</th><th scope=col>&lt;int&gt;</th><th scope=col>&lt;int&gt;</th></tr>\n",
              "</thead>\n",
              "<tbody>\n",
              "\t<tr><th scope=row>1</th><td>2015</td><td>1</td><td>Aguascalientes</td><td>1001</td><td>Aguascalientes</td><td>La vida y la Integridad corporal</td><td>Homicidio</td><td>Homicidio doloso </td><td>Con arma de fuego</td><td>2</td><td>⋯</td><td>1</td><td>1</td><td>0</td><td>1</td><td>1</td><td>0</td><td>2</td><td>1</td><td>0</td><td>1</td></tr>\n",
              "\t<tr><th scope=row>2</th><td>2015</td><td>1</td><td>Aguascalientes</td><td>1001</td><td>Aguascalientes</td><td>La vida y la Integridad corporal</td><td>Homicidio</td><td>Homicidio doloso </td><td>Con arma blanca  </td><td>1</td><td>⋯</td><td>0</td><td>0</td><td>0</td><td>1</td><td>0</td><td>1</td><td>0</td><td>0</td><td>0</td><td>0</td></tr>\n",
              "\t<tr><th scope=row>3</th><td>2015</td><td>1</td><td>Aguascalientes</td><td>1001</td><td>Aguascalientes</td><td>La vida y la Integridad corporal</td><td>Homicidio</td><td>Homicidio doloso </td><td>Con otro elemento</td><td>0</td><td>⋯</td><td>1</td><td>1</td><td>3</td><td>2</td><td>0</td><td>1</td><td>2</td><td>0</td><td>0</td><td>0</td></tr>\n",
              "\t<tr><th scope=row>4</th><td>2015</td><td>1</td><td>Aguascalientes</td><td>1001</td><td>Aguascalientes</td><td>La vida y la Integridad corporal</td><td>Homicidio</td><td>Homicidio doloso </td><td>No especificado  </td><td>1</td><td>⋯</td><td>0</td><td>1</td><td>0</td><td>0</td><td>0</td><td>0</td><td>0</td><td>0</td><td>0</td><td>0</td></tr>\n",
              "\t<tr><th scope=row>5</th><td>2015</td><td>1</td><td>Aguascalientes</td><td>1001</td><td>Aguascalientes</td><td>La vida y la Integridad corporal</td><td>Homicidio</td><td>Homicidio culposo</td><td>Con arma de fuego</td><td>0</td><td>⋯</td><td>0</td><td>0</td><td>1</td><td>0</td><td>0</td><td>0</td><td>0</td><td>0</td><td>0</td><td>0</td></tr>\n",
              "\t<tr><th scope=row>6</th><td>2015</td><td>1</td><td>Aguascalientes</td><td>1001</td><td>Aguascalientes</td><td>La vida y la Integridad corporal</td><td>Homicidio</td><td>Homicidio culposo</td><td>Con arma blanca  </td><td>0</td><td>⋯</td><td>0</td><td>0</td><td>0</td><td>0</td><td>0</td><td>0</td><td>0</td><td>0</td><td>0</td><td>0</td></tr>\n",
              "</tbody>\n",
              "</table>\n"
            ],
            "text/markdown": "\nA data.frame: 6 × 21\n\n| <!--/--> | Año &lt;int&gt; | Clave_Ent &lt;int&gt; | Entidad &lt;chr&gt; | Cve. Municipio &lt;int&gt; | Municipio &lt;chr&gt; | Bien jurídico afectado &lt;chr&gt; | Tipo de delito &lt;chr&gt; | Subtipo de delito &lt;chr&gt; | Modalidad &lt;chr&gt; | Enero &lt;int&gt; | ⋯ ⋯ | Marzo &lt;int&gt; | Abril &lt;int&gt; | Mayo &lt;int&gt; | Junio &lt;int&gt; | Julio &lt;int&gt; | Agosto &lt;int&gt; | Septiembre &lt;int&gt; | Octubre &lt;int&gt; | Noviembre &lt;int&gt; | Diciembre &lt;int&gt; |\n|---|---|---|---|---|---|---|---|---|---|---|---|---|---|---|---|---|---|---|---|---|---|\n| 1 | 2015 | 1 | Aguascalientes | 1001 | Aguascalientes | La vida y la Integridad corporal | Homicidio | Homicidio doloso  | Con arma de fuego | 2 | ⋯ | 1 | 1 | 0 | 1 | 1 | 0 | 2 | 1 | 0 | 1 |\n| 2 | 2015 | 1 | Aguascalientes | 1001 | Aguascalientes | La vida y la Integridad corporal | Homicidio | Homicidio doloso  | Con arma blanca   | 1 | ⋯ | 0 | 0 | 0 | 1 | 0 | 1 | 0 | 0 | 0 | 0 |\n| 3 | 2015 | 1 | Aguascalientes | 1001 | Aguascalientes | La vida y la Integridad corporal | Homicidio | Homicidio doloso  | Con otro elemento | 0 | ⋯ | 1 | 1 | 3 | 2 | 0 | 1 | 2 | 0 | 0 | 0 |\n| 4 | 2015 | 1 | Aguascalientes | 1001 | Aguascalientes | La vida y la Integridad corporal | Homicidio | Homicidio doloso  | No especificado   | 1 | ⋯ | 0 | 1 | 0 | 0 | 0 | 0 | 0 | 0 | 0 | 0 |\n| 5 | 2015 | 1 | Aguascalientes | 1001 | Aguascalientes | La vida y la Integridad corporal | Homicidio | Homicidio culposo | Con arma de fuego | 0 | ⋯ | 0 | 0 | 1 | 0 | 0 | 0 | 0 | 0 | 0 | 0 |\n| 6 | 2015 | 1 | Aguascalientes | 1001 | Aguascalientes | La vida y la Integridad corporal | Homicidio | Homicidio culposo | Con arma blanca   | 0 | ⋯ | 0 | 0 | 0 | 0 | 0 | 0 | 0 | 0 | 0 | 0 |\n\n",
            "text/latex": "A data.frame: 6 × 21\n\\begin{tabular}{r|lllllllllllllllllllll}\n  & Año & Clave\\_Ent & Entidad & Cve. Municipio & Municipio & Bien jurídico afectado & Tipo de delito & Subtipo de delito & Modalidad & Enero & ⋯ & Marzo & Abril & Mayo & Junio & Julio & Agosto & Septiembre & Octubre & Noviembre & Diciembre\\\\\n  & <int> & <int> & <chr> & <int> & <chr> & <chr> & <chr> & <chr> & <chr> & <int> & ⋯ & <int> & <int> & <int> & <int> & <int> & <int> & <int> & <int> & <int> & <int>\\\\\n\\hline\n\t1 & 2015 & 1 & Aguascalientes & 1001 & Aguascalientes & La vida y la Integridad corporal & Homicidio & Homicidio doloso  & Con arma de fuego & 2 & ⋯ & 1 & 1 & 0 & 1 & 1 & 0 & 2 & 1 & 0 & 1\\\\\n\t2 & 2015 & 1 & Aguascalientes & 1001 & Aguascalientes & La vida y la Integridad corporal & Homicidio & Homicidio doloso  & Con arma blanca   & 1 & ⋯ & 0 & 0 & 0 & 1 & 0 & 1 & 0 & 0 & 0 & 0\\\\\n\t3 & 2015 & 1 & Aguascalientes & 1001 & Aguascalientes & La vida y la Integridad corporal & Homicidio & Homicidio doloso  & Con otro elemento & 0 & ⋯ & 1 & 1 & 3 & 2 & 0 & 1 & 2 & 0 & 0 & 0\\\\\n\t4 & 2015 & 1 & Aguascalientes & 1001 & Aguascalientes & La vida y la Integridad corporal & Homicidio & Homicidio doloso  & No especificado   & 1 & ⋯ & 0 & 1 & 0 & 0 & 0 & 0 & 0 & 0 & 0 & 0\\\\\n\t5 & 2015 & 1 & Aguascalientes & 1001 & Aguascalientes & La vida y la Integridad corporal & Homicidio & Homicidio culposo & Con arma de fuego & 0 & ⋯ & 0 & 0 & 1 & 0 & 0 & 0 & 0 & 0 & 0 & 0\\\\\n\t6 & 2015 & 1 & Aguascalientes & 1001 & Aguascalientes & La vida y la Integridad corporal & Homicidio & Homicidio culposo & Con arma blanca   & 0 & ⋯ & 0 & 0 & 0 & 0 & 0 & 0 & 0 & 0 & 0 & 0\\\\\n\\end{tabular}\n",
            "text/plain": [
              "  Año  Clave_Ent Entidad        Cve. Municipio Municipio     \n",
              "1 2015 1         Aguascalientes 1001           Aguascalientes\n",
              "2 2015 1         Aguascalientes 1001           Aguascalientes\n",
              "3 2015 1         Aguascalientes 1001           Aguascalientes\n",
              "4 2015 1         Aguascalientes 1001           Aguascalientes\n",
              "5 2015 1         Aguascalientes 1001           Aguascalientes\n",
              "6 2015 1         Aguascalientes 1001           Aguascalientes\n",
              "  Bien jurídico afectado           Tipo de delito Subtipo de delito\n",
              "1 La vida y la Integridad corporal Homicidio      Homicidio doloso \n",
              "2 La vida y la Integridad corporal Homicidio      Homicidio doloso \n",
              "3 La vida y la Integridad corporal Homicidio      Homicidio doloso \n",
              "4 La vida y la Integridad corporal Homicidio      Homicidio doloso \n",
              "5 La vida y la Integridad corporal Homicidio      Homicidio culposo\n",
              "6 La vida y la Integridad corporal Homicidio      Homicidio culposo\n",
              "  Modalidad         Enero ⋯ Marzo Abril Mayo Junio Julio Agosto Septiembre\n",
              "1 Con arma de fuego 2     ⋯ 1     1     0    1     1     0      2         \n",
              "2 Con arma blanca   1     ⋯ 0     0     0    1     0     1      0         \n",
              "3 Con otro elemento 0     ⋯ 1     1     3    2     0     1      2         \n",
              "4 No especificado   1     ⋯ 0     1     0    0     0     0      0         \n",
              "5 Con arma de fuego 0     ⋯ 0     0     1    0     0     0      0         \n",
              "6 Con arma blanca   0     ⋯ 0     0     0    0     0     0      0         \n",
              "  Octubre Noviembre Diciembre\n",
              "1 1       0         1        \n",
              "2 0       0         0        \n",
              "3 0       0         0        \n",
              "4 0       0         0        \n",
              "5 0       0         0        \n",
              "6 0       0         0        "
            ]
          },
          "metadata": {}
        }
      ]
    },
    {
      "cell_type": "markdown",
      "source": [
        "# **Lectura de datasets**"
      ],
      "metadata": {
        "id": "hdmJXWUWPycT"
      },
      "id": "hdmJXWUWPycT"
    },
    {
      "cell_type": "markdown",
      "source": [
        "Agregamos en una lista todas las bases, del  $2015$  al  $2021$."
      ],
      "metadata": {
        "id": "kMAfLDzfP6rW"
      },
      "id": "kMAfLDzfP6rW"
    },
    {
      "cell_type": "code",
      "source": [
        "names <- c(2015:2021)\n",
        "df_list <- list()\n",
        "for(i in 1:length(names)){\n",
        "  df_list[[i]] <- read.csv(paste(names[i], '.csv', sep=''), header=T, fileEncoding = \"Latin1\", check.names = FALSE)\n",
        "}"
      ],
      "metadata": {
        "id": "b7uCBxAdP3nR"
      },
      "id": "b7uCBxAdP3nR",
      "execution_count": null,
      "outputs": []
    },
    {
      "cell_type": "markdown",
      "source": [
        "Con la función $do.call()$ concatenamos por filas todos dataframes en la lista que generamos. "
      ],
      "metadata": {
        "id": "MGfm49ozQvDe"
      },
      "id": "MGfm49ozQvDe"
    },
    {
      "cell_type": "code",
      "source": [
        "df_delitos <- do.call(\"rbind\", df_list)"
      ],
      "metadata": {
        "id": "by-ortoyP3kC"
      },
      "id": "by-ortoyP3kC",
      "execution_count": null,
      "outputs": []
    },
    {
      "cell_type": "markdown",
      "source": [
        "Verificamos que nuestro dataframe \"df_delitos\" contenga todos los años."
      ],
      "metadata": {
        "id": "-n8ZZZXNQ8-2"
      },
      "id": "-n8ZZZXNQ8-2"
    },
    {
      "cell_type": "code",
      "source": [
        "unique(df_delitos$Año)"
      ],
      "metadata": {
        "colab": {
          "base_uri": "https://localhost:8080/",
          "height": 34
        },
        "id": "rFrW_IfgP3hF",
        "outputId": "f87c0ca8-6417-4306-8eef-40547964783c"
      },
      "id": "rFrW_IfgP3hF",
      "execution_count": null,
      "outputs": [
        {
          "output_type": "display_data",
          "data": {
            "text/html": [
              "<style>\n",
              ".list-inline {list-style: none; margin:0; padding: 0}\n",
              ".list-inline>li {display: inline-block}\n",
              ".list-inline>li:not(:last-child)::after {content: \"\\00b7\"; padding: 0 .5ex}\n",
              "</style>\n",
              "<ol class=list-inline><li>2015</li><li>2016</li><li>2017</li><li>2018</li><li>2019</li><li>2020</li><li>2021</li></ol>\n"
            ],
            "text/markdown": "1. 2015\n2. 2016\n3. 2017\n4. 2018\n5. 2019\n6. 2020\n7. 2021\n\n\n",
            "text/latex": "\\begin{enumerate*}\n\\item 2015\n\\item 2016\n\\item 2017\n\\item 2018\n\\item 2019\n\\item 2020\n\\item 2021\n\\end{enumerate*}\n",
            "text/plain": [
              "[1] 2015 2016 2017 2018 2019 2020 2021"
            ]
          },
          "metadata": {}
        }
      ]
    },
    {
      "cell_type": "code",
      "source": [
        "colnames(df_delitos)"
      ],
      "metadata": {
        "colab": {
          "base_uri": "https://localhost:8080/",
          "height": 52
        },
        "id": "aTFrmlNSnH2y",
        "outputId": "79c81778-7284-474f-b929-2d8e77012a5c"
      },
      "id": "aTFrmlNSnH2y",
      "execution_count": null,
      "outputs": [
        {
          "output_type": "display_data",
          "data": {
            "text/html": [
              "<style>\n",
              ".list-inline {list-style: none; margin:0; padding: 0}\n",
              ".list-inline>li {display: inline-block}\n",
              ".list-inline>li:not(:last-child)::after {content: \"\\00b7\"; padding: 0 .5ex}\n",
              "</style>\n",
              "<ol class=list-inline><li>'Año'</li><li>'Clave_Ent'</li><li>'Entidad'</li><li>'Cve. Municipio'</li><li>'Municipio'</li><li>'Bien jurídico afectado'</li><li>'Tipo de delito'</li><li>'Subtipo de delito'</li><li>'Modalidad'</li><li>'Enero'</li><li>'Febrero'</li><li>'Marzo'</li><li>'Abril'</li><li>'Mayo'</li><li>'Junio'</li><li>'Julio'</li><li>'Agosto'</li><li>'Septiembre'</li><li>'Octubre'</li><li>'Noviembre'</li><li>'Diciembre'</li></ol>\n"
            ],
            "text/markdown": "1. 'Año'\n2. 'Clave_Ent'\n3. 'Entidad'\n4. 'Cve. Municipio'\n5. 'Municipio'\n6. 'Bien jurídico afectado'\n7. 'Tipo de delito'\n8. 'Subtipo de delito'\n9. 'Modalidad'\n10. 'Enero'\n11. 'Febrero'\n12. 'Marzo'\n13. 'Abril'\n14. 'Mayo'\n15. 'Junio'\n16. 'Julio'\n17. 'Agosto'\n18. 'Septiembre'\n19. 'Octubre'\n20. 'Noviembre'\n21. 'Diciembre'\n\n\n",
            "text/latex": "\\begin{enumerate*}\n\\item 'Año'\n\\item 'Clave\\_Ent'\n\\item 'Entidad'\n\\item 'Cve. Municipio'\n\\item 'Municipio'\n\\item 'Bien jurídico afectado'\n\\item 'Tipo de delito'\n\\item 'Subtipo de delito'\n\\item 'Modalidad'\n\\item 'Enero'\n\\item 'Febrero'\n\\item 'Marzo'\n\\item 'Abril'\n\\item 'Mayo'\n\\item 'Junio'\n\\item 'Julio'\n\\item 'Agosto'\n\\item 'Septiembre'\n\\item 'Octubre'\n\\item 'Noviembre'\n\\item 'Diciembre'\n\\end{enumerate*}\n",
            "text/plain": [
              " [1] \"Año\"                    \"Clave_Ent\"              \"Entidad\"               \n",
              " [4] \"Cve. Municipio\"         \"Municipio\"              \"Bien jurídico afectado\"\n",
              " [7] \"Tipo de delito\"         \"Subtipo de delito\"      \"Modalidad\"             \n",
              "[10] \"Enero\"                  \"Febrero\"                \"Marzo\"                 \n",
              "[13] \"Abril\"                  \"Mayo\"                   \"Junio\"                 \n",
              "[16] \"Julio\"                  \"Agosto\"                 \"Septiembre\"            \n",
              "[19] \"Octubre\"                \"Noviembre\"              \"Diciembre\"             "
            ]
          },
          "metadata": {}
        }
      ]
    },
    {
      "cell_type": "code",
      "source": [
        "head(df_delitos)"
      ],
      "metadata": {
        "colab": {
          "base_uri": "https://localhost:8080/",
          "height": 653
        },
        "id": "eskJDA6yP3d1",
        "outputId": "91b7015d-c5ca-4b78-d534-6dd7f91d1612"
      },
      "id": "eskJDA6yP3d1",
      "execution_count": null,
      "outputs": [
        {
          "output_type": "display_data",
          "data": {
            "text/html": [
              "<table class=\"dataframe\">\n",
              "<caption>A data.frame: 6 × 21</caption>\n",
              "<thead>\n",
              "\t<tr><th></th><th scope=col>Año</th><th scope=col>Clave_Ent</th><th scope=col>Entidad</th><th scope=col>Cve. Municipio</th><th scope=col>Municipio</th><th scope=col>Bien jurídico afectado</th><th scope=col>Tipo de delito</th><th scope=col>Subtipo de delito</th><th scope=col>Modalidad</th><th scope=col>Enero</th><th scope=col>⋯</th><th scope=col>Marzo</th><th scope=col>Abril</th><th scope=col>Mayo</th><th scope=col>Junio</th><th scope=col>Julio</th><th scope=col>Agosto</th><th scope=col>Septiembre</th><th scope=col>Octubre</th><th scope=col>Noviembre</th><th scope=col>Diciembre</th></tr>\n",
              "\t<tr><th></th><th scope=col>&lt;int&gt;</th><th scope=col>&lt;int&gt;</th><th scope=col>&lt;chr&gt;</th><th scope=col>&lt;int&gt;</th><th scope=col>&lt;chr&gt;</th><th scope=col>&lt;chr&gt;</th><th scope=col>&lt;chr&gt;</th><th scope=col>&lt;chr&gt;</th><th scope=col>&lt;chr&gt;</th><th scope=col>&lt;int&gt;</th><th scope=col>⋯</th><th scope=col>&lt;int&gt;</th><th scope=col>&lt;int&gt;</th><th scope=col>&lt;int&gt;</th><th scope=col>&lt;int&gt;</th><th scope=col>&lt;int&gt;</th><th scope=col>&lt;int&gt;</th><th scope=col>&lt;int&gt;</th><th scope=col>&lt;int&gt;</th><th scope=col>&lt;int&gt;</th><th scope=col>&lt;int&gt;</th></tr>\n",
              "</thead>\n",
              "<tbody>\n",
              "\t<tr><th scope=row>1</th><td>2015</td><td>1</td><td>Aguascalientes</td><td>1001</td><td>Aguascalientes</td><td>La vida y la Integridad corporal</td><td>Homicidio</td><td>Homicidio doloso </td><td>Con arma de fuego</td><td>2</td><td>⋯</td><td>1</td><td>1</td><td>0</td><td>1</td><td>1</td><td>0</td><td>2</td><td>1</td><td>0</td><td>1</td></tr>\n",
              "\t<tr><th scope=row>2</th><td>2015</td><td>1</td><td>Aguascalientes</td><td>1001</td><td>Aguascalientes</td><td>La vida y la Integridad corporal</td><td>Homicidio</td><td>Homicidio doloso </td><td>Con arma blanca  </td><td>1</td><td>⋯</td><td>0</td><td>0</td><td>0</td><td>1</td><td>0</td><td>1</td><td>0</td><td>0</td><td>0</td><td>0</td></tr>\n",
              "\t<tr><th scope=row>3</th><td>2015</td><td>1</td><td>Aguascalientes</td><td>1001</td><td>Aguascalientes</td><td>La vida y la Integridad corporal</td><td>Homicidio</td><td>Homicidio doloso </td><td>Con otro elemento</td><td>0</td><td>⋯</td><td>1</td><td>1</td><td>3</td><td>2</td><td>0</td><td>1</td><td>2</td><td>0</td><td>0</td><td>0</td></tr>\n",
              "\t<tr><th scope=row>4</th><td>2015</td><td>1</td><td>Aguascalientes</td><td>1001</td><td>Aguascalientes</td><td>La vida y la Integridad corporal</td><td>Homicidio</td><td>Homicidio doloso </td><td>No especificado  </td><td>1</td><td>⋯</td><td>0</td><td>1</td><td>0</td><td>0</td><td>0</td><td>0</td><td>0</td><td>0</td><td>0</td><td>0</td></tr>\n",
              "\t<tr><th scope=row>5</th><td>2015</td><td>1</td><td>Aguascalientes</td><td>1001</td><td>Aguascalientes</td><td>La vida y la Integridad corporal</td><td>Homicidio</td><td>Homicidio culposo</td><td>Con arma de fuego</td><td>0</td><td>⋯</td><td>0</td><td>0</td><td>1</td><td>0</td><td>0</td><td>0</td><td>0</td><td>0</td><td>0</td><td>0</td></tr>\n",
              "\t<tr><th scope=row>6</th><td>2015</td><td>1</td><td>Aguascalientes</td><td>1001</td><td>Aguascalientes</td><td>La vida y la Integridad corporal</td><td>Homicidio</td><td>Homicidio culposo</td><td>Con arma blanca  </td><td>0</td><td>⋯</td><td>0</td><td>0</td><td>0</td><td>0</td><td>0</td><td>0</td><td>0</td><td>0</td><td>0</td><td>0</td></tr>\n",
              "</tbody>\n",
              "</table>\n"
            ],
            "text/markdown": "\nA data.frame: 6 × 21\n\n| <!--/--> | Año &lt;int&gt; | Clave_Ent &lt;int&gt; | Entidad &lt;chr&gt; | Cve. Municipio &lt;int&gt; | Municipio &lt;chr&gt; | Bien jurídico afectado &lt;chr&gt; | Tipo de delito &lt;chr&gt; | Subtipo de delito &lt;chr&gt; | Modalidad &lt;chr&gt; | Enero &lt;int&gt; | ⋯ ⋯ | Marzo &lt;int&gt; | Abril &lt;int&gt; | Mayo &lt;int&gt; | Junio &lt;int&gt; | Julio &lt;int&gt; | Agosto &lt;int&gt; | Septiembre &lt;int&gt; | Octubre &lt;int&gt; | Noviembre &lt;int&gt; | Diciembre &lt;int&gt; |\n|---|---|---|---|---|---|---|---|---|---|---|---|---|---|---|---|---|---|---|---|---|---|\n| 1 | 2015 | 1 | Aguascalientes | 1001 | Aguascalientes | La vida y la Integridad corporal | Homicidio | Homicidio doloso  | Con arma de fuego | 2 | ⋯ | 1 | 1 | 0 | 1 | 1 | 0 | 2 | 1 | 0 | 1 |\n| 2 | 2015 | 1 | Aguascalientes | 1001 | Aguascalientes | La vida y la Integridad corporal | Homicidio | Homicidio doloso  | Con arma blanca   | 1 | ⋯ | 0 | 0 | 0 | 1 | 0 | 1 | 0 | 0 | 0 | 0 |\n| 3 | 2015 | 1 | Aguascalientes | 1001 | Aguascalientes | La vida y la Integridad corporal | Homicidio | Homicidio doloso  | Con otro elemento | 0 | ⋯ | 1 | 1 | 3 | 2 | 0 | 1 | 2 | 0 | 0 | 0 |\n| 4 | 2015 | 1 | Aguascalientes | 1001 | Aguascalientes | La vida y la Integridad corporal | Homicidio | Homicidio doloso  | No especificado   | 1 | ⋯ | 0 | 1 | 0 | 0 | 0 | 0 | 0 | 0 | 0 | 0 |\n| 5 | 2015 | 1 | Aguascalientes | 1001 | Aguascalientes | La vida y la Integridad corporal | Homicidio | Homicidio culposo | Con arma de fuego | 0 | ⋯ | 0 | 0 | 1 | 0 | 0 | 0 | 0 | 0 | 0 | 0 |\n| 6 | 2015 | 1 | Aguascalientes | 1001 | Aguascalientes | La vida y la Integridad corporal | Homicidio | Homicidio culposo | Con arma blanca   | 0 | ⋯ | 0 | 0 | 0 | 0 | 0 | 0 | 0 | 0 | 0 | 0 |\n\n",
            "text/latex": "A data.frame: 6 × 21\n\\begin{tabular}{r|lllllllllllllllllllll}\n  & Año & Clave\\_Ent & Entidad & Cve. Municipio & Municipio & Bien jurídico afectado & Tipo de delito & Subtipo de delito & Modalidad & Enero & ⋯ & Marzo & Abril & Mayo & Junio & Julio & Agosto & Septiembre & Octubre & Noviembre & Diciembre\\\\\n  & <int> & <int> & <chr> & <int> & <chr> & <chr> & <chr> & <chr> & <chr> & <int> & ⋯ & <int> & <int> & <int> & <int> & <int> & <int> & <int> & <int> & <int> & <int>\\\\\n\\hline\n\t1 & 2015 & 1 & Aguascalientes & 1001 & Aguascalientes & La vida y la Integridad corporal & Homicidio & Homicidio doloso  & Con arma de fuego & 2 & ⋯ & 1 & 1 & 0 & 1 & 1 & 0 & 2 & 1 & 0 & 1\\\\\n\t2 & 2015 & 1 & Aguascalientes & 1001 & Aguascalientes & La vida y la Integridad corporal & Homicidio & Homicidio doloso  & Con arma blanca   & 1 & ⋯ & 0 & 0 & 0 & 1 & 0 & 1 & 0 & 0 & 0 & 0\\\\\n\t3 & 2015 & 1 & Aguascalientes & 1001 & Aguascalientes & La vida y la Integridad corporal & Homicidio & Homicidio doloso  & Con otro elemento & 0 & ⋯ & 1 & 1 & 3 & 2 & 0 & 1 & 2 & 0 & 0 & 0\\\\\n\t4 & 2015 & 1 & Aguascalientes & 1001 & Aguascalientes & La vida y la Integridad corporal & Homicidio & Homicidio doloso  & No especificado   & 1 & ⋯ & 0 & 1 & 0 & 0 & 0 & 0 & 0 & 0 & 0 & 0\\\\\n\t5 & 2015 & 1 & Aguascalientes & 1001 & Aguascalientes & La vida y la Integridad corporal & Homicidio & Homicidio culposo & Con arma de fuego & 0 & ⋯ & 0 & 0 & 1 & 0 & 0 & 0 & 0 & 0 & 0 & 0\\\\\n\t6 & 2015 & 1 & Aguascalientes & 1001 & Aguascalientes & La vida y la Integridad corporal & Homicidio & Homicidio culposo & Con arma blanca   & 0 & ⋯ & 0 & 0 & 0 & 0 & 0 & 0 & 0 & 0 & 0 & 0\\\\\n\\end{tabular}\n",
            "text/plain": [
              "  Año  Clave_Ent Entidad        Cve. Municipio Municipio     \n",
              "1 2015 1         Aguascalientes 1001           Aguascalientes\n",
              "2 2015 1         Aguascalientes 1001           Aguascalientes\n",
              "3 2015 1         Aguascalientes 1001           Aguascalientes\n",
              "4 2015 1         Aguascalientes 1001           Aguascalientes\n",
              "5 2015 1         Aguascalientes 1001           Aguascalientes\n",
              "6 2015 1         Aguascalientes 1001           Aguascalientes\n",
              "  Bien jurídico afectado           Tipo de delito Subtipo de delito\n",
              "1 La vida y la Integridad corporal Homicidio      Homicidio doloso \n",
              "2 La vida y la Integridad corporal Homicidio      Homicidio doloso \n",
              "3 La vida y la Integridad corporal Homicidio      Homicidio doloso \n",
              "4 La vida y la Integridad corporal Homicidio      Homicidio doloso \n",
              "5 La vida y la Integridad corporal Homicidio      Homicidio culposo\n",
              "6 La vida y la Integridad corporal Homicidio      Homicidio culposo\n",
              "  Modalidad         Enero ⋯ Marzo Abril Mayo Junio Julio Agosto Septiembre\n",
              "1 Con arma de fuego 2     ⋯ 1     1     0    1     1     0      2         \n",
              "2 Con arma blanca   1     ⋯ 0     0     0    1     0     1      0         \n",
              "3 Con otro elemento 0     ⋯ 1     1     3    2     0     1      2         \n",
              "4 No especificado   1     ⋯ 0     1     0    0     0     0      0         \n",
              "5 Con arma de fuego 0     ⋯ 0     0     1    0     0     0      0         \n",
              "6 Con arma blanca   0     ⋯ 0     0     0    0     0     0      0         \n",
              "  Octubre Noviembre Diciembre\n",
              "1 1       0         1        \n",
              "2 0       0         0        \n",
              "3 0       0         0        \n",
              "4 0       0         0        \n",
              "5 0       0         0        \n",
              "6 0       0         0        "
            ]
          },
          "metadata": {}
        }
      ]
    },
    {
      "cell_type": "code",
      "source": [
        "unique(df_delitos$`Tipo de delito`)"
      ],
      "metadata": {
        "colab": {
          "base_uri": "https://localhost:8080/",
          "height": 138
        },
        "id": "YBOs3NUTkjNz",
        "outputId": "5703d19e-09c1-478f-d1d4-5ce91dbd46e0"
      },
      "id": "YBOs3NUTkjNz",
      "execution_count": null,
      "outputs": [
        {
          "output_type": "display_data",
          "data": {
            "text/html": [
              "<style>\n",
              ".list-inline {list-style: none; margin:0; padding: 0}\n",
              ".list-inline>li {display: inline-block}\n",
              ".list-inline>li:not(:last-child)::after {content: \"\\00b7\"; padding: 0 .5ex}\n",
              "</style>\n",
              "<ol class=list-inline><li>'Homicidio'</li><li>'Lesiones'</li><li>'Feminicidio'</li><li>'Aborto'</li><li>'Otros delitos que atentan contra la vida y la integridad corporal'</li><li>'Secuestro'</li><li>'Tráfico de menores'</li><li>'Rapto'</li><li>'Otros delitos que atentan contra la libertad personal'</li><li>'Abuso sexual'</li><li>'Acoso sexual'</li><li>'Hostigamiento sexual'</li><li>'Violación simple'</li><li>'Violación equiparada'</li><li>'Incesto'</li><li>'Otros delitos que atentan contra la libertad y la seguridad sexual'</li><li>'Robo'</li><li>'Fraude'</li><li>'Abuso de confianza'</li><li>'Extorsión'</li><li>'Daño a la propiedad'</li><li>'Despojo'</li><li>'Otros delitos contra el patrimonio'</li><li>'Violencia familiar'</li><li>'Violencia de género en todas sus modalidades distinta a la violencia familiar'</li><li>'Incumplimiento de obligaciones de asistencia familiar'</li><li>'Otros delitos contra la familia'</li><li>'Corrupción de menores'</li><li>'Trata de personas'</li><li>'Otros delitos contra la sociedad'</li><li>'Narcomenudeo'</li><li>'Amenazas'</li><li>'Allanamiento de morada'</li><li>'Evasión de presos'</li><li>'Falsedad'</li><li>'Falsificación'</li><li>'Contra el medio ambiente'</li><li>'Delitos cometidos por servidores públicos'</li><li>'Electorales'</li><li>'Otros delitos del Fuero Común'</li></ol>\n"
            ],
            "text/markdown": "1. 'Homicidio'\n2. 'Lesiones'\n3. 'Feminicidio'\n4. 'Aborto'\n5. 'Otros delitos que atentan contra la vida y la integridad corporal'\n6. 'Secuestro'\n7. 'Tráfico de menores'\n8. 'Rapto'\n9. 'Otros delitos que atentan contra la libertad personal'\n10. 'Abuso sexual'\n11. 'Acoso sexual'\n12. 'Hostigamiento sexual'\n13. 'Violación simple'\n14. 'Violación equiparada'\n15. 'Incesto'\n16. 'Otros delitos que atentan contra la libertad y la seguridad sexual'\n17. 'Robo'\n18. 'Fraude'\n19. 'Abuso de confianza'\n20. 'Extorsión'\n21. 'Daño a la propiedad'\n22. 'Despojo'\n23. 'Otros delitos contra el patrimonio'\n24. 'Violencia familiar'\n25. 'Violencia de género en todas sus modalidades distinta a la violencia familiar'\n26. 'Incumplimiento de obligaciones de asistencia familiar'\n27. 'Otros delitos contra la familia'\n28. 'Corrupción de menores'\n29. 'Trata de personas'\n30. 'Otros delitos contra la sociedad'\n31. 'Narcomenudeo'\n32. 'Amenazas'\n33. 'Allanamiento de morada'\n34. 'Evasión de presos'\n35. 'Falsedad'\n36. 'Falsificación'\n37. 'Contra el medio ambiente'\n38. 'Delitos cometidos por servidores públicos'\n39. 'Electorales'\n40. 'Otros delitos del Fuero Común'\n\n\n",
            "text/latex": "\\begin{enumerate*}\n\\item 'Homicidio'\n\\item 'Lesiones'\n\\item 'Feminicidio'\n\\item 'Aborto'\n\\item 'Otros delitos que atentan contra la vida y la integridad corporal'\n\\item 'Secuestro'\n\\item 'Tráfico de menores'\n\\item 'Rapto'\n\\item 'Otros delitos que atentan contra la libertad personal'\n\\item 'Abuso sexual'\n\\item 'Acoso sexual'\n\\item 'Hostigamiento sexual'\n\\item 'Violación simple'\n\\item 'Violación equiparada'\n\\item 'Incesto'\n\\item 'Otros delitos que atentan contra la libertad y la seguridad sexual'\n\\item 'Robo'\n\\item 'Fraude'\n\\item 'Abuso de confianza'\n\\item 'Extorsión'\n\\item 'Daño a la propiedad'\n\\item 'Despojo'\n\\item 'Otros delitos contra el patrimonio'\n\\item 'Violencia familiar'\n\\item 'Violencia de género en todas sus modalidades distinta a la violencia familiar'\n\\item 'Incumplimiento de obligaciones de asistencia familiar'\n\\item 'Otros delitos contra la familia'\n\\item 'Corrupción de menores'\n\\item 'Trata de personas'\n\\item 'Otros delitos contra la sociedad'\n\\item 'Narcomenudeo'\n\\item 'Amenazas'\n\\item 'Allanamiento de morada'\n\\item 'Evasión de presos'\n\\item 'Falsedad'\n\\item 'Falsificación'\n\\item 'Contra el medio ambiente'\n\\item 'Delitos cometidos por servidores públicos'\n\\item 'Electorales'\n\\item 'Otros delitos del Fuero Común'\n\\end{enumerate*}\n",
            "text/plain": [
              " [1] \"Homicidio\"                                                                    \n",
              " [2] \"Lesiones\"                                                                     \n",
              " [3] \"Feminicidio\"                                                                  \n",
              " [4] \"Aborto\"                                                                       \n",
              " [5] \"Otros delitos que atentan contra la vida y la integridad corporal\"            \n",
              " [6] \"Secuestro\"                                                                    \n",
              " [7] \"Tráfico de menores\"                                                           \n",
              " [8] \"Rapto\"                                                                        \n",
              " [9] \"Otros delitos que atentan contra la libertad personal\"                        \n",
              "[10] \"Abuso sexual\"                                                                 \n",
              "[11] \"Acoso sexual\"                                                                 \n",
              "[12] \"Hostigamiento sexual\"                                                         \n",
              "[13] \"Violación simple\"                                                             \n",
              "[14] \"Violación equiparada\"                                                         \n",
              "[15] \"Incesto\"                                                                      \n",
              "[16] \"Otros delitos que atentan contra la libertad y la seguridad sexual\"           \n",
              "[17] \"Robo\"                                                                         \n",
              "[18] \"Fraude\"                                                                       \n",
              "[19] \"Abuso de confianza\"                                                           \n",
              "[20] \"Extorsión\"                                                                    \n",
              "[21] \"Daño a la propiedad\"                                                          \n",
              "[22] \"Despojo\"                                                                      \n",
              "[23] \"Otros delitos contra el patrimonio\"                                           \n",
              "[24] \"Violencia familiar\"                                                           \n",
              "[25] \"Violencia de género en todas sus modalidades distinta a la violencia familiar\"\n",
              "[26] \"Incumplimiento de obligaciones de asistencia familiar\"                        \n",
              "[27] \"Otros delitos contra la familia\"                                              \n",
              "[28] \"Corrupción de menores\"                                                        \n",
              "[29] \"Trata de personas\"                                                            \n",
              "[30] \"Otros delitos contra la sociedad\"                                             \n",
              "[31] \"Narcomenudeo\"                                                                 \n",
              "[32] \"Amenazas\"                                                                     \n",
              "[33] \"Allanamiento de morada\"                                                       \n",
              "[34] \"Evasión de presos\"                                                            \n",
              "[35] \"Falsedad\"                                                                     \n",
              "[36] \"Falsificación\"                                                                \n",
              "[37] \"Contra el medio ambiente\"                                                     \n",
              "[38] \"Delitos cometidos por servidores públicos\"                                    \n",
              "[39] \"Electorales\"                                                                  \n",
              "[40] \"Otros delitos del Fuero Común\"                                                "
            ]
          },
          "metadata": {}
        }
      ]
    },
    {
      "cell_type": "markdown",
      "source": [
        "Generamos un dataframe con el nombre del mes y su correspondiente número. "
      ],
      "metadata": {
        "id": "fwlQ2L19U2lc"
      },
      "id": "fwlQ2L19U2lc"
    },
    {
      "cell_type": "code",
      "source": [
        "mes <- data.frame('Mes'=c('Enero', 'Febrero', 'Marzo', 'Abril', 'Mayo', 'Junio', 'Julio', 'Agosto', 'Septiembre', 'Octubre', 'Noviembre', 'Diciembre'),\n",
        "                  'MesNum' = c('01', '02', '03', '04', '05', '06', '07', '08', '09', '10', '11', '12'))\n"
      ],
      "metadata": {
        "id": "ahPXWKJAU1sC"
      },
      "id": "ahPXWKJAU1sC",
      "execution_count": null,
      "outputs": []
    },
    {
      "cell_type": "markdown",
      "source": [
        "## **Ejercicio 1:**\n",
        "\n"
      ],
      "metadata": {
        "id": "w3IcAkqSRSoo"
      },
      "id": "w3IcAkqSRSoo"
    },
    {
      "cell_type": "markdown",
      "source": [
        "- Deseamos información sobre los municipios del estado de **Nuevo León** con mayor cantidad de homicidios dolosos con arma de fuego en el mes de enero del año $2021$."
      ],
      "metadata": {
        "id": "HQbIi7D4TYJW"
      },
      "id": "HQbIi7D4TYJW"
    },
    {
      "cell_type": "code",
      "source": [
        "# Solución\n",
        "df_delitos_1 <- df_delitos %>%  \n",
        "  select(Año, Entidad, Municipio, `Tipo de delito`, `Subtipo de delito`, Modalidad, Enero) %>%\n",
        "  filter(Año == 2021, Entidad==\"Nuevo León\", `Subtipo de delito`==\"Homicidio doloso\", Modalidad==\"Con arma de fuego\") %>%\n",
        "  arrange(desc(Enero)) %>%\n",
        "  filter(Enero != 0)\n",
        "\n",
        "df_delitos_1"
      ],
      "metadata": {
        "colab": {
          "base_uri": "https://localhost:8080/",
          "height": 631
        },
        "id": "uMF2jCI1XAzg",
        "outputId": "507f4871-84d9-4c87-caef-6b6e4e4b23e0"
      },
      "id": "uMF2jCI1XAzg",
      "execution_count": null,
      "outputs": [
        {
          "output_type": "display_data",
          "data": {
            "text/html": [
              "<table class=\"dataframe\">\n",
              "<caption>A data.frame: 17 × 7</caption>\n",
              "<thead>\n",
              "\t<tr><th scope=col>Año</th><th scope=col>Entidad</th><th scope=col>Municipio</th><th scope=col>Tipo de delito</th><th scope=col>Subtipo de delito</th><th scope=col>Modalidad</th><th scope=col>Enero</th></tr>\n",
              "\t<tr><th scope=col>&lt;int&gt;</th><th scope=col>&lt;chr&gt;</th><th scope=col>&lt;chr&gt;</th><th scope=col>&lt;chr&gt;</th><th scope=col>&lt;chr&gt;</th><th scope=col>&lt;chr&gt;</th><th scope=col>&lt;int&gt;</th></tr>\n",
              "</thead>\n",
              "<tbody>\n",
              "\t<tr><td>2021</td><td>Nuevo León</td><td>Monterrey               </td><td>Homicidio</td><td>Homicidio doloso</td><td>Con arma de fuego</td><td>13</td></tr>\n",
              "\t<tr><td>2021</td><td>Nuevo León</td><td>Guadalupe               </td><td>Homicidio</td><td>Homicidio doloso</td><td>Con arma de fuego</td><td>11</td></tr>\n",
              "\t<tr><td>2021</td><td>Nuevo León</td><td>San Nicolás de los Garza</td><td>Homicidio</td><td>Homicidio doloso</td><td>Con arma de fuego</td><td> 8</td></tr>\n",
              "\t<tr><td>2021</td><td>Nuevo León</td><td>García                  </td><td>Homicidio</td><td>Homicidio doloso</td><td>Con arma de fuego</td><td> 6</td></tr>\n",
              "\t<tr><td>2021</td><td>Nuevo León</td><td>General Escobedo        </td><td>Homicidio</td><td>Homicidio doloso</td><td>Con arma de fuego</td><td> 6</td></tr>\n",
              "\t<tr><td>2021</td><td>Nuevo León</td><td>Juárez                  </td><td>Homicidio</td><td>Homicidio doloso</td><td>Con arma de fuego</td><td> 5</td></tr>\n",
              "\t<tr><td>2021</td><td>Nuevo León</td><td>Apodaca                 </td><td>Homicidio</td><td>Homicidio doloso</td><td>Con arma de fuego</td><td> 4</td></tr>\n",
              "\t<tr><td>2021</td><td>Nuevo León</td><td>Cadereyta Jiménez       </td><td>Homicidio</td><td>Homicidio doloso</td><td>Con arma de fuego</td><td> 3</td></tr>\n",
              "\t<tr><td>2021</td><td>Nuevo León</td><td>Santa Catarina          </td><td>Homicidio</td><td>Homicidio doloso</td><td>Con arma de fuego</td><td> 3</td></tr>\n",
              "\t<tr><td>2021</td><td>Nuevo León</td><td>Anáhuac                 </td><td>Homicidio</td><td>Homicidio doloso</td><td>Con arma de fuego</td><td> 1</td></tr>\n",
              "\t<tr><td>2021</td><td>Nuevo León</td><td>El Carmen               </td><td>Homicidio</td><td>Homicidio doloso</td><td>Con arma de fuego</td><td> 1</td></tr>\n",
              "\t<tr><td>2021</td><td>Nuevo León</td><td>Ciénega de Flores       </td><td>Homicidio</td><td>Homicidio doloso</td><td>Con arma de fuego</td><td> 1</td></tr>\n",
              "\t<tr><td>2021</td><td>Nuevo León</td><td>China                   </td><td>Homicidio</td><td>Homicidio doloso</td><td>Con arma de fuego</td><td> 1</td></tr>\n",
              "\t<tr><td>2021</td><td>Nuevo León</td><td>Los Herreras            </td><td>Homicidio</td><td>Homicidio doloso</td><td>Con arma de fuego</td><td> 1</td></tr>\n",
              "\t<tr><td>2021</td><td>Nuevo León</td><td>Lampazos de Naranjo     </td><td>Homicidio</td><td>Homicidio doloso</td><td>Con arma de fuego</td><td> 1</td></tr>\n",
              "\t<tr><td>2021</td><td>Nuevo León</td><td>Linares                 </td><td>Homicidio</td><td>Homicidio doloso</td><td>Con arma de fuego</td><td> 1</td></tr>\n",
              "\t<tr><td>2021</td><td>Nuevo León</td><td>Pesquería               </td><td>Homicidio</td><td>Homicidio doloso</td><td>Con arma de fuego</td><td> 1</td></tr>\n",
              "</tbody>\n",
              "</table>\n"
            ],
            "text/markdown": "\nA data.frame: 17 × 7\n\n| Año &lt;int&gt; | Entidad &lt;chr&gt; | Municipio &lt;chr&gt; | Tipo de delito &lt;chr&gt; | Subtipo de delito &lt;chr&gt; | Modalidad &lt;chr&gt; | Enero &lt;int&gt; |\n|---|---|---|---|---|---|---|\n| 2021 | Nuevo León | Monterrey                | Homicidio | Homicidio doloso | Con arma de fuego | 13 |\n| 2021 | Nuevo León | Guadalupe                | Homicidio | Homicidio doloso | Con arma de fuego | 11 |\n| 2021 | Nuevo León | San Nicolás de los Garza | Homicidio | Homicidio doloso | Con arma de fuego |  8 |\n| 2021 | Nuevo León | García                   | Homicidio | Homicidio doloso | Con arma de fuego |  6 |\n| 2021 | Nuevo León | General Escobedo         | Homicidio | Homicidio doloso | Con arma de fuego |  6 |\n| 2021 | Nuevo León | Juárez                   | Homicidio | Homicidio doloso | Con arma de fuego |  5 |\n| 2021 | Nuevo León | Apodaca                  | Homicidio | Homicidio doloso | Con arma de fuego |  4 |\n| 2021 | Nuevo León | Cadereyta Jiménez        | Homicidio | Homicidio doloso | Con arma de fuego |  3 |\n| 2021 | Nuevo León | Santa Catarina           | Homicidio | Homicidio doloso | Con arma de fuego |  3 |\n| 2021 | Nuevo León | Anáhuac                  | Homicidio | Homicidio doloso | Con arma de fuego |  1 |\n| 2021 | Nuevo León | El Carmen                | Homicidio | Homicidio doloso | Con arma de fuego |  1 |\n| 2021 | Nuevo León | Ciénega de Flores        | Homicidio | Homicidio doloso | Con arma de fuego |  1 |\n| 2021 | Nuevo León | China                    | Homicidio | Homicidio doloso | Con arma de fuego |  1 |\n| 2021 | Nuevo León | Los Herreras             | Homicidio | Homicidio doloso | Con arma de fuego |  1 |\n| 2021 | Nuevo León | Lampazos de Naranjo      | Homicidio | Homicidio doloso | Con arma de fuego |  1 |\n| 2021 | Nuevo León | Linares                  | Homicidio | Homicidio doloso | Con arma de fuego |  1 |\n| 2021 | Nuevo León | Pesquería                | Homicidio | Homicidio doloso | Con arma de fuego |  1 |\n\n",
            "text/latex": "A data.frame: 17 × 7\n\\begin{tabular}{lllllll}\n Año & Entidad & Municipio & Tipo de delito & Subtipo de delito & Modalidad & Enero\\\\\n <int> & <chr> & <chr> & <chr> & <chr> & <chr> & <int>\\\\\n\\hline\n\t 2021 & Nuevo León & Monterrey                & Homicidio & Homicidio doloso & Con arma de fuego & 13\\\\\n\t 2021 & Nuevo León & Guadalupe                & Homicidio & Homicidio doloso & Con arma de fuego & 11\\\\\n\t 2021 & Nuevo León & San Nicolás de los Garza & Homicidio & Homicidio doloso & Con arma de fuego &  8\\\\\n\t 2021 & Nuevo León & García                   & Homicidio & Homicidio doloso & Con arma de fuego &  6\\\\\n\t 2021 & Nuevo León & General Escobedo         & Homicidio & Homicidio doloso & Con arma de fuego &  6\\\\\n\t 2021 & Nuevo León & Juárez                   & Homicidio & Homicidio doloso & Con arma de fuego &  5\\\\\n\t 2021 & Nuevo León & Apodaca                  & Homicidio & Homicidio doloso & Con arma de fuego &  4\\\\\n\t 2021 & Nuevo León & Cadereyta Jiménez        & Homicidio & Homicidio doloso & Con arma de fuego &  3\\\\\n\t 2021 & Nuevo León & Santa Catarina           & Homicidio & Homicidio doloso & Con arma de fuego &  3\\\\\n\t 2021 & Nuevo León & Anáhuac                  & Homicidio & Homicidio doloso & Con arma de fuego &  1\\\\\n\t 2021 & Nuevo León & El Carmen                & Homicidio & Homicidio doloso & Con arma de fuego &  1\\\\\n\t 2021 & Nuevo León & Ciénega de Flores        & Homicidio & Homicidio doloso & Con arma de fuego &  1\\\\\n\t 2021 & Nuevo León & China                    & Homicidio & Homicidio doloso & Con arma de fuego &  1\\\\\n\t 2021 & Nuevo León & Los Herreras             & Homicidio & Homicidio doloso & Con arma de fuego &  1\\\\\n\t 2021 & Nuevo León & Lampazos de Naranjo      & Homicidio & Homicidio doloso & Con arma de fuego &  1\\\\\n\t 2021 & Nuevo León & Linares                  & Homicidio & Homicidio doloso & Con arma de fuego &  1\\\\\n\t 2021 & Nuevo León & Pesquería                & Homicidio & Homicidio doloso & Con arma de fuego &  1\\\\\n\\end{tabular}\n",
            "text/plain": [
              "   Año  Entidad    Municipio                Tipo de delito Subtipo de delito\n",
              "1  2021 Nuevo León Monterrey                Homicidio      Homicidio doloso \n",
              "2  2021 Nuevo León Guadalupe                Homicidio      Homicidio doloso \n",
              "3  2021 Nuevo León San Nicolás de los Garza Homicidio      Homicidio doloso \n",
              "4  2021 Nuevo León García                   Homicidio      Homicidio doloso \n",
              "5  2021 Nuevo León General Escobedo         Homicidio      Homicidio doloso \n",
              "6  2021 Nuevo León Juárez                   Homicidio      Homicidio doloso \n",
              "7  2021 Nuevo León Apodaca                  Homicidio      Homicidio doloso \n",
              "8  2021 Nuevo León Cadereyta Jiménez        Homicidio      Homicidio doloso \n",
              "9  2021 Nuevo León Santa Catarina           Homicidio      Homicidio doloso \n",
              "10 2021 Nuevo León Anáhuac                  Homicidio      Homicidio doloso \n",
              "11 2021 Nuevo León El Carmen                Homicidio      Homicidio doloso \n",
              "12 2021 Nuevo León Ciénega de Flores        Homicidio      Homicidio doloso \n",
              "13 2021 Nuevo León China                    Homicidio      Homicidio doloso \n",
              "14 2021 Nuevo León Los Herreras             Homicidio      Homicidio doloso \n",
              "15 2021 Nuevo León Lampazos de Naranjo      Homicidio      Homicidio doloso \n",
              "16 2021 Nuevo León Linares                  Homicidio      Homicidio doloso \n",
              "17 2021 Nuevo León Pesquería                Homicidio      Homicidio doloso \n",
              "   Modalidad         Enero\n",
              "1  Con arma de fuego 13   \n",
              "2  Con arma de fuego 11   \n",
              "3  Con arma de fuego  8   \n",
              "4  Con arma de fuego  6   \n",
              "5  Con arma de fuego  6   \n",
              "6  Con arma de fuego  5   \n",
              "7  Con arma de fuego  4   \n",
              "8  Con arma de fuego  3   \n",
              "9  Con arma de fuego  3   \n",
              "10 Con arma de fuego  1   \n",
              "11 Con arma de fuego  1   \n",
              "12 Con arma de fuego  1   \n",
              "13 Con arma de fuego  1   \n",
              "14 Con arma de fuego  1   \n",
              "15 Con arma de fuego  1   \n",
              "16 Con arma de fuego  1   \n",
              "17 Con arma de fuego  1   "
            ]
          },
          "metadata": {}
        }
      ]
    },
    {
      "cell_type": "code",
      "source": [
        "dim(df_delitos_1)"
      ],
      "metadata": {
        "colab": {
          "base_uri": "https://localhost:8080/",
          "height": 34
        },
        "id": "zf1am47VZ8Gs",
        "outputId": "d37601aa-1ce9-4c87-a8a9-54f89d68a224"
      },
      "id": "zf1am47VZ8Gs",
      "execution_count": null,
      "outputs": [
        {
          "output_type": "display_data",
          "data": {
            "text/html": [
              "<style>\n",
              ".list-inline {list-style: none; margin:0; padding: 0}\n",
              ".list-inline>li {display: inline-block}\n",
              ".list-inline>li:not(:last-child)::after {content: \"\\00b7\"; padding: 0 .5ex}\n",
              "</style>\n",
              "<ol class=list-inline><li>11</li><li>9</li></ol>\n"
            ],
            "text/markdown": "1. 11\n2. 9\n\n\n",
            "text/latex": "\\begin{enumerate*}\n\\item 11\n\\item 9\n\\end{enumerate*}\n",
            "text/plain": [
              "[1] 11  9"
            ]
          },
          "metadata": {}
        }
      ]
    },
    {
      "cell_type": "markdown",
      "source": [
        "# **Ejemplo 2:**\n",
        "\n",
        "Deseamos información sobre los $10$ municipios del país de  con mayor cantidad de **secuestros de tipo extorsivo**  en el año $2021$. Mostrar el total por municipio en forma descendente.    \n",
        "\n",
        "| Año  | Entidad         | Municipio       | Modalidad         | Total |\n",
        "| --   | --              | --              | --                | -- |\n",
        "| 2021 | Chihuahua  |  Juárez | Secuestro extrosivo | 15 |\n",
        "| -    | -  |  -  | -  | - |"
      ],
      "metadata": {
        "id": "fPB_evYxk3E1"
      },
      "id": "fPB_evYxk3E1"
    },
    {
      "cell_type": "code",
      "source": [
        "# Solución\n",
        "df_delitos_1 <- df_delitos %>%  \n",
        "  ########  Agregar código\n",
        "\n",
        "df_delitos_1"
      ],
      "metadata": {
        "colab": {
          "base_uri": "https://localhost:8080/",
          "height": 411
        },
        "id": "fVzxkLA8c2pD",
        "outputId": "8d6e9f74-c478-449f-ef18-e540b13b2f1e"
      },
      "id": "fVzxkLA8c2pD",
      "execution_count": null,
      "outputs": [
        {
          "output_type": "display_data",
          "data": {
            "text/html": [
              "<table class=\"dataframe\">\n",
              "<caption>A data.frame: 10 × 5</caption>\n",
              "<thead>\n",
              "\t<tr><th></th><th scope=col>Año</th><th scope=col>Entidad</th><th scope=col>Municipio</th><th scope=col>Modalidad</th><th scope=col>Total</th></tr>\n",
              "\t<tr><th></th><th scope=col>&lt;int&gt;</th><th scope=col>&lt;chr&gt;</th><th scope=col>&lt;chr&gt;</th><th scope=col>&lt;chr&gt;</th><th scope=col>&lt;int&gt;</th></tr>\n",
              "</thead>\n",
              "<tbody>\n",
              "\t<tr><th scope=row>1</th><td>2021</td><td>Chihuahua          </td><td>Juárez             </td><td>Secuestro extorsivo</td><td>15</td></tr>\n",
              "\t<tr><th scope=row>2</th><td>2021</td><td>México             </td><td>Toluca             </td><td>Secuestro extorsivo</td><td>11</td></tr>\n",
              "\t<tr><th scope=row>3</th><td>2021</td><td>Michoacán de Ocampo</td><td>Uruapan            </td><td>Secuestro extorsivo</td><td>11</td></tr>\n",
              "\t<tr><th scope=row>4</th><td>2021</td><td>Quintana Roo       </td><td>Benito Juárez      </td><td>Secuestro extorsivo</td><td>11</td></tr>\n",
              "\t<tr><th scope=row>5</th><td>2021</td><td>San Luis Potosí    </td><td>San Luis Potosí    </td><td>Secuestro extorsivo</td><td>11</td></tr>\n",
              "\t<tr><th scope=row>6</th><td>2021</td><td>Baja California    </td><td>Tijuana            </td><td>Secuestro extorsivo</td><td>10</td></tr>\n",
              "\t<tr><th scope=row>7</th><td>2021</td><td>México             </td><td>Zinacantepec       </td><td>Secuestro extorsivo</td><td> 8</td></tr>\n",
              "\t<tr><th scope=row>8</th><td>2021</td><td>México             </td><td>Ecatepec de Morelos</td><td>Secuestro extorsivo</td><td> 7</td></tr>\n",
              "\t<tr><th scope=row>9</th><td>2021</td><td>Nuevo León         </td><td>Monterrey          </td><td>Secuestro extorsivo</td><td> 7</td></tr>\n",
              "\t<tr><th scope=row>10</th><td>2021</td><td>Jalisco            </td><td>Zapopan            </td><td>Secuestro extorsivo</td><td> 5</td></tr>\n",
              "</tbody>\n",
              "</table>\n"
            ],
            "text/markdown": "\nA data.frame: 10 × 5\n\n| <!--/--> | Año &lt;int&gt; | Entidad &lt;chr&gt; | Municipio &lt;chr&gt; | Modalidad &lt;chr&gt; | Total &lt;int&gt; |\n|---|---|---|---|---|---|\n| 1 | 2021 | Chihuahua           | Juárez              | Secuestro extorsivo | 15 |\n| 2 | 2021 | México              | Toluca              | Secuestro extorsivo | 11 |\n| 3 | 2021 | Michoacán de Ocampo | Uruapan             | Secuestro extorsivo | 11 |\n| 4 | 2021 | Quintana Roo        | Benito Juárez       | Secuestro extorsivo | 11 |\n| 5 | 2021 | San Luis Potosí     | San Luis Potosí     | Secuestro extorsivo | 11 |\n| 6 | 2021 | Baja California     | Tijuana             | Secuestro extorsivo | 10 |\n| 7 | 2021 | México              | Zinacantepec        | Secuestro extorsivo |  8 |\n| 8 | 2021 | México              | Ecatepec de Morelos | Secuestro extorsivo |  7 |\n| 9 | 2021 | Nuevo León          | Monterrey           | Secuestro extorsivo |  7 |\n| 10 | 2021 | Jalisco             | Zapopan             | Secuestro extorsivo |  5 |\n\n",
            "text/latex": "A data.frame: 10 × 5\n\\begin{tabular}{r|lllll}\n  & Año & Entidad & Municipio & Modalidad & Total\\\\\n  & <int> & <chr> & <chr> & <chr> & <int>\\\\\n\\hline\n\t1 & 2021 & Chihuahua           & Juárez              & Secuestro extorsivo & 15\\\\\n\t2 & 2021 & México              & Toluca              & Secuestro extorsivo & 11\\\\\n\t3 & 2021 & Michoacán de Ocampo & Uruapan             & Secuestro extorsivo & 11\\\\\n\t4 & 2021 & Quintana Roo        & Benito Juárez       & Secuestro extorsivo & 11\\\\\n\t5 & 2021 & San Luis Potosí     & San Luis Potosí     & Secuestro extorsivo & 11\\\\\n\t6 & 2021 & Baja California     & Tijuana             & Secuestro extorsivo & 10\\\\\n\t7 & 2021 & México              & Zinacantepec        & Secuestro extorsivo &  8\\\\\n\t8 & 2021 & México              & Ecatepec de Morelos & Secuestro extorsivo &  7\\\\\n\t9 & 2021 & Nuevo León          & Monterrey           & Secuestro extorsivo &  7\\\\\n\t10 & 2021 & Jalisco             & Zapopan             & Secuestro extorsivo &  5\\\\\n\\end{tabular}\n",
            "text/plain": [
              "   Año  Entidad             Municipio           Modalidad           Total\n",
              "1  2021 Chihuahua           Juárez              Secuestro extorsivo 15   \n",
              "2  2021 México              Toluca              Secuestro extorsivo 11   \n",
              "3  2021 Michoacán de Ocampo Uruapan             Secuestro extorsivo 11   \n",
              "4  2021 Quintana Roo        Benito Juárez       Secuestro extorsivo 11   \n",
              "5  2021 San Luis Potosí     San Luis Potosí     Secuestro extorsivo 11   \n",
              "6  2021 Baja California     Tijuana             Secuestro extorsivo 10   \n",
              "7  2021 México              Zinacantepec        Secuestro extorsivo  8   \n",
              "8  2021 México              Ecatepec de Morelos Secuestro extorsivo  7   \n",
              "9  2021 Nuevo León          Monterrey           Secuestro extorsivo  7   \n",
              "10 2021 Jalisco             Zapopan             Secuestro extorsivo  5   "
            ]
          },
          "metadata": {}
        }
      ]
    },
    {
      "cell_type": "markdown",
      "source": [
        ""
      ],
      "metadata": {
        "id": "nq0LfWyEvQL-"
      },
      "id": "nq0LfWyEvQL-"
    },
    {
      "cell_type": "markdown",
      "source": [
        "# **Actividad**"
      ],
      "metadata": {
        "id": "7L8R9nH3qjgB"
      },
      "id": "7L8R9nH3qjgB"
    },
    {
      "cell_type": "code",
      "execution_count": 105,
      "id": "uniform-glance",
      "metadata": {
        "id": "uniform-glance"
      },
      "outputs": [],
      "source": [
        "library(\"tidyverse\")\n",
        "options(repr.plot.width=16, repr.plot.height=8)"
      ]
    },
    {
      "cell_type": "markdown",
      "source": [
        "# Lectura de datos"
      ],
      "metadata": {
        "id": "JKi5PMvNrHHb"
      },
      "id": "JKi5PMvNrHHb"
    },
    {
      "cell_type": "code",
      "source": [
        "unzip(zipfile = \"flights.zip\")"
      ],
      "metadata": {
        "id": "B7dJaxD9rLty"
      },
      "id": "B7dJaxD9rLty",
      "execution_count": 106,
      "outputs": []
    },
    {
      "cell_type": "code",
      "source": [
        "flights <- read.csv('flights.csv', header=T, fileEncoding = \"Latin1\", check.names = F)\n",
        "head(flights)"
      ],
      "metadata": {
        "colab": {
          "base_uri": "https://localhost:8080/",
          "height": 410
        },
        "id": "gTYjZyrArZrt",
        "outputId": "28ba0260-248b-4c16-c075-17355402ba27"
      },
      "id": "gTYjZyrArZrt",
      "execution_count": 108,
      "outputs": [
        {
          "output_type": "display_data",
          "data": {
            "text/html": [
              "<table class=\"dataframe\">\n",
              "<caption>A data.frame: 6 × 16</caption>\n",
              "<thead>\n",
              "\t<tr><th></th><th scope=col>dep_time</th><th scope=col>sched_dep_time</th><th scope=col>dep_delay</th><th scope=col>arr_time</th><th scope=col>sched_arr_time</th><th scope=col>arr_delay</th><th scope=col>carrier</th><th scope=col>flight</th><th scope=col>tailnum</th><th scope=col>origin</th><th scope=col>dest</th><th scope=col>air_time</th><th scope=col>distance</th><th scope=col>hour</th><th scope=col>minute</th><th scope=col>time_hour</th></tr>\n",
              "\t<tr><th></th><th scope=col>&lt;int&gt;</th><th scope=col>&lt;int&gt;</th><th scope=col>&lt;int&gt;</th><th scope=col>&lt;int&gt;</th><th scope=col>&lt;int&gt;</th><th scope=col>&lt;int&gt;</th><th scope=col>&lt;chr&gt;</th><th scope=col>&lt;int&gt;</th><th scope=col>&lt;chr&gt;</th><th scope=col>&lt;chr&gt;</th><th scope=col>&lt;chr&gt;</th><th scope=col>&lt;int&gt;</th><th scope=col>&lt;int&gt;</th><th scope=col>&lt;int&gt;</th><th scope=col>&lt;int&gt;</th><th scope=col>&lt;chr&gt;</th></tr>\n",
              "</thead>\n",
              "<tbody>\n",
              "\t<tr><th scope=row>1</th><td>517</td><td>515</td><td> 2</td><td> 830</td><td> 819</td><td> 11</td><td>UA</td><td>1545</td><td>N14228</td><td>EWR</td><td>IAH</td><td>227</td><td>1400</td><td>5</td><td>15</td><td>01/01/2013 05:00</td></tr>\n",
              "\t<tr><th scope=row>2</th><td>533</td><td>529</td><td> 4</td><td> 850</td><td> 830</td><td> 20</td><td>UA</td><td>1714</td><td>N24211</td><td>LGA</td><td>IAH</td><td>227</td><td>1416</td><td>5</td><td>29</td><td>01/01/2013 05:00</td></tr>\n",
              "\t<tr><th scope=row>3</th><td>542</td><td>540</td><td> 2</td><td> 923</td><td> 850</td><td> 33</td><td>AA</td><td>1141</td><td>N619AA</td><td>JFK</td><td>MIA</td><td>160</td><td>1089</td><td>5</td><td>40</td><td>01/01/2013 05:00</td></tr>\n",
              "\t<tr><th scope=row>4</th><td>544</td><td>545</td><td>-1</td><td>1004</td><td>1022</td><td>-18</td><td>B6</td><td> 725</td><td>N804JB</td><td>JFK</td><td>BQN</td><td>183</td><td>1576</td><td>5</td><td>45</td><td>01/01/2013 05:00</td></tr>\n",
              "\t<tr><th scope=row>5</th><td>554</td><td>600</td><td>-6</td><td> 812</td><td> 837</td><td>-25</td><td>DL</td><td> 461</td><td>N668DN</td><td>LGA</td><td>ATL</td><td>116</td><td> 762</td><td>6</td><td> 0</td><td>01/01/2013 06:00</td></tr>\n",
              "\t<tr><th scope=row>6</th><td>554</td><td>558</td><td>-4</td><td> 740</td><td> 728</td><td> 12</td><td>UA</td><td>1696</td><td>N39463</td><td>EWR</td><td>ORD</td><td>150</td><td> 719</td><td>5</td><td>58</td><td>01/01/2013 05:00</td></tr>\n",
              "</tbody>\n",
              "</table>\n"
            ],
            "text/markdown": "\nA data.frame: 6 × 16\n\n| <!--/--> | dep_time &lt;int&gt; | sched_dep_time &lt;int&gt; | dep_delay &lt;int&gt; | arr_time &lt;int&gt; | sched_arr_time &lt;int&gt; | arr_delay &lt;int&gt; | carrier &lt;chr&gt; | flight &lt;int&gt; | tailnum &lt;chr&gt; | origin &lt;chr&gt; | dest &lt;chr&gt; | air_time &lt;int&gt; | distance &lt;int&gt; | hour &lt;int&gt; | minute &lt;int&gt; | time_hour &lt;chr&gt; |\n|---|---|---|---|---|---|---|---|---|---|---|---|---|---|---|---|---|\n| 1 | 517 | 515 |  2 |  830 |  819 |  11 | UA | 1545 | N14228 | EWR | IAH | 227 | 1400 | 5 | 15 | 01/01/2013 05:00 |\n| 2 | 533 | 529 |  4 |  850 |  830 |  20 | UA | 1714 | N24211 | LGA | IAH | 227 | 1416 | 5 | 29 | 01/01/2013 05:00 |\n| 3 | 542 | 540 |  2 |  923 |  850 |  33 | AA | 1141 | N619AA | JFK | MIA | 160 | 1089 | 5 | 40 | 01/01/2013 05:00 |\n| 4 | 544 | 545 | -1 | 1004 | 1022 | -18 | B6 |  725 | N804JB | JFK | BQN | 183 | 1576 | 5 | 45 | 01/01/2013 05:00 |\n| 5 | 554 | 600 | -6 |  812 |  837 | -25 | DL |  461 | N668DN | LGA | ATL | 116 |  762 | 6 |  0 | 01/01/2013 06:00 |\n| 6 | 554 | 558 | -4 |  740 |  728 |  12 | UA | 1696 | N39463 | EWR | ORD | 150 |  719 | 5 | 58 | 01/01/2013 05:00 |\n\n",
            "text/latex": "A data.frame: 6 × 16\n\\begin{tabular}{r|llllllllllllllll}\n  & dep\\_time & sched\\_dep\\_time & dep\\_delay & arr\\_time & sched\\_arr\\_time & arr\\_delay & carrier & flight & tailnum & origin & dest & air\\_time & distance & hour & minute & time\\_hour\\\\\n  & <int> & <int> & <int> & <int> & <int> & <int> & <chr> & <int> & <chr> & <chr> & <chr> & <int> & <int> & <int> & <int> & <chr>\\\\\n\\hline\n\t1 & 517 & 515 &  2 &  830 &  819 &  11 & UA & 1545 & N14228 & EWR & IAH & 227 & 1400 & 5 & 15 & 01/01/2013 05:00\\\\\n\t2 & 533 & 529 &  4 &  850 &  830 &  20 & UA & 1714 & N24211 & LGA & IAH & 227 & 1416 & 5 & 29 & 01/01/2013 05:00\\\\\n\t3 & 542 & 540 &  2 &  923 &  850 &  33 & AA & 1141 & N619AA & JFK & MIA & 160 & 1089 & 5 & 40 & 01/01/2013 05:00\\\\\n\t4 & 544 & 545 & -1 & 1004 & 1022 & -18 & B6 &  725 & N804JB & JFK & BQN & 183 & 1576 & 5 & 45 & 01/01/2013 05:00\\\\\n\t5 & 554 & 600 & -6 &  812 &  837 & -25 & DL &  461 & N668DN & LGA & ATL & 116 &  762 & 6 &  0 & 01/01/2013 06:00\\\\\n\t6 & 554 & 558 & -4 &  740 &  728 &  12 & UA & 1696 & N39463 & EWR & ORD & 150 &  719 & 5 & 58 & 01/01/2013 05:00\\\\\n\\end{tabular}\n",
            "text/plain": [
              "  dep_time sched_dep_time dep_delay arr_time sched_arr_time arr_delay carrier\n",
              "1 517      515             2         830      819            11       UA     \n",
              "2 533      529             4         850      830            20       UA     \n",
              "3 542      540             2         923      850            33       AA     \n",
              "4 544      545            -1        1004     1022           -18       B6     \n",
              "5 554      600            -6         812      837           -25       DL     \n",
              "6 554      558            -4         740      728            12       UA     \n",
              "  flight tailnum origin dest air_time distance hour minute time_hour       \n",
              "1 1545   N14228  EWR    IAH  227      1400     5    15     01/01/2013 05:00\n",
              "2 1714   N24211  LGA    IAH  227      1416     5    29     01/01/2013 05:00\n",
              "3 1141   N619AA  JFK    MIA  160      1089     5    40     01/01/2013 05:00\n",
              "4  725   N804JB  JFK    BQN  183      1576     5    45     01/01/2013 05:00\n",
              "5  461   N668DN  LGA    ATL  116       762     6     0     01/01/2013 06:00\n",
              "6 1696   N39463  EWR    ORD  150       719     5    58     01/01/2013 05:00"
            ]
          },
          "metadata": {}
        }
      ]
    },
    {
      "cell_type": "markdown",
      "id": "affected-fraction",
      "metadata": {
        "id": "affected-fraction"
      },
      "source": [
        "# Descripción de variables\n",
        "\n",
        "| Variable         | Descripción |\n",
        "| :--- | :--- |\n",
        "| dep_time         | Hora real de salida |\n",
        "| sched_dep_time   | Horario de salida y llegada programado |\n",
        "| dep_delay        | Retraso de salida, en minutos. Los tiempos negativos representan salidas tempranas |\n",
        "| arr_time         | Hora real de salida y de llegada |\n",
        "| sched_arr_time   | Horario de llegada programado |\n",
        "| arr_delay        | Retraso de llegada, en minutos. Los tiempos negativos representan llegadas tempranas |\n",
        "| carrier          | Abreviación de la auerolínea |\n",
        "| flight           | Número de vuelo |\n",
        "| tailnum          | Número de avión |\n",
        "| origin           | Origen |\n",
        "| dest             | Destino |\n",
        "| air_time         | Cantidad de tiempo en el aire, en minutos |\n",
        "| distance         | Distancia entre aeropuertos, en millas |\n",
        "| hour             | Hora de salida prevista desglosada en hora  |\n",
        "| minute           | Hora de salida prevista desglosada en minutos |\n",
        "| time_hour        | Fecha y hora prevista del vuelo |"
      ]
    },
    {
      "cell_type": "markdown",
      "id": "occupational-horizon",
      "metadata": {
        "id": "occupational-horizon"
      },
      "source": [
        "[**Ejercicio 1**] \n",
        "- Crear varibles: año, mes y día (hecho), y \n",
        "- Seleccionar las variables: time_hour, year, month, day, flight, air_time, distance. \n",
        "- Eliminar la variable  time_hour.\n",
        "- Filtrar por mes de enero a marzo y ordenar el día de forma descendente.\n",
        "- Convertir air_time(minutos) a horas.\n",
        "- Convertir la distancia(millas) a km (1 milla $\\sim$ 1.60km)"
      ]
    },
    {
      "cell_type": "code",
      "execution_count": 112,
      "id": "solved-burst",
      "metadata": {
        "id": "solved-burst",
        "colab": {
          "base_uri": "https://localhost:8080/",
          "height": 286
        },
        "outputId": "35cfb6bd-b8d2-4a0d-c9ca-e9984221868d"
      },
      "outputs": [
        {
          "output_type": "display_data",
          "data": {
            "text/html": [
              "<table class=\"dataframe\">\n",
              "<caption>A data.frame: 6 × 7</caption>\n",
              "<thead>\n",
              "\t<tr><th></th><th scope=col>time_hour</th><th scope=col>year</th><th scope=col>month</th><th scope=col>day</th><th scope=col>flight</th><th scope=col>air_time</th><th scope=col>distance</th></tr>\n",
              "\t<tr><th></th><th scope=col>&lt;chr&gt;</th><th scope=col>&lt;dbl&gt;</th><th scope=col>&lt;dbl&gt;</th><th scope=col>&lt;dbl&gt;</th><th scope=col>&lt;int&gt;</th><th scope=col>&lt;int&gt;</th><th scope=col>&lt;int&gt;</th></tr>\n",
              "</thead>\n",
              "<tbody>\n",
              "\t<tr><th scope=row>1</th><td>01/01/2013 05:00</td><td>2013</td><td>1</td><td>1</td><td>1545</td><td>227</td><td>1400</td></tr>\n",
              "\t<tr><th scope=row>2</th><td>01/01/2013 05:00</td><td>2013</td><td>1</td><td>1</td><td>1714</td><td>227</td><td>1416</td></tr>\n",
              "\t<tr><th scope=row>3</th><td>01/01/2013 05:00</td><td>2013</td><td>1</td><td>1</td><td>1141</td><td>160</td><td>1089</td></tr>\n",
              "\t<tr><th scope=row>4</th><td>01/01/2013 05:00</td><td>2013</td><td>1</td><td>1</td><td> 725</td><td>183</td><td>1576</td></tr>\n",
              "\t<tr><th scope=row>5</th><td>01/01/2013 06:00</td><td>2013</td><td>1</td><td>1</td><td> 461</td><td>116</td><td> 762</td></tr>\n",
              "\t<tr><th scope=row>6</th><td>01/01/2013 05:00</td><td>2013</td><td>1</td><td>1</td><td>1696</td><td>150</td><td> 719</td></tr>\n",
              "</tbody>\n",
              "</table>\n"
            ],
            "text/markdown": "\nA data.frame: 6 × 7\n\n| <!--/--> | time_hour &lt;chr&gt; | year &lt;dbl&gt; | month &lt;dbl&gt; | day &lt;dbl&gt; | flight &lt;int&gt; | air_time &lt;int&gt; | distance &lt;int&gt; |\n|---|---|---|---|---|---|---|---|\n| 1 | 01/01/2013 05:00 | 2013 | 1 | 1 | 1545 | 227 | 1400 |\n| 2 | 01/01/2013 05:00 | 2013 | 1 | 1 | 1714 | 227 | 1416 |\n| 3 | 01/01/2013 05:00 | 2013 | 1 | 1 | 1141 | 160 | 1089 |\n| 4 | 01/01/2013 05:00 | 2013 | 1 | 1 |  725 | 183 | 1576 |\n| 5 | 01/01/2013 06:00 | 2013 | 1 | 1 |  461 | 116 |  762 |\n| 6 | 01/01/2013 05:00 | 2013 | 1 | 1 | 1696 | 150 |  719 |\n\n",
            "text/latex": "A data.frame: 6 × 7\n\\begin{tabular}{r|lllllll}\n  & time\\_hour & year & month & day & flight & air\\_time & distance\\\\\n  & <chr> & <dbl> & <dbl> & <dbl> & <int> & <int> & <int>\\\\\n\\hline\n\t1 & 01/01/2013 05:00 & 2013 & 1 & 1 & 1545 & 227 & 1400\\\\\n\t2 & 01/01/2013 05:00 & 2013 & 1 & 1 & 1714 & 227 & 1416\\\\\n\t3 & 01/01/2013 05:00 & 2013 & 1 & 1 & 1141 & 160 & 1089\\\\\n\t4 & 01/01/2013 05:00 & 2013 & 1 & 1 &  725 & 183 & 1576\\\\\n\t5 & 01/01/2013 06:00 & 2013 & 1 & 1 &  461 & 116 &  762\\\\\n\t6 & 01/01/2013 05:00 & 2013 & 1 & 1 & 1696 & 150 &  719\\\\\n\\end{tabular}\n",
            "text/plain": [
              "  time_hour        year month day flight air_time distance\n",
              "1 01/01/2013 05:00 2013 1     1   1545   227      1400    \n",
              "2 01/01/2013 05:00 2013 1     1   1714   227      1416    \n",
              "3 01/01/2013 05:00 2013 1     1   1141   160      1089    \n",
              "4 01/01/2013 05:00 2013 1     1    725   183      1576    \n",
              "5 01/01/2013 06:00 2013 1     1    461   116       762    \n",
              "6 01/01/2013 05:00 2013 1     1   1696   150       719    "
            ]
          },
          "metadata": {}
        }
      ],
      "source": [
        "# crear varibles año, mes y día, y seleccionar flight, air_time, y distance\n",
        "flights2 <- flights %>% \n",
        "    mutate('year' = as.numeric(substring(time_hour, 7, 10)),\n",
        "           'month' = as.numeric(substring(time_hour, 4, 5)),\n",
        "           'day' = as.numeric(substring(time_hour, 1, 2))) %>%\n",
        "    ## agragar código\n",
        "    \n",
        "head(flights2)"
      ]
    },
    {
      "cell_type": "code",
      "execution_count": null,
      "id": "thorough-mistress",
      "metadata": {
        "id": "thorough-mistress"
      },
      "outputs": [],
      "source": [
        "head(flights2, 4)"
      ]
    },
    {
      "cell_type": "code",
      "execution_count": null,
      "id": "satisfied-peoples",
      "metadata": {
        "id": "satisfied-peoples"
      },
      "outputs": [],
      "source": [
        ""
      ]
    }
  ],
  "metadata": {
    "kernelspec": {
      "display_name": "R",
      "language": "R",
      "name": "ir"
    },
    "language_info": {
      "codemirror_mode": "r",
      "file_extension": ".r",
      "mimetype": "text/x-r-source",
      "name": "R",
      "pygments_lexer": "r",
      "version": "4.1.0"
    },
    "colab": {
      "name": "6.- Manipulación de datos I.ipynb",
      "provenance": [],
      "collapsed_sections": [],
      "include_colab_link": true
    }
  },
  "nbformat": 4,
  "nbformat_minor": 5
}