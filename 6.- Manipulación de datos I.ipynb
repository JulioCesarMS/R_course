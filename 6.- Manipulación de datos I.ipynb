{
 "cells": [
  {
   "cell_type": "markdown",
   "id": "naughty-detector",
   "metadata": {},
   "source": [
    "# <center> **Manipulación de datos I**"
   ]
  },
  {
   "cell_type": "markdown",
   "id": "congressional-fireplace",
   "metadata": {},
   "source": [
    "- **%>%**      : Operador pip\n",
    "- **select()**  : nos sirve para seleccionar variables.\n",
    "- **filter()**  : nos sirve para seleccionar filas dada una expresión lógica.\n",
    "- **arrange()** : nos sirve para ordenar valors de una (varias) varible(s) de forma ascendente o descendente.\n",
    "- **mutate()**  : nos sirve para crear o modificar nuevas variables a partir de variables existente."
   ]
  },
  {
   "cell_type": "markdown",
   "id": "6ccdf181",
   "metadata": {},
   "source": [
    "## select()"
   ]
  },
  {
   "cell_type": "markdown",
   "id": "provincial-hybrid",
   "metadata": {},
   "source": [
    "> **select()** : Función para seleccionar variable(s) (columna(s)) de un data frame. Dentro de está función se pueden emplear funciones auxiliares como:\n",
    "> - starts_with() \n",
    "> - ends_with()\n",
    "> - contains()\n",
    "> - num_range()\n",
    "> - one_of()\n",
    "> - everything()"
   ]
  },
  {
   "cell_type": "markdown",
   "id": "allied-twenty",
   "metadata": {},
   "source": [
    "<img src=\"./images/fig01.png\">"
   ]
  },
  {
   "cell_type": "markdown",
   "id": "41048232",
   "metadata": {},
   "source": [
    "## filter()"
   ]
  },
  {
   "cell_type": "markdown",
   "id": "electronic-scott",
   "metadata": {},
   "source": [
    "> **filter()** : Función para filtrar observaciones (filas) de una variable(s) (columna(s)) de un data frame dada una condición."
   ]
  },
  {
   "cell_type": "markdown",
   "id": "hearing-modem",
   "metadata": {},
   "source": [
    "<img src=\"./images/fig02.png\">"
   ]
  },
  {
   "cell_type": "markdown",
   "id": "b03926e7",
   "metadata": {},
   "source": [
    "## arrange()"
   ]
  },
  {
   "cell_type": "markdown",
   "id": "interested-packaging",
   "metadata": {},
   "source": [
    "> **arrange()** : Función para ordenar una variable (s) (columna(s)) de un data frame. Por defecto ordena de forma ascendente (menor a mayor), para indicar el orden de forma descendente emplemos la función auxiliar **desc(variable)**"
   ]
  },
  {
   "cell_type": "markdown",
   "id": "unavailable-probability",
   "metadata": {},
   "source": [
    "<img src=\"./images/fig03.png\">"
   ]
  },
  {
   "cell_type": "markdown",
   "id": "bb49e0d5",
   "metadata": {},
   "source": [
    "# Ejemplo:"
   ]
  },
  {
   "cell_type": "code",
   "execution_count": 122,
   "id": "uniform-glance",
   "metadata": {},
   "outputs": [],
   "source": [
    "library('nycflights13')\n",
    "library(\"tidyverse\")\n",
    "options(repr.plot.width=16, repr.plot.height=8)"
   ]
  },
  {
   "cell_type": "code",
   "execution_count": 123,
   "id": "running-swiss",
   "metadata": {},
   "outputs": [
    {
     "data": {
      "text/html": [
       "<table>\n",
       "<caption>A data.frame: 3 × 16</caption>\n",
       "<thead>\n",
       "\t<tr><th></th><th scope=col>dep_time</th><th scope=col>sched_dep_time</th><th scope=col>dep_delay</th><th scope=col>arr_time</th><th scope=col>sched_arr_time</th><th scope=col>arr_delay</th><th scope=col>carrier</th><th scope=col>flight</th><th scope=col>tailnum</th><th scope=col>origin</th><th scope=col>dest</th><th scope=col>air_time</th><th scope=col>distance</th><th scope=col>hour</th><th scope=col>minute</th><th scope=col>time_hour</th></tr>\n",
       "\t<tr><th></th><th scope=col>&lt;int&gt;</th><th scope=col>&lt;int&gt;</th><th scope=col>&lt;int&gt;</th><th scope=col>&lt;int&gt;</th><th scope=col>&lt;int&gt;</th><th scope=col>&lt;int&gt;</th><th scope=col>&lt;chr&gt;</th><th scope=col>&lt;int&gt;</th><th scope=col>&lt;chr&gt;</th><th scope=col>&lt;chr&gt;</th><th scope=col>&lt;chr&gt;</th><th scope=col>&lt;int&gt;</th><th scope=col>&lt;int&gt;</th><th scope=col>&lt;int&gt;</th><th scope=col>&lt;int&gt;</th><th scope=col>&lt;chr&gt;</th></tr>\n",
       "</thead>\n",
       "<tbody>\n",
       "\t<tr><th scope=row>1</th><td>517</td><td>515</td><td>2</td><td>830</td><td>819</td><td>11</td><td>UA</td><td>1545</td><td>N14228</td><td>EWR</td><td>IAH</td><td>227</td><td>1400</td><td>5</td><td>15</td><td>01/01/2013 05:00</td></tr>\n",
       "\t<tr><th scope=row>2</th><td>533</td><td>529</td><td>4</td><td>850</td><td>830</td><td>20</td><td>UA</td><td>1714</td><td>N24211</td><td>LGA</td><td>IAH</td><td>227</td><td>1416</td><td>5</td><td>29</td><td>01/01/2013 05:00</td></tr>\n",
       "\t<tr><th scope=row>3</th><td>542</td><td>540</td><td>2</td><td>923</td><td>850</td><td>33</td><td>AA</td><td>1141</td><td>N619AA</td><td>JFK</td><td>MIA</td><td>160</td><td>1089</td><td>5</td><td>40</td><td>01/01/2013 05:00</td></tr>\n",
       "</tbody>\n",
       "</table>\n"
      ],
      "text/latex": [
       "A data.frame: 3 × 16\n",
       "\\begin{tabular}{r|llllllllllllllll}\n",
       "  & dep\\_time & sched\\_dep\\_time & dep\\_delay & arr\\_time & sched\\_arr\\_time & arr\\_delay & carrier & flight & tailnum & origin & dest & air\\_time & distance & hour & minute & time\\_hour\\\\\n",
       "  & <int> & <int> & <int> & <int> & <int> & <int> & <chr> & <int> & <chr> & <chr> & <chr> & <int> & <int> & <int> & <int> & <chr>\\\\\n",
       "\\hline\n",
       "\t1 & 517 & 515 & 2 & 830 & 819 & 11 & UA & 1545 & N14228 & EWR & IAH & 227 & 1400 & 5 & 15 & 01/01/2013 05:00\\\\\n",
       "\t2 & 533 & 529 & 4 & 850 & 830 & 20 & UA & 1714 & N24211 & LGA & IAH & 227 & 1416 & 5 & 29 & 01/01/2013 05:00\\\\\n",
       "\t3 & 542 & 540 & 2 & 923 & 850 & 33 & AA & 1141 & N619AA & JFK & MIA & 160 & 1089 & 5 & 40 & 01/01/2013 05:00\\\\\n",
       "\\end{tabular}\n"
      ],
      "text/markdown": [
       "\n",
       "A data.frame: 3 × 16\n",
       "\n",
       "| <!--/--> | dep_time &lt;int&gt; | sched_dep_time &lt;int&gt; | dep_delay &lt;int&gt; | arr_time &lt;int&gt; | sched_arr_time &lt;int&gt; | arr_delay &lt;int&gt; | carrier &lt;chr&gt; | flight &lt;int&gt; | tailnum &lt;chr&gt; | origin &lt;chr&gt; | dest &lt;chr&gt; | air_time &lt;int&gt; | distance &lt;int&gt; | hour &lt;int&gt; | minute &lt;int&gt; | time_hour &lt;chr&gt; |\n",
       "|---|---|---|---|---|---|---|---|---|---|---|---|---|---|---|---|---|\n",
       "| 1 | 517 | 515 | 2 | 830 | 819 | 11 | UA | 1545 | N14228 | EWR | IAH | 227 | 1400 | 5 | 15 | 01/01/2013 05:00 |\n",
       "| 2 | 533 | 529 | 4 | 850 | 830 | 20 | UA | 1714 | N24211 | LGA | IAH | 227 | 1416 | 5 | 29 | 01/01/2013 05:00 |\n",
       "| 3 | 542 | 540 | 2 | 923 | 850 | 33 | AA | 1141 | N619AA | JFK | MIA | 160 | 1089 | 5 | 40 | 01/01/2013 05:00 |\n",
       "\n"
      ],
      "text/plain": [
       "  dep_time sched_dep_time dep_delay arr_time sched_arr_time arr_delay carrier\n",
       "1 517      515            2         830      819            11        UA     \n",
       "2 533      529            4         850      830            20        UA     \n",
       "3 542      540            2         923      850            33        AA     \n",
       "  flight tailnum origin dest air_time distance hour minute time_hour       \n",
       "1 1545   N14228  EWR    IAH  227      1400     5    15     01/01/2013 05:00\n",
       "2 1714   N24211  LGA    IAH  227      1416     5    29     01/01/2013 05:00\n",
       "3 1141   N619AA  JFK    MIA  160      1089     5    40     01/01/2013 05:00"
      ]
     },
     "metadata": {},
     "output_type": "display_data"
    }
   ],
   "source": [
    "# read dataset\n",
    "flights = read.csv('./datasets/flights.csv')\n",
    "head(flights, 3)"
   ]
  },
  {
   "cell_type": "markdown",
   "id": "affected-fraction",
   "metadata": {},
   "source": [
    "| Variable         | Descripción |\n",
    "| :--- | :--- |\n",
    "| dep_time         | Hora real de salida |\n",
    "| sched_dep_time   | Horario de salida y llegada programado |\n",
    "| dep_delay        | Retraso de salida, en minutos. Los tiempos negativos representan salidas tempranas |\n",
    "| arr_time         | Hora real de salida y de llegada |\n",
    "| sched_arr_time   | Horario de llegada programado |\n",
    "| arr_delay        | Retraso de llegada, en minutos. Los tiempos negativos representan llegadas tempranas |\n",
    "| carrier          | Abreviación de la auerolínea |\n",
    "| flight           | Número de vuelo |\n",
    "| tailnum          | Número de avión |\n",
    "| origin           | Origen |\n",
    "| dest             | Destino |\n",
    "| air_time         | Cantidad de tiempo en el aire, en minutos |\n",
    "| distance         | Distancia entre aeropuertos, en millas |\n",
    "| hour             | Hora de salida prevista desglosada en hora  |\n",
    "| minute           | Hora de salida prevista desglosada en minutos |\n",
    "| time_hour        | Fecha y hora prevista del vuelo |"
   ]
  },
  {
   "cell_type": "markdown",
   "id": "occupational-horizon",
   "metadata": {},
   "source": [
    "[**Ejercicio 1**] crear varibles año, mes y día, y seleccionar las variables <span style=\"color:blue\"> flight </span>,  <span style=\"color:blue\"> air_time </span>, y <span style=\"color:blue\"> distance </span>. "
   ]
  },
  {
   "cell_type": "code",
   "execution_count": 124,
   "id": "solved-burst",
   "metadata": {},
   "outputs": [],
   "source": [
    "# crear varibles año, mes y día, y seleccionar flight, air_time, y distance\n",
    "flights2 <- flights %>% \n",
    "    mutate(year = as.numeric(substring(time_hour, 7, 10)),\n",
    "           month = as.numeric(substring(time_hour, 4, 5)),\n",
    "           day = as.numeric(substring(time_hour, 1, 2))) %>%\n",
    "    select(time_hour, year, month, day, flight, air_time, distance)"
   ]
  },
  {
   "cell_type": "code",
   "execution_count": 125,
   "id": "thorough-mistress",
   "metadata": {},
   "outputs": [
    {
     "data": {
      "text/html": [
       "<table>\n",
       "<caption>A data.frame: 4 × 7</caption>\n",
       "<thead>\n",
       "\t<tr><th></th><th scope=col>time_hour</th><th scope=col>year</th><th scope=col>month</th><th scope=col>day</th><th scope=col>flight</th><th scope=col>air_time</th><th scope=col>distance</th></tr>\n",
       "\t<tr><th></th><th scope=col>&lt;chr&gt;</th><th scope=col>&lt;dbl&gt;</th><th scope=col>&lt;dbl&gt;</th><th scope=col>&lt;dbl&gt;</th><th scope=col>&lt;int&gt;</th><th scope=col>&lt;int&gt;</th><th scope=col>&lt;int&gt;</th></tr>\n",
       "</thead>\n",
       "<tbody>\n",
       "\t<tr><th scope=row>1</th><td>01/01/2013 05:00</td><td>2013</td><td>1</td><td>1</td><td>1545</td><td>227</td><td>1400</td></tr>\n",
       "\t<tr><th scope=row>2</th><td>01/01/2013 05:00</td><td>2013</td><td>1</td><td>1</td><td>1714</td><td>227</td><td>1416</td></tr>\n",
       "\t<tr><th scope=row>3</th><td>01/01/2013 05:00</td><td>2013</td><td>1</td><td>1</td><td>1141</td><td>160</td><td>1089</td></tr>\n",
       "\t<tr><th scope=row>4</th><td>01/01/2013 05:00</td><td>2013</td><td>1</td><td>1</td><td> 725</td><td>183</td><td>1576</td></tr>\n",
       "</tbody>\n",
       "</table>\n"
      ],
      "text/latex": [
       "A data.frame: 4 × 7\n",
       "\\begin{tabular}{r|lllllll}\n",
       "  & time\\_hour & year & month & day & flight & air\\_time & distance\\\\\n",
       "  & <chr> & <dbl> & <dbl> & <dbl> & <int> & <int> & <int>\\\\\n",
       "\\hline\n",
       "\t1 & 01/01/2013 05:00 & 2013 & 1 & 1 & 1545 & 227 & 1400\\\\\n",
       "\t2 & 01/01/2013 05:00 & 2013 & 1 & 1 & 1714 & 227 & 1416\\\\\n",
       "\t3 & 01/01/2013 05:00 & 2013 & 1 & 1 & 1141 & 160 & 1089\\\\\n",
       "\t4 & 01/01/2013 05:00 & 2013 & 1 & 1 &  725 & 183 & 1576\\\\\n",
       "\\end{tabular}\n"
      ],
      "text/markdown": [
       "\n",
       "A data.frame: 4 × 7\n",
       "\n",
       "| <!--/--> | time_hour &lt;chr&gt; | year &lt;dbl&gt; | month &lt;dbl&gt; | day &lt;dbl&gt; | flight &lt;int&gt; | air_time &lt;int&gt; | distance &lt;int&gt; |\n",
       "|---|---|---|---|---|---|---|---|\n",
       "| 1 | 01/01/2013 05:00 | 2013 | 1 | 1 | 1545 | 227 | 1400 |\n",
       "| 2 | 01/01/2013 05:00 | 2013 | 1 | 1 | 1714 | 227 | 1416 |\n",
       "| 3 | 01/01/2013 05:00 | 2013 | 1 | 1 | 1141 | 160 | 1089 |\n",
       "| 4 | 01/01/2013 05:00 | 2013 | 1 | 1 |  725 | 183 | 1576 |\n",
       "\n"
      ],
      "text/plain": [
       "  time_hour        year month day flight air_time distance\n",
       "1 01/01/2013 05:00 2013 1     1   1545   227      1400    \n",
       "2 01/01/2013 05:00 2013 1     1   1714   227      1416    \n",
       "3 01/01/2013 05:00 2013 1     1   1141   160      1089    \n",
       "4 01/01/2013 05:00 2013 1     1    725   183      1576    "
      ]
     },
     "metadata": {},
     "output_type": "display_data"
    }
   ],
   "source": [
    "head(flights2, 4)"
   ]
  },
  {
   "cell_type": "markdown",
   "id": "eligible-salon",
   "metadata": {},
   "source": [
    "[**Ejercicio 2**] Eliminar la variable  <span style=\"color:blue\"> time_hour </span>."
   ]
  },
  {
   "cell_type": "code",
   "execution_count": 126,
   "id": "distinguished-stamp",
   "metadata": {},
   "outputs": [
    {
     "data": {
      "text/html": [
       "<table>\n",
       "<caption>A data.frame: 336776 × 6</caption>\n",
       "<thead>\n",
       "\t<tr><th scope=col>year</th><th scope=col>month</th><th scope=col>day</th><th scope=col>flight</th><th scope=col>air_time</th><th scope=col>distance</th></tr>\n",
       "\t<tr><th scope=col>&lt;dbl&gt;</th><th scope=col>&lt;dbl&gt;</th><th scope=col>&lt;dbl&gt;</th><th scope=col>&lt;int&gt;</th><th scope=col>&lt;int&gt;</th><th scope=col>&lt;int&gt;</th></tr>\n",
       "</thead>\n",
       "<tbody>\n",
       "\t<tr><td>2013</td><td>1</td><td>1</td><td>1545</td><td>227</td><td>1400</td></tr>\n",
       "\t<tr><td>2013</td><td>1</td><td>1</td><td>1714</td><td>227</td><td>1416</td></tr>\n",
       "\t<tr><td>2013</td><td>1</td><td>1</td><td>1141</td><td>160</td><td>1089</td></tr>\n",
       "\t<tr><td>2013</td><td>1</td><td>1</td><td> 725</td><td>183</td><td>1576</td></tr>\n",
       "\t<tr><td>2013</td><td>1</td><td>1</td><td> 461</td><td>116</td><td> 762</td></tr>\n",
       "\t<tr><td>2013</td><td>1</td><td>1</td><td>1696</td><td>150</td><td> 719</td></tr>\n",
       "\t<tr><td>2013</td><td>1</td><td>1</td><td> 507</td><td>158</td><td>1065</td></tr>\n",
       "\t<tr><td>2013</td><td>1</td><td>1</td><td>5708</td><td> 53</td><td> 229</td></tr>\n",
       "\t<tr><td>2013</td><td>1</td><td>1</td><td>  79</td><td>140</td><td> 944</td></tr>\n",
       "\t<tr><td>2013</td><td>1</td><td>1</td><td> 301</td><td>138</td><td> 733</td></tr>\n",
       "\t<tr><td>2013</td><td>1</td><td>1</td><td>  49</td><td>149</td><td>1028</td></tr>\n",
       "\t<tr><td>2013</td><td>1</td><td>1</td><td>  71</td><td>158</td><td>1005</td></tr>\n",
       "\t<tr><td>2013</td><td>1</td><td>1</td><td> 194</td><td>345</td><td>2475</td></tr>\n",
       "\t<tr><td>2013</td><td>1</td><td>1</td><td>1124</td><td>361</td><td>2565</td></tr>\n",
       "\t<tr><td>2013</td><td>1</td><td>1</td><td> 707</td><td>257</td><td>1389</td></tr>\n",
       "\t<tr><td>2013</td><td>1</td><td>1</td><td>1806</td><td> 44</td><td> 187</td></tr>\n",
       "\t<tr><td>2013</td><td>1</td><td>1</td><td>1187</td><td>337</td><td>2227</td></tr>\n",
       "\t<tr><td>2013</td><td>1</td><td>1</td><td> 371</td><td>152</td><td>1076</td></tr>\n",
       "\t<tr><td>2013</td><td>1</td><td>1</td><td>4650</td><td>134</td><td> 762</td></tr>\n",
       "\t<tr><td>2013</td><td>1</td><td>1</td><td> 343</td><td>147</td><td>1023</td></tr>\n",
       "\t<tr><td>2013</td><td>1</td><td>1</td><td>1919</td><td>170</td><td>1020</td></tr>\n",
       "\t<tr><td>2013</td><td>1</td><td>1</td><td>4401</td><td>105</td><td> 502</td></tr>\n",
       "\t<tr><td>2013</td><td>1</td><td>1</td><td>1895</td><td>152</td><td>1085</td></tr>\n",
       "\t<tr><td>2013</td><td>1</td><td>1</td><td>1743</td><td>128</td><td> 760</td></tr>\n",
       "\t<tr><td>2013</td><td>1</td><td>1</td><td>1077</td><td>157</td><td>1085</td></tr>\n",
       "\t<tr><td>2013</td><td>1</td><td>1</td><td>3768</td><td>139</td><td> 719</td></tr>\n",
       "\t<tr><td>2013</td><td>1</td><td>1</td><td> 303</td><td>366</td><td>2586</td></tr>\n",
       "\t<tr><td>2013</td><td>1</td><td>1</td><td> 135</td><td>175</td><td>1074</td></tr>\n",
       "\t<tr><td>2013</td><td>1</td><td>1</td><td> 709</td><td>182</td><td>1598</td></tr>\n",
       "\t<tr><td>2013</td><td>1</td><td>1</td><td> 575</td><td>120</td><td> 746</td></tr>\n",
       "\t<tr><td>...</td><td>...</td><td>...</td><td>...</td><td>...</td><td>...</td></tr>\n",
       "\t<tr><td>2013</td><td>9</td><td>30</td><td>5489</td><td> 45</td><td> 305</td></tr>\n",
       "\t<tr><td>2013</td><td>9</td><td>30</td><td>3833</td><td> 72</td><td> 529</td></tr>\n",
       "\t<tr><td>2013</td><td>9</td><td>30</td><td>  97</td><td>213</td><td>1626</td></tr>\n",
       "\t<tr><td>2013</td><td>9</td><td>30</td><td>5048</td><td> 45</td><td> 292</td></tr>\n",
       "\t<tr><td>2013</td><td>9</td><td>30</td><td>3621</td><td> 36</td><td> 213</td></tr>\n",
       "\t<tr><td>2013</td><td>9</td><td>30</td><td> 185</td><td>298</td><td>2475</td></tr>\n",
       "\t<tr><td>2013</td><td>9</td><td>30</td><td>4509</td><td> 47</td><td> 284</td></tr>\n",
       "\t<tr><td>2013</td><td>9</td><td>30</td><td>1103</td><td>192</td><td>1598</td></tr>\n",
       "\t<tr><td>2013</td><td>9</td><td>30</td><td>1371</td><td>139</td><td>1076</td></tr>\n",
       "\t<tr><td>2013</td><td>9</td><td>30</td><td> 523</td><td> 37</td><td> 200</td></tr>\n",
       "\t<tr><td>2013</td><td>9</td><td>30</td><td>3842</td><td> 39</td><td> 209</td></tr>\n",
       "\t<tr><td>2013</td><td>9</td><td>30</td><td>3320</td><td> 50</td><td> 301</td></tr>\n",
       "\t<tr><td>2013</td><td>9</td><td>30</td><td>5311</td><td> 61</td><td> 378</td></tr>\n",
       "\t<tr><td>2013</td><td>9</td><td>30</td><td>3660</td><td> 97</td><td> 764</td></tr>\n",
       "\t<tr><td>2013</td><td>9</td><td>30</td><td>4672</td><td>120</td><td> 872</td></tr>\n",
       "\t<tr><td>2013</td><td>9</td><td>30</td><td> 108</td><td> 48</td><td> 273</td></tr>\n",
       "\t<tr><td>2013</td><td>9</td><td>30</td><td> 471</td><td>318</td><td>2565</td></tr>\n",
       "\t<tr><td>2013</td><td>9</td><td>30</td><td>1083</td><td>123</td><td> 944</td></tr>\n",
       "\t<tr><td>2013</td><td>9</td><td>30</td><td> 234</td><td> 43</td><td> 266</td></tr>\n",
       "\t<tr><td>2013</td><td>9</td><td>30</td><td>1816</td><td> 41</td><td> 209</td></tr>\n",
       "\t<tr><td>2013</td><td>9</td><td>30</td><td>2002</td><td> 52</td><td> 301</td></tr>\n",
       "\t<tr><td>2013</td><td>9</td><td>30</td><td> 486</td><td> 47</td><td> 264</td></tr>\n",
       "\t<tr><td>2013</td><td>9</td><td>30</td><td> 718</td><td> 33</td><td> 187</td></tr>\n",
       "\t<tr><td>2013</td><td>9</td><td>30</td><td> 745</td><td>196</td><td>1617</td></tr>\n",
       "\t<tr><td>2013</td><td>9</td><td>30</td><td>5274</td><td> NA</td><td> 764</td></tr>\n",
       "\t<tr><td>2013</td><td>9</td><td>30</td><td>3393</td><td> NA</td><td> 213</td></tr>\n",
       "\t<tr><td>2013</td><td>9</td><td>30</td><td>3525</td><td> NA</td><td> 198</td></tr>\n",
       "\t<tr><td>2013</td><td>9</td><td>30</td><td>3461</td><td> NA</td><td> 764</td></tr>\n",
       "\t<tr><td>2013</td><td>9</td><td>30</td><td>3572</td><td> NA</td><td> 419</td></tr>\n",
       "\t<tr><td>2013</td><td>9</td><td>30</td><td>3531</td><td> NA</td><td> 431</td></tr>\n",
       "</tbody>\n",
       "</table>\n"
      ],
      "text/latex": [
       "A data.frame: 336776 × 6\n",
       "\\begin{tabular}{llllll}\n",
       " year & month & day & flight & air\\_time & distance\\\\\n",
       " <dbl> & <dbl> & <dbl> & <int> & <int> & <int>\\\\\n",
       "\\hline\n",
       "\t 2013 & 1 & 1 & 1545 & 227 & 1400\\\\\n",
       "\t 2013 & 1 & 1 & 1714 & 227 & 1416\\\\\n",
       "\t 2013 & 1 & 1 & 1141 & 160 & 1089\\\\\n",
       "\t 2013 & 1 & 1 &  725 & 183 & 1576\\\\\n",
       "\t 2013 & 1 & 1 &  461 & 116 &  762\\\\\n",
       "\t 2013 & 1 & 1 & 1696 & 150 &  719\\\\\n",
       "\t 2013 & 1 & 1 &  507 & 158 & 1065\\\\\n",
       "\t 2013 & 1 & 1 & 5708 &  53 &  229\\\\\n",
       "\t 2013 & 1 & 1 &   79 & 140 &  944\\\\\n",
       "\t 2013 & 1 & 1 &  301 & 138 &  733\\\\\n",
       "\t 2013 & 1 & 1 &   49 & 149 & 1028\\\\\n",
       "\t 2013 & 1 & 1 &   71 & 158 & 1005\\\\\n",
       "\t 2013 & 1 & 1 &  194 & 345 & 2475\\\\\n",
       "\t 2013 & 1 & 1 & 1124 & 361 & 2565\\\\\n",
       "\t 2013 & 1 & 1 &  707 & 257 & 1389\\\\\n",
       "\t 2013 & 1 & 1 & 1806 &  44 &  187\\\\\n",
       "\t 2013 & 1 & 1 & 1187 & 337 & 2227\\\\\n",
       "\t 2013 & 1 & 1 &  371 & 152 & 1076\\\\\n",
       "\t 2013 & 1 & 1 & 4650 & 134 &  762\\\\\n",
       "\t 2013 & 1 & 1 &  343 & 147 & 1023\\\\\n",
       "\t 2013 & 1 & 1 & 1919 & 170 & 1020\\\\\n",
       "\t 2013 & 1 & 1 & 4401 & 105 &  502\\\\\n",
       "\t 2013 & 1 & 1 & 1895 & 152 & 1085\\\\\n",
       "\t 2013 & 1 & 1 & 1743 & 128 &  760\\\\\n",
       "\t 2013 & 1 & 1 & 1077 & 157 & 1085\\\\\n",
       "\t 2013 & 1 & 1 & 3768 & 139 &  719\\\\\n",
       "\t 2013 & 1 & 1 &  303 & 366 & 2586\\\\\n",
       "\t 2013 & 1 & 1 &  135 & 175 & 1074\\\\\n",
       "\t 2013 & 1 & 1 &  709 & 182 & 1598\\\\\n",
       "\t 2013 & 1 & 1 &  575 & 120 &  746\\\\\n",
       "\t ... & ... & ... & ... & ... & ...\\\\\n",
       "\t 2013 & 9 & 30 & 5489 &  45 &  305\\\\\n",
       "\t 2013 & 9 & 30 & 3833 &  72 &  529\\\\\n",
       "\t 2013 & 9 & 30 &   97 & 213 & 1626\\\\\n",
       "\t 2013 & 9 & 30 & 5048 &  45 &  292\\\\\n",
       "\t 2013 & 9 & 30 & 3621 &  36 &  213\\\\\n",
       "\t 2013 & 9 & 30 &  185 & 298 & 2475\\\\\n",
       "\t 2013 & 9 & 30 & 4509 &  47 &  284\\\\\n",
       "\t 2013 & 9 & 30 & 1103 & 192 & 1598\\\\\n",
       "\t 2013 & 9 & 30 & 1371 & 139 & 1076\\\\\n",
       "\t 2013 & 9 & 30 &  523 &  37 &  200\\\\\n",
       "\t 2013 & 9 & 30 & 3842 &  39 &  209\\\\\n",
       "\t 2013 & 9 & 30 & 3320 &  50 &  301\\\\\n",
       "\t 2013 & 9 & 30 & 5311 &  61 &  378\\\\\n",
       "\t 2013 & 9 & 30 & 3660 &  97 &  764\\\\\n",
       "\t 2013 & 9 & 30 & 4672 & 120 &  872\\\\\n",
       "\t 2013 & 9 & 30 &  108 &  48 &  273\\\\\n",
       "\t 2013 & 9 & 30 &  471 & 318 & 2565\\\\\n",
       "\t 2013 & 9 & 30 & 1083 & 123 &  944\\\\\n",
       "\t 2013 & 9 & 30 &  234 &  43 &  266\\\\\n",
       "\t 2013 & 9 & 30 & 1816 &  41 &  209\\\\\n",
       "\t 2013 & 9 & 30 & 2002 &  52 &  301\\\\\n",
       "\t 2013 & 9 & 30 &  486 &  47 &  264\\\\\n",
       "\t 2013 & 9 & 30 &  718 &  33 &  187\\\\\n",
       "\t 2013 & 9 & 30 &  745 & 196 & 1617\\\\\n",
       "\t 2013 & 9 & 30 & 5274 &  NA &  764\\\\\n",
       "\t 2013 & 9 & 30 & 3393 &  NA &  213\\\\\n",
       "\t 2013 & 9 & 30 & 3525 &  NA &  198\\\\\n",
       "\t 2013 & 9 & 30 & 3461 &  NA &  764\\\\\n",
       "\t 2013 & 9 & 30 & 3572 &  NA &  419\\\\\n",
       "\t 2013 & 9 & 30 & 3531 &  NA &  431\\\\\n",
       "\\end{tabular}\n"
      ],
      "text/markdown": [
       "\n",
       "A data.frame: 336776 × 6\n",
       "\n",
       "| year &lt;dbl&gt; | month &lt;dbl&gt; | day &lt;dbl&gt; | flight &lt;int&gt; | air_time &lt;int&gt; | distance &lt;int&gt; |\n",
       "|---|---|---|---|---|---|\n",
       "| 2013 | 1 | 1 | 1545 | 227 | 1400 |\n",
       "| 2013 | 1 | 1 | 1714 | 227 | 1416 |\n",
       "| 2013 | 1 | 1 | 1141 | 160 | 1089 |\n",
       "| 2013 | 1 | 1 |  725 | 183 | 1576 |\n",
       "| 2013 | 1 | 1 |  461 | 116 |  762 |\n",
       "| 2013 | 1 | 1 | 1696 | 150 |  719 |\n",
       "| 2013 | 1 | 1 |  507 | 158 | 1065 |\n",
       "| 2013 | 1 | 1 | 5708 |  53 |  229 |\n",
       "| 2013 | 1 | 1 |   79 | 140 |  944 |\n",
       "| 2013 | 1 | 1 |  301 | 138 |  733 |\n",
       "| 2013 | 1 | 1 |   49 | 149 | 1028 |\n",
       "| 2013 | 1 | 1 |   71 | 158 | 1005 |\n",
       "| 2013 | 1 | 1 |  194 | 345 | 2475 |\n",
       "| 2013 | 1 | 1 | 1124 | 361 | 2565 |\n",
       "| 2013 | 1 | 1 |  707 | 257 | 1389 |\n",
       "| 2013 | 1 | 1 | 1806 |  44 |  187 |\n",
       "| 2013 | 1 | 1 | 1187 | 337 | 2227 |\n",
       "| 2013 | 1 | 1 |  371 | 152 | 1076 |\n",
       "| 2013 | 1 | 1 | 4650 | 134 |  762 |\n",
       "| 2013 | 1 | 1 |  343 | 147 | 1023 |\n",
       "| 2013 | 1 | 1 | 1919 | 170 | 1020 |\n",
       "| 2013 | 1 | 1 | 4401 | 105 |  502 |\n",
       "| 2013 | 1 | 1 | 1895 | 152 | 1085 |\n",
       "| 2013 | 1 | 1 | 1743 | 128 |  760 |\n",
       "| 2013 | 1 | 1 | 1077 | 157 | 1085 |\n",
       "| 2013 | 1 | 1 | 3768 | 139 |  719 |\n",
       "| 2013 | 1 | 1 |  303 | 366 | 2586 |\n",
       "| 2013 | 1 | 1 |  135 | 175 | 1074 |\n",
       "| 2013 | 1 | 1 |  709 | 182 | 1598 |\n",
       "| 2013 | 1 | 1 |  575 | 120 |  746 |\n",
       "| ... | ... | ... | ... | ... | ... |\n",
       "| 2013 | 9 | 30 | 5489 |  45 |  305 |\n",
       "| 2013 | 9 | 30 | 3833 |  72 |  529 |\n",
       "| 2013 | 9 | 30 |   97 | 213 | 1626 |\n",
       "| 2013 | 9 | 30 | 5048 |  45 |  292 |\n",
       "| 2013 | 9 | 30 | 3621 |  36 |  213 |\n",
       "| 2013 | 9 | 30 |  185 | 298 | 2475 |\n",
       "| 2013 | 9 | 30 | 4509 |  47 |  284 |\n",
       "| 2013 | 9 | 30 | 1103 | 192 | 1598 |\n",
       "| 2013 | 9 | 30 | 1371 | 139 | 1076 |\n",
       "| 2013 | 9 | 30 |  523 |  37 |  200 |\n",
       "| 2013 | 9 | 30 | 3842 |  39 |  209 |\n",
       "| 2013 | 9 | 30 | 3320 |  50 |  301 |\n",
       "| 2013 | 9 | 30 | 5311 |  61 |  378 |\n",
       "| 2013 | 9 | 30 | 3660 |  97 |  764 |\n",
       "| 2013 | 9 | 30 | 4672 | 120 |  872 |\n",
       "| 2013 | 9 | 30 |  108 |  48 |  273 |\n",
       "| 2013 | 9 | 30 |  471 | 318 | 2565 |\n",
       "| 2013 | 9 | 30 | 1083 | 123 |  944 |\n",
       "| 2013 | 9 | 30 |  234 |  43 |  266 |\n",
       "| 2013 | 9 | 30 | 1816 |  41 |  209 |\n",
       "| 2013 | 9 | 30 | 2002 |  52 |  301 |\n",
       "| 2013 | 9 | 30 |  486 |  47 |  264 |\n",
       "| 2013 | 9 | 30 |  718 |  33 |  187 |\n",
       "| 2013 | 9 | 30 |  745 | 196 | 1617 |\n",
       "| 2013 | 9 | 30 | 5274 |  NA |  764 |\n",
       "| 2013 | 9 | 30 | 3393 |  NA |  213 |\n",
       "| 2013 | 9 | 30 | 3525 |  NA |  198 |\n",
       "| 2013 | 9 | 30 | 3461 |  NA |  764 |\n",
       "| 2013 | 9 | 30 | 3572 |  NA |  419 |\n",
       "| 2013 | 9 | 30 | 3531 |  NA |  431 |\n",
       "\n"
      ],
      "text/plain": [
       "       year month day flight air_time distance\n",
       "1      2013 1     1   1545   227      1400    \n",
       "2      2013 1     1   1714   227      1416    \n",
       "3      2013 1     1   1141   160      1089    \n",
       "4      2013 1     1    725   183      1576    \n",
       "5      2013 1     1    461   116       762    \n",
       "6      2013 1     1   1696   150       719    \n",
       "7      2013 1     1    507   158      1065    \n",
       "8      2013 1     1   5708    53       229    \n",
       "9      2013 1     1     79   140       944    \n",
       "10     2013 1     1    301   138       733    \n",
       "11     2013 1     1     49   149      1028    \n",
       "12     2013 1     1     71   158      1005    \n",
       "13     2013 1     1    194   345      2475    \n",
       "14     2013 1     1   1124   361      2565    \n",
       "15     2013 1     1    707   257      1389    \n",
       "16     2013 1     1   1806    44       187    \n",
       "17     2013 1     1   1187   337      2227    \n",
       "18     2013 1     1    371   152      1076    \n",
       "19     2013 1     1   4650   134       762    \n",
       "20     2013 1     1    343   147      1023    \n",
       "21     2013 1     1   1919   170      1020    \n",
       "22     2013 1     1   4401   105       502    \n",
       "23     2013 1     1   1895   152      1085    \n",
       "24     2013 1     1   1743   128       760    \n",
       "25     2013 1     1   1077   157      1085    \n",
       "26     2013 1     1   3768   139       719    \n",
       "27     2013 1     1    303   366      2586    \n",
       "28     2013 1     1    135   175      1074    \n",
       "29     2013 1     1    709   182      1598    \n",
       "30     2013 1     1    575   120       746    \n",
       "...    ...  ...   ... ...    ...      ...     \n",
       "336747 2013 9     30  5489    45       305    \n",
       "336748 2013 9     30  3833    72       529    \n",
       "336749 2013 9     30    97   213      1626    \n",
       "336750 2013 9     30  5048    45       292    \n",
       "336751 2013 9     30  3621    36       213    \n",
       "336752 2013 9     30   185   298      2475    \n",
       "336753 2013 9     30  4509    47       284    \n",
       "336754 2013 9     30  1103   192      1598    \n",
       "336755 2013 9     30  1371   139      1076    \n",
       "336756 2013 9     30   523    37       200    \n",
       "336757 2013 9     30  3842    39       209    \n",
       "336758 2013 9     30  3320    50       301    \n",
       "336759 2013 9     30  5311    61       378    \n",
       "336760 2013 9     30  3660    97       764    \n",
       "336761 2013 9     30  4672   120       872    \n",
       "336762 2013 9     30   108    48       273    \n",
       "336763 2013 9     30   471   318      2565    \n",
       "336764 2013 9     30  1083   123       944    \n",
       "336765 2013 9     30   234    43       266    \n",
       "336766 2013 9     30  1816    41       209    \n",
       "336767 2013 9     30  2002    52       301    \n",
       "336768 2013 9     30   486    47       264    \n",
       "336769 2013 9     30   718    33       187    \n",
       "336770 2013 9     30   745   196      1617    \n",
       "336771 2013 9     30  5274    NA       764    \n",
       "336772 2013 9     30  3393    NA       213    \n",
       "336773 2013 9     30  3525    NA       198    \n",
       "336774 2013 9     30  3461    NA       764    \n",
       "336775 2013 9     30  3572    NA       419    \n",
       "336776 2013 9     30  3531    NA       431    "
      ]
     },
     "metadata": {},
     "output_type": "display_data"
    }
   ],
   "source": [
    "# eliminar la variable time_hour\n",
    "flights3 <- flights2 %>% select(-time_hour)\n",
    "flights3"
   ]
  },
  {
   "cell_type": "code",
   "execution_count": 15,
   "id": "prospective-determination",
   "metadata": {},
   "outputs": [
    {
     "data": {
      "text/html": [
       "<style>\n",
       ".list-inline {list-style: none; margin:0; padding: 0}\n",
       ".list-inline>li {display: inline-block}\n",
       ".list-inline>li:not(:last-child)::after {content: \"\\00b7\"; padding: 0 .5ex}\n",
       "</style>\n",
       "<ol class=list-inline><li>336776</li><li>6</li></ol>\n"
      ],
      "text/latex": [
       "\\begin{enumerate*}\n",
       "\\item 336776\n",
       "\\item 6\n",
       "\\end{enumerate*}\n"
      ],
      "text/markdown": [
       "1. 336776\n",
       "2. 6\n",
       "\n",
       "\n"
      ],
      "text/plain": [
       "[1] 336776      6"
      ]
     },
     "metadata": {},
     "output_type": "display_data"
    }
   ],
   "source": [
    "dim(flights3)"
   ]
  },
  {
   "cell_type": "markdown",
   "id": "sharp-storage",
   "metadata": {},
   "source": [
    "[**Ejercicio 3**] Filtrar mes de enero."
   ]
  },
  {
   "cell_type": "code",
   "execution_count": 59,
   "id": "improving-wealth",
   "metadata": {},
   "outputs": [
    {
     "data": {
      "text/html": [
       "<table>\n",
       "<caption>A tibble: 4 × 6</caption>\n",
       "<thead>\n",
       "\t<tr><th scope=col>year</th><th scope=col>month</th><th scope=col>day</th><th scope=col>flight</th><th scope=col>air_time</th><th scope=col>distance</th></tr>\n",
       "\t<tr><th scope=col>&lt;dbl&gt;</th><th scope=col>&lt;int&gt;</th><th scope=col>&lt;dbl&gt;</th><th scope=col>&lt;int&gt;</th><th scope=col>&lt;dbl&gt;</th><th scope=col>&lt;dbl&gt;</th></tr>\n",
       "</thead>\n",
       "<tbody>\n",
       "\t<tr><td>2013</td><td>1</td><td>1</td><td>1545</td><td>227</td><td>1400</td></tr>\n",
       "\t<tr><td>2013</td><td>1</td><td>1</td><td>1714</td><td>227</td><td>1416</td></tr>\n",
       "\t<tr><td>2013</td><td>1</td><td>1</td><td>1141</td><td>160</td><td>1089</td></tr>\n",
       "\t<tr><td>2013</td><td>1</td><td>1</td><td> 725</td><td>183</td><td>1576</td></tr>\n",
       "</tbody>\n",
       "</table>\n"
      ],
      "text/latex": [
       "A tibble: 4 × 6\n",
       "\\begin{tabular}{llllll}\n",
       " year & month & day & flight & air\\_time & distance\\\\\n",
       " <dbl> & <int> & <dbl> & <int> & <dbl> & <dbl>\\\\\n",
       "\\hline\n",
       "\t 2013 & 1 & 1 & 1545 & 227 & 1400\\\\\n",
       "\t 2013 & 1 & 1 & 1714 & 227 & 1416\\\\\n",
       "\t 2013 & 1 & 1 & 1141 & 160 & 1089\\\\\n",
       "\t 2013 & 1 & 1 &  725 & 183 & 1576\\\\\n",
       "\\end{tabular}\n"
      ],
      "text/markdown": [
       "\n",
       "A tibble: 4 × 6\n",
       "\n",
       "| year &lt;dbl&gt; | month &lt;int&gt; | day &lt;dbl&gt; | flight &lt;int&gt; | air_time &lt;dbl&gt; | distance &lt;dbl&gt; |\n",
       "|---|---|---|---|---|---|\n",
       "| 2013 | 1 | 1 | 1545 | 227 | 1400 |\n",
       "| 2013 | 1 | 1 | 1714 | 227 | 1416 |\n",
       "| 2013 | 1 | 1 | 1141 | 160 | 1089 |\n",
       "| 2013 | 1 | 1 |  725 | 183 | 1576 |\n",
       "\n"
      ],
      "text/plain": [
       "  year month day flight air_time distance\n",
       "1 2013 1     1   1545   227      1400    \n",
       "2 2013 1     1   1714   227      1416    \n",
       "3 2013 1     1   1141   160      1089    \n",
       "4 2013 1     1    725   183      1576    "
      ]
     },
     "metadata": {},
     "output_type": "display_data"
    }
   ],
   "source": [
    "# filtrar por mes de enero\n",
    "jan <- flights3 %>% filter(month == 1)\n",
    "head(jan, 4)"
   ]
  },
  {
   "cell_type": "code",
   "execution_count": 57,
   "id": "assigned-shift",
   "metadata": {},
   "outputs": [
    {
     "data": {
      "text/html": [
       "<style>\n",
       ".list-inline {list-style: none; margin:0; padding: 0}\n",
       ".list-inline>li {display: inline-block}\n",
       ".list-inline>li:not(:last-child)::after {content: \"\\00b7\"; padding: 0 .5ex}\n",
       "</style>\n",
       "<ol class=list-inline><li>27004</li><li>7</li></ol>\n"
      ],
      "text/latex": [
       "\\begin{enumerate*}\n",
       "\\item 27004\n",
       "\\item 7\n",
       "\\end{enumerate*}\n"
      ],
      "text/markdown": [
       "1. 27004\n",
       "2. 7\n",
       "\n",
       "\n"
      ],
      "text/plain": [
       "[1] 27004     7"
      ]
     },
     "metadata": {},
     "output_type": "display_data"
    }
   ],
   "source": [
    "dim(jan)"
   ]
  },
  {
   "cell_type": "markdown",
   "id": "optical-earth",
   "metadata": {},
   "source": [
    "[**Ejercicio 4**] Filtrar por mes de enero y día primero."
   ]
  },
  {
   "cell_type": "code",
   "execution_count": 60,
   "id": "alpha-spray",
   "metadata": {},
   "outputs": [
    {
     "data": {
      "text/html": [
       "<table>\n",
       "<caption>A tibble: 4 × 6</caption>\n",
       "<thead>\n",
       "\t<tr><th scope=col>year</th><th scope=col>month</th><th scope=col>day</th><th scope=col>flight</th><th scope=col>air_time</th><th scope=col>distance</th></tr>\n",
       "\t<tr><th scope=col>&lt;dbl&gt;</th><th scope=col>&lt;int&gt;</th><th scope=col>&lt;dbl&gt;</th><th scope=col>&lt;int&gt;</th><th scope=col>&lt;dbl&gt;</th><th scope=col>&lt;dbl&gt;</th></tr>\n",
       "</thead>\n",
       "<tbody>\n",
       "\t<tr><td>2013</td><td>1</td><td>1</td><td>1545</td><td>227</td><td>1400</td></tr>\n",
       "\t<tr><td>2013</td><td>1</td><td>1</td><td>1714</td><td>227</td><td>1416</td></tr>\n",
       "\t<tr><td>2013</td><td>1</td><td>1</td><td>1141</td><td>160</td><td>1089</td></tr>\n",
       "\t<tr><td>2013</td><td>1</td><td>1</td><td> 725</td><td>183</td><td>1576</td></tr>\n",
       "</tbody>\n",
       "</table>\n"
      ],
      "text/latex": [
       "A tibble: 4 × 6\n",
       "\\begin{tabular}{llllll}\n",
       " year & month & day & flight & air\\_time & distance\\\\\n",
       " <dbl> & <int> & <dbl> & <int> & <dbl> & <dbl>\\\\\n",
       "\\hline\n",
       "\t 2013 & 1 & 1 & 1545 & 227 & 1400\\\\\n",
       "\t 2013 & 1 & 1 & 1714 & 227 & 1416\\\\\n",
       "\t 2013 & 1 & 1 & 1141 & 160 & 1089\\\\\n",
       "\t 2013 & 1 & 1 &  725 & 183 & 1576\\\\\n",
       "\\end{tabular}\n"
      ],
      "text/markdown": [
       "\n",
       "A tibble: 4 × 6\n",
       "\n",
       "| year &lt;dbl&gt; | month &lt;int&gt; | day &lt;dbl&gt; | flight &lt;int&gt; | air_time &lt;dbl&gt; | distance &lt;dbl&gt; |\n",
       "|---|---|---|---|---|---|\n",
       "| 2013 | 1 | 1 | 1545 | 227 | 1400 |\n",
       "| 2013 | 1 | 1 | 1714 | 227 | 1416 |\n",
       "| 2013 | 1 | 1 | 1141 | 160 | 1089 |\n",
       "| 2013 | 1 | 1 |  725 | 183 | 1576 |\n",
       "\n"
      ],
      "text/plain": [
       "  year month day flight air_time distance\n",
       "1 2013 1     1   1545   227      1400    \n",
       "2 2013 1     1   1714   227      1416    \n",
       "3 2013 1     1   1141   160      1089    \n",
       "4 2013 1     1    725   183      1576    "
      ]
     },
     "metadata": {},
     "output_type": "display_data"
    }
   ],
   "source": [
    "# filtrar por mes de enero y primer día\n",
    "jan1 <- flights3 %>% filter(month == 1, day == 1)\n",
    "head(jan1, 4)"
   ]
  },
  {
   "cell_type": "markdown",
   "id": "premium-corner",
   "metadata": {},
   "source": [
    "[**Ejercicio 5**] Filtrar por los meses de enero a marzo."
   ]
  },
  {
   "cell_type": "code",
   "execution_count": 61,
   "id": "going-apartment",
   "metadata": {},
   "outputs": [
    {
     "data": {
      "text/html": [
       "<table>\n",
       "<caption>A tibble: 4 × 6</caption>\n",
       "<thead>\n",
       "\t<tr><th scope=col>year</th><th scope=col>month</th><th scope=col>day</th><th scope=col>flight</th><th scope=col>air_time</th><th scope=col>distance</th></tr>\n",
       "\t<tr><th scope=col>&lt;dbl&gt;</th><th scope=col>&lt;int&gt;</th><th scope=col>&lt;dbl&gt;</th><th scope=col>&lt;int&gt;</th><th scope=col>&lt;dbl&gt;</th><th scope=col>&lt;dbl&gt;</th></tr>\n",
       "</thead>\n",
       "<tbody>\n",
       "\t<tr><td>2013</td><td>1</td><td>1</td><td>1545</td><td>227</td><td>1400</td></tr>\n",
       "\t<tr><td>2013</td><td>1</td><td>1</td><td>1714</td><td>227</td><td>1416</td></tr>\n",
       "\t<tr><td>2013</td><td>1</td><td>1</td><td>1141</td><td>160</td><td>1089</td></tr>\n",
       "\t<tr><td>2013</td><td>1</td><td>1</td><td> 725</td><td>183</td><td>1576</td></tr>\n",
       "</tbody>\n",
       "</table>\n"
      ],
      "text/latex": [
       "A tibble: 4 × 6\n",
       "\\begin{tabular}{llllll}\n",
       " year & month & day & flight & air\\_time & distance\\\\\n",
       " <dbl> & <int> & <dbl> & <int> & <dbl> & <dbl>\\\\\n",
       "\\hline\n",
       "\t 2013 & 1 & 1 & 1545 & 227 & 1400\\\\\n",
       "\t 2013 & 1 & 1 & 1714 & 227 & 1416\\\\\n",
       "\t 2013 & 1 & 1 & 1141 & 160 & 1089\\\\\n",
       "\t 2013 & 1 & 1 &  725 & 183 & 1576\\\\\n",
       "\\end{tabular}\n"
      ],
      "text/markdown": [
       "\n",
       "A tibble: 4 × 6\n",
       "\n",
       "| year &lt;dbl&gt; | month &lt;int&gt; | day &lt;dbl&gt; | flight &lt;int&gt; | air_time &lt;dbl&gt; | distance &lt;dbl&gt; |\n",
       "|---|---|---|---|---|---|\n",
       "| 2013 | 1 | 1 | 1545 | 227 | 1400 |\n",
       "| 2013 | 1 | 1 | 1714 | 227 | 1416 |\n",
       "| 2013 | 1 | 1 | 1141 | 160 | 1089 |\n",
       "| 2013 | 1 | 1 |  725 | 183 | 1576 |\n",
       "\n"
      ],
      "text/plain": [
       "  year month day flight air_time distance\n",
       "1 2013 1     1   1545   227      1400    \n",
       "2 2013 1     1   1714   227      1416    \n",
       "3 2013 1     1   1141   160      1089    \n",
       "4 2013 1     1    725   183      1576    "
      ]
     },
     "metadata": {},
     "output_type": "display_data"
    }
   ],
   "source": [
    "# filtrar por mes de enero a marzo\n",
    "jan_feb_mar <- flights3 %>% filter(month %in% c(1,2,3))\n",
    "head(jan_feb_mar, 4)"
   ]
  },
  {
   "cell_type": "code",
   "execution_count": 62,
   "id": "applied-sending",
   "metadata": {},
   "outputs": [
    {
     "data": {
      "text/html": [
       "<style>\n",
       ".list-inline {list-style: none; margin:0; padding: 0}\n",
       ".list-inline>li {display: inline-block}\n",
       ".list-inline>li:not(:last-child)::after {content: \"\\00b7\"; padding: 0 .5ex}\n",
       "</style>\n",
       "<ol class=list-inline><li>1</li><li>2</li><li>3</li></ol>\n"
      ],
      "text/latex": [
       "\\begin{enumerate*}\n",
       "\\item 1\n",
       "\\item 2\n",
       "\\item 3\n",
       "\\end{enumerate*}\n"
      ],
      "text/markdown": [
       "1. 1\n",
       "2. 2\n",
       "3. 3\n",
       "\n",
       "\n"
      ],
      "text/plain": [
       "[1] 1 2 3"
      ]
     },
     "metadata": {},
     "output_type": "display_data"
    }
   ],
   "source": [
    "unique(jan_feb_mar$month)"
   ]
  },
  {
   "cell_type": "markdown",
   "id": "classified-finish",
   "metadata": {},
   "source": [
    "[**Ejercicio 6**] Filtrar por mes de enero a marzo y ordenar el día de forma descendente."
   ]
  },
  {
   "cell_type": "code",
   "execution_count": 63,
   "id": "determined-indonesia",
   "metadata": {},
   "outputs": [
    {
     "data": {
      "text/html": [
       "<table>\n",
       "<caption>A tibble: 4 × 6</caption>\n",
       "<thead>\n",
       "\t<tr><th scope=col>year</th><th scope=col>month</th><th scope=col>day</th><th scope=col>flight</th><th scope=col>air_time</th><th scope=col>distance</th></tr>\n",
       "\t<tr><th scope=col>&lt;dbl&gt;</th><th scope=col>&lt;int&gt;</th><th scope=col>&lt;dbl&gt;</th><th scope=col>&lt;int&gt;</th><th scope=col>&lt;dbl&gt;</th><th scope=col>&lt;dbl&gt;</th></tr>\n",
       "</thead>\n",
       "<tbody>\n",
       "\t<tr><td>2013</td><td>1</td><td>31</td><td>530</td><td>127</td><td> 725</td></tr>\n",
       "\t<tr><td>2013</td><td>1</td><td>31</td><td>739</td><td>206</td><td>1617</td></tr>\n",
       "\t<tr><td>2013</td><td>1</td><td>31</td><td>727</td><td>197</td><td>1576</td></tr>\n",
       "\t<tr><td>2013</td><td>1</td><td>31</td><td> 30</td><td> 60</td><td> 264</td></tr>\n",
       "</tbody>\n",
       "</table>\n"
      ],
      "text/latex": [
       "A tibble: 4 × 6\n",
       "\\begin{tabular}{llllll}\n",
       " year & month & day & flight & air\\_time & distance\\\\\n",
       " <dbl> & <int> & <dbl> & <int> & <dbl> & <dbl>\\\\\n",
       "\\hline\n",
       "\t 2013 & 1 & 31 & 530 & 127 &  725\\\\\n",
       "\t 2013 & 1 & 31 & 739 & 206 & 1617\\\\\n",
       "\t 2013 & 1 & 31 & 727 & 197 & 1576\\\\\n",
       "\t 2013 & 1 & 31 &  30 &  60 &  264\\\\\n",
       "\\end{tabular}\n"
      ],
      "text/markdown": [
       "\n",
       "A tibble: 4 × 6\n",
       "\n",
       "| year &lt;dbl&gt; | month &lt;int&gt; | day &lt;dbl&gt; | flight &lt;int&gt; | air_time &lt;dbl&gt; | distance &lt;dbl&gt; |\n",
       "|---|---|---|---|---|---|\n",
       "| 2013 | 1 | 31 | 530 | 127 |  725 |\n",
       "| 2013 | 1 | 31 | 739 | 206 | 1617 |\n",
       "| 2013 | 1 | 31 | 727 | 197 | 1576 |\n",
       "| 2013 | 1 | 31 |  30 |  60 |  264 |\n",
       "\n"
      ],
      "text/plain": [
       "  year month day flight air_time distance\n",
       "1 2013 1     31  530    127       725    \n",
       "2 2013 1     31  739    206      1617    \n",
       "3 2013 1     31  727    197      1576    \n",
       "4 2013 1     31   30     60       264    "
      ]
     },
     "metadata": {},
     "output_type": "display_data"
    }
   ],
   "source": [
    "# filtrar por mes de enero a marzo y ordenar el día de forma descendente\n",
    "jan_feb_mar <- flights3 %>% \n",
    "    filter(month %in% c(1,2,3)) %>%\n",
    "    arrange(desc(day))\n",
    "head(jan_feb_mar, 4)"
   ]
  },
  {
   "cell_type": "markdown",
   "id": "solved-liquid",
   "metadata": {},
   "source": [
    "[**Ejercicio 7**] Filtrar por los meses de enero a marzo y ordenar mes y día de forma descendente."
   ]
  },
  {
   "cell_type": "code",
   "execution_count": 64,
   "id": "opponent-shuttle",
   "metadata": {},
   "outputs": [
    {
     "data": {
      "text/html": [
       "<table>\n",
       "<caption>A tibble: 4 × 6</caption>\n",
       "<thead>\n",
       "\t<tr><th scope=col>year</th><th scope=col>month</th><th scope=col>day</th><th scope=col>flight</th><th scope=col>air_time</th><th scope=col>distance</th></tr>\n",
       "\t<tr><th scope=col>&lt;dbl&gt;</th><th scope=col>&lt;int&gt;</th><th scope=col>&lt;dbl&gt;</th><th scope=col>&lt;int&gt;</th><th scope=col>&lt;dbl&gt;</th><th scope=col>&lt;dbl&gt;</th></tr>\n",
       "</thead>\n",
       "<tbody>\n",
       "\t<tr><td>2013</td><td>3</td><td>31</td><td> 128</td><td> 59</td><td> 266</td></tr>\n",
       "\t<tr><td>2013</td><td>3</td><td>31</td><td>1113</td><td> 82</td><td> 529</td></tr>\n",
       "\t<tr><td>2013</td><td>3</td><td>31</td><td> 258</td><td>208</td><td>1400</td></tr>\n",
       "\t<tr><td>2013</td><td>3</td><td>31</td><td> 725</td><td>201</td><td>1576</td></tr>\n",
       "</tbody>\n",
       "</table>\n"
      ],
      "text/latex": [
       "A tibble: 4 × 6\n",
       "\\begin{tabular}{llllll}\n",
       " year & month & day & flight & air\\_time & distance\\\\\n",
       " <dbl> & <int> & <dbl> & <int> & <dbl> & <dbl>\\\\\n",
       "\\hline\n",
       "\t 2013 & 3 & 31 &  128 &  59 &  266\\\\\n",
       "\t 2013 & 3 & 31 & 1113 &  82 &  529\\\\\n",
       "\t 2013 & 3 & 31 &  258 & 208 & 1400\\\\\n",
       "\t 2013 & 3 & 31 &  725 & 201 & 1576\\\\\n",
       "\\end{tabular}\n"
      ],
      "text/markdown": [
       "\n",
       "A tibble: 4 × 6\n",
       "\n",
       "| year &lt;dbl&gt; | month &lt;int&gt; | day &lt;dbl&gt; | flight &lt;int&gt; | air_time &lt;dbl&gt; | distance &lt;dbl&gt; |\n",
       "|---|---|---|---|---|---|\n",
       "| 2013 | 3 | 31 |  128 |  59 |  266 |\n",
       "| 2013 | 3 | 31 | 1113 |  82 |  529 |\n",
       "| 2013 | 3 | 31 |  258 | 208 | 1400 |\n",
       "| 2013 | 3 | 31 |  725 | 201 | 1576 |\n",
       "\n"
      ],
      "text/plain": [
       "  year month day flight air_time distance\n",
       "1 2013 3     31   128    59       266    \n",
       "2 2013 3     31  1113    82       529    \n",
       "3 2013 3     31   258   208      1400    \n",
       "4 2013 3     31   725   201      1576    "
      ]
     },
     "metadata": {},
     "output_type": "display_data"
    }
   ],
   "source": [
    "# filtrar por mes de enero a marzo y ordenar mes y día de forma descendente\n",
    "jan_feb_mar <- flights3 %>% \n",
    "    filter(month %in% c(1,2,3)) %>%\n",
    "    arrange(desc(month), desc(day))\n",
    "\n",
    "head(jan_feb_mar, 4)"
   ]
  },
  {
   "cell_type": "code",
   "execution_count": null,
   "id": "satisfied-peoples",
   "metadata": {},
   "outputs": [],
   "source": []
  }
 ],
 "metadata": {
  "kernelspec": {
   "display_name": "R",
   "language": "R",
   "name": "ir"
  },
  "language_info": {
   "codemirror_mode": "r",
   "file_extension": ".r",
   "mimetype": "text/x-r-source",
   "name": "R",
   "pygments_lexer": "r",
   "version": "4.1.0"
  }
 },
 "nbformat": 4,
 "nbformat_minor": 5
}
